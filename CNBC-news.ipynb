{
 "cells": [
  {
   "cell_type": "code",
   "execution_count": null,
   "id": "8b060e7c",
   "metadata": {},
   "outputs": [],
   "source": [
    "import requests\n",
    "from IPython.display import HTML\n",
    "from bs4 import BeautifulSoup as BS\n",
    "import json\n",
    "import torch\n",
    "import os\n",
    "from flair.embeddings import TransformerDocumentEmbeddings\n",
    "from flair.data import Sentence"
   ]
  },
  {
   "cell_type": "code",
   "execution_count": null,
   "id": "d84e8142",
   "metadata": {},
   "outputs": [],
   "source": [
    "def cnbc_front():\n",
    "    return requests.get('https://www.cnbc.com/world/')\n",
    "\n",
    "def cnbc_sublink(href):\n",
    "    headers = {\n",
    "        'authority': 'www.cnbc.com',\n",
    "        'accept': 'text/html,application/xhtml+xml,application/xml;q=0.9,image/avif,image/webp,image/apng,*/*;q=0.8,application/signed-exchange;v=b3;q=0.9',\n",
    "        'accept-language': 'de-DE,de;q=0.9,en-US;q=0.8,en-DE;q=0.7,en;q=0.6',\n",
    "        'cache-control': 'no-cache',\n",
    "        # Requests sorts cookies= alphabetically\n",
    "        # 'cookie': 'region=WORLD; akaas_CNBC_Audience_Segmentation=1654590111~rv=59~id=fefd3956fcb30a20febe5a7e2a0f7d3e; __adblocker=false; adops_master_kvs=; __pnahc=0; __tbc=%7Bkpex%7DWl8ze249Q3ueYN0xB1uP_JvPCZedqHMJOSh6xaWdLzdRQdJWFmBTu7MwPEcJxYem; cX_P=l2x10tsh8s0k469f; __pat=-14400000; __pvi=%7B%22id%22%3A%22v-2022-05-08-10-21-52-987-PbboYaJrP4LSzKAT-0a9c0fed50e53cd6f4f46ff05a06fb87%22%2C%22domain%22%3A%22.cnbc.com%22%2C%22time%22%3A1651998113379%7D; xbc=%7Bkpex%7D_nwyZnBGbPR4tmJZm8z_LHD5Qf1plZ7pkkZz60Ba67tsJ2yadtsadm4-zBZkrWQ54SFo70MgssNDI7MdgkwYyMdadfdPpCV8csXV-9qRvGFMEdv9OLuzgy6JkL4mq1GVISE-z_4ZH4ZJPduFea6P3n5qrxmyrn4Ly3eez7yW0uk2aJxQgFOOjx2HK023k171ZrO0HPWQa_JbHALBG5TyeZraAPrmrURWOwQVgycgEGvRH71ksxgiYJUeF38EFrg7f_r3UMrV26F100MxLfpMfY4WfFWRnhR4Rxt_Sciko7Ruz_7dLRjbzm4eBJyC4VUO2ctqayT0klRDevAgT4f61EjErzYe__8KV8z0klU8pyY9JDo39j_R7Ir3KYoCTu0lcdtSC2rsx7J2sLDgfpLHyBcM6WqFQfSDyZQ4T2IMf6UAyqBJ50y4nQIZp4KPxDXjX030jn5Vwfhf_yzd1u0fFxOLqjf-yJ4KA1UUzGvF_KChX2eyZXzQw8T9DP87p39imWh-5KLf2fxXTEP4z3ACYA; x_debug_lvl=13; eupubconsent-v2=CPYquhVPYquhVAcABBENCOCgAP_AAAAAACiQH3tf_X_fb3_j-_59f_t0eY1P9_7_v20zjheds-8Nyd_X_L8X42M7vB36pq4KuR4Eu3LBAQVlHOHcTUmw6IkVqTPsbk2Mr7NKJ7PEmnMbO2dYGH9_n9XTuZKY79_v__7z_v-v_v__77f_7-3f3_v5_1---2AAAAAAAAAAAAAAA9gAAAFCQAQF5jAAIC8x0AEBeZKACAvMpABAXmAA.f_gAAAAAAAAA; OptanonAlertBoxClosed=2022-05-08T08:25:39.913Z; client_type=html5; client_version=4.5.0; AKA_A2=A; ak_bmsc=0C8C808FCED76A2746AFA3A00FAC816A~000000000000000000000000000000~YAAQZOF7XEIGeZKAAQAAg4Ogow8A8gOAe4J0Ulzo8N5q+g/eaWfsyanK3q9jCh/JHjK3VWZVo0EikqohvdZ85/IBCMk+fihGQAGtwiFQf+B5CcWqpkHEtG9D3i6NQTnk5sMRBimS/+j6ae3sRi7DLByflwKPu/oH52duA4INfPsubfCkCgm1tR2cgBfUYfvDBZqhhXfz61ZSEMbGWi2/fXkycCANuDEvKZMh/kGmtlxFGgM5eGeLXJ66wpUzmFQG0zJpIh94LODtiGjFVX07MIcPHQKniLWa/Mm4R2XPDzj/gw4BaRe38GGDmc2T1BUdQvq54D8QPqa4HfwMFi+loi4r1ak1u14c6flfoGw2Hli3A2vukQe4a6lfHpLAMXbF3/EqY1utl0cP; selectedRegion=WORLD; s_fid=40DDDDA1641014C5-3FF29579DF110937; s_getNewRepeat30=1652012648769-New; s_getNewRepeat90=1652012648770-New; s_vmonthnum=1654034400770%26vn%3D1; s_monthinvisit=true; s_lv=1652012648770; s_lv_s=First%20Visit; linktrk=%5B%5BB%5D%5D; s_cc=true; gig_bootstrap_2_Jx5rsFp18pauXYlKGzHQVpbahcR1iJ30bbyfqZsn69A6vbt3dQ7gYFCESWKMM1sP=_gigya_ver4; savedViewedSymbols=[{\"symbolName\":\"US10Y\",\"companyName\":\"U.S. 10 Year Treasury\",\"countryCode\":\"US\"}]; OptanonConsent=isIABGlobal=false&datestamp=Sun+May+08+2022+14%3A39%3A42+GMT%2B0200+(Central+European+Summer+Time)&version=6.16.0&hosts=&consentId=31de56c6-e4f4-46d9-94e5-518105029651&interactionCount=4&landingPath=NotLandingPage&groups=1%3A1%2C6%3A1%2C4%3A1%2CSTACK8%3A1%2C7%3A1%2CSTACK16%3A1%2C8%3A1&geolocation=DE%3BNW&AwaitingReconsent=false; sailthru_pageviews=26; mprtcl-v4_13B9270B={\\'gs\\':{\\'ie\\':1|\\'dt\\':\\'us1-99f689156b88a84fbe3383020acfea25\\'|\\'cgid\\':\\'dad03945-2c52-409e-bead-924a0b85b4fd\\'|\\'das\\':\\'0cfec671-d5f2-47b6-a75f-a44e5b4e9f1e\\'|\\'csm\\':\\'WyI1OTE2NDI3MDA4NTU4NDIyNDYyIl0=\\'|\\'ssd\\':1652011070582|\\'sid\\':\\'A0095175-5718-4390-A650-1952091BD8E4\\'|\\'les\\':1652013582978}|\\'l\\':false|\\'5916427008558422462\\':{\\'fst\\':1651998113156|\\'ua\\':\\'eyJDTkJDTVBJRCI6IjU5MTY0MjcwMDg1NTg0MjI0NjIifQ==\\'}|\\'cu\\':\\'5916427008558422462\\'}',\n",
    "        'dnt': '1',\n",
    "        'pragma': 'no-cache',\n",
    "        'referer': 'https://www.cnbc.com/energy/',\n",
    "        'sec-ch-ua': '\" Not A;Brand\";v=\"99\", \"Chromium\";v=\"101\", \"Google Chrome\";v=\"101\"',\n",
    "        'sec-ch-ua-mobile': '?0',\n",
    "        'sec-ch-ua-platform': '\"Linux\"',\n",
    "        'sec-fetch-dest': 'document',\n",
    "        'sec-fetch-mode': 'navigate',\n",
    "        'sec-fetch-site': 'same-origin',\n",
    "        'sec-fetch-user': '?1',\n",
    "        'upgrade-insecure-requests': '1',\n",
    "        'user-agent': 'Mozilla/5.0 (X11; Linux x86_64) AppleWebKit/537.36 (KHTML, like Gecko) Chrome/101.0.4951.41 Safari/537.36',\n",
    "    }\n",
    "\n",
    "    return s.get(f'https://www.cnbc.com{href}', headers=headers)#, cookies=cookies\n",
    "\n",
    "\n",
    "def cnbc_init():\n",
    "    headers = {\n",
    "    'authority': 'webql-redesign.cnbcfm.com',\n",
    "    'accept': '*/*',\n",
    "    'accept-language': 'de-DE,de;q=0.9,en-US;q=0.8,en-DE;q=0.7,en;q=0.6',\n",
    "    'cache-control': 'no-cache',\n",
    "    'content-type': 'application/json',\n",
    "    'dnt': '1',\n",
    "    'origin': 'https://www.cnbc.com',\n",
    "    'partner': 'cnbc01',\n",
    "    'pragma': 'no-cache',\n",
    "    'referer': 'https://www.cnbc.com/',\n",
    "    'sec-ch-ua': '\" Not A;Brand\";v=\"99\", \"Chromium\";v=\"101\", \"Google Chrome\";v=\"101\"',\n",
    "    'sec-ch-ua-mobile': '?0',\n",
    "    'sec-ch-ua-platform': '\"Linux\"',\n",
    "    'sec-fetch-dest': 'empty',\n",
    "    'sec-fetch-mode': 'cors',\n",
    "    'sec-fetch-site': 'cross-site',\n",
    "    'user-agent': 'Mozilla/5.0 (X11; Linux x86_64) AppleWebKit/537.36 (KHTML, like Gecko) Chrome/101.0.4951.41 Safari/537.36',\n",
    "    }\n",
    "\n",
    "    params = {\n",
    "        'operationName': 'getAlertsNews',\n",
    "        'variables': '{}',\n",
    "        'extensions': '{\"persistedQuery\":{\"version\":1,\"sha256Hash\":\"d25c606d75821d8f214bb56a75be95550e0aeba8eb740a1a37b58bcbc104c890\"}}',\n",
    "    }\n",
    "\n",
    "    return s.get('https://webql-redesign.cnbcfm.com/graphql', params=params, headers=headers)\n",
    "\n",
    "def cnbc(topic_id=20910258, offset=35, page_size=24, include_native=False):\n",
    "    headers = {\n",
    "        'authority': 'webql-redesign.cnbcfm.com',\n",
    "        'accept': '*/*',\n",
    "        'accept-language': 'de-DE,de;q=0.9,en-US;q=0.8,en-DE;q=0.7,en;q=0.6',\n",
    "        'cache-control': 'no-cache',\n",
    "        'content-type': 'application/json',\n",
    "        'dnt': '1',\n",
    "        'origin': 'https://www.cnbc.com',\n",
    "        'partner': 'cnbc01',\n",
    "        'pragma': 'no-cache',\n",
    "        'referer': 'https://www.cnbc.com/',\n",
    "        'sec-ch-ua': '\" Not A;Brand\";v=\"99\", \"Chromium\";v=\"101\", \"Google Chrome\";v=\"101\"',\n",
    "        'sec-ch-ua-mobile': '?0',\n",
    "        'sec-ch-ua-platform': '\"Linux\"',\n",
    "        'sec-fetch-dest': 'empty',\n",
    "        'sec-fetch-mode': 'cors',\n",
    "        'sec-fetch-site': 'cross-site',\n",
    "        'user-agent': 'Mozilla/5.0 (X11; Linux x86_64) AppleWebKit/537.36 (KHTML, like Gecko) Chrome/101.0.4951.41 Safari/537.36',\n",
    "    }\n",
    "\n",
    "    params = {\n",
    "        'operationName': 'getAssetList',\n",
    "        'variables': f'{{\"id\":\"{topic_id}\",\"offset\":{offset},\"pageSize\":{page_size},\"nonFilter\":true,\"includeNative\":{str(include_native).lower()},\"include\":[]}}',\n",
    "        'extensions': '{\"persistedQuery\":{\"version\":1,\"sha256Hash\":\"202314eccd1b9d973b75758156268b4fe5181b60cc2e9d3b0b76c1c617604b60\"}}',\n",
    "    }\n",
    "\n",
    "    return requests.get('https://webql-redesign.cnbcfm.com/graphql', params=params, headers=headers)\n",
    "\n",
    "def cnbc_article(url):\n",
    "\n",
    "    headers = {\n",
    "        'authority': 'www.cnbc.com',\n",
    "        'accept': 'text/html,application/xhtml+xml,application/xml;q=0.9,image/avif,image/webp,image/apng,*/*;q=0.8,application/signed-exchange;v=b3;q=0.9',\n",
    "        'accept-language': 'de-DE,de;q=0.9,en-US;q=0.8,en-DE;q=0.7,en;q=0.6',\n",
    "        'cache-control': 'no-cache',\n",
    "        # Requests sorts cookies= alphabetically\n",
    "        # 'cookie': 'region=WORLD; AKA_A2=A; akaas_CNBC_Audience_Segmentation=1654590111~rv=59~id=fefd3956fcb30a20febe5a7e2a0f7d3e; __adblocker=false; adops_master_kvs=; __pnahc=0; __tbc=%7Bkpex%7DWl8ze249Q3ueYN0xB1uP_JvPCZedqHMJOSh6xaWdLzdRQdJWFmBTu7MwPEcJxYem; cX_P=l2x10tsh8s0k469f; __pat=-14400000; __pvi=%7B%22id%22%3A%22v-2022-05-08-10-21-52-987-PbboYaJrP4LSzKAT-0a9c0fed50e53cd6f4f46ff05a06fb87%22%2C%22domain%22%3A%22.cnbc.com%22%2C%22time%22%3A1651998113379%7D; xbc=%7Bkpex%7D_nwyZnBGbPR4tmJZm8z_LHD5Qf1plZ7pkkZz60Ba67tsJ2yadtsadm4-zBZkrWQ54SFo70MgssNDI7MdgkwYyMdadfdPpCV8csXV-9qRvGFMEdv9OLuzgy6JkL4mq1GVISE-z_4ZH4ZJPduFea6P3n5qrxmyrn4Ly3eez7yW0uk2aJxQgFOOjx2HK023k171ZrO0HPWQa_JbHALBG5TyeZraAPrmrURWOwQVgycgEGvRH71ksxgiYJUeF38EFrg7f_r3UMrV26F100MxLfpMfY4WfFWRnhR4Rxt_Sciko7Ruz_7dLRjbzm4eBJyC4VUO2ctqayT0klRDevAgT4f61EjErzYe__8KV8z0klU8pyY9JDo39j_R7Ir3KYoCTu0lcdtSC2rsx7J2sLDgfpLHyBcM6WqFQfSDyZQ4T2IMf6UAyqBJ50y4nQIZp4KPxDXjX030jn5Vwfhf_yzd1u0fFxOLqjf-yJ4KA1UUzGvF_KChX2eyZXzQw8T9DP87p39imWh-5KLf2fxXTEP4z3ACYA; x_debug_lvl=13; eupubconsent-v2=CPYquhVPYquhVAcABBENCOCgAP_AAAAAACiQH3tf_X_fb3_j-_59f_t0eY1P9_7_v20zjheds-8Nyd_X_L8X42M7vB36pq4KuR4Eu3LBAQVlHOHcTUmw6IkVqTPsbk2Mr7NKJ7PEmnMbO2dYGH9_n9XTuZKY79_v__7z_v-v_v__77f_7-3f3_v5_1---2AAAAAAAAAAAAAAA9gAAAFCQAQF5jAAIC8x0AEBeZKACAvMpABAXmAA.f_gAAAAAAAAA; OptanonAlertBoxClosed=2022-05-08T08:25:39.913Z; client_type=html5; client_version=4.5.0; OptanonConsent=isIABGlobal=false&datestamp=Sun+May+08+2022+10%3A54%3A19+GMT%2B0200+(Central+European+Summer+Time)&version=6.16.0&hosts=&consentId=31de56c6-e4f4-46d9-94e5-518105029651&interactionCount=4&landingPath=NotLandingPage&groups=1%3A1%2C6%3A1%2C4%3A1%2CSTACK8%3A1%2C7%3A1%2CSTACK16%3A1%2C8%3A1&geolocation=DE%3BNW&AwaitingReconsent=false; sailthru_pageviews=13; mprtcl-v4_13B9270B={\\'gs\\':{\\'ie\\':1|\\'dt\\':\\'us1-99f689156b88a84fbe3383020acfea25\\'|\\'cgid\\':\\'dad03945-2c52-409e-bead-924a0b85b4fd\\'|\\'das\\':\\'0cfec671-d5f2-47b6-a75f-a44e5b4e9f1e\\'|\\'csm\\':\\'WyI1OTE2NDI3MDA4NTU4NDIyNDYyIl0=\\'|\\'sid\\':\\'83838B44-8DC9-4DBF-A659-3F1D191B2CAB\\'|\\'les\\':1652000060600|\\'ssd\\':1651998112933}|\\'l\\':false|\\'5916427008558422462\\':{\\'fst\\':1651998113156|\\'ua\\':\\'eyJDTkJDTVBJRCI6IjU5MTY0MjcwMDg1NTg0MjI0NjIifQ==\\'}|\\'cu\\':\\'5916427008558422462\\'}',\n",
    "        'dnt': '1',\n",
    "        'pragma': 'no-cache',\n",
    "        'referer': 'https://www.cnbc.com/economy/',\n",
    "        'sec-ch-ua': '\" Not A;Brand\";v=\"99\", \"Chromium\";v=\"101\", \"Google Chrome\";v=\"101\"',\n",
    "        'sec-ch-ua-mobile': '?0',\n",
    "        'sec-ch-ua-platform': '\"Linux\"',\n",
    "        'sec-fetch-dest': 'document',\n",
    "        'sec-fetch-mode': 'navigate',\n",
    "        'sec-fetch-site': 'same-origin',\n",
    "        'sec-fetch-user': '?1',\n",
    "        'upgrade-insecure-requests': '1',\n",
    "        'user-agent': 'Mozilla/5.0 (X11; Linux x86_64) AppleWebKit/537.36 (KHTML, like Gecko) Chrome/101.0.4951.41 Safari/537.36',\n",
    "    }\n",
    "\n",
    "    return requests.get(url, cookies={}, headers=headers)\n",
    "\n",
    "\n",
    "def make_string_pathsafe(st):\n",
    "    keepcharacters = (' ','.','_', '-')\n",
    "    return \"\".join(c for c in st if c.isalnum() or c in keepcharacters).rstrip()\n",
    "\n",
    "# def cnbc(offset=35, page_size=24, include_native=False):\n",
    "\n",
    "#     headers = {\n",
    "#         'authority': 'webql-redesign.cnbcfm.com',\n",
    "#         'accept': '*/*',\n",
    "#         'accept-language': 'de-DE,de;q=0.9,en-US;q=0.8,en-DE;q=0.7,en;q=0.6',\n",
    "#         'cache-control': 'no-cache',\n",
    "#         'content-type': 'application/json',\n",
    "#         'dnt': '1',\n",
    "#         'origin': 'https://www.cnbc.com',\n",
    "#         'partner': 'cnbc01',\n",
    "#         'pragma': 'no-cache',\n",
    "#         'referer': 'https://www.cnbc.com/',\n",
    "#         'sec-ch-ua': '\" Not A;Brand\";v=\"99\", \"Chromium\";v=\"101\", \"Google Chrome\";v=\"101\"',\n",
    "#         'sec-ch-ua-mobile': '?0',\n",
    "#         'sec-ch-ua-platform': '\"Linux\"',\n",
    "#         'sec-fetch-dest': 'empty',\n",
    "#         'sec-fetch-mode': 'cors',\n",
    "#         'sec-fetch-site': 'cross-site',\n",
    "#         'user-agent': 'Mozilla/5.0 (X11; Linux x86_64) AppleWebKit/537.36 (KHTML, like Gecko) Chrome/101.0.4951.41 Safari/537.36',\n",
    "#     }\n",
    "\n",
    "#     params = {\n",
    "#         'operationName': 'getAssetList',\n",
    "#         'variables': {\"id\":\"20910258\",\"offset\":offset,\"pageSize\":page_size,\"nonFilter\":True,\"includeNative\":include_native,\"include\":[]},\n",
    "#         'extensions': '{\"persistedQuery\":{\"version\":1,\"sha256Hash\":\"d25c606d75821d8f214bb56a75be95550e0aeba8eb740a1a37b58bcbc104c890\"}}',\n",
    "#     }\n",
    "\n",
    "#     return s.get('https://webql-redesign.cnbcfm.com/graphql', params=params, headers=headers)\n"
   ]
  },
  {
   "cell_type": "code",
   "execution_count": null,
   "id": "6914d220",
   "metadata": {},
   "outputs": [],
   "source": [
    "s = requests.Session()"
   ]
  },
  {
   "cell_type": "code",
   "execution_count": 38,
   "id": "5d3815ce-9fca-46c2-9933-8d28ae168f1f",
   "metadata": {},
   "outputs": [
    {
     "data": {
      "text/plain": [
       "<Response [200]>"
      ]
     },
     "execution_count": 38,
     "metadata": {},
     "output_type": "execute_result"
    }
   ],
   "source": [
    "res = cnbc_front()\n",
    "res"
   ]
  },
  {
   "cell_type": "code",
   "execution_count": 39,
   "id": "3cb215f5",
   "metadata": {},
   "outputs": [
    {
     "data": {
      "text/plain": [
       "<Response [200]>"
      ]
     },
     "execution_count": 39,
     "metadata": {},
     "output_type": "execute_result"
    }
   ],
   "source": [
    "res = cnbc_init()\n",
    "res"
   ]
  },
  {
   "cell_type": "code",
   "execution_count": 194,
   "id": "07167476",
   "metadata": {},
   "outputs": [
    {
     "name": "stdout",
     "output_type": "stream",
     "text": [
      "[<a class=\"nav-menu-subLink\" href=\"/pre-markets/\" tabindex=\"-1\">Pre-Markets</a>, <a class=\"nav-menu-subLink\" href=\"/us-markets/\" tabindex=\"-1\">U.S. Markets</a>, <a class=\"nav-menu-subLink\" href=\"/markets-europe/\" tabindex=\"-1\">Europe Markets</a>, <a class=\"nav-menu-subLink\" href=\"/china-markets/\" tabindex=\"-1\">China Markets</a>, <a class=\"nav-menu-subLink\" href=\"/markets-asia-pacific/\" tabindex=\"-1\">Asia Markets</a>, <a class=\"nav-menu-subLink\" href=\"/world-markets/\" tabindex=\"-1\">World Markets</a>, <a class=\"nav-menu-subLink\" href=\"/currencies/\" tabindex=\"-1\">Currencies</a>, <a class=\"nav-menu-subLink\" href=\"/cryptocurrency/\" tabindex=\"-1\">Cryptocurrency</a>, <a class=\"nav-menu-subLink\" href=\"/futures-and-commodities/\" tabindex=\"-1\">Futures &amp; Commodities</a>, <a class=\"nav-menu-subLink\" href=\"/bonds/\" tabindex=\"-1\">Bonds</a>, <a class=\"nav-menu-subLink\" href=\"/funds-and-etfs/\" tabindex=\"-1\">Funds &amp; ETFs</a>, <a class=\"nav-menu-subLink\" href=\"/economy/\" tabindex=\"-1\">Economy</a>, <a class=\"nav-menu-subLink\" href=\"/finance/\" tabindex=\"-1\">Finance</a>, <a class=\"nav-menu-subLink\" href=\"/health-and-science/\" tabindex=\"-1\">Health &amp; Science</a>, <a class=\"nav-menu-subLink\" href=\"/media/\" tabindex=\"-1\">Media</a>, <a class=\"nav-menu-subLink\" href=\"/real-estate/\" tabindex=\"-1\">Real Estate</a>, <a class=\"nav-menu-subLink\" href=\"/energy/\" tabindex=\"-1\">Energy</a>, <a class=\"nav-menu-subLink\" href=\"/climate/\" tabindex=\"-1\">Climate</a>, <a class=\"nav-menu-subLink\" href=\"/transportation/\" tabindex=\"-1\">Transportation</a>, <a class=\"nav-menu-subLink\" href=\"/industrials/\" tabindex=\"-1\">Industrials</a>, <a class=\"nav-menu-subLink\" href=\"/retail/\" tabindex=\"-1\">Retail</a>, <a class=\"nav-menu-subLink\" href=\"/wealth/\" tabindex=\"-1\">Wealth</a>, <a class=\"nav-menu-subLink\" href=\"/life/\" tabindex=\"-1\">Life</a>, <a class=\"nav-menu-subLink\" href=\"/small-business/\" tabindex=\"-1\">Small Business</a>, <a class=\"nav-menu-subLink\" href=\"/invest-in-you/\" tabindex=\"-1\">Invest In You</a>, <a class=\"nav-menu-subLink\" href=\"/personal-finance/\" tabindex=\"-1\">Personal Finance</a>, <a class=\"nav-menu-subLink\" href=\"/fintech/\" tabindex=\"-1\">Fintech</a>, <a class=\"nav-menu-subLink\" href=\"/financial-advisors/\" tabindex=\"-1\">Financial Advisors</a>, <a class=\"nav-menu-subLink\" href=\"/options-action/\" tabindex=\"-1\">Options Action</a>, <a class=\"nav-menu-subLink\" href=\"/etf-street/\" tabindex=\"-1\">ETF Street</a>, <a class=\"nav-menu-subLink\" href=\"https://buffett.cnbc.com\" tabindex=\"-1\" target=\"_blank\">Buffett Archive</a>, <a class=\"nav-menu-subLink\" href=\"/earnings/\" tabindex=\"-1\">Earnings</a>, <a class=\"nav-menu-subLink\" href=\"/trader-talk/\" tabindex=\"-1\">Trader Talk</a>, <a class=\"nav-menu-subLink\" href=\"/cybersecurity/\" tabindex=\"-1\">Cybersecurity</a>, <a class=\"nav-menu-subLink\" href=\"/enterprise/\" tabindex=\"-1\">Enterprise</a>, <a class=\"nav-menu-subLink\" href=\"/internet/\" tabindex=\"-1\">Internet</a>, <a class=\"nav-menu-subLink\" href=\"/media/\" tabindex=\"-1\">Media</a>, <a class=\"nav-menu-subLink\" href=\"/mobile/\" tabindex=\"-1\">Mobile</a>, <a class=\"nav-menu-subLink\" href=\"/social-media/\" tabindex=\"-1\">Social Media</a>, <a class=\"nav-menu-subLink\" href=\"/cnbc-disruptors/\" tabindex=\"-1\">CNBC Disruptor 50</a>, <a class=\"nav-menu-subLink\" href=\"/tech-guide/\" tabindex=\"-1\">Tech Guide</a>, <a class=\"nav-menu-subLink\" href=\"/white-house/\" tabindex=\"-1\">White House</a>, <a class=\"nav-menu-subLink\" href=\"/policy/\" tabindex=\"-1\">Policy</a>, <a class=\"nav-menu-subLink\" href=\"/defense/\" tabindex=\"-1\">Defense</a>, <a class=\"nav-menu-subLink\" href=\"/congress/\" tabindex=\"-1\">Congress</a>, <a class=\"nav-menu-subLink\" href=\"/equity-opportunity/\" tabindex=\"-1\">Equity and Opportunity</a>, <a class=\"nav-menu-subLink\" href=\"/europe-politics/\" tabindex=\"-1\">Europe Politics</a>, <a class=\"nav-menu-subLink\" href=\"/china-politics/\" tabindex=\"-1\">China Politics</a>, <a class=\"nav-menu-subLink\" href=\"/asia-politics/\" tabindex=\"-1\">Asia Politics</a>, <a class=\"nav-menu-subLink\" href=\"/world-politics/\" tabindex=\"-1\">World Politics</a>, <a class=\"nav-menu-subLink\" href=\"/live-audio/\" tabindex=\"-1\">Live Audio</a>, <a class=\"nav-menu-subLink\" href=\"/latest-video/\" tabindex=\"-1\">Latest Video</a>, <a class=\"nav-menu-subLink\" href=\"/top-video/\" tabindex=\"-1\">Top Video</a>, <a class=\"nav-menu-subLink\" href=\"/video-ceo-interviews/\" tabindex=\"-1\">CEO Interviews</a>, <a class=\"nav-menu-subLink\" href=\"/europe-television/\" tabindex=\"-1\">Europe TV</a>, <a class=\"nav-menu-subLink\" href=\"/asia-business-day/\" tabindex=\"-1\">Asia TV</a>, <a class=\"nav-menu-subLink\" href=\"/podcast/\" tabindex=\"-1\">CNBC Podcasts</a>, <a class=\"nav-menu-subLink\" href=\"/digital-original/\" tabindex=\"-1\">Digital Originals</a>, <a class=\"nav-menu-subLink\" href=\"/investingclub/newsletter/\" tabindex=\"-1\">Newsletter</a>, <a class=\"nav-menu-subLink\" href=\"/investingclub/morning-meeting/\" tabindex=\"-1\">Morning Meeting</a>, <a class=\"nav-menu-subLink\" href=\"/investingclub/cramer-trade-alert/\" tabindex=\"-1\">Trade Alerts</a>, <a class=\"nav-menu-subLink\" href=\"/investingclub/charitable-trust/\" tabindex=\"-1\">Trust Portfolio</a>, <a class=\"nav-menu-subLink\" href=\"/pro/news/\" tabindex=\"-1\">Pro News</a>, <a class=\"nav-menu-subLink\" href=\"/pro/\" tabindex=\"-1\">Pro Live</a>, <a class=\"nav-menu-subLink\" href=\"#\" tabindex=\"-1\">Subscribe</a>, <a class=\"nav-menu-subLink\" href=\"#\" tabindex=\"-1\">Sign In</a>]\n"
     ]
    },
    {
     "data": {
      "application/json": {
       "data": {
        "assetList": {
         "__typename": "assetList",
         "assets": [
          {
           "__typename": "chart",
           "author": [],
           "brand": "cnbc",
           "contentClassification": null,
           "coverageEndDate": null,
           "creatorOverwrite": null,
           "dateLastPublishedFormattedWithoutTime": "Tue, Oct 24th 2017",
           "dateLastPublishedSixHr": "",
           "datePublished": "2012-08-13T15:16:54+0000",
           "description": null,
           "headline": "Dow (mini)",
           "id": 100006861,
           "linkHeadline": "Dow (mini)",
           "native": false,
           "premium": false,
           "promoImage": null,
           "section": null,
           "sourceOrganization": null,
           "title": "Dow (mini)",
           "type": "chart",
           "url": "https://www.cnbc.com/search/?query=Dow%20(mini)"
          },
          {
           "__typename": "chart",
           "author": [],
           "brand": "cnbc",
           "contentClassification": null,
           "coverageEndDate": null,
           "creatorOverwrite": null,
           "dateLastPublishedFormattedWithoutTime": "Tue, Oct 24th 2017",
           "dateLastPublishedSixHr": "",
           "datePublished": "2012-08-13T15:26:59+0000",
           "description": null,
           "headline": "S&P 500 (Mini)",
           "id": 100006864,
           "linkHeadline": "S&P 500 (Mini)",
           "native": false,
           "premium": false,
           "promoImage": null,
           "section": null,
           "sourceOrganization": null,
           "title": "S&P 500 (Mini)",
           "type": "chart",
           "url": "https://www.cnbc.com/search/?query=S&P%20500%20(Mini)"
          },
          {
           "__typename": "chart",
           "author": [],
           "brand": "cnbc",
           "contentClassification": null,
           "coverageEndDate": null,
           "creatorOverwrite": null,
           "dateLastPublishedFormattedWithoutTime": "Tue, Oct 24th 2017",
           "dateLastPublishedSixHr": "",
           "datePublished": "2012-08-13T16:16:40+0000",
           "description": null,
           "headline": "NASDAQ (Mini)",
           "id": 100006867,
           "linkHeadline": "NASDAQ (Mini)",
           "native": false,
           "premium": false,
           "promoImage": null,
           "section": null,
           "sourceOrganization": null,
           "title": "NASDAQ (Mini)",
           "type": "chart",
           "url": "https://www.cnbc.com/search/?query=NASDAQ%20(Mini)"
          },
          {
           "__typename": "chart",
           "author": [],
           "brand": "cnbc",
           "contentClassification": null,
           "coverageEndDate": null,
           "creatorOverwrite": null,
           "dateLastPublishedFormattedWithoutTime": "Mon, Aug 27th 2012",
           "dateLastPublishedSixHr": "",
           "datePublished": "2012-08-15T20:14:56+0000",
           "description": null,
           "headline": "Russell (Mini)",
           "id": 100007697,
           "linkHeadline": "Russell (Mini)",
           "native": false,
           "premium": false,
           "promoImage": null,
           "section": null,
           "sourceOrganization": null,
           "title": "Russell (Mini)",
           "type": "chart",
           "url": "https://www.cnbc.com/search/?query=Russell%20(Mini)"
          },
          {
           "__typename": "chart",
           "author": [],
           "brand": "cnbc",
           "contentClassification": [],
           "coverageEndDate": null,
           "creatorOverwrite": null,
           "dateLastPublishedFormattedWithoutTime": "Sat, Dec 1st 2012",
           "dateLastPublishedSixHr": "",
           "datePublished": "2012-10-09T14:34:31+0000",
           "description": null,
           "headline": "Asia-Pacific",
           "id": 100016296,
           "linkHeadline": "Asia-Pacific",
           "native": false,
           "premium": false,
           "promoImage": null,
           "section": null,
           "sourceOrganization": [
            {
             "__typename": "source",
             "id": 80000022,
             "name": "CNBC.com",
             "url": "https://www.cnbc.com/search/?query=CNBC%20US"
            }
           ],
           "title": "Asia-Pacific",
           "type": "chart",
           "url": "https://www.cnbc.com/search/?query=Asia-Pacific"
          },
          {
           "__typename": "chart",
           "author": [],
           "brand": "cnbc",
           "contentClassification": null,
           "coverageEndDate": null,
           "creatorOverwrite": null,
           "dateLastPublishedFormattedWithoutTime": "Tue, Oct 9th 2012",
           "dateLastPublishedSixHr": "",
           "datePublished": "2012-10-09T14:22:20+0000",
           "description": null,
           "headline": "Europe",
           "id": 100016295,
           "linkHeadline": "Europe",
           "native": false,
           "premium": false,
           "promoImage": null,
           "section": null,
           "sourceOrganization": [
            {
             "__typename": "source",
             "id": 80000022,
             "name": "CNBC.com",
             "url": "https://www.cnbc.com/search/?query=CNBC%20US"
            }
           ],
           "title": "Europe",
           "type": "chart",
           "url": "https://www.cnbc.com/search/?query=Europe"
          },
          {
           "__typename": "chart",
           "author": [],
           "brand": "cnbc",
           "contentClassification": [],
           "coverageEndDate": null,
           "creatorOverwrite": null,
           "dateLastPublishedFormattedWithoutTime": "Tue, Oct 9th 2012",
           "dateLastPublishedSixHr": "",
           "datePublished": "2012-10-09T16:35:20+0000",
           "description": null,
           "headline": "Commodities",
           "id": 100016313,
           "linkHeadline": "Commodities",
           "native": false,
           "premium": false,
           "promoImage": null,
           "section": null,
           "sourceOrganization": [
            {
             "__typename": "source",
             "id": 80000022,
             "name": "CNBC.com",
             "url": "https://www.cnbc.com/search/?query=CNBC%20US"
            }
           ],
           "title": "Commodities",
           "type": "chart",
           "url": "https://www.cnbc.com/search/?query=Commodities"
          },
          {
           "__typename": "chart",
           "author": [],
           "brand": "cnbc",
           "contentClassification": [],
           "coverageEndDate": null,
           "creatorOverwrite": null,
           "dateLastPublishedFormattedWithoutTime": "Tue, Oct 9th 2012",
           "dateLastPublishedSixHr": "",
           "datePublished": "2012-08-08T20:35:17+0000",
           "description": null,
           "headline": "CURRENCIES",
           "id": 100004984,
           "linkHeadline": "CURRENCIES",
           "native": false,
           "premium": false,
           "promoImage": null,
           "section": null,
           "sourceOrganization": null,
           "title": "CURRENCIES",
           "type": "chart",
           "url": "https://www.cnbc.com/search/?query=CURRENCIES"
          },
          {
           "__typename": "chart",
           "author": [],
           "brand": "cnbc",
           "contentClassification": null,
           "coverageEndDate": null,
           "creatorOverwrite": null,
           "dateLastPublishedFormattedWithoutTime": "Mon, Oct 22nd 2012",
           "dateLastPublishedSixHr": "",
           "datePublished": "2012-08-13T16:45:32+0000",
           "description": null,
           "headline": "Volatility & Global Indexes",
           "id": 100006869,
           "linkHeadline": "Volatility & Global Indexes",
           "native": false,
           "premium": false,
           "promoImage": null,
           "section": null,
           "sourceOrganization": null,
           "title": "Volatility & Global Indexes",
           "type": "chart",
           "url": "https://www.cnbc.com/search/?query=Volatility%20&%20Global%20Indexes"
          },
          {
           "__typename": "chart",
           "author": [],
           "brand": "cnbc",
           "contentClassification": [],
           "coverageEndDate": null,
           "creatorOverwrite": null,
           "dateLastPublishedFormattedWithoutTime": "Tue, Jul 2nd 2013",
           "dateLastPublishedSixHr": "",
           "datePublished": "2012-07-25T19:02:14+0000",
           "description": null,
           "headline": "U.S. Treasurys",
           "id": 23283126,
           "linkHeadline": "U.S. Treasurys",
           "native": false,
           "premium": false,
           "promoImage": null,
           "section": null,
           "sourceOrganization": null,
           "title": "U.S. Treasurys",
           "type": "chart",
           "url": "https://www.cnbc.com/search/?query=U.S.%20Treasurys"
          },
          {
           "__typename": "chart",
           "author": [],
           "brand": "cnbc",
           "contentClassification": null,
           "coverageEndDate": null,
           "creatorOverwrite": null,
           "dateLastPublishedFormattedWithoutTime": "Mon, Oct 22nd 2012",
           "dateLastPublishedSixHr": "",
           "datePublished": "2012-10-10T11:14:15+0000",
           "description": null,
           "headline": "U.S. INDEXES",
           "id": 23261154,
           "linkHeadline": "U.S. INDEXES",
           "native": false,
           "premium": false,
           "promoImage": null,
           "section": null,
           "sourceOrganization": null,
           "title": "U.S. INDEXES",
           "type": "chart",
           "url": "https://www.cnbc.com/search/?query=U.S.%20INDEXES"
          },
          {
           "__typename": "chart",
           "author": [],
           "brand": "cnbc",
           "contentClassification": null,
           "coverageEndDate": null,
           "creatorOverwrite": null,
           "dateLastPublishedFormattedWithoutTime": "Mon, Oct 22nd 2012",
           "dateLastPublishedSixHr": "",
           "datePublished": "2012-07-25T19:02:15+0000",
           "description": null,
           "headline": "SECTORS",
           "id": 23391291,
           "linkHeadline": "SECTORS",
           "native": false,
           "premium": false,
           "promoImage": null,
           "section": null,
           "sourceOrganization": null,
           "title": "SECTORS",
           "type": "chart",
           "url": "https://www.cnbc.com/search/?query=SECTORS"
          }
         ],
         "brand": "cnbc",
         "eyebrow": "Pre-market data",
         "id": 17689937,
         "sectionLabel": "Pre-market data",
         "url": "https://www.cnbc.com/pre-markets/"
        }
       },
       "extensions": {
        "tracing": {
         "duration": 1711211144,
         "endTime": "2022-05-08T13:23:56.245Z",
         "execution": {
          "resolvers": [
           {
            "duration": 425099574,
            "fieldName": "assetList",
            "parentType": "Query",
            "path": [
             "assetList"
            ],
            "returnType": "assetList",
            "startOffset": 2752975
           },
           {
            "duration": 5549,
            "fieldName": "sectionLabel",
            "parentType": "assetList",
            "path": [
             "assetList",
             "sectionLabel"
            ],
            "returnType": "String",
            "startOffset": 427876817
           },
           {
            "duration": 3804,
            "fieldName": "brand",
            "parentType": "assetList",
            "path": [
             "assetList",
             "brand"
            ],
            "returnType": "String",
            "startOffset": 427888316
           },
           {
            "duration": 1230,
            "fieldName": "id",
            "parentType": "assetList",
            "path": [
             "assetList",
             "id"
            ],
            "returnType": "Int",
            "startOffset": 427894317
           },
           {
            "duration": 2584,
            "fieldName": "eyebrow",
            "parentType": "assetList",
            "path": [
             "assetList",
             "eyebrow"
            ],
            "returnType": "String",
            "startOffset": 427898995
           },
           {
            "duration": 2949,
            "fieldName": "url",
            "parentType": "assetList",
            "path": [
             "assetList",
             "url"
            ],
            "returnType": "String",
            "startOffset": 427903225
           },
           {
            "duration": 67819,
            "fieldName": "assets",
            "parentType": "assetList",
            "path": [
             "assetList",
             "assets"
            ],
            "returnType": "[assetInterface]",
            "startOffset": 427909180
           },
           {
            "duration": 976,
            "fieldName": "id",
            "parentType": "chart",
            "path": [
             "assetList",
             "assets",
             0,
             "id"
            ],
            "returnType": "Int",
            "startOffset": 428011573
           },
           {
            "duration": 1659,
            "fieldName": "brand",
            "parentType": "chart",
            "path": [
             "assetList",
             "assets",
             0,
             "brand"
            ],
            "returnType": "String",
            "startOffset": 428015133
           },
           {
            "duration": 812,
            "fieldName": "type",
            "parentType": "chart",
            "path": [
             "assetList",
             "assets",
             0,
             "type"
            ],
            "returnType": "String",
            "startOffset": 428019158
           },
           {
            "duration": 1458,
            "fieldName": "url",
            "parentType": "chart",
            "path": [
             "assetList",
             "assets",
             0,
             "url"
            ],
            "returnType": "String",
            "startOffset": 428021256
           },
           {
            "duration": 3434,
            "fieldName": "native",
            "parentType": "chart",
            "path": [
             "assetList",
             "assets",
             0,
             "native"
            ],
            "returnType": "Boolean",
            "startOffset": 428024593
           },
           {
            "duration": 714,
            "fieldName": "datePublished",
            "parentType": "chart",
            "path": [
             "assetList",
             "assets",
             0,
             "datePublished"
            ],
            "returnType": "String",
            "startOffset": 428029817
           },
           {
            "duration": 624,
            "fieldName": "description",
            "parentType": "chart",
            "path": [
             "assetList",
             "assets",
             0,
             "description"
            ],
            "returnType": "String",
            "startOffset": 428032103
           },
           {
            "duration": 555,
            "fieldName": "title",
            "parentType": "chart",
            "path": [
             "assetList",
             "assets",
             0,
             "title"
            ],
            "returnType": "String",
            "startOffset": 428033951
           },
           {
            "duration": 630,
            "fieldName": "headline",
            "parentType": "chart",
            "path": [
             "assetList",
             "assets",
             0,
             "headline"
            ],
            "returnType": "String",
            "startOffset": 428035803
           },
           {
            "duration": 4919,
            "fieldName": "premium",
            "parentType": "chart",
            "path": [
             "assetList",
             "assets",
             0,
             "premium"
            ],
            "returnType": "Boolean",
            "startOffset": 428037577
           },
           {
            "duration": 812,
            "fieldName": "creatorOverwrite",
            "parentType": "chart",
            "path": [
             "assetList",
             "assets",
             0,
             "creatorOverwrite"
            ],
            "returnType": "String",
            "startOffset": 428043540
           },
           {
            "duration": 543,
            "fieldName": "coverageEndDate",
            "parentType": "chart",
            "path": [
             "assetList",
             "assets",
             0,
             "coverageEndDate"
            ],
            "returnType": "String",
            "startOffset": 428045281
           },
           {
            "duration": 642,
            "fieldName": "contentClassification",
            "parentType": "chart",
            "path": [
             "assetList",
             "assets",
             0,
             "contentClassification"
            ],
            "returnType": "[String]",
            "startOffset": 428047807
           },
           {
            "duration": 458,
            "fieldName": "headline",
            "parentType": "chart",
            "path": [
             "assetList",
             "assets",
             0,
             "linkHeadline"
            ],
            "returnType": "String",
            "startOffset": 428049042
           },
           {
            "duration": 3548,
            "fieldName": "author",
            "parentType": "chart",
            "path": [
             "assetList",
             "assets",
             0,
             "author"
            ],
            "returnType": "[creator]",
            "startOffset": 428050836
           },
           {
            "duration": 92687580,
            "fieldName": "section",
            "parentType": "chart",
            "path": [
             "assetList",
             "assets",
             0,
             "section"
            ],
            "returnType": "franchise",
            "startOffset": 428056470
           },
           {
            "duration": 371407,
            "fieldName": "dateLastPublishedSixHr",
            "parentType": "chart",
            "path": [
             "assetList",
             "assets",
             0,
             "dateLastPublishedSixHr"
            ],
            "returnType": "String",
            "startOffset": 428495055
           },
           {
            "duration": 77345,
            "fieldName": "dateLastPublishedFormattedWithoutTime",
            "parentType": "chart",
            "path": [
             "assetList",
             "assets",
             0,
             "dateLastPublishedFormattedWithoutTime"
            ],
            "returnType": "String",
            "startOffset": 428873553
           },
           {
            "duration": 4152,
            "fieldName": "promoImage",
            "parentType": "chart",
            "path": [
             "assetList",
             "assets",
             0,
             "promoImage"
            ],
            "returnType": "infographic",
            "startOffset": 428954766
           },
           {
            "duration": 91790176,
            "fieldName": "sourceOrganization",
            "parentType": "chart",
            "path": [
             "assetList",
             "assets",
             0,
             "sourceOrganization"
            ],
            "returnType": "[source]",
            "startOffset": 428961022
           },
           {
            "duration": 2475,
            "fieldName": "id",
            "parentType": "chart",
            "path": [
             "assetList",
             "assets",
             1,
             "id"
            ],
            "returnType": "Int",
            "startOffset": 429199094
           },
           {
            "duration": 1695,
            "fieldName": "brand",
            "parentType": "chart",
            "path": [
             "assetList",
             "assets",
             1,
             "brand"
            ],
            "returnType": "String",
            "startOffset": 429204758
           },
           {
            "duration": 805,
            "fieldName": "type",
            "parentType": "chart",
            "path": [
             "assetList",
             "assets",
             1,
             "type"
            ],
            "returnType": "String",
            "startOffset": 429207533
           },
           {
            "duration": 2736,
            "fieldName": "url",
            "parentType": "chart",
            "path": [
             "assetList",
             "assets",
             1,
             "url"
            ],
            "returnType": "String",
            "startOffset": 429209532
           },
           {
            "duration": 1583,
            "fieldName": "native",
            "parentType": "chart",
            "path": [
             "assetList",
             "assets",
             1,
             "native"
            ],
            "returnType": "Boolean",
            "startOffset": 429213675
           },
           {
            "duration": 598,
            "fieldName": "datePublished",
            "parentType": "chart",
            "path": [
             "assetList",
             "assets",
             1,
             "datePublished"
            ],
            "returnType": "String",
            "startOffset": 429216798
           },
           {
            "duration": 551,
            "fieldName": "description",
            "parentType": "chart",
            "path": [
             "assetList",
             "assets",
             1,
             "description"
            ],
            "returnType": "String",
            "startOffset": 429218458
           },
           {
            "duration": 467,
            "fieldName": "title",
            "parentType": "chart",
            "path": [
             "assetList",
             "assets",
             1,
             "title"
            ],
            "returnType": "String",
            "startOffset": 429220117
           },
           {
            "duration": 564,
            "fieldName": "headline",
            "parentType": "chart",
            "path": [
             "assetList",
             "assets",
             1,
             "headline"
            ],
            "returnType": "String",
            "startOffset": 429221441
           },
           {
            "duration": 1327,
            "fieldName": "premium",
            "parentType": "chart",
            "path": [
             "assetList",
             "assets",
             1,
             "premium"
            ],
            "returnType": "Boolean",
            "startOffset": 429222962
           },
           {
            "duration": 443,
            "fieldName": "creatorOverwrite",
            "parentType": "chart",
            "path": [
             "assetList",
             "assets",
             1,
             "creatorOverwrite"
            ],
            "returnType": "String",
            "startOffset": 429225055
           },
           {
            "duration": 620,
            "fieldName": "coverageEndDate",
            "parentType": "chart",
            "path": [
             "assetList",
             "assets",
             1,
             "coverageEndDate"
            ],
            "returnType": "String",
            "startOffset": 429226212
           },
           {
            "duration": 619,
            "fieldName": "contentClassification",
            "parentType": "chart",
            "path": [
             "assetList",
             "assets",
             1,
             "contentClassification"
            ],
            "returnType": "[String]",
            "startOffset": 429228082
           },
           {
            "duration": 545,
            "fieldName": "headline",
            "parentType": "chart",
            "path": [
             "assetList",
             "assets",
             1,
             "linkHeadline"
            ],
            "returnType": "String",
            "startOffset": 429229425
           },
           {
            "duration": 4016,
            "fieldName": "author",
            "parentType": "chart",
            "path": [
             "assetList",
             "assets",
             1,
             "author"
            ],
            "returnType": "[creator]",
            "startOffset": 429230822
           },
           {
            "duration": 101555295,
            "fieldName": "section",
            "parentType": "chart",
            "path": [
             "assetList",
             "assets",
             1,
             "section"
            ],
            "returnType": "franchise",
            "startOffset": 429237342
           },
           {
            "duration": 178586,
            "fieldName": "dateLastPublishedSixHr",
            "parentType": "chart",
            "path": [
             "assetList",
             "assets",
             1,
             "dateLastPublishedSixHr"
            ],
            "returnType": "String",
            "startOffset": 429516441
           },
           {
            "duration": 50361,
            "fieldName": "dateLastPublishedFormattedWithoutTime",
            "parentType": "chart",
            "path": [
             "assetList",
             "assets",
             1,
             "dateLastPublishedFormattedWithoutTime"
            ],
            "returnType": "String",
            "startOffset": 429697770
           },
           {
            "duration": 3485,
            "fieldName": "promoImage",
            "parentType": "chart",
            "path": [
             "assetList",
             "assets",
             1,
             "promoImage"
            ],
            "returnType": "infographic",
            "startOffset": 429749971
           },
           {
            "duration": 101047913,
            "fieldName": "sourceOrganization",
            "parentType": "chart",
            "path": [
             "assetList",
             "assets",
             1,
             "sourceOrganization"
            ],
            "returnType": "[source]",
            "startOffset": 429754917
           },
           {
            "duration": 1932,
            "fieldName": "id",
            "parentType": "chart",
            "path": [
             "assetList",
             "assets",
             2,
             "id"
            ],
            "returnType": "Int",
            "startOffset": 429956270
           },
           {
            "duration": 1380,
            "fieldName": "brand",
            "parentType": "chart",
            "path": [
             "assetList",
             "assets",
             2,
             "brand"
            ],
            "returnType": "String",
            "startOffset": 429960549
           },
           {
            "duration": 668,
            "fieldName": "type",
            "parentType": "chart",
            "path": [
             "assetList",
             "assets",
             2,
             "type"
            ],
            "returnType": "String",
            "startOffset": 429962910
           },
           {
            "duration": 1970,
            "fieldName": "url",
            "parentType": "chart",
            "path": [
             "assetList",
             "assets",
             2,
             "url"
            ],
            "returnType": "String",
            "startOffset": 429964386
           },
           {
            "duration": 1670,
            "fieldName": "native",
            "parentType": "chart",
            "path": [
             "assetList",
             "assets",
             2,
             "native"
            ],
            "returnType": "Boolean",
            "startOffset": 429967533
           },
           {
            "duration": 564,
            "fieldName": "datePublished",
            "parentType": "chart",
            "path": [
             "assetList",
             "assets",
             2,
             "datePublished"
            ],
            "returnType": "String",
            "startOffset": 429970472
           },
           {
            "duration": 536,
            "fieldName": "description",
            "parentType": "chart",
            "path": [
             "assetList",
             "assets",
             2,
             "description"
            ],
            "returnType": "String",
            "startOffset": 429972029
           },
           {
            "duration": 620,
            "fieldName": "title",
            "parentType": "chart",
            "path": [
             "assetList",
             "assets",
             2,
             "title"
            ],
            "returnType": "String",
            "startOffset": 429973532
           },
           {
            "duration": 485,
            "fieldName": "headline",
            "parentType": "chart",
            "path": [
             "assetList",
             "assets",
             2,
             "headline"
            ],
            "returnType": "String",
            "startOffset": 429974970
           },
           {
            "duration": 1305,
            "fieldName": "premium",
            "parentType": "chart",
            "path": [
             "assetList",
             "assets",
             2,
             "premium"
            ],
            "returnType": "Boolean",
            "startOffset": 429976227
           },
           {
            "duration": 462,
            "fieldName": "creatorOverwrite",
            "parentType": "chart",
            "path": [
             "assetList",
             "assets",
             2,
             "creatorOverwrite"
            ],
            "returnType": "String",
            "startOffset": 429978255
           },
           {
            "duration": 589,
            "fieldName": "coverageEndDate",
            "parentType": "chart",
            "path": [
             "assetList",
             "assets",
             2,
             "coverageEndDate"
            ],
            "returnType": "String",
            "startOffset": 429979377
           },
           {
            "duration": 568,
            "fieldName": "contentClassification",
            "parentType": "chart",
            "path": [
             "assetList",
             "assets",
             2,
             "contentClassification"
            ],
            "returnType": "[String]",
            "startOffset": 429981061
           },
           {
            "duration": 536,
            "fieldName": "headline",
            "parentType": "chart",
            "path": [
             "assetList",
             "assets",
             2,
             "linkHeadline"
            ],
            "returnType": "String",
            "startOffset": 429982242
           },
           {
            "duration": 3721,
            "fieldName": "author",
            "parentType": "chart",
            "path": [
             "assetList",
             "assets",
             2,
             "author"
            ],
            "returnType": "[creator]",
            "startOffset": 429983612
           },
           {
            "duration": 99536033,
            "fieldName": "section",
            "parentType": "chart",
            "path": [
             "assetList",
             "assets",
             2,
             "section"
            ],
            "returnType": "franchise",
            "startOffset": 429989657
           },
           {
            "duration": 169958,
            "fieldName": "dateLastPublishedSixHr",
            "parentType": "chart",
            "path": [
             "assetList",
             "assets",
             2,
             "dateLastPublishedSixHr"
            ],
            "returnType": "String",
            "startOffset": 430276053
           },
           {
            "duration": 50315,
            "fieldName": "dateLastPublishedFormattedWithoutTime",
            "parentType": "chart",
            "path": [
             "assetList",
             "assets",
             2,
             "dateLastPublishedFormattedWithoutTime"
            ],
            "returnType": "String",
            "startOffset": 430449062
           },
           {
            "duration": 2113,
            "fieldName": "promoImage",
            "parentType": "chart",
            "path": [
             "assetList",
             "assets",
             2,
             "promoImage"
            ],
            "returnType": "infographic",
            "startOffset": 430501269
           },
           {
            "duration": 99028261,
            "fieldName": "sourceOrganization",
            "parentType": "chart",
            "path": [
             "assetList",
             "assets",
             2,
             "sourceOrganization"
            ],
            "returnType": "[source]",
            "startOffset": 430504848
           },
           {
            "duration": 1782,
            "fieldName": "id",
            "parentType": "chart",
            "path": [
             "assetList",
             "assets",
             3,
             "id"
            ],
            "returnType": "Int",
            "startOffset": 430686030
           },
           {
            "duration": 1265,
            "fieldName": "brand",
            "parentType": "chart",
            "path": [
             "assetList",
             "assets",
             3,
             "brand"
            ],
            "returnType": "String",
            "startOffset": 430689654
           },
           {
            "duration": 786,
            "fieldName": "type",
            "parentType": "chart",
            "path": [
             "assetList",
             "assets",
             3,
             "type"
            ],
            "returnType": "String",
            "startOffset": 430691824
           },
           {
            "duration": 2116,
            "fieldName": "url",
            "parentType": "chart",
            "path": [
             "assetList",
             "assets",
             3,
             "url"
            ],
            "returnType": "String",
            "startOffset": 430693607
           },
           {
            "duration": 2932,
            "fieldName": "native",
            "parentType": "chart",
            "path": [
             "assetList",
             "assets",
             3,
             "native"
            ],
            "returnType": "Boolean",
            "startOffset": 430696858
           },
           {
            "duration": 908,
            "fieldName": "datePublished",
            "parentType": "chart",
            "path": [
             "assetList",
             "assets",
             3,
             "datePublished"
            ],
            "returnType": "String",
            "startOffset": 430701458
           },
           {
            "duration": 523,
            "fieldName": "description",
            "parentType": "chart",
            "path": [
             "assetList",
             "assets",
             3,
             "description"
            ],
            "returnType": "String",
            "startOffset": 430703383
           },
           {
            "duration": 575,
            "fieldName": "title",
            "parentType": "chart",
            "path": [
             "assetList",
             "assets",
             3,
             "title"
            ],
            "returnType": "String",
            "startOffset": 430704819
           },
           {
            "duration": 488,
            "fieldName": "headline",
            "parentType": "chart",
            "path": [
             "assetList",
             "assets",
             3,
             "headline"
            ],
            "returnType": "String",
            "startOffset": 430706177
           },
           {
            "duration": 2273,
            "fieldName": "premium",
            "parentType": "chart",
            "path": [
             "assetList",
             "assets",
             3,
             "premium"
            ],
            "returnType": "Boolean",
            "startOffset": 430707425
           },
           {
            "duration": 460,
            "fieldName": "creatorOverwrite",
            "parentType": "chart",
            "path": [
             "assetList",
             "assets",
             3,
             "creatorOverwrite"
            ],
            "returnType": "String",
            "startOffset": 430710462
           },
           {
            "duration": 416,
            "fieldName": "coverageEndDate",
            "parentType": "chart",
            "path": [
             "assetList",
             "assets",
             3,
             "coverageEndDate"
            ],
            "returnType": "String",
            "startOffset": 430711570
           },
           {
            "duration": 563,
            "fieldName": "contentClassification",
            "parentType": "chart",
            "path": [
             "assetList",
             "assets",
             3,
             "contentClassification"
            ],
            "returnType": "[String]",
            "startOffset": 430713130
           },
           {
            "duration": 432,
            "fieldName": "headline",
            "parentType": "chart",
            "path": [
             "assetList",
             "assets",
             3,
             "linkHeadline"
            ],
            "returnType": "String",
            "startOffset": 430714281
           },
           {
            "duration": 3316,
            "fieldName": "author",
            "parentType": "chart",
            "path": [
             "assetList",
             "assets",
             3,
             "author"
            ],
            "returnType": "[creator]",
            "startOffset": 430715561
           },
           {
            "duration": 62749675,
            "fieldName": "section",
            "parentType": "chart",
            "path": [
             "assetList",
             "assets",
             3,
             "section"
            ],
            "returnType": "franchise",
            "startOffset": 430721246
           },
           {
            "duration": 182103,
            "fieldName": "dateLastPublishedSixHr",
            "parentType": "chart",
            "path": [
             "assetList",
             "assets",
             3,
             "dateLastPublishedSixHr"
            ],
            "returnType": "String",
            "startOffset": 430954628
           },
           {
            "duration": 51030,
            "fieldName": "dateLastPublishedFormattedWithoutTime",
            "parentType": "chart",
            "path": [
             "assetList",
             "assets",
             3,
             "dateLastPublishedFormattedWithoutTime"
            ],
            "returnType": "String",
            "startOffset": 431140276
           },
           {
            "duration": 3853,
            "fieldName": "promoImage",
            "parentType": "chart",
            "path": [
             "assetList",
             "assets",
             3,
             "promoImage"
            ],
            "returnType": "infographic",
            "startOffset": 431193085
           },
           {
            "duration": 62279759,
            "fieldName": "sourceOrganization",
            "parentType": "chart",
            "path": [
             "assetList",
             "assets",
             3,
             "sourceOrganization"
            ],
            "returnType": "[source]",
            "startOffset": 431198311
           },
           {
            "duration": 1957,
            "fieldName": "id",
            "parentType": "chart",
            "path": [
             "assetList",
             "assets",
             4,
             "id"
            ],
            "returnType": "Int",
            "startOffset": 431375485
           },
           {
            "duration": 1629,
            "fieldName": "brand",
            "parentType": "chart",
            "path": [
             "assetList",
             "assets",
             4,
             "brand"
            ],
            "returnType": "String",
            "startOffset": 431379355
           },
           {
            "duration": 662,
            "fieldName": "type",
            "parentType": "chart",
            "path": [
             "assetList",
             "assets",
             4,
             "type"
            ],
            "returnType": "String",
            "startOffset": 431382145
           },
           {
            "duration": 1898,
            "fieldName": "url",
            "parentType": "chart",
            "path": [
             "assetList",
             "assets",
             4,
             "url"
            ],
            "returnType": "String",
            "startOffset": 431383635
           },
           {
            "duration": 3327,
            "fieldName": "native",
            "parentType": "chart",
            "path": [
             "assetList",
             "assets",
             4,
             "native"
            ],
            "returnType": "Boolean",
            "startOffset": 431386769
           },
           {
            "duration": 727,
            "fieldName": "datePublished",
            "parentType": "chart",
            "path": [
             "assetList",
             "assets",
             4,
             "datePublished"
            ],
            "returnType": "String",
            "startOffset": 431391385
           },
           {
            "duration": 754,
            "fieldName": "description",
            "parentType": "chart",
            "path": [
             "assetList",
             "assets",
             4,
             "description"
            ],
            "returnType": "String",
            "startOffset": 431393219
           },
           {
            "duration": 453,
            "fieldName": "title",
            "parentType": "chart",
            "path": [
             "assetList",
             "assets",
             4,
             "title"
            ],
            "returnType": "String",
            "startOffset": 431394817
           },
           {
            "duration": 615,
            "fieldName": "headline",
            "parentType": "chart",
            "path": [
             "assetList",
             "assets",
             4,
             "headline"
            ],
            "returnType": "String",
            "startOffset": 431396061
           },
           {
            "duration": 1977,
            "fieldName": "premium",
            "parentType": "chart",
            "path": [
             "assetList",
             "assets",
             4,
             "premium"
            ],
            "returnType": "Boolean",
            "startOffset": 431397443
           },
           {
            "duration": 463,
            "fieldName": "creatorOverwrite",
            "parentType": "chart",
            "path": [
             "assetList",
             "assets",
             4,
             "creatorOverwrite"
            ],
            "returnType": "String",
            "startOffset": 431400142
           },
           {
            "duration": 421,
            "fieldName": "coverageEndDate",
            "parentType": "chart",
            "path": [
             "assetList",
             "assets",
             4,
             "coverageEndDate"
            ],
            "returnType": "String",
            "startOffset": 431401613
           },
           {
            "duration": 2811,
            "fieldName": "contentClassification",
            "parentType": "chart",
            "path": [
             "assetList",
             "assets",
             4,
             "contentClassification"
            ],
            "returnType": "[String]",
            "startOffset": 431403055
           },
           {
            "duration": 666,
            "fieldName": "headline",
            "parentType": "chart",
            "path": [
             "assetList",
             "assets",
             4,
             "linkHeadline"
            ],
            "returnType": "String",
            "startOffset": 431408101
           },
           {
            "duration": 1955,
            "fieldName": "author",
            "parentType": "chart",
            "path": [
             "assetList",
             "assets",
             4,
             "author"
            ],
            "returnType": "[creator]",
            "startOffset": 431409555
           },
           {
            "duration": 67922581,
            "fieldName": "section",
            "parentType": "chart",
            "path": [
             "assetList",
             "assets",
             4,
             "section"
            ],
            "returnType": "franchise",
            "startOffset": 431412767
           },
           {
            "duration": 185908,
            "fieldName": "dateLastPublishedSixHr",
            "parentType": "chart",
            "path": [
             "assetList",
             "assets",
             4,
             "dateLastPublishedSixHr"
            ],
            "returnType": "String",
            "startOffset": 431656587
           },
           {
            "duration": 49973,
            "fieldName": "dateLastPublishedFormattedWithoutTime",
            "parentType": "chart",
            "path": [
             "assetList",
             "assets",
             4,
             "dateLastPublishedFormattedWithoutTime"
            ],
            "returnType": "String",
            "startOffset": 431845634
           },
           {
            "duration": 2025,
            "fieldName": "promoImage",
            "parentType": "chart",
            "path": [
             "assetList",
             "assets",
             4,
             "promoImage"
            ],
            "returnType": "infographic",
            "startOffset": 431897528
           },
           {
            "duration": 4968071,
            "fieldName": "sourceOrganization",
            "parentType": "chart",
            "path": [
             "assetList",
             "assets",
             4,
             "sourceOrganization"
            ],
            "returnType": "[source]",
            "startOffset": 431900804
           },
           {
            "duration": 1710,
            "fieldName": "id",
            "parentType": "chart",
            "path": [
             "assetList",
             "assets",
             5,
             "id"
            ],
            "returnType": "Int",
            "startOffset": 432021665
           },
           {
            "duration": 1417,
            "fieldName": "brand",
            "parentType": "chart",
            "path": [
             "assetList",
             "assets",
             5,
             "brand"
            ],
            "returnType": "String",
            "startOffset": 432025173
           },
           {
            "duration": 687,
            "fieldName": "type",
            "parentType": "chart",
            "path": [
             "assetList",
             "assets",
             5,
             "type"
            ],
            "returnType": "String",
            "startOffset": 432027581
           },
           {
            "duration": 1991,
            "fieldName": "url",
            "parentType": "chart",
            "path": [
             "assetList",
             "assets",
             5,
             "url"
            ],
            "returnType": "String",
            "startOffset": 432029042
           },
           {
            "duration": 1403,
            "fieldName": "native",
            "parentType": "chart",
            "path": [
             "assetList",
             "assets",
             5,
             "native"
            ],
            "returnType": "Boolean",
            "startOffset": 432032196
           },
           {
            "duration": 544,
            "fieldName": "datePublished",
            "parentType": "chart",
            "path": [
             "assetList",
             "assets",
             5,
             "datePublished"
            ],
            "returnType": "String",
            "startOffset": 432034697
           },
           {
            "duration": 540,
            "fieldName": "description",
            "parentType": "chart",
            "path": [
             "assetList",
             "assets",
             5,
             "description"
            ],
            "returnType": "String",
            "startOffset": 432036809
           },
           {
            "duration": 616,
            "fieldName": "title",
            "parentType": "chart",
            "path": [
             "assetList",
             "assets",
             5,
             "title"
            ],
            "returnType": "String",
            "startOffset": 432038151
           },
           {
            "duration": 594,
            "fieldName": "headline",
            "parentType": "chart",
            "path": [
             "assetList",
             "assets",
             5,
             "headline"
            ],
            "returnType": "String",
            "startOffset": 432039674
           },
           {
            "duration": 1013,
            "fieldName": "premium",
            "parentType": "chart",
            "path": [
             "assetList",
             "assets",
             5,
             "premium"
            ],
            "returnType": "Boolean",
            "startOffset": 432040992
           },
           {
            "duration": 535,
            "fieldName": "creatorOverwrite",
            "parentType": "chart",
            "path": [
             "assetList",
             "assets",
             5,
             "creatorOverwrite"
            ],
            "returnType": "String",
            "startOffset": 432042665
           },
           {
            "duration": 447,
            "fieldName": "coverageEndDate",
            "parentType": "chart",
            "path": [
             "assetList",
             "assets",
             5,
             "coverageEndDate"
            ],
            "returnType": "String",
            "startOffset": 432043925
           },
           {
            "duration": 660,
            "fieldName": "contentClassification",
            "parentType": "chart",
            "path": [
             "assetList",
             "assets",
             5,
             "contentClassification"
            ],
            "returnType": "[String]",
            "startOffset": 432045389
           },
           {
            "duration": 461,
            "fieldName": "headline",
            "parentType": "chart",
            "path": [
             "assetList",
             "assets",
             5,
             "linkHeadline"
            ],
            "returnType": "String",
            "startOffset": 432046657
           },
           {
            "duration": 4186,
            "fieldName": "author",
            "parentType": "chart",
            "path": [
             "assetList",
             "assets",
             5,
             "author"
            ],
            "returnType": "[creator]",
            "startOffset": 432047845
           },
           {
            "duration": 81409863,
            "fieldName": "section",
            "parentType": "chart",
            "path": [
             "assetList",
             "assets",
             5,
             "section"
            ],
            "returnType": "franchise",
            "startOffset": 432054629
           },
           {
            "duration": 161913,
            "fieldName": "dateLastPublishedSixHr",
            "parentType": "chart",
            "path": [
             "assetList",
             "assets",
             5,
             "dateLastPublishedSixHr"
            ],
            "returnType": "String",
            "startOffset": 432330890
           },
           {
            "duration": 48503,
            "fieldName": "dateLastPublishedFormattedWithoutTime",
            "parentType": "chart",
            "path": [
             "assetList",
             "assets",
             5,
             "dateLastPublishedFormattedWithoutTime"
            ],
            "returnType": "String",
            "startOffset": 432495815
           },
           {
            "duration": 2076,
            "fieldName": "promoImage",
            "parentType": "chart",
            "path": [
             "assetList",
             "assets",
             5,
             "promoImage"
            ],
            "returnType": "infographic",
            "startOffset": 432546170
           },
           {
            "duration": 4379393,
            "fieldName": "sourceOrganization",
            "parentType": "chart",
            "path": [
             "assetList",
             "assets",
             5,
             "sourceOrganization"
            ],
            "returnType": "[source]",
            "startOffset": 432549605
           },
           {
            "duration": 1521,
            "fieldName": "id",
            "parentType": "chart",
            "path": [
             "assetList",
             "assets",
             6,
             "id"
            ],
            "returnType": "Int",
            "startOffset": 432659981
           },
           {
            "duration": 1279,
            "fieldName": "brand",
            "parentType": "chart",
            "path": [
             "assetList",
             "assets",
             6,
             "brand"
            ],
            "returnType": "String",
            "startOffset": 432663372
           },
           {
            "duration": 685,
            "fieldName": "type",
            "parentType": "chart",
            "path": [
             "assetList",
             "assets",
             6,
             "type"
            ],
            "returnType": "String",
            "startOffset": 432665996
           },
           {
            "duration": 2078,
            "fieldName": "url",
            "parentType": "chart",
            "path": [
             "assetList",
             "assets",
             6,
             "url"
            ],
            "returnType": "String",
            "startOffset": 432667456
           },
           {
            "duration": 1262,
            "fieldName": "native",
            "parentType": "chart",
            "path": [
             "assetList",
             "assets",
             6,
             "native"
            ],
            "returnType": "Boolean",
            "startOffset": 432670742
           },
           {
            "duration": 600,
            "fieldName": "datePublished",
            "parentType": "chart",
            "path": [
             "assetList",
             "assets",
             6,
             "datePublished"
            ],
            "returnType": "String",
            "startOffset": 432673062
           },
           {
            "duration": 605,
            "fieldName": "description",
            "parentType": "chart",
            "path": [
             "assetList",
             "assets",
             6,
             "description"
            ],
            "returnType": "String",
            "startOffset": 432675073
           },
           {
            "duration": 460,
            "fieldName": "title",
            "parentType": "chart",
            "path": [
             "assetList",
             "assets",
             6,
             "title"
            ],
            "returnType": "String",
            "startOffset": 432676478
           },
           {
            "duration": 661,
            "fieldName": "headline",
            "parentType": "chart",
            "path": [
             "assetList",
             "assets",
             6,
             "headline"
            ],
            "returnType": "String",
            "startOffset": 432677711
           },
           {
            "duration": 1168,
            "fieldName": "premium",
            "parentType": "chart",
            "path": [
             "assetList",
             "assets",
             6,
             "premium"
            ],
            "returnType": "Boolean",
            "startOffset": 432679120
           },
           {
            "duration": 471,
            "fieldName": "creatorOverwrite",
            "parentType": "chart",
            "path": [
             "assetList",
             "assets",
             6,
             "creatorOverwrite"
            ],
            "returnType": "String",
            "startOffset": 432680971
           },
           {
            "duration": 434,
            "fieldName": "coverageEndDate",
            "parentType": "chart",
            "path": [
             "assetList",
             "assets",
             6,
             "coverageEndDate"
            ],
            "returnType": "String",
            "startOffset": 432682184
           },
           {
            "duration": 2522,
            "fieldName": "contentClassification",
            "parentType": "chart",
            "path": [
             "assetList",
             "assets",
             6,
             "contentClassification"
            ],
            "returnType": "[String]",
            "startOffset": 432683537
           },
           {
            "duration": 1273,
            "fieldName": "headline",
            "parentType": "chart",
            "path": [
             "assetList",
             "assets",
             6,
             "linkHeadline"
            ],
            "returnType": "String",
            "startOffset": 432688385
           },
           {
            "duration": 1792,
            "fieldName": "author",
            "parentType": "chart",
            "path": [
             "assetList",
             "assets",
             6,
             "author"
            ],
            "returnType": "[creator]",
            "startOffset": 432690600
           },
           {
            "duration": 58891099,
            "fieldName": "section",
            "parentType": "chart",
            "path": [
             "assetList",
             "assets",
             6,
             "section"
            ],
            "returnType": "franchise",
            "startOffset": 432693612
           },
           {
            "duration": 174259,
            "fieldName": "dateLastPublishedSixHr",
            "parentType": "chart",
            "path": [
             "assetList",
             "assets",
             6,
             "dateLastPublishedSixHr"
            ],
            "returnType": "String",
            "startOffset": 432940435
           },
           {
            "duration": 50313,
            "fieldName": "dateLastPublishedFormattedWithoutTime",
            "parentType": "chart",
            "path": [
             "assetList",
             "assets",
             6,
             "dateLastPublishedFormattedWithoutTime"
            ],
            "returnType": "String",
            "startOffset": 433117594
           },
           {
            "duration": 1904,
            "fieldName": "promoImage",
            "parentType": "chart",
            "path": [
             "assetList",
             "assets",
             6,
             "promoImage"
            ],
            "returnType": "infographic",
            "startOffset": 433169543
           },
           {
            "duration": 3797746,
            "fieldName": "sourceOrganization",
            "parentType": "chart",
            "path": [
             "assetList",
             "assets",
             6,
             "sourceOrganization"
            ],
            "returnType": "[source]",
            "startOffset": 433172714
           },
           {
            "duration": 1666,
            "fieldName": "id",
            "parentType": "chart",
            "path": [
             "assetList",
             "assets",
             7,
             "id"
            ],
            "returnType": "Int",
            "startOffset": 433296077
           },
           {
            "duration": 1402,
            "fieldName": "brand",
            "parentType": "chart",
            "path": [
             "assetList",
             "assets",
             7,
             "brand"
            ],
            "returnType": "String",
            "startOffset": 433299779
           },
           {
            "duration": 640,
            "fieldName": "type",
            "parentType": "chart",
            "path": [
             "assetList",
             "assets",
             7,
             "type"
            ],
            "returnType": "String",
            "startOffset": 433302164
           },
           {
            "duration": 2282,
            "fieldName": "url",
            "parentType": "chart",
            "path": [
             "assetList",
             "assets",
             7,
             "url"
            ],
            "returnType": "String",
            "startOffset": 433303593
           },
           {
            "duration": 1316,
            "fieldName": "native",
            "parentType": "chart",
            "path": [
             "assetList",
             "assets",
             7,
             "native"
            ],
            "returnType": "Boolean",
            "startOffset": 433306971
           },
           {
            "duration": 780,
            "fieldName": "datePublished",
            "parentType": "chart",
            "path": [
             "assetList",
             "assets",
             7,
             "datePublished"
            ],
            "returnType": "String",
            "startOffset": 433309331
           },
           {
            "duration": 546,
            "fieldName": "description",
            "parentType": "chart",
            "path": [
             "assetList",
             "assets",
             7,
             "description"
            ],
            "returnType": "String",
            "startOffset": 433311173
           },
           {
            "duration": 608,
            "fieldName": "title",
            "parentType": "chart",
            "path": [
             "assetList",
             "assets",
             7,
             "title"
            ],
            "returnType": "String",
            "startOffset": 433312559
           },
           {
            "duration": 464,
            "fieldName": "headline",
            "parentType": "chart",
            "path": [
             "assetList",
             "assets",
             7,
             "headline"
            ],
            "returnType": "String",
            "startOffset": 433313996
           },
           {
            "duration": 1052,
            "fieldName": "premium",
            "parentType": "chart",
            "path": [
             "assetList",
             "assets",
             7,
             "premium"
            ],
            "returnType": "Boolean",
            "startOffset": 433315167
           },
           {
            "duration": 457,
            "fieldName": "creatorOverwrite",
            "parentType": "chart",
            "path": [
             "assetList",
             "assets",
             7,
             "creatorOverwrite"
            ],
            "returnType": "String",
            "startOffset": 433317081
           },
           {
            "duration": 416,
            "fieldName": "coverageEndDate",
            "parentType": "chart",
            "path": [
             "assetList",
             "assets",
             7,
             "coverageEndDate"
            ],
            "returnType": "String",
            "startOffset": 433318199
           },
           {
            "duration": 2640,
            "fieldName": "contentClassification",
            "parentType": "chart",
            "path": [
             "assetList",
             "assets",
             7,
             "contentClassification"
            ],
            "returnType": "[String]",
            "startOffset": 433319691
           },
           {
            "duration": 593,
            "fieldName": "headline",
            "parentType": "chart",
            "path": [
             "assetList",
             "assets",
             7,
             "linkHeadline"
            ],
            "returnType": "String",
            "startOffset": 433324500
           },
           {
            "duration": 1759,
            "fieldName": "author",
            "parentType": "chart",
            "path": [
             "assetList",
             "assets",
             7,
             "author"
            ],
            "returnType": "[creator]",
            "startOffset": 433326164
           },
           {
            "duration": 88247300,
            "fieldName": "section",
            "parentType": "chart",
            "path": [
             "assetList",
             "assets",
             7,
             "section"
            ],
            "returnType": "franchise",
            "startOffset": 433329063
           },
           {
            "duration": 160006,
            "fieldName": "dateLastPublishedSixHr",
            "parentType": "chart",
            "path": [
             "assetList",
             "assets",
             7,
             "dateLastPublishedSixHr"
            ],
            "returnType": "String",
            "startOffset": 433574899
           },
           {
            "duration": 48110,
            "fieldName": "dateLastPublishedFormattedWithoutTime",
            "parentType": "chart",
            "path": [
             "assetList",
             "assets",
             7,
             "dateLastPublishedFormattedWithoutTime"
            ],
            "returnType": "String",
            "startOffset": 433737605
           },
           {
            "duration": 5501,
            "fieldName": "promoImage",
            "parentType": "chart",
            "path": [
             "assetList",
             "assets",
             7,
             "promoImage"
            ],
            "returnType": "infographic",
            "startOffset": 433787580
           },
           {
            "duration": 87788283,
            "fieldName": "sourceOrganization",
            "parentType": "chart",
            "path": [
             "assetList",
             "assets",
             7,
             "sourceOrganization"
            ],
            "returnType": "[source]",
            "startOffset": 433794310
           },
           {
            "duration": 1987,
            "fieldName": "id",
            "parentType": "chart",
            "path": [
             "assetList",
             "assets",
             8,
             "id"
            ],
            "returnType": "Int",
            "startOffset": 433966367
           },
           {
            "duration": 1260,
            "fieldName": "brand",
            "parentType": "chart",
            "path": [
             "assetList",
             "assets",
             8,
             "brand"
            ],
            "returnType": "String",
            "startOffset": 433970303
           },
           {
            "duration": 805,
            "fieldName": "type",
            "parentType": "chart",
            "path": [
             "assetList",
             "assets",
             8,
             "type"
            ],
            "returnType": "String",
            "startOffset": 433972660
           },
           {
            "duration": 2096,
            "fieldName": "url",
            "parentType": "chart",
            "path": [
             "assetList",
             "assets",
             8,
             "url"
            ],
            "returnType": "String",
            "startOffset": 433974235
           },
           {
            "duration": 1657,
            "fieldName": "native",
            "parentType": "chart",
            "path": [
             "assetList",
             "assets",
             8,
             "native"
            ],
            "returnType": "Boolean",
            "startOffset": 433977541
           },
           {
            "duration": 1047,
            "fieldName": "datePublished",
            "parentType": "chart",
            "path": [
             "assetList",
             "assets",
             8,
             "datePublished"
            ],
            "returnType": "String",
            "startOffset": 433980291
           },
           {
            "duration": 857,
            "fieldName": "description",
            "parentType": "chart",
            "path": [
             "assetList",
             "assets",
             8,
             "description"
            ],
            "returnType": "String",
            "startOffset": 433982534
           },
           {
            "duration": 419,
            "fieldName": "title",
            "parentType": "chart",
            "path": [
             "assetList",
             "assets",
             8,
             "title"
            ],
            "returnType": "String",
            "startOffset": 433984209
           },
           {
            "duration": 547,
            "fieldName": "headline",
            "parentType": "chart",
            "path": [
             "assetList",
             "assets",
             8,
             "headline"
            ],
            "returnType": "String",
            "startOffset": 433985411
           },
           {
            "duration": 1087,
            "fieldName": "premium",
            "parentType": "chart",
            "path": [
             "assetList",
             "assets",
             8,
             "premium"
            ],
            "returnType": "Boolean",
            "startOffset": 433987026
           },
           {
            "duration": 540,
            "fieldName": "creatorOverwrite",
            "parentType": "chart",
            "path": [
             "assetList",
             "assets",
             8,
             "creatorOverwrite"
            ],
            "returnType": "String",
            "startOffset": 433988881
           },
           {
            "duration": 424,
            "fieldName": "coverageEndDate",
            "parentType": "chart",
            "path": [
             "assetList",
             "assets",
             8,
             "coverageEndDate"
            ],
            "returnType": "String",
            "startOffset": 433990251
           },
           {
            "duration": 676,
            "fieldName": "contentClassification",
            "parentType": "chart",
            "path": [
             "assetList",
             "assets",
             8,
             "contentClassification"
            ],
            "returnType": "[String]",
            "startOffset": 433991709
           },
           {
            "duration": 451,
            "fieldName": "headline",
            "parentType": "chart",
            "path": [
             "assetList",
             "assets",
             8,
             "linkHeadline"
            ],
            "returnType": "String",
            "startOffset": 433993436
           },
           {
            "duration": 3186,
            "fieldName": "author",
            "parentType": "chart",
            "path": [
             "assetList",
             "assets",
             8,
             "author"
            ],
            "returnType": "[creator]",
            "startOffset": 433994655
           },
           {
            "duration": 75051617,
            "fieldName": "section",
            "parentType": "chart",
            "path": [
             "assetList",
             "assets",
             8,
             "section"
            ],
            "returnType": "franchise",
            "startOffset": 434001304
           },
           {
            "duration": 161726,
            "fieldName": "dateLastPublishedSixHr",
            "parentType": "chart",
            "path": [
             "assetList",
             "assets",
             8,
             "dateLastPublishedSixHr"
            ],
            "returnType": "String",
            "startOffset": 434281995
           },
           {
            "duration": 48807,
            "fieldName": "dateLastPublishedFormattedWithoutTime",
            "parentType": "chart",
            "path": [
             "assetList",
             "assets",
             8,
             "dateLastPublishedFormattedWithoutTime"
            ],
            "returnType": "String",
            "startOffset": 434446929
           },
           {
            "duration": 2200,
            "fieldName": "promoImage",
            "parentType": "chart",
            "path": [
             "assetList",
             "assets",
             8,
             "promoImage"
            ],
            "returnType": "infographic",
            "startOffset": 434497649
           },
           {
            "duration": 74559286,
            "fieldName": "sourceOrganization",
            "parentType": "chart",
            "path": [
             "assetList",
             "assets",
             8,
             "sourceOrganization"
            ],
            "returnType": "[source]",
            "startOffset": 434501250
           },
           {
            "duration": 2087,
            "fieldName": "id",
            "parentType": "chart",
            "path": [
             "assetList",
             "assets",
             9,
             "id"
            ],
            "returnType": "Int",
            "startOffset": 434683315
           },
           {
            "duration": 1355,
            "fieldName": "brand",
            "parentType": "chart",
            "path": [
             "assetList",
             "assets",
             9,
             "brand"
            ],
            "returnType": "String",
            "startOffset": 434687573
           },
           {
            "duration": 724,
            "fieldName": "type",
            "parentType": "chart",
            "path": [
             "assetList",
             "assets",
             9,
             "type"
            ],
            "returnType": "String",
            "startOffset": 434689875
           },
           {
            "duration": 2107,
            "fieldName": "url",
            "parentType": "chart",
            "path": [
             "assetList",
             "assets",
             9,
             "url"
            ],
            "returnType": "String",
            "startOffset": 434691368
           },
           {
            "duration": 1355,
            "fieldName": "native",
            "parentType": "chart",
            "path": [
             "assetList",
             "assets",
             9,
             "native"
            ],
            "returnType": "Boolean",
            "startOffset": 434694710
           },
           {
            "duration": 697,
            "fieldName": "datePublished",
            "parentType": "chart",
            "path": [
             "assetList",
             "assets",
             9,
             "datePublished"
            ],
            "returnType": "String",
            "startOffset": 434697451
           },
           {
            "duration": 543,
            "fieldName": "description",
            "parentType": "chart",
            "path": [
             "assetList",
             "assets",
             9,
             "description"
            ],
            "returnType": "String",
            "startOffset": 434699066
           },
           {
            "duration": 448,
            "fieldName": "title",
            "parentType": "chart",
            "path": [
             "assetList",
             "assets",
             9,
             "title"
            ],
            "returnType": "String",
            "startOffset": 434700677
           },
           {
            "duration": 575,
            "fieldName": "headline",
            "parentType": "chart",
            "path": [
             "assetList",
             "assets",
             9,
             "headline"
            ],
            "returnType": "String",
            "startOffset": 434701925
           },
           {
            "duration": 1147,
            "fieldName": "premium",
            "parentType": "chart",
            "path": [
             "assetList",
             "assets",
             9,
             "premium"
            ],
            "returnType": "Boolean",
            "startOffset": 434704221
           },
           {
            "duration": 478,
            "fieldName": "creatorOverwrite",
            "parentType": "chart",
            "path": [
             "assetList",
             "assets",
             9,
             "creatorOverwrite"
            ],
            "returnType": "String",
            "startOffset": 434706055
           },
           {
            "duration": 561,
            "fieldName": "coverageEndDate",
            "parentType": "chart",
            "path": [
             "assetList",
             "assets",
             9,
             "coverageEndDate"
            ],
            "returnType": "String",
            "startOffset": 434707291
           },
           {
            "duration": 2952,
            "fieldName": "contentClassification",
            "parentType": "chart",
            "path": [
             "assetList",
             "assets",
             9,
             "contentClassification"
            ],
            "returnType": "[String]",
            "startOffset": 434708859
           },
           {
            "duration": 496,
            "fieldName": "headline",
            "parentType": "chart",
            "path": [
             "assetList",
             "assets",
             9,
             "linkHeadline"
            ],
            "returnType": "String",
            "startOffset": 434714299
           },
           {
            "duration": 1932,
            "fieldName": "author",
            "parentType": "chart",
            "path": [
             "assetList",
             "assets",
             9,
             "author"
            ],
            "returnType": "[creator]",
            "startOffset": 434715590
           },
           {
            "duration": 51797082,
            "fieldName": "section",
            "parentType": "chart",
            "path": [
             "assetList",
             "assets",
             9,
             "section"
            ],
            "returnType": "franchise",
            "startOffset": 434718739
           },
           {
            "duration": 174868,
            "fieldName": "dateLastPublishedSixHr",
            "parentType": "chart",
            "path": [
             "assetList",
             "assets",
             9,
             "dateLastPublishedSixHr"
            ],
            "returnType": "String",
            "startOffset": 434942860
           },
           {
            "duration": 51969,
            "fieldName": "dateLastPublishedFormattedWithoutTime",
            "parentType": "chart",
            "path": [
             "assetList",
             "assets",
             9,
             "dateLastPublishedFormattedWithoutTime"
            ],
            "returnType": "String",
            "startOffset": 435120802
           },
           {
            "duration": 2188,
            "fieldName": "promoImage",
            "parentType": "chart",
            "path": [
             "assetList",
             "assets",
             9,
             "promoImage"
            ],
            "returnType": "infographic",
            "startOffset": 435174572
           },
           {
            "duration": 51346225,
            "fieldName": "sourceOrganization",
            "parentType": "chart",
            "path": [
             "assetList",
             "assets",
             9,
             "sourceOrganization"
            ],
            "returnType": "[source]",
            "startOffset": 435178002
           },
           {
            "duration": 2463,
            "fieldName": "id",
            "parentType": "chart",
            "path": [
             "assetList",
             "assets",
             10,
             "id"
            ],
            "returnType": "Int",
            "startOffset": 435350851
           },
           {
            "duration": 1513,
            "fieldName": "brand",
            "parentType": "chart",
            "path": [
             "assetList",
             "assets",
             10,
             "brand"
            ],
            "returnType": "String",
            "startOffset": 435355119
           },
           {
            "duration": 691,
            "fieldName": "type",
            "parentType": "chart",
            "path": [
             "assetList",
             "assets",
             10,
             "type"
            ],
            "returnType": "String",
            "startOffset": 435357677
           },
           {
            "duration": 2031,
            "fieldName": "url",
            "parentType": "chart",
            "path": [
             "assetList",
             "assets",
             10,
             "url"
            ],
            "returnType": "String",
            "startOffset": 435359261
           },
           {
            "duration": 2850,
            "fieldName": "native",
            "parentType": "chart",
            "path": [
             "assetList",
             "assets",
             10,
             "native"
            ],
            "returnType": "Boolean",
            "startOffset": 435362392
           },
           {
            "duration": 728,
            "fieldName": "datePublished",
            "parentType": "chart",
            "path": [
             "assetList",
             "assets",
             10,
             "datePublished"
            ],
            "returnType": "String",
            "startOffset": 435366522
           },
           {
            "duration": 509,
            "fieldName": "description",
            "parentType": "chart",
            "path": [
             "assetList",
             "assets",
             10,
             "description"
            ],
            "returnType": "String",
            "startOffset": 435368264
           },
           {
            "duration": 417,
            "fieldName": "title",
            "parentType": "chart",
            "path": [
             "assetList",
             "assets",
             10,
             "title"
            ],
            "returnType": "String",
            "startOffset": 435369721
           },
           {
            "duration": 774,
            "fieldName": "headline",
            "parentType": "chart",
            "path": [
             "assetList",
             "assets",
             10,
             "headline"
            ],
            "returnType": "String",
            "startOffset": 435370969
           },
           {
            "duration": 1896,
            "fieldName": "premium",
            "parentType": "chart",
            "path": [
             "assetList",
             "assets",
             10,
             "premium"
            ],
            "returnType": "Boolean",
            "startOffset": 435372626
           },
           {
            "duration": 453,
            "fieldName": "creatorOverwrite",
            "parentType": "chart",
            "path": [
             "assetList",
             "assets",
             10,
             "creatorOverwrite"
            ],
            "returnType": "String",
            "startOffset": 435375202
           },
           {
            "duration": 609,
            "fieldName": "coverageEndDate",
            "parentType": "chart",
            "path": [
             "assetList",
             "assets",
             10,
             "coverageEndDate"
            ],
            "returnType": "String",
            "startOffset": 435376331
           },
           {
            "duration": 580,
            "fieldName": "contentClassification",
            "parentType": "chart",
            "path": [
             "assetList",
             "assets",
             10,
             "contentClassification"
            ],
            "returnType": "[String]",
            "startOffset": 435378011
           },
           {
            "duration": 628,
            "fieldName": "headline",
            "parentType": "chart",
            "path": [
             "assetList",
             "assets",
             10,
             "linkHeadline"
            ],
            "returnType": "String",
            "startOffset": 435379194
           },
           {
            "duration": 3224,
            "fieldName": "author",
            "parentType": "chart",
            "path": [
             "assetList",
             "assets",
             10,
             "author"
            ],
            "returnType": "[creator]",
            "startOffset": 435380615
           },
           {
            "duration": 1275754432,
            "fieldName": "section",
            "parentType": "chart",
            "path": [
             "assetList",
             "assets",
             10,
             "section"
            ],
            "returnType": "franchise",
            "startOffset": 435386062
           },
           {
            "duration": 159669,
            "fieldName": "dateLastPublishedSixHr",
            "parentType": "chart",
            "path": [
             "assetList",
             "assets",
             10,
             "dateLastPublishedSixHr"
            ],
            "returnType": "String",
            "startOffset": 435612327
           },
           {
            "duration": 47618,
            "fieldName": "dateLastPublishedFormattedWithoutTime",
            "parentType": "chart",
            "path": [
             "assetList",
             "assets",
             10,
             "dateLastPublishedFormattedWithoutTime"
            ],
            "returnType": "String",
            "startOffset": 435774609
           },
           {
            "duration": 2275,
            "fieldName": "promoImage",
            "parentType": "chart",
            "path": [
             "assetList",
             "assets",
             10,
             "promoImage"
            ],
            "returnType": "infographic",
            "startOffset": 435823959
           },
           {
            "duration": 1275322473,
            "fieldName": "sourceOrganization",
            "parentType": "chart",
            "path": [
             "assetList",
             "assets",
             10,
             "sourceOrganization"
            ],
            "returnType": "[source]",
            "startOffset": 435827656
           },
           {
            "duration": 4550,
            "fieldName": "id",
            "parentType": "chart",
            "path": [
             "assetList",
             "assets",
             11,
             "id"
            ],
            "returnType": "Int",
            "startOffset": 436001793
           },
           {
            "duration": 1304,
            "fieldName": "brand",
            "parentType": "chart",
            "path": [
             "assetList",
             "assets",
             11,
             "brand"
            ],
            "returnType": "String",
            "startOffset": 436008412
           },
           {
            "duration": 688,
            "fieldName": "type",
            "parentType": "chart",
            "path": [
             "assetList",
             "assets",
             11,
             "type"
            ],
            "returnType": "String",
            "startOffset": 436010750
           },
           {
            "duration": 2014,
            "fieldName": "url",
            "parentType": "chart",
            "path": [
             "assetList",
             "assets",
             11,
             "url"
            ],
            "returnType": "String",
            "startOffset": 436012342
           },
           {
            "duration": 1380,
            "fieldName": "native",
            "parentType": "chart",
            "path": [
             "assetList",
             "assets",
             11,
             "native"
            ],
            "returnType": "Boolean",
            "startOffset": 436015434
           },
           {
            "duration": 817,
            "fieldName": "datePublished",
            "parentType": "chart",
            "path": [
             "assetList",
             "assets",
             11,
             "datePublished"
            ],
            "returnType": "String",
            "startOffset": 436017889
           },
           {
            "duration": 555,
            "fieldName": "description",
            "parentType": "chart",
            "path": [
             "assetList",
             "assets",
             11,
             "description"
            ],
            "returnType": "String",
            "startOffset": 436019605
           },
           {
            "duration": 695,
            "fieldName": "title",
            "parentType": "chart",
            "path": [
             "assetList",
             "assets",
             11,
             "title"
            ],
            "returnType": "String",
            "startOffset": 436020983
           },
           {
            "duration": 463,
            "fieldName": "headline",
            "parentType": "chart",
            "path": [
             "assetList",
             "assets",
             11,
             "headline"
            ],
            "returnType": "String",
            "startOffset": 436022671
           },
           {
            "duration": 1231,
            "fieldName": "premium",
            "parentType": "chart",
            "path": [
             "assetList",
             "assets",
             11,
             "premium"
            ],
            "returnType": "Boolean",
            "startOffset": 436023805
           },
           {
            "duration": 453,
            "fieldName": "creatorOverwrite",
            "parentType": "chart",
            "path": [
             "assetList",
             "assets",
             11,
             "creatorOverwrite"
            ],
            "returnType": "String",
            "startOffset": 436025778
           },
           {
            "duration": 441,
            "fieldName": "coverageEndDate",
            "parentType": "chart",
            "path": [
             "assetList",
             "assets",
             11,
             "coverageEndDate"
            ],
            "returnType": "String",
            "startOffset": 436026887
           },
           {
            "duration": 632,
            "fieldName": "contentClassification",
            "parentType": "chart",
            "path": [
             "assetList",
             "assets",
             11,
             "contentClassification"
            ],
            "returnType": "[String]",
            "startOffset": 436028537
           },
           {
            "duration": 444,
            "fieldName": "headline",
            "parentType": "chart",
            "path": [
             "assetList",
             "assets",
             11,
             "linkHeadline"
            ],
            "returnType": "String",
            "startOffset": 436029751
           },
           {
            "duration": 3046,
            "fieldName": "author",
            "parentType": "chart",
            "path": [
             "assetList",
             "assets",
             11,
             "author"
            ],
            "returnType": "[creator]",
            "startOffset": 436031083
           },
           {
            "duration": 79287928,
            "fieldName": "section",
            "parentType": "chart",
            "path": [
             "assetList",
             "assets",
             11,
             "section"
            ],
            "returnType": "franchise",
            "startOffset": 436036523
           },
           {
            "duration": 168216,
            "fieldName": "dateLastPublishedSixHr",
            "parentType": "chart",
            "path": [
             "assetList",
             "assets",
             11,
             "dateLastPublishedSixHr"
            ],
            "returnType": "String",
            "startOffset": 436291825
           },
           {
            "duration": 49326,
            "fieldName": "dateLastPublishedFormattedWithoutTime",
            "parentType": "chart",
            "path": [
             "assetList",
             "assets",
             11,
             "dateLastPublishedFormattedWithoutTime"
            ],
            "returnType": "String",
            "startOffset": 436463318
           },
           {
            "duration": 2023,
            "fieldName": "promoImage",
            "parentType": "chart",
            "path": [
             "assetList",
             "assets",
             11,
             "promoImage"
            ],
            "returnType": "infographic",
            "startOffset": 436514293
           },
           {
            "duration": 78814369,
            "fieldName": "sourceOrganization",
            "parentType": "chart",
            "path": [
             "assetList",
             "assets",
             11,
             "sourceOrganization"
            ],
            "returnType": "[source]",
            "startOffset": 436517629
           },
           {
            "duration": 2054,
            "fieldName": "id",
            "parentType": "source",
            "path": [
             "assetList",
             "assets",
             4,
             "sourceOrganization",
             0,
             "id"
            ],
            "returnType": "Int",
            "startOffset": 436883049
           },
           {
            "duration": 2303,
            "fieldName": "name",
            "parentType": "source",
            "path": [
             "assetList",
             "assets",
             4,
             "sourceOrganization",
             0,
             "name"
            ],
            "returnType": "String",
            "startOffset": 436888066
           },
           {
            "duration": 1448,
            "fieldName": "url",
            "parentType": "source",
            "path": [
             "assetList",
             "assets",
             4,
             "sourceOrganization",
             0,
             "url"
            ],
            "returnType": "String",
            "startOffset": 436891980
           },
           {
            "duration": 698,
            "fieldName": "id",
            "parentType": "source",
            "path": [
             "assetList",
             "assets",
             5,
             "sourceOrganization",
             0,
             "id"
            ],
            "returnType": "Int",
            "startOffset": 436933970
           },
           {
            "duration": 796,
            "fieldName": "name",
            "parentType": "source",
            "path": [
             "assetList",
             "assets",
             5,
             "sourceOrganization",
             0,
             "name"
            ],
            "returnType": "String",
            "startOffset": 436935580
           },
           {
            "duration": 601,
            "fieldName": "url",
            "parentType": "source",
            "path": [
             "assetList",
             "assets",
             5,
             "sourceOrganization",
             0,
             "url"
            ],
            "returnType": "String",
            "startOffset": 436937132
           },
           {
            "duration": 627,
            "fieldName": "id",
            "parentType": "source",
            "path": [
             "assetList",
             "assets",
             6,
             "sourceOrganization",
             0,
             "id"
            ],
            "returnType": "Int",
            "startOffset": 436974693
           },
           {
            "duration": 545,
            "fieldName": "name",
            "parentType": "source",
            "path": [
             "assetList",
             "assets",
             6,
             "sourceOrganization",
             0,
             "name"
            ],
            "returnType": "String",
            "startOffset": 436976099
           },
           {
            "duration": 774,
            "fieldName": "url",
            "parentType": "source",
            "path": [
             "assetList",
             "assets",
             6,
             "sourceOrganization",
             0,
             "url"
            ],
            "returnType": "String",
            "startOffset": 436977364
           }
          ]
         },
         "startTime": "2022-05-08T13:23:54.534Z",
         "version": 1
        }
       }
      },
      "text/plain": [
       "<IPython.core.display.JSON object>"
      ]
     },
     "metadata": {
      "application/json": {
       "expanded": false,
       "root": "root"
      }
     },
     "output_type": "display_data"
    }
   ],
   "source": [
    "soup = BS(res.text)\n",
    "sublinks = soup.find('div', {'class': 'nav-menu-navLinks'}).find_all('a', {'class':'nav-menu-subLink'})\n",
    "print(sublinks)\n",
    "for a in sublinks:\n",
    "    res2 = cnbc_sublink(a['href'])\n",
    "    if res2.status_code != 200:\n",
    "        print(1, res2)\n",
    "        break\n",
    "    soup2 = BS(res2.text)\n",
    "    content_id = soup2.find('meta', {'property':\"pageNodeId\"})['content']\n",
    "    res2 = cnbc(content_id, i, page_size=30)\n",
    "    if res2.status_code != 200:        \n",
    "        print(2, res2)\n",
    "        break\n",
    "    display(JSON(res2.json()))\n",
    "    break\n",
    "    \n"
   ]
  },
  {
   "cell_type": "code",
   "execution_count": 13,
   "id": "70c0acd3",
   "metadata": {},
   "outputs": [],
   "source": [
    "from IPython.display import JSON"
   ]
  },
  {
   "cell_type": "code",
   "execution_count": 17,
   "id": "a3d39fd0",
   "metadata": {},
   "outputs": [
    {
     "data": {
      "application/json": {
       "data": {
        "assetList": {
         "__typename": "assetList",
         "assets": [
          {
           "__typename": "cnbcnewsstory",
           "author": [
            {
             "__typename": "creator",
             "id": 40926901,
             "name": "Kayla Tausche",
             "url": "https://www.cnbc.com/kayla-tausche/"
            }
           ],
           "brand": "cnbc",
           "contentClassification": [],
           "coverageEndDate": null,
           "creatorOverwrite": null,
           "dateLastPublishedFormattedWithoutTime": "Thu, Feb 10th 2022",
           "dateLastPublishedSixHr": "",
           "datePublished": "2022-02-04T15:14:13+0000",
           "description": "The Biden administration misread the rising threat of inflation for a variety of reasons, according to several economists and current and former officials.",
           "headline": "Fed influence, shaky forecasts, delayed decisions: How the Biden administration misread inflation",
           "id": 107010859,
           "linkHeadline": "Fed influence, shaky forecasts, delayed decisions: How the Biden administration misread inflation",
           "native": false,
           "premium": false,
           "promoImage": {
            "__typename": "infographic",
            "id": 106982271,
            "url": "https://image.cnbcfm.com/api/v1/image/106982271-1638288721194-gettyimages-1356387810-5y5a7726_20211130100734618.jpeg?v=1638288768"
           },
           "section": {
            "__typename": "franchise",
            "eyebrow": "Politics",
            "sectionLabel": "Politics",
            "subType": "section",
            "type": "franchise",
            "url": "https://www.cnbc.com/politics/"
           },
           "sourceOrganization": [
            {
             "__typename": "source",
             "id": 80000022,
             "name": "CNBC.com",
             "url": "https://www.cnbc.com/search/?query=CNBC%20US"
            }
           ],
           "title": "Fed influence, shaky forecasts, delayed decisions: How the Biden administration misread the inflation threat",
           "type": "cnbcnewsstory",
           "url": "https://www.cnbc.com/2022/02/04/how-the-biden-administration-misread-the-inflation-threat.html"
          },
          {
           "__typename": "cnbcnewsstory",
           "author": [
            {
             "__typename": "creator",
             "id": 106686765,
             "name": "Hannah Miao",
             "url": "https://www.cnbc.com/hannah-miao/"
            },
            {
             "__typename": "creator",
             "id": 106081125,
             "name": "Nate Rattner",
             "url": "https://www.cnbc.com/nate-rattner/"
            }
           ],
           "brand": "cnbc",
           "contentClassification": [],
           "coverageEndDate": null,
           "creatorOverwrite": null,
           "dateLastPublishedFormattedWithoutTime": "Fri, Feb 4th 2022",
           "dateLastPublishedSixHr": "",
           "datePublished": "2022-02-04T17:06:12+0000",
           "description": "The Black unemployment rate dipped to 6.9% in January from 7.1%.",
           "headline": "Black unemployment rate dips, labor force participation rises in January",
           "id": 107011348,
           "linkHeadline": "Black unemployment rate dips, labor force participation rises in January",
           "native": false,
           "premium": false,
           "promoImage": {
            "__typename": "infographic",
            "id": 106945170,
            "url": "https://image.cnbcfm.com/api/v1/image/106945170-1632249289264-gettyimages-1341707568-dsc05141_2021092110703415.jpeg?v=1643994138"
           },
           "section": {
            "__typename": "franchise",
            "eyebrow": "Politics",
            "sectionLabel": "Politics",
            "subType": "section",
            "type": "franchise",
            "url": "https://www.cnbc.com/politics/"
           },
           "sourceOrganization": [
            {
             "__typename": "source",
             "id": 80000022,
             "name": "CNBC.com",
             "url": "https://www.cnbc.com/search/?query=CNBC%20US"
            }
           ],
           "title": "Black unemployment rate dips, labor force participation rises in January",
           "type": "cnbcnewsstory",
           "url": "https://www.cnbc.com/2022/02/04/black-unemployment-rate-dips-labor-force-participation-rises-in-january.html"
          },
          {
           "__typename": "cnbcnewsstory",
           "author": [
            {
             "__typename": "creator",
             "id": 104540348,
             "name": "Thomas Franck",
             "url": "https://www.cnbc.com/tom-franck/"
            }
           ],
           "brand": "cnbc",
           "contentClassification": [
            "isDeveloping"
           ],
           "coverageEndDate": null,
           "creatorOverwrite": null,
           "dateLastPublishedFormattedWithoutTime": "Fri, Feb 4th 2022",
           "dateLastPublishedSixHr": "",
           "datePublished": "2022-02-04T14:57:28+0000",
           "description": "The U.S. added over 450,000 jobs last month amid strong demand for workers at restaurants, retailers and mail and parcel delivery companies.",
           "headline": "Here's where the jobs are — in one chart",
           "id": 107011252,
           "linkHeadline": "Here's where the jobs are — in one chart",
           "native": false,
           "premium": false,
           "promoImage": {
            "__typename": "infographic",
            "id": 107011295,
            "url": "https://image.cnbcfm.com/api/v1/image/107011295-1643985355024-20220204-jan-jobs-one-chart-thumb-v2.png?v=1643985361"
           },
           "section": {
            "__typename": "franchise",
            "eyebrow": "Economy",
            "sectionLabel": "Economy",
            "subType": "section",
            "type": "franchise",
            "url": "https://www.cnbc.com/economy/"
           },
           "sourceOrganization": [
            {
             "__typename": "source",
             "id": 80000022,
             "name": "CNBC.com",
             "url": "https://www.cnbc.com/search/?query=CNBC%20US"
            }
           ],
           "title": "Here's where the jobs are — in one chart",
           "type": "cnbcnewsstory",
           "url": "https://www.cnbc.com/2022/02/04/heres-where-the-jobs-are-for-january-2022-in-one-chart.html"
          },
          {
           "__typename": "cnbcnewsstory",
           "author": [
            {
             "__typename": "creator",
             "id": 36003787,
             "name": "Jeff Cox",
             "url": "https://www.cnbc.com/jeff-cox/"
            }
           ],
           "brand": "cnbc",
           "contentClassification": [],
           "coverageEndDate": null,
           "creatorOverwrite": null,
           "dateLastPublishedFormattedWithoutTime": "Thu, Feb 3rd 2022",
           "dateLastPublishedSixHr": "",
           "datePublished": "2022-02-03T18:05:05+0000",
           "description": "Senate Republicans on Thursday peppered Sarah Bloom Raskin with questions over whether she would steer the institution into climate change.",
           "headline": "Republicans grill Fed nominee Raskin over past views on climate and big energy companies",
           "id": 107010819,
           "linkHeadline": "Republicans grill Fed nominee Raskin over past views on climate and big energy companies",
           "native": false,
           "premium": false,
           "promoImage": {
            "__typename": "infographic",
            "id": 107010708,
            "url": "https://image.cnbcfm.com/api/v1/image/107010708-16439014282022-02-03t151551z_1690647550_rc2ecs9ab1pa_rtrmadp_0_usa-fed-nomination-hearing.jpeg?v=1643901461"
           },
           "section": {
            "__typename": "franchise",
            "eyebrow": "Federal Reserve",
            "sectionLabel": "Federal Reserve",
            "subType": "section",
            "type": "franchise",
            "url": "https://www.cnbc.com/federal-reserve/"
           },
           "sourceOrganization": [
            {
             "__typename": "source",
             "id": 80000022,
             "name": "CNBC.com",
             "url": "https://www.cnbc.com/search/?query=CNBC%20US"
            }
           ],
           "title": "Republicans grill Fed nominee Raskin over past views on climate and big energy companies",
           "type": "cnbcnewsstory",
           "url": "https://www.cnbc.com/2022/02/03/republicans-grill-fed-nominee-raskin-over-past-views-on-climate-and-big-energy-companies.html"
          },
          {
           "__typename": "cnbcnewsstory",
           "author": [
            {
             "__typename": "creator",
             "id": 36003787,
             "name": "Jeff Cox",
             "url": "https://www.cnbc.com/jeff-cox/"
            }
           ],
           "brand": "cnbc",
           "contentClassification": [],
           "coverageEndDate": null,
           "creatorOverwrite": null,
           "dateLastPublishedFormattedWithoutTime": "Thu, Feb 3rd 2022",
           "dateLastPublishedSixHr": "",
           "datePublished": "2022-02-03T13:32:38+0000",
           "description": "Initial filings for unemployment claims totaled a bit fewer than expected last week as companies looked to overcome the impact of the omicron spread.",
           "headline": "Weekly jobless claims total 238,000, fewer than expected",
           "id": 107010609,
           "linkHeadline": "Weekly jobless claims total 238,000, fewer than expected",
           "native": false,
           "premium": false,
           "promoImage": {
            "__typename": "infographic",
            "id": 107008482,
            "url": "https://image.cnbcfm.com/api/v1/image/107008482-1643461610284-gettyimages-1238048643-AFP_9XE374.jpeg?v=1643461650"
           },
           "section": {
            "__typename": "franchise",
            "eyebrow": "Economy",
            "sectionLabel": "Economy",
            "subType": "section",
            "type": "franchise",
            "url": "https://www.cnbc.com/economy/"
           },
           "sourceOrganization": [
            {
             "__typename": "source",
             "id": 80000022,
             "name": "CNBC.com",
             "url": "https://www.cnbc.com/search/?query=CNBC%20US"
            }
           ],
           "title": "Weekly jobless claims total 238,000, fewer than expected",
           "type": "cnbcnewsstory",
           "url": "https://www.cnbc.com/2022/02/03/weekly-jobless-claims-total-238000-less-than-expected.html"
          },
          {
           "__typename": "cnbcnewsstory",
           "author": [
            {
             "__typename": "creator",
             "id": 36003787,
             "name": "Jeff Cox",
             "url": "https://www.cnbc.com/jeff-cox/"
            }
           ],
           "brand": "cnbc",
           "contentClassification": [],
           "coverageEndDate": null,
           "creatorOverwrite": null,
           "dateLastPublishedFormattedWithoutTime": "Wed, Feb 2nd 2022",
           "dateLastPublishedSixHr": "",
           "datePublished": "2022-02-02T19:01:24+0000",
           "description": "A jobs market that was on fire for most of 2021 looks like it sustained a cold splash of reality to start the new year.",
           "headline": "January's payrolls report on Friday could be rough, with as many as 400,000 jobs lost by one estimate",
           "id": 107010215,
           "linkHeadline": "January's payrolls report on Friday could be rough, with as many as 400,000 jobs lost by one estimate",
           "native": false,
           "premium": false,
           "promoImage": {
            "__typename": "infographic",
            "id": 107000600,
            "url": "https://image.cnbcfm.com/api/v1/image/107000600-1642078338452-gettyimages-1364329863-ajr_1106_ffdfc179-134a-45d1-b968-e65eeeee72ac.jpeg?v=1642078394"
           },
           "section": {
            "__typename": "franchise",
            "eyebrow": "Economy",
            "sectionLabel": "Economy",
            "subType": "section",
            "type": "franchise",
            "url": "https://www.cnbc.com/economy/"
           },
           "sourceOrganization": [
            {
             "__typename": "source",
             "id": 80000022,
             "name": "CNBC.com",
             "url": "https://www.cnbc.com/search/?query=CNBC%20US"
            }
           ],
           "title": "January's payrolls report on Friday could be rough, with as many as 400,000 jobs lost by one estimate",
           "type": "cnbcnewsstory",
           "url": "https://www.cnbc.com/2022/02/02/januarys-payrolls-report-on-friday-could-be-rough-with-as-many-as-400000-jobs-lost-by-one-estimate.html"
          },
          {
           "__typename": "cnbcnewsstory",
           "author": [
            {
             "__typename": "creator",
             "id": 36003787,
             "name": "Jeff Cox",
             "url": "https://www.cnbc.com/jeff-cox/"
            }
           ],
           "brand": "cnbc",
           "contentClassification": [],
           "coverageEndDate": null,
           "creatorOverwrite": null,
           "dateLastPublishedFormattedWithoutTime": "Wed, Feb 2nd 2022",
           "dateLastPublishedSixHr": "",
           "datePublished": "2022-02-02T13:15:11+0000",
           "description": "Private payrolls fell by 301,000 for the month versus the estimate for a 200,000 gain, according to payrolls processing firm ADP.",
           "headline": "Companies unexpectedly cut 301,000 jobs in January as omicron slams labor market, ADP says",
           "id": 107009969,
           "linkHeadline": "Companies unexpectedly cut 301,000 jobs in January as omicron slams labor market, ADP says",
           "native": false,
           "premium": false,
           "promoImage": {
            "__typename": "infographic",
            "id": 106999130,
            "url": "https://image.cnbcfm.com/api/v1/image/106999130-1641843212950-cov.jpg?v=1641843253"
           },
           "section": {
            "__typename": "franchise",
            "eyebrow": "Economy",
            "sectionLabel": "Economy",
            "subType": "section",
            "type": "franchise",
            "url": "https://www.cnbc.com/economy/"
           },
           "sourceOrganization": [
            {
             "__typename": "source",
             "id": 80000022,
             "name": "CNBC.com",
             "url": "https://www.cnbc.com/search/?query=CNBC%20US"
            }
           ],
           "title": "Companies unexpectedly cut 301,000 jobs in January as omicron slams labor market, ADP says",
           "type": "cnbcnewsstory",
           "url": "https://www.cnbc.com/2022/02/02/adp-jobs-report-january-2022.html"
          },
          {
           "__typename": "cnbcnewsstory",
           "author": [
            {
             "__typename": "creator",
             "id": 15838025,
             "name": "Diana Olick",
             "url": "https://www.cnbc.com/diana-olick/"
            }
           ],
           "brand": "cnbc",
           "contentClassification": [],
           "coverageEndDate": null,
           "creatorOverwrite": null,
           "dateLastPublishedFormattedWithoutTime": "Wed, Feb 2nd 2022",
           "dateLastPublishedSixHr": "",
           "datePublished": "2022-02-02T12:00:01+0000",
           "description": "Mortgage rates have been rising swiftly, and that has borrowers rushing in to get the last of the low rates.",
           "headline": "Borrowers rush to get the last of the low mortgage rates, with refinances jumping 18%",
           "id": 107009833,
           "linkHeadline": "Borrowers rush to get the last of the low mortgage rates, with refinances jumping 18%",
           "native": false,
           "premium": false,
           "promoImage": {
            "__typename": "infographic",
            "id": 106884929,
            "url": "https://image.cnbcfm.com/api/v1/image/106884929-1621373963761-gettyimages-1317976298-b91i346370843.jpeg?v=1651096567"
           },
           "section": {
            "__typename": "franchise",
            "eyebrow": "Real Estate",
            "sectionLabel": "Real Estate",
            "subType": "section",
            "type": "franchise",
            "url": "https://www.cnbc.com/real-estate/"
           },
           "sourceOrganization": [
            {
             "__typename": "source",
             "id": 80000022,
             "name": "CNBC.com",
             "url": "https://www.cnbc.com/search/?query=CNBC%20US"
            }
           ],
           "title": "Borrowers rush to get the last of the low mortgage rates, with refinances jumping 18%",
           "type": "cnbcnewsstory",
           "url": "https://www.cnbc.com/2022/02/02/borrowers-rush-to-get-the-last-of-the-low-mortgage-rates.html"
          },
          {
           "__typename": "cnbcnewsstory",
           "author": [
            {
             "__typename": "creator",
             "id": 106940266,
             "name": "Carlos Waters",
             "url": "https://www.cnbc.com/carlos-waters/"
            }
           ],
           "brand": "cnbc",
           "contentClassification": [],
           "coverageEndDate": null,
           "creatorOverwrite": null,
           "dateLastPublishedFormattedWithoutTime": "Tue, Feb 1st 2022",
           "dateLastPublishedSixHr": "",
           "datePublished": "2022-02-01T13:03:01+0000",
           "description": "Real estate zoning restrictions have produced a national housing shortage and affordability crisis. Architects and economists say reform could boost growth.",
           "headline": "Suburban sprawl is hurting the U.S. economy",
           "id": 107008121,
           "linkHeadline": "Suburban sprawl is hurting the U.S. economy",
           "native": false,
           "premium": false,
           "promoImage": {
            "__typename": "infographic",
            "id": 107009406,
            "url": "https://image.cnbcfm.com/api/v1/image/107009406-1643724306874-gettyimages-1364995702-grose52532.jpeg?v=1643724346"
           },
           "section": {
            "__typename": "franchise",
            "eyebrow": "Real Estate",
            "sectionLabel": "Real Estate",
            "subType": "section",
            "type": "franchise",
            "url": "https://www.cnbc.com/real-estate/"
           },
           "sourceOrganization": [
            {
             "__typename": "source",
             "id": 80000022,
             "name": "CNBC.com",
             "url": "https://www.cnbc.com/search/?query=CNBC%20US"
            }
           ],
           "title": "Suburban sprawl is weighing on the U.S. economy",
           "type": "cnbcnewsstory",
           "url": "https://www.cnbc.com/2022/02/01/how-suburban-sprawls-single-family-home-zoning-limits-housing-supply.html"
          },
          {
           "__typename": "cnbcnewsstory",
           "author": [
            {
             "__typename": "creator",
             "id": 36003787,
             "name": "Jeff Cox",
             "url": "https://www.cnbc.com/jeff-cox/"
            }
           ],
           "brand": "cnbc",
           "contentClassification": [],
           "coverageEndDate": null,
           "creatorOverwrite": null,
           "dateLastPublishedFormattedWithoutTime": "Tue, Feb 1st 2022",
           "dateLastPublishedSixHr": "",
           "datePublished": "2022-02-01T20:04:30+0000",
           "description": "The U.S. economy last year grew at its fastest pace since 1984. Don't expect a repeat performance in 2022.",
           "headline": "After a huge year for growth, the U.S. economy is about to slam into a wall",
           "id": 107009643,
           "linkHeadline": "After a huge year for growth, the U.S. economy is about to slam into a wall",
           "native": false,
           "premium": false,
           "promoImage": {
            "__typename": "infographic",
            "id": 106980801,
            "url": "https://image.cnbcfm.com/api/v1/image/106980801-1637939758081-gettyimages-1236818489-Black_Friday.jpeg?v=1643746834"
           },
           "section": {
            "__typename": "franchise",
            "eyebrow": "Economy",
            "sectionLabel": "Economy",
            "subType": "section",
            "type": "franchise",
            "url": "https://www.cnbc.com/economy/"
           },
           "sourceOrganization": [
            {
             "__typename": "source",
             "id": 80000022,
             "name": "CNBC.com",
             "url": "https://www.cnbc.com/search/?query=CNBC%20US"
            }
           ],
           "title": "After a huge year for growth, the U.S. economy is about to slam into a wall",
           "type": "cnbcnewsstory",
           "url": "https://www.cnbc.com/2022/02/01/after-a-huge-year-for-growth-the-us-economy-is-about-to-slam-into-a-wall.html"
          },
          {
           "__typename": "cnbcnewsstory",
           "author": [
            {
             "__typename": "creator",
             "id": 36003787,
             "name": "Jeff Cox",
             "url": "https://www.cnbc.com/jeff-cox/"
            }
           ],
           "brand": "cnbc",
           "contentClassification": [],
           "coverageEndDate": null,
           "creatorOverwrite": null,
           "dateLastPublishedFormattedWithoutTime": "Tue, Feb 1st 2022",
           "dateLastPublishedSixHr": "",
           "datePublished": "2022-02-01T15:25:09+0000",
           "description": "Job openings totaled nearly 11 million in December while the Great Resignation cooled off, according to Labor Department data Tuesday.",
           "headline": "There were 4.6 million more job openings than unemployed workers in December",
           "id": 107009412,
           "linkHeadline": "There were 4.6 million more job openings than unemployed workers in December",
           "native": false,
           "premium": false,
           "promoImage": {
            "__typename": "infographic",
            "id": 107001052,
            "url": "https://image.cnbcfm.com/api/v1/image/107001052-1642110367418-gettyimages-1237707422-AFP_9W63HJ.jpeg?v=1642110445"
           },
           "section": {
            "__typename": "franchise",
            "eyebrow": "Economy",
            "sectionLabel": "Economy",
            "subType": "section",
            "type": "franchise",
            "url": "https://www.cnbc.com/economy/"
           },
           "sourceOrganization": [
            {
             "__typename": "source",
             "id": 80000022,
             "name": "CNBC.com",
             "url": "https://www.cnbc.com/search/?query=CNBC%20US"
            }
           ],
           "title": "There were 4.6 million more job openings than unemployed workers in December",
           "type": "cnbcnewsstory",
           "url": "https://www.cnbc.com/2022/02/01/there-were-4point6-million-more-job-openings-than-unemployed-workers-in-december.html"
          },
          {
           "__typename": "cnbcnewsstory",
           "author": [
            {
             "__typename": "creator",
             "id": 36003787,
             "name": "Jeff Cox",
             "url": "https://www.cnbc.com/jeff-cox/"
            }
           ],
           "brand": "cnbc",
           "contentClassification": [],
           "coverageEndDate": null,
           "creatorOverwrite": null,
           "dateLastPublishedFormattedWithoutTime": "Fri, Jan 28th 2022",
           "dateLastPublishedSixHr": "",
           "datePublished": "2022-01-28T13:32:41+0000",
           "description": "A gauge the Federal Reserve prefers to measure inflation rose 4.9% from a year ago, the biggest gain going back to September 1983.",
           "headline": "Key Fed inflation gauge rises 4.9% from a year ago, fastest gain since 1983",
           "id": 107007962,
           "linkHeadline": "Key Fed inflation gauge rises 4.9% from a year ago, fastest gain since 1983",
           "native": false,
           "premium": false,
           "promoImage": {
            "__typename": "infographic",
            "id": 106993180,
            "url": "https://image.cnbcfm.com/api/v1/image/106993180-1640263510884-gettyimages-1237387551-SF_HOLIDAY_SHOPPING.jpeg?v=1651179844"
           },
           "section": {
            "__typename": "franchise",
            "eyebrow": "Economy",
            "sectionLabel": "Economy",
            "subType": "section",
            "type": "franchise",
            "url": "https://www.cnbc.com/economy/"
           },
           "sourceOrganization": [
            {
             "__typename": "source",
             "id": 80000022,
             "name": "CNBC.com",
             "url": "https://www.cnbc.com/search/?query=CNBC%20US"
            }
           ],
           "title": "Key Fed inflation gauge rises 4.9% from a year ago, fastest gain since 1983",
           "type": "cnbcnewsstory",
           "url": "https://www.cnbc.com/2022/01/28/key-fed-inflation-gauge-rises-4point9percent-from-a-year-ago-fastest-gain-since-1983.html"
          },
          {
           "__typename": "cnbcnewsstory",
           "author": [
            {
             "__typename": "creator",
             "id": 36003787,
             "name": "Jeff Cox",
             "url": "https://www.cnbc.com/jeff-cox/"
            }
           ],
           "brand": "cnbc",
           "contentClassification": [],
           "coverageEndDate": null,
           "creatorOverwrite": null,
           "dateLastPublishedFormattedWithoutTime": "Thu, Jan 27th 2022",
           "dateLastPublishedSixHr": "",
           "datePublished": "2022-01-27T13:30:51+0000",
           "description": "Gross domestic product accelerated at a 6.9% annualized pace in the fourth quarter, well ahead of the 5.5% estimate.",
           "headline": "GDP grew at a 6.9% pace to close out 2021, stronger than expected despite omicron spread",
           "id": 107007240,
           "linkHeadline": "GDP grew at a 6.9% pace to close out 2021, stronger than expected despite omicron spread",
           "native": false,
           "premium": false,
           "promoImage": {
            "__typename": "infographic",
            "id": 106960325,
            "url": "https://image.cnbcfm.com/api/v1/image/106960325-1643297283957-106960325-1634213462454-gettyimages-1235867186-855896_ME-PORT-BACK-UP_JJA_0022JPG.jpg?v=1643297295"
           },
           "section": {
            "__typename": "franchise",
            "eyebrow": "Economy",
            "sectionLabel": "Economy",
            "subType": "section",
            "type": "franchise",
            "url": "https://www.cnbc.com/economy/"
           },
           "sourceOrganization": [
            {
             "__typename": "source",
             "id": 80000022,
             "name": "CNBC.com",
             "url": "https://www.cnbc.com/search/?query=CNBC%20US"
            }
           ],
           "title": "GDP grew at a 6.9% pace to close out 2021, stronger than expected despite omicron spread",
           "type": "cnbcnewsstory",
           "url": "https://www.cnbc.com/2022/01/27/gdp-grew-at-a-6point9percent-pace-to-close-out-2021-stronger-than-expected-despite-omicron-spread.html"
          },
          {
           "__typename": "cnbcnewsstory",
           "author": [
            {
             "__typename": "creator",
             "id": 36003787,
             "name": "Jeff Cox",
             "url": "https://www.cnbc.com/jeff-cox/"
            }
           ],
           "brand": "cnbc",
           "contentClassification": [],
           "coverageEndDate": null,
           "creatorOverwrite": null,
           "dateLastPublishedFormattedWithoutTime": "Wed, Jan 26th 2022",
           "dateLastPublishedSixHr": "",
           "datePublished": "2022-01-26T19:00:00+0000",
           "description": "The Federal Reserve on Wednesday indicated it could soon will raise interest rates for the first time in more than three years.",
           "headline": "Federal Reserve points to interest rate hike coming in March",
           "id": 107006684,
           "linkHeadline": "Federal Reserve points to interest rate hike coming in March",
           "native": false,
           "premium": false,
           "promoImage": {
            "__typename": "infographic",
            "id": 106705643,
            "url": "https://image.cnbcfm.com/api/v1/image/106705643-1611772669606-pow.jpg?v=1641852450"
           },
           "section": {
            "__typename": "franchise",
            "eyebrow": "Federal Reserve",
            "sectionLabel": "Federal Reserve",
            "subType": "section",
            "type": "franchise",
            "url": "https://www.cnbc.com/federal-reserve/"
           },
           "sourceOrganization": [
            {
             "__typename": "source",
             "id": 80000022,
             "name": "CNBC.com",
             "url": "https://www.cnbc.com/search/?query=CNBC%20US"
            }
           ],
           "title": "Federal Reserve points to interest rate hike coming in March",
           "type": "cnbcnewsstory",
           "url": "https://www.cnbc.com/2022/01/26/fed-decision-january-2022-.html"
          },
          {
           "__typename": "live_story",
           "author": [
            {
             "__typename": "creator",
             "id": 102270141,
             "name": "Fred Imbert",
             "url": "https://www.cnbc.com/fred-imbert/"
            }
           ],
           "brand": "cnbc",
           "contentClassification": [],
           "coverageEndDate": "2022-01-26T20:35:27+0000",
           "creatorOverwrite": null,
           "dateLastPublishedFormattedWithoutTime": "Wed, Jan 26th 2022",
           "dateLastPublishedSixHr": "",
           "datePublished": "2022-01-26T18:39:52+0000",
           "description": "The Federal Reserve concluded its January policy meeting Wednesday.",
           "headline": "A full recap of the Fed rate decision and the Powell remarks that knocked the stock market",
           "id": 107006641,
           "linkHeadline": "A full recap of the Fed rate decision and the Powell remarks that knocked the stock market",
           "native": false,
           "premium": false,
           "promoImage": {
            "__typename": "infographic",
            "id": 106982319,
            "url": "https://image.cnbcfm.com/api/v1/image/106982319-1638292744512-gettyimages-1236913684-SENATE_YELLEN_POWELL.jpeg?v=1647444746"
           },
           "section": {
            "__typename": "franchise",
            "eyebrow": "Federal Reserve",
            "sectionLabel": "Federal Reserve",
            "subType": "section",
            "type": "franchise",
            "url": "https://www.cnbc.com/federal-reserve/"
           },
           "sourceOrganization": [
            {
             "__typename": "source",
             "id": 80000022,
             "name": "CNBC.com",
             "url": "https://www.cnbc.com/search/?query=CNBC%20US"
            }
           ],
           "title": "A full recap of the Fed rate decision and the Powell remarks that knocked the stock market",
           "type": "live_story",
           "url": "https://www.cnbc.com/2022/01/26/real-time-updates-of-the-big-fed-decision-and-jerome-powells-press-conference.html"
          },
          {
           "__typename": "cnbcnewsstory",
           "author": [
            {
             "__typename": "creator",
             "id": 105938626,
             "name": "Jesse Pound",
             "url": "https://www.cnbc.com/jesse-pound/"
            }
           ],
           "brand": "cnbc",
           "contentClassification": [],
           "coverageEndDate": null,
           "creatorOverwrite": null,
           "dateLastPublishedFormattedWithoutTime": "Wed, Jan 26th 2022",
           "dateLastPublishedSixHr": "",
           "datePublished": "2022-01-26T19:05:49+0000",
           "description": "This is a comparison of Wednesday's Federal Open Market Committee statement with the one issued after the Fed's previous policymaking meeting on Dec. 15.",
           "headline": "Here's what changed in the new Fed statement",
           "id": 107006721,
           "linkHeadline": "Here's what changed in the new Fed statement",
           "native": false,
           "premium": false,
           "promoImage": {
            "__typename": "infographic",
            "id": 104529664,
            "url": "https://image.cnbcfm.com/api/v1/image/104529664-GettyImages-695997668.jpg?v=1532563821"
           },
           "section": {
            "__typename": "franchise",
            "eyebrow": "Federal Reserve",
            "sectionLabel": "Federal Reserve",
            "subType": "section",
            "type": "franchise",
            "url": "https://www.cnbc.com/federal-reserve/"
           },
           "sourceOrganization": [
            {
             "__typename": "source",
             "id": 80000022,
             "name": "CNBC.com",
             "url": "https://www.cnbc.com/search/?query=CNBC%20US"
            }
           ],
           "title": "Here's what changed in the new Fed statement",
           "type": "cnbcnewsstory",
           "url": "https://www.cnbc.com/2022/01/26/federal-reserve-statement-january-2022-heres-what-changed.html"
          },
          {
           "__typename": "cnbcnewsstory",
           "author": [
            {
             "__typename": "creator",
             "id": 15987964,
             "name": "Patti Domm",
             "url": "https://www.cnbc.com/patti-domm/"
            }
           ],
           "brand": "cnbc",
           "contentClassification": [],
           "coverageEndDate": null,
           "creatorOverwrite": null,
           "dateLastPublishedFormattedWithoutTime": "Wed, Mar 16th 2022",
           "dateLastPublishedSixHr": "",
           "datePublished": "2022-03-15T18:05:29+0000",
           "description": "The Fed is expected to raise interest rates by a quarter point, a major step in reversing the easing it put in place to help the economy through the pandemic.",
           "headline": "The Federal Reserve is expected to raise rates, but unique challenges could slow its pace",
           "id": 107029906,
           "linkHeadline": "The Federal Reserve is expected to raise rates, but unique challenges could slow its pace",
           "native": false,
           "premium": false,
           "promoImage": {
            "__typename": "infographic",
            "id": 106983033,
            "url": "https://image.cnbcfm.com/api/v1/image/106983033-1638382530714-gettyimages-1236935229-HOUSE_YELLEN_POWELL.jpeg?v=1647451452"
           },
           "section": {
            "__typename": "franchise",
            "eyebrow": "Market Insider",
            "sectionLabel": "Market Insider",
            "subType": "section",
            "type": "franchise",
            "url": "https://www.cnbc.com/market-insider/"
           },
           "sourceOrganization": [
            {
             "__typename": "source",
             "id": 80000022,
             "name": "CNBC.com",
             "url": "https://www.cnbc.com/search/?query=CNBC%20US"
            }
           ],
           "title": "The Federal Reserve is expected to raise rates, but unique challenges could slow its pace",
           "type": "cnbcnewsstory",
           "url": "https://www.cnbc.com/2022/03/15/the-federal-reserve-is-expected-to-raise-rates-but-unique-challenges-could-slow-its-pace.html"
          },
          {
           "__typename": "cnbcnewsstory",
           "author": [
            {
             "__typename": "creator",
             "id": 15838025,
             "name": "Diana Olick",
             "url": "https://www.cnbc.com/diana-olick/"
            }
           ],
           "brand": "cnbc",
           "contentClassification": [],
           "coverageEndDate": null,
           "creatorOverwrite": null,
           "dateLastPublishedFormattedWithoutTime": "Wed, Jan 26th 2022",
           "dateLastPublishedSixHr": "",
           "datePublished": "2022-01-26T12:00:01+0000",
           "description": "As mortgage rates continue to rise, demand for refinances is plunging and homebuyers are struggling.",
           "headline": "Mortgage refinance demand plunges 13% as interest rates climb toward two-year high",
           "id": 107006339,
           "linkHeadline": "Mortgage refinance demand plunges 13% as interest rates climb toward two-year high",
           "native": false,
           "premium": false,
           "promoImage": {
            "__typename": "infographic",
            "id": 106903746,
            "url": "https://image.cnbcfm.com/api/v1/image/106903746-1624919689230-gettyimages-1233575752-788367_me_susanville_prison_closure_GXC_0866JPG.jpeg?v=1643152700"
           },
           "section": {
            "__typename": "franchise",
            "eyebrow": "Real Estate",
            "sectionLabel": "Real Estate",
            "subType": "section",
            "type": "franchise",
            "url": "https://www.cnbc.com/real-estate/"
           },
           "sourceOrganization": [
            {
             "__typename": "source",
             "id": 80000022,
             "name": "CNBC.com",
             "url": "https://www.cnbc.com/search/?query=CNBC%20US"
            }
           ],
           "title": "Mortgage refinance demand plunges 13% as interest rates climb toward two-year high",
           "type": "cnbcnewsstory",
           "url": "https://www.cnbc.com/2022/01/26/mortgage-refinance-demand-plunges-13percent-as-interest-rates-climb.html"
          },
          {
           "__typename": "cnbcnewsstory",
           "author": [
            {
             "__typename": "creator",
             "id": 15987964,
             "name": "Patti Domm",
             "url": "https://www.cnbc.com/patti-domm/"
            }
           ],
           "brand": "cnbc",
           "contentClassification": [],
           "coverageEndDate": null,
           "creatorOverwrite": null,
           "dateLastPublishedFormattedWithoutTime": "Wed, Jan 26th 2022",
           "dateLastPublishedSixHr": "",
           "datePublished": "2022-01-25T11:17:39+0000",
           "description": "Even with the market's violent correction, a hawkish Federal Reserve is expected to signal it plans to raise interest rates and consider other tightening.",
           "headline": "The Fed is likely to signal a March interest rate hike and that further policy tightening is coming",
           "id": 107005299,
           "linkHeadline": "The Fed is likely to signal a March interest rate hike and that further policy tightening is coming",
           "native": false,
           "premium": false,
           "promoImage": {
            "__typename": "infographic",
            "id": 106999528,
            "url": "https://image.cnbcfm.com/api/v1/image/106999528-1641916062173-106999528-16419158482022-01-11t154245z_972115900_rc23xr9vpbhw_rtrmadp_0_usa-fed-senate-powell.jpg?v=1641916073"
           },
           "section": {
            "__typename": "franchise",
            "eyebrow": "Market Insider",
            "sectionLabel": "Market Insider",
            "subType": "section",
            "type": "franchise",
            "url": "https://www.cnbc.com/market-insider/"
           },
           "sourceOrganization": [
            {
             "__typename": "source",
             "id": 80000022,
             "name": "CNBC.com",
             "url": "https://www.cnbc.com/search/?query=CNBC%20US"
            }
           ],
           "title": "The Fed is likely to signal a March interest rate hike and that further policy tightening is coming",
           "type": "cnbcnewsstory",
           "url": "https://www.cnbc.com/2022/01/25/the-federal-reserve-is-likely-to-signal-a-march-rate-hike.html"
          },
          {
           "__typename": "cnbcnewsstory",
           "author": [
            {
             "__typename": "creator",
             "id": 15838058,
             "name": "Steve Liesman",
             "url": "https://www.cnbc.com/steve-liesman/"
            }
           ],
           "brand": "cnbc",
           "contentClassification": [],
           "coverageEndDate": null,
           "creatorOverwrite": null,
           "dateLastPublishedFormattedWithoutTime": "Tue, Jan 25th 2022",
           "dateLastPublishedSixHr": "",
           "datePublished": "2022-01-25T16:06:24+0000",
           "description": "At the Fed's two-day meeting, which ends Wednesday, it is expected to give more clues as to when it will hike rates and begin shrinking the balance sheet.",
           "headline": "CNBC Fed Survey forecasts more aggressive Fed tightening",
           "id": 107005968,
           "linkHeadline": "CNBC Fed Survey forecasts more aggressive Fed tightening",
           "native": false,
           "premium": false,
           "promoImage": {
            "__typename": "infographic",
            "id": 106948890,
            "url": "https://image.cnbcfm.com/api/v1/image/106948890-16328541732021-09-28t181549z_1500235228_rc26zp9f4v5i_rtrmadp_0_usa-fed-powell.jpeg?v=1632854205"
           },
           "section": {
            "__typename": "franchise",
            "eyebrow": "CNBC Fed Survey",
            "sectionLabel": "CNBC Fed Survey",
            "subType": "special_report",
            "type": "franchise",
            "url": "https://www.cnbc.com/cnbc-fed-survey/"
           },
           "sourceOrganization": [
            {
             "__typename": "source",
             "id": 80000022,
             "name": "CNBC.com",
             "url": "https://www.cnbc.com/search/?query=CNBC%20US"
            }
           ],
           "title": "CNBC Fed Survey forecasts more aggressive Fed tightening",
           "type": "cnbcnewsstory",
           "url": "https://www.cnbc.com/2022/01/25/cnbc-fed-survey-forecasts-more-aggressive-fed-but-better-economic-growth.html"
          },
          {
           "__typename": "cnbcnewsstory",
           "author": [
            {
             "__typename": "creator",
             "id": 15838025,
             "name": "Diana Olick",
             "url": "https://www.cnbc.com/diana-olick/"
            }
           ],
           "brand": "cnbc",
           "contentClassification": [],
           "coverageEndDate": null,
           "creatorOverwrite": null,
           "dateLastPublishedFormattedWithoutTime": "Tue, Jan 25th 2022",
           "dateLastPublishedSixHr": "",
           "datePublished": "2022-01-25T14:00:04+0000",
           "description": "Even as the housing market entered its traditionally slower season in November, home prices showed big gains from a year ago. ",
           "headline": "Home prices surged in November, but at a slower rate than in October, S&P Case-Shiller says",
           "id": 107005898,
           "linkHeadline": "Home prices surged in November, but at a slower rate than in October, S&P Case-Shiller says",
           "native": false,
           "premium": false,
           "promoImage": {
            "__typename": "infographic",
            "id": 107002883,
            "url": "https://image.cnbcfm.com/api/v1/image/107002883-1642548196749-2022-01-18T231548Z_1251895835_RC2Z1S9FPMEO_RTRMADP_3_USA-ECONOMY-MBA.jpg?v=1642548316"
           },
           "section": {
            "__typename": "franchise",
            "eyebrow": "Real Estate",
            "sectionLabel": "Real Estate",
            "subType": "section",
            "type": "franchise",
            "url": "https://www.cnbc.com/real-estate/"
           },
           "sourceOrganization": [
            {
             "__typename": "source",
             "id": 80000022,
             "name": "CNBC.com",
             "url": "https://www.cnbc.com/search/?query=CNBC%20US"
            }
           ],
           "title": "Home prices surged in November, but at a slower rate than in October, S&P Case-Shiller says",
           "type": "cnbcnewsstory",
           "url": "https://www.cnbc.com/2022/01/25/home-prices-surged-in-november-but-at-a-slower-rate-sp-case-shiller-says.html"
          },
          {
           "__typename": "cnbcnewsstory",
           "author": [
            {
             "__typename": "creator",
             "id": 104254066,
             "name": "Karen Gilchrist",
             "url": "https://www.cnbc.com/karen-gilchrist/"
            }
           ],
           "brand": "cnbc",
           "contentClassification": [],
           "coverageEndDate": null,
           "creatorOverwrite": null,
           "dateLastPublishedFormattedWithoutTime": "Tue, Jan 25th 2022",
           "dateLastPublishedSixHr": "",
           "datePublished": "2022-01-25T14:00:35+0000",
           "description": "The International Monetary Fund has downgraded its global growth forecast for 2022 as rising Covid cases, supply chain disruptions and inflation hamper the economy.",
           "headline": "IMF cuts 2022 global growth forecast as U.S., China recovery wanes",
           "id": 107005290,
           "linkHeadline": "IMF cuts 2022 global growth forecast as U.S., China recovery wanes",
           "native": false,
           "premium": false,
           "promoImage": {
            "__typename": "infographic",
            "id": 107005371,
            "url": "https://image.cnbcfm.com/api/v1/image/107005371-1643039437930-gettyimages-1237649604-AFP_9VX32Q.jpeg?v=1643039496"
           },
           "section": {
            "__typename": "franchise",
            "eyebrow": "World Economy",
            "sectionLabel": "World Economy",
            "subType": "section",
            "type": "franchise",
            "url": "https://www.cnbc.com/world-economy/"
           },
           "sourceOrganization": [
            {
             "__typename": "source",
             "id": 100005495,
             "name": "CNBC.com",
             "url": "https://www.cnbc.com/search/?query=CNBC%20Europe"
            }
           ],
           "title": "IMF cuts 2022 global growth forecast as U.S., China recovery wanes",
           "type": "cnbcnewsstory",
           "url": "https://www.cnbc.com/2022/01/25/imf-cuts-global-growth-outlook-for-2022-us-and-china-recovery-wanes.html"
          },
          {
           "__typename": "cnbcnewsstory",
           "author": [
            {
             "__typename": "creator",
             "id": 36003787,
             "name": "Jeff Cox",
             "url": "https://www.cnbc.com/jeff-cox/"
            }
           ],
           "brand": "cnbc",
           "contentClassification": [],
           "coverageEndDate": null,
           "creatorOverwrite": null,
           "dateLastPublishedFormattedWithoutTime": "Sun, Jan 23rd 2022",
           "dateLastPublishedSixHr": "",
           "datePublished": "2022-01-23T18:10:56+0000",
           "description": "Goldman economist David Mericle said the omicron spread is aggravating price increases and could push the Fed into a faster pace of rate hikes.",
           "headline": "Inflation surge could push the Fed into more than four rate hikes this year, Goldman Sachs says",
           "id": 107005080,
           "linkHeadline": "Inflation surge could push the Fed into more than four rate hikes this year, Goldman Sachs says",
           "native": false,
           "premium": false,
           "promoImage": {
            "__typename": "infographic",
            "id": 106999520,
            "url": "https://image.cnbcfm.com/api/v1/image/106999520-16419153682022-01-11t153007z_1471999278_rc23xr9k3c5b_rtrmadp_0_usa-fed-senate-powell.jpeg?v=1641915399"
           },
           "section": {
            "__typename": "franchise",
            "eyebrow": "Federal Reserve",
            "sectionLabel": "Federal Reserve",
            "subType": "section",
            "type": "franchise",
            "url": "https://www.cnbc.com/federal-reserve/"
           },
           "sourceOrganization": [
            {
             "__typename": "source",
             "id": 80000022,
             "name": "CNBC.com",
             "url": "https://www.cnbc.com/search/?query=CNBC%20US"
            }
           ],
           "title": "Inflation surge could push the Fed into more than four rate hikes this year, Goldman Sachs says",
           "type": "cnbcnewsstory",
           "url": "https://www.cnbc.com/2022/01/23/inflation-surge-could-push-the-fed-into-more-than-four-rate-hikes-this-year-goldman-sachs-says.html"
          },
          {
           "__typename": "cnbcnewsstory",
           "author": [
            {
             "__typename": "creator",
             "id": 36003787,
             "name": "Jeff Cox",
             "url": "https://www.cnbc.com/jeff-cox/"
            }
           ],
           "brand": "cnbc",
           "contentClassification": [],
           "coverageEndDate": null,
           "creatorOverwrite": null,
           "dateLastPublishedFormattedWithoutTime": "Thu, Jan 20th 2022",
           "dateLastPublishedSixHr": "",
           "datePublished": "2022-01-20T19:15:02+0000",
           "description": "The Fed released its exploration of a digital dollar, exploring the pros and cons of the much-debated issue and soliciting public comment.",
           "headline": "Fed releases long-awaited study on a digital dollar but doesn't take a position yet on creating one",
           "id": 107004039,
           "linkHeadline": "Fed releases long-awaited study on a digital dollar but doesn't take a position yet on creating one",
           "native": false,
           "premium": false,
           "promoImage": {
            "__typename": "infographic",
            "id": 106999716,
            "url": "https://image.cnbcfm.com/api/v1/image/106999716-1641931164797-GettyImages-1237662332.jpg?v=1641931618"
           },
           "section": {
            "__typename": "franchise",
            "eyebrow": "Federal Reserve",
            "sectionLabel": "Federal Reserve",
            "subType": "section",
            "type": "franchise",
            "url": "https://www.cnbc.com/federal-reserve/"
           },
           "sourceOrganization": [
            {
             "__typename": "source",
             "id": 80000022,
             "name": "CNBC.com",
             "url": "https://www.cnbc.com/search/?query=CNBC%20US"
            }
           ],
           "title": "Fed releases long-awaited study on a digital dollar but doesn't take a position yet on creating one",
           "type": "cnbcnewsstory",
           "url": "https://www.cnbc.com/2022/01/20/fed-releases-long-awaited-study-on-a-digital-dollar-but-doesnt-take-a-position-yet-on-creating-one.html"
          },
          {
           "__typename": "cnbcnewsstory",
           "author": [
            {
             "__typename": "creator",
             "id": 36003787,
             "name": "Jeff Cox",
             "url": "https://www.cnbc.com/jeff-cox/"
            }
           ],
           "brand": "cnbc",
           "contentClassification": [],
           "coverageEndDate": null,
           "creatorOverwrite": null,
           "dateLastPublishedFormattedWithoutTime": "Thu, Jan 20th 2022",
           "dateLastPublishedSixHr": "",
           "datePublished": "2022-01-20T13:33:42+0000",
           "description": "Initial filings totaled 286,000, well above the estimate of 225,000 and a substantial gain from the previous week's 231,000.",
           "headline": "Jobless claims jump to 286,000, the highest level since October",
           "id": 107003758,
           "linkHeadline": "Jobless claims jump to 286,000, the highest level since October",
           "native": false,
           "premium": false,
           "promoImage": {
            "__typename": "infographic",
            "id": 107003837,
            "url": "https://image.cnbcfm.com/api/v1/image/107003837-1642688790446-gettyimages-1359023620-bth_006_12-13-2021_helpingharvestfoodbankinpennsylvaniaholds.jpeg?v=1642688826"
           },
           "section": {
            "__typename": "franchise",
            "eyebrow": "Economy",
            "sectionLabel": "Economy",
            "subType": "section",
            "type": "franchise",
            "url": "https://www.cnbc.com/economy/"
           },
           "sourceOrganization": [
            {
             "__typename": "source",
             "id": 80000022,
             "name": "CNBC.com",
             "url": "https://www.cnbc.com/search/?query=CNBC%20US"
            }
           ],
           "title": "Jobless claims jump to 286,000, the highest level since October",
           "type": "cnbcnewsstory",
           "url": "https://www.cnbc.com/2022/01/20/jobless-claims-jump-to-286000-highest-level-since-october.html"
          },
          {
           "__typename": "cnbcnewsstory",
           "author": [
            {
             "__typename": "creator",
             "id": 36003787,
             "name": "Jeff Cox",
             "url": "https://www.cnbc.com/jeff-cox/"
            }
           ],
           "brand": "cnbc",
           "contentClassification": [],
           "coverageEndDate": null,
           "creatorOverwrite": null,
           "dateLastPublishedFormattedWithoutTime": "Sun, Jan 16th 2022",
           "dateLastPublishedSixHr": "",
           "datePublished": "2022-01-15T14:20:32+0000",
           "description": "In what likely will just a few months' time, the Federal Reserve will look a lot different.",
           "headline": "The Fed is about to see a lot of new faces. What it means for banks, the economy and markets",
           "id": 107001616,
           "linkHeadline": "The Fed is about to see a lot of new faces. What it means for banks, the economy and markets",
           "native": false,
           "premium": false,
           "promoImage": {
            "__typename": "infographic",
            "id": 101488293,
            "url": "https://image.cnbcfm.com/api/v1/image/101488293-450829547.jpg?v=1568744109"
           },
           "section": {
            "__typename": "franchise",
            "eyebrow": "Federal Reserve",
            "sectionLabel": "Federal Reserve",
            "subType": "section",
            "type": "franchise",
            "url": "https://www.cnbc.com/federal-reserve/"
           },
           "sourceOrganization": [
            {
             "__typename": "source",
             "id": 80000022,
             "name": "CNBC.com",
             "url": "https://www.cnbc.com/search/?query=CNBC%20US"
            }
           ],
           "title": "The Fed is about to see a lot of new faces. What it means for banks, the economy and markets",
           "type": "cnbcnewsstory",
           "url": "https://www.cnbc.com/2022/01/15/the-fed-is-about-to-see-a-lot-of-new-faces-what-it-means-for-banks-the-economy-and-markets.html"
          },
          {
           "__typename": "cnbcnewsstory",
           "author": [
            {
             "__typename": "creator",
             "id": 36003787,
             "name": "Jeff Cox",
             "url": "https://www.cnbc.com/jeff-cox/"
            }
           ],
           "brand": "cnbc",
           "contentClassification": [],
           "coverageEndDate": null,
           "creatorOverwrite": null,
           "dateLastPublishedFormattedWithoutTime": "Fri, Jan 14th 2022",
           "dateLastPublishedSixHr": "",
           "datePublished": "2022-01-14T13:47:49+0000",
           "description": "The advance monthly sales report to close out the year showed a decline of 1.9%, considerably worse than the Dow Jones estimate for just a 0.1% drop.",
           "headline": "Retail sales dropped 1.9% in December as higher prices caused consumers to curb spending",
           "id": 107001446,
           "linkHeadline": "Retail sales dropped 1.9% in December as higher prices caused consumers to curb spending",
           "native": false,
           "premium": false,
           "promoImage": {
            "__typename": "infographic",
            "id": 106981023,
            "url": "https://image.cnbcfm.com/api/v1/image/106981023-1637956294857-gettyimages-1236820109-Black_Friday.jpeg?v=1642112345"
           },
           "section": {
            "__typename": "franchise",
            "eyebrow": "Economy",
            "sectionLabel": "Economy",
            "subType": "section",
            "type": "franchise",
            "url": "https://www.cnbc.com/economy/"
           },
           "sourceOrganization": [
            {
             "__typename": "source",
             "id": 80000022,
             "name": "CNBC.com",
             "url": "https://www.cnbc.com/search/?query=CNBC%20US"
            }
           ],
           "title": "Retail sales dropped 1.9% in December as higher prices caused consumers to curb spending",
           "type": "cnbcnewsstory",
           "url": "https://www.cnbc.com/2022/01/14/retail-sales-december-2021.html"
          },
          {
           "__typename": "cnbcnewsstory",
           "author": [
            {
             "__typename": "creator",
             "id": 36003787,
             "name": "Jeff Cox",
             "url": "https://www.cnbc.com/jeff-cox/"
            }
           ],
           "brand": "cnbc",
           "contentClassification": [],
           "coverageEndDate": null,
           "creatorOverwrite": null,
           "dateLastPublishedFormattedWithoutTime": "Thu, Jan 13th 2022",
           "dateLastPublishedSixHr": "",
           "datePublished": "2022-01-13T21:55:30+0000",
           "description": "Philadelphia Federal Reserve President Patrick Harker said he foresees three or four interest rate hikes this year as likely to fight inflation.",
           "headline": "Fed's Harker calls for 'action on inflation,' sees 3 or 4 rate hikes likely this year",
           "id": 107001030,
           "linkHeadline": "Fed's Harker calls for 'action on inflation,' sees 3 or 4 rate hikes likely this year",
           "native": false,
           "premium": false,
           "promoImage": {
            "__typename": "infographic",
            "id": 106837170,
            "url": "https://image.cnbcfm.com/api/v1/image/106837170-1612806995721-gettyimages-1177446388-_dsc4133_2019092792847532.jpeg?v=1612807030"
           },
           "section": {
            "__typename": "franchise",
            "eyebrow": "Federal Reserve",
            "sectionLabel": "Federal Reserve",
            "subType": "section",
            "type": "franchise",
            "url": "https://www.cnbc.com/federal-reserve/"
           },
           "sourceOrganization": [
            {
             "__typename": "source",
             "id": 80000022,
             "name": "CNBC.com",
             "url": "https://www.cnbc.com/search/?query=CNBC%20US"
            }
           ],
           "title": "Fed's Harker calls for 'action on inflation,' sees 3 or 4 rate hikes likely this year",
           "type": "cnbcnewsstory",
           "url": "https://www.cnbc.com/2022/01/13/feds-harker-calls-for-action-on-inflation-sees-3-or-4-rate-hikes-this-year.html"
          },
          {
           "__typename": "cnbcnewsstory",
           "author": [
            {
             "__typename": "creator",
             "id": 36003787,
             "name": "Jeff Cox",
             "url": "https://www.cnbc.com/jeff-cox/"
            }
           ],
           "brand": "cnbc",
           "contentClassification": [],
           "coverageEndDate": null,
           "creatorOverwrite": null,
           "dateLastPublishedFormattedWithoutTime": "Thu, Jan 13th 2022",
           "dateLastPublishedSixHr": "",
           "datePublished": "2022-01-13T13:33:02+0000",
           "description": "The producer price index was expected to rise 0.4% in December. Jobless claims were forecast to total 200,000.",
           "headline": "Wholesale prices jump nearly 10% in 2021, another sign of growing inflation",
           "id": 107000594,
           "linkHeadline": "Wholesale prices jump nearly 10% in 2021, another sign of growing inflation",
           "native": false,
           "premium": false,
           "promoImage": {
            "__typename": "infographic",
            "id": 107000330,
            "url": "https://image.cnbcfm.com/api/v1/image/107000330-1642020115151-gettyimages-1364270229-dscf9149_2022011222253358.jpeg?v=1642077462"
           },
           "section": {
            "__typename": "franchise",
            "eyebrow": "Economy",
            "sectionLabel": "Economy",
            "subType": "section",
            "type": "franchise",
            "url": "https://www.cnbc.com/economy/"
           },
           "sourceOrganization": [
            {
             "__typename": "source",
             "id": 80000022,
             "name": "CNBC.com",
             "url": "https://www.cnbc.com/search/?query=CNBC%20US"
            }
           ],
           "title": "Wholesale prices jump nearly 10% in 2021, another sign of growing inflation",
           "type": "cnbcnewsstory",
           "url": "https://www.cnbc.com/2022/01/13/wholesale-prices-up-0point2percent-in-december-less-than-expected-but-still-a-new-12-month-record.html"
          },
          {
           "__typename": "cnbcnewsstory",
           "author": [
            {
             "__typename": "creator",
             "id": 36003787,
             "name": "Jeff Cox",
             "url": "https://www.cnbc.com/jeff-cox/"
            }
           ],
           "brand": "cnbc",
           "contentClassification": [],
           "coverageEndDate": null,
           "creatorOverwrite": null,
           "dateLastPublishedFormattedWithoutTime": "Wed, Jan 12th 2022",
           "dateLastPublishedSixHr": "",
           "datePublished": "2022-01-12T13:31:19+0000",
           "description": "The consumer price index for December 2021 was expected to increase 7% from a year ago, according to economists surveyed by Dow Jones.",
           "headline": "Inflation rises 7% over the past year, highest since 1982",
           "id": 107000015,
           "linkHeadline": "Inflation rises 7% over the past year, highest since 1982",
           "native": false,
           "premium": false,
           "promoImage": {
            "__typename": "infographic",
            "id": 106974865,
            "url": "https://image.cnbcfm.com/api/v1/image/106974865-1636731503676-freex.jpg?v=1641992850"
           },
           "section": {
            "__typename": "franchise",
            "eyebrow": "Economy",
            "sectionLabel": "Economy",
            "subType": "section",
            "type": "franchise",
            "url": "https://www.cnbc.com/economy/"
           },
           "sourceOrganization": [
            {
             "__typename": "source",
             "id": 80000022,
             "name": "CNBC.com",
             "url": "https://www.cnbc.com/search/?query=CNBC%20US"
            }
           ],
           "title": "Inflation rises 7% over the past year, highest since 1982",
           "type": "cnbcnewsstory",
           "url": "https://www.cnbc.com/2022/01/12/cpi-december-2021-.html"
          }
         ],
         "brand": "cnbc",
         "eyebrow": "Economy",
         "id": 20910258,
         "sectionLabel": "Economy",
         "url": "https://www.cnbc.com/economy/"
        }
       },
       "extensions": {
        "tracing": {
         "duration": 336810681,
         "endTime": "2022-05-08T09:24:35.413Z",
         "execution": {
          "resolvers": [
           {
            "duration": 320954138,
            "fieldName": "assetList",
            "parentType": "Query",
            "path": [
             "assetList"
            ],
            "returnType": "assetList",
            "startOffset": 912260
           },
           {
            "duration": 4086,
            "fieldName": "sectionLabel",
            "parentType": "assetList",
            "path": [
             "assetList",
             "sectionLabel"
            ],
            "returnType": "String",
            "startOffset": 321886348
           },
           {
            "duration": 2894,
            "fieldName": "brand",
            "parentType": "assetList",
            "path": [
             "assetList",
             "brand"
            ],
            "returnType": "String",
            "startOffset": 321894341
           },
           {
            "duration": 1728,
            "fieldName": "id",
            "parentType": "assetList",
            "path": [
             "assetList",
             "id"
            ],
            "returnType": "Int",
            "startOffset": 321899830
           },
           {
            "duration": 2364,
            "fieldName": "eyebrow",
            "parentType": "assetList",
            "path": [
             "assetList",
             "eyebrow"
            ],
            "returnType": "String",
            "startOffset": 321904862
           },
           {
            "duration": 2691,
            "fieldName": "url",
            "parentType": "assetList",
            "path": [
             "assetList",
             "url"
            ],
            "returnType": "String",
            "startOffset": 321909614
           },
           {
            "duration": 66879,
            "fieldName": "assets",
            "parentType": "assetList",
            "path": [
             "assetList",
             "assets"
            ],
            "returnType": "[assetInterface]",
            "startOffset": 321914442
           },
           {
            "duration": 1000,
            "fieldName": "id",
            "parentType": "cnbcnewsstory",
            "path": [
             "assetList",
             "assets",
             0,
             "id"
            ],
            "returnType": "Int",
            "startOffset": 322011786
           },
           {
            "duration": 1227,
            "fieldName": "brand",
            "parentType": "cnbcnewsstory",
            "path": [
             "assetList",
             "assets",
             0,
             "brand"
            ],
            "returnType": "String",
            "startOffset": 322014701
           },
           {
            "duration": 1381,
            "fieldName": "type",
            "parentType": "cnbcnewsstory",
            "path": [
             "assetList",
             "assets",
             0,
             "type"
            ],
            "returnType": "String",
            "startOffset": 322017427
           },
           {
            "duration": 1470,
            "fieldName": "url",
            "parentType": "cnbcnewsstory",
            "path": [
             "assetList",
             "assets",
             0,
             "url"
            ],
            "returnType": "String",
            "startOffset": 322020056
           },
           {
            "duration": 1767,
            "fieldName": "native",
            "parentType": "cnbcnewsstory",
            "path": [
             "assetList",
             "assets",
             0,
             "native"
            ],
            "returnType": "Boolean",
            "startOffset": 322023045
           },
           {
            "duration": 700,
            "fieldName": "datePublished",
            "parentType": "cnbcnewsstory",
            "path": [
             "assetList",
             "assets",
             0,
             "datePublished"
            ],
            "returnType": "String",
            "startOffset": 322026244
           },
           {
            "duration": 862,
            "fieldName": "description",
            "parentType": "cnbcnewsstory",
            "path": [
             "assetList",
             "assets",
             0,
             "description"
            ],
            "returnType": "String",
            "startOffset": 322028521
           },
           {
            "duration": 2102,
            "fieldName": "title",
            "parentType": "cnbcnewsstory",
            "path": [
             "assetList",
             "assets",
             0,
             "title"
            ],
            "returnType": "String",
            "startOffset": 322030536
           },
           {
            "duration": 601,
            "fieldName": "headline",
            "parentType": "cnbcnewsstory",
            "path": [
             "assetList",
             "assets",
             0,
             "headline"
            ],
            "returnType": "String",
            "startOffset": 322033788
           },
           {
            "duration": 2763,
            "fieldName": "premium",
            "parentType": "cnbcnewsstory",
            "path": [
             "assetList",
             "assets",
             0,
             "premium"
            ],
            "returnType": "Boolean",
            "startOffset": 322035544
           },
           {
            "duration": 803,
            "fieldName": "creatorOverwrite",
            "parentType": "cnbcnewsstory",
            "path": [
             "assetList",
             "assets",
             0,
             "creatorOverwrite"
            ],
            "returnType": "String",
            "startOffset": 322039254
           },
           {
            "duration": 712,
            "fieldName": "coverageEndDate",
            "parentType": "cnbcnewsstory",
            "path": [
             "assetList",
             "assets",
             0,
             "coverageEndDate"
            ],
            "returnType": "String",
            "startOffset": 322041372
           },
           {
            "duration": 1330,
            "fieldName": "contentClassification",
            "parentType": "cnbcnewsstory",
            "path": [
             "assetList",
             "assets",
             0,
             "contentClassification"
            ],
            "returnType": "[String]",
            "startOffset": 322043242
           },
           {
            "duration": 537,
            "fieldName": "headline",
            "parentType": "cnbcnewsstory",
            "path": [
             "assetList",
             "assets",
             0,
             "linkHeadline"
            ],
            "returnType": "String",
            "startOffset": 322046196
           },
           {
            "duration": 4094,
            "fieldName": "author",
            "parentType": "cnbcnewsstory",
            "path": [
             "assetList",
             "assets",
             0,
             "author"
            ],
            "returnType": "[creator]",
            "startOffset": 322047982
           },
           {
            "duration": 843,
            "fieldName": "id",
            "parentType": "creator",
            "path": [
             "assetList",
             "assets",
             0,
             "author",
             0,
             "id"
            ],
            "returnType": "Int",
            "startOffset": 322056605
           },
           {
            "duration": 620,
            "fieldName": "name",
            "parentType": "creator",
            "path": [
             "assetList",
             "assets",
             0,
             "author",
             0,
             "name"
            ],
            "returnType": "String",
            "startOffset": 322059616
           },
           {
            "duration": 1872,
            "fieldName": "url",
            "parentType": "creator",
            "path": [
             "assetList",
             "assets",
             0,
             "author",
             0,
             "url"
            ],
            "returnType": "String",
            "startOffset": 322061472
           },
           {
            "duration": 13043565,
            "fieldName": "section",
            "parentType": "cnbcnewsstory",
            "path": [
             "assetList",
             "assets",
             0,
             "section"
            ],
            "returnType": "franchise",
            "startOffset": 322066609
           },
           {
            "duration": 448098,
            "fieldName": "dateLastPublishedSixHr",
            "parentType": "cnbcnewsstory",
            "path": [
             "assetList",
             "assets",
             0,
             "dateLastPublishedSixHr"
            ],
            "returnType": "String",
            "startOffset": 322091960
           },
           {
            "duration": 75009,
            "fieldName": "dateLastPublishedFormattedWithoutTime",
            "parentType": "cnbcnewsstory",
            "path": [
             "assetList",
             "assets",
             0,
             "dateLastPublishedFormattedWithoutTime"
            ],
            "returnType": "String",
            "startOffset": 322546726
           },
           {
            "duration": 5518,
            "fieldName": "promoImage",
            "parentType": "cnbcnewsstory",
            "path": [
             "assetList",
             "assets",
             0,
             "promoImage"
            ],
            "returnType": "infographic",
            "startOffset": 322624342
           },
           {
            "duration": 1562,
            "fieldName": "id",
            "parentType": "infographic",
            "path": [
             "assetList",
             "assets",
             0,
             "promoImage",
             "id"
            ],
            "returnType": "Int",
            "startOffset": 322636037
           },
           {
            "duration": 2973,
            "fieldName": "url",
            "parentType": "infographic",
            "path": [
             "assetList",
             "assets",
             0,
             "promoImage",
             "url"
            ],
            "returnType": "String",
            "startOffset": 322639723
           },
           {
            "duration": 12487115,
            "fieldName": "sourceOrganization",
            "parentType": "cnbcnewsstory",
            "path": [
             "assetList",
             "assets",
             0,
             "sourceOrganization"
            ],
            "returnType": "[source]",
            "startOffset": 322646513
           },
           {
            "duration": 1938,
            "fieldName": "id",
            "parentType": "cnbcnewsstory",
            "path": [
             "assetList",
             "assets",
             1,
             "id"
            ],
            "returnType": "Int",
            "startOffset": 322810442
           },
           {
            "duration": 1794,
            "fieldName": "brand",
            "parentType": "cnbcnewsstory",
            "path": [
             "assetList",
             "assets",
             1,
             "brand"
            ],
            "returnType": "String",
            "startOffset": 322814376
           },
           {
            "duration": 850,
            "fieldName": "type",
            "parentType": "cnbcnewsstory",
            "path": [
             "assetList",
             "assets",
             1,
             "type"
            ],
            "returnType": "String",
            "startOffset": 322817500
           },
           {
            "duration": 2529,
            "fieldName": "url",
            "parentType": "cnbcnewsstory",
            "path": [
             "assetList",
             "assets",
             1,
             "url"
            ],
            "returnType": "String",
            "startOffset": 322832313
           },
           {
            "duration": 1979,
            "fieldName": "native",
            "parentType": "cnbcnewsstory",
            "path": [
             "assetList",
             "assets",
             1,
             "native"
            ],
            "returnType": "Boolean",
            "startOffset": 322846211
           },
           {
            "duration": 653,
            "fieldName": "datePublished",
            "parentType": "cnbcnewsstory",
            "path": [
             "assetList",
             "assets",
             1,
             "datePublished"
            ],
            "returnType": "String",
            "startOffset": 322849632
           },
           {
            "duration": 988,
            "fieldName": "description",
            "parentType": "cnbcnewsstory",
            "path": [
             "assetList",
             "assets",
             1,
             "description"
            ],
            "returnType": "String",
            "startOffset": 322898554
           },
           {
            "duration": 1072,
            "fieldName": "title",
            "parentType": "cnbcnewsstory",
            "path": [
             "assetList",
             "assets",
             1,
             "title"
            ],
            "returnType": "String",
            "startOffset": 322900852
           },
           {
            "duration": 13408,
            "fieldName": "headline",
            "parentType": "cnbcnewsstory",
            "path": [
             "assetList",
             "assets",
             1,
             "headline"
            ],
            "returnType": "String",
            "startOffset": 322903634
           },
           {
            "duration": 2117,
            "fieldName": "premium",
            "parentType": "cnbcnewsstory",
            "path": [
             "assetList",
             "assets",
             1,
             "premium"
            ],
            "returnType": "Boolean",
            "startOffset": 322918531
           },
           {
            "duration": 1340,
            "fieldName": "creatorOverwrite",
            "parentType": "cnbcnewsstory",
            "path": [
             "assetList",
             "assets",
             1,
             "creatorOverwrite"
            ],
            "returnType": "String",
            "startOffset": 322922771
           },
           {
            "duration": 9186,
            "fieldName": "coverageEndDate",
            "parentType": "cnbcnewsstory",
            "path": [
             "assetList",
             "assets",
             1,
             "coverageEndDate"
            ],
            "returnType": "String",
            "startOffset": 322925503
           },
           {
            "duration": 3444,
            "fieldName": "contentClassification",
            "parentType": "cnbcnewsstory",
            "path": [
             "assetList",
             "assets",
             1,
             "contentClassification"
            ],
            "returnType": "[String]",
            "startOffset": 322936587
           },
           {
            "duration": 709,
            "fieldName": "headline",
            "parentType": "cnbcnewsstory",
            "path": [
             "assetList",
             "assets",
             1,
             "linkHeadline"
            ],
            "returnType": "String",
            "startOffset": 322952845
           },
           {
            "duration": 6194,
            "fieldName": "author",
            "parentType": "cnbcnewsstory",
            "path": [
             "assetList",
             "assets",
             1,
             "author"
            ],
            "returnType": "[creator]",
            "startOffset": 322954764
           },
           {
            "duration": 825,
            "fieldName": "id",
            "parentType": "creator",
            "path": [
             "assetList",
             "assets",
             1,
             "author",
             0,
             "id"
            ],
            "returnType": "Int",
            "startOffset": 322966161
           },
           {
            "duration": 675,
            "fieldName": "name",
            "parentType": "creator",
            "path": [
             "assetList",
             "assets",
             1,
             "author",
             0,
             "name"
            ],
            "returnType": "String",
            "startOffset": 322968357
           },
           {
            "duration": 2684,
            "fieldName": "url",
            "parentType": "creator",
            "path": [
             "assetList",
             "assets",
             1,
             "author",
             0,
             "url"
            ],
            "returnType": "String",
            "startOffset": 322970278
           },
           {
            "duration": 623,
            "fieldName": "id",
            "parentType": "creator",
            "path": [
             "assetList",
             "assets",
             1,
             "author",
             1,
             "id"
            ],
            "returnType": "Int",
            "startOffset": 322977585
           },
           {
            "duration": 681,
            "fieldName": "name",
            "parentType": "creator",
            "path": [
             "assetList",
             "assets",
             1,
             "author",
             1,
             "name"
            ],
            "returnType": "String",
            "startOffset": 322978948
           },
           {
            "duration": 809,
            "fieldName": "url",
            "parentType": "creator",
            "path": [
             "assetList",
             "assets",
             1,
             "author",
             1,
             "url"
            ],
            "returnType": "String",
            "startOffset": 322980326
           },
           {
            "duration": 12185933,
            "fieldName": "section",
            "parentType": "cnbcnewsstory",
            "path": [
             "assetList",
             "assets",
             1,
             "section"
            ],
            "returnType": "franchise",
            "startOffset": 322983400
           },
           {
            "duration": 201547,
            "fieldName": "dateLastPublishedSixHr",
            "parentType": "cnbcnewsstory",
            "path": [
             "assetList",
             "assets",
             1,
             "dateLastPublishedSixHr"
            ],
            "returnType": "String",
            "startOffset": 323006875
           },
           {
            "duration": 52145,
            "fieldName": "dateLastPublishedFormattedWithoutTime",
            "parentType": "cnbcnewsstory",
            "path": [
             "assetList",
             "assets",
             1,
             "dateLastPublishedFormattedWithoutTime"
            ],
            "returnType": "String",
            "startOffset": 323210997
           },
           {
            "duration": 3308,
            "fieldName": "promoImage",
            "parentType": "cnbcnewsstory",
            "path": [
             "assetList",
             "assets",
             1,
             "promoImage"
            ],
            "returnType": "infographic",
            "startOffset": 323264987
           },
           {
            "duration": 880,
            "fieldName": "id",
            "parentType": "infographic",
            "path": [
             "assetList",
             "assets",
             1,
             "promoImage",
             "id"
            ],
            "returnType": "Int",
            "startOffset": 323272291
           },
           {
            "duration": 1918,
            "fieldName": "url",
            "parentType": "infographic",
            "path": [
             "assetList",
             "assets",
             1,
             "promoImage",
             "url"
            ],
            "returnType": "String",
            "startOffset": 323274829
           },
           {
            "duration": 11903642,
            "fieldName": "sourceOrganization",
            "parentType": "cnbcnewsstory",
            "path": [
             "assetList",
             "assets",
             1,
             "sourceOrganization"
            ],
            "returnType": "[source]",
            "startOffset": 323279488
           },
           {
            "duration": 1294,
            "fieldName": "id",
            "parentType": "cnbcnewsstory",
            "path": [
             "assetList",
             "assets",
             2,
             "id"
            ],
            "returnType": "Int",
            "startOffset": 323406211
           },
           {
            "duration": 1260,
            "fieldName": "brand",
            "parentType": "cnbcnewsstory",
            "path": [
             "assetList",
             "assets",
             2,
             "brand"
            ],
            "returnType": "String",
            "startOffset": 323408635
           },
           {
            "duration": 760,
            "fieldName": "type",
            "parentType": "cnbcnewsstory",
            "path": [
             "assetList",
             "assets",
             2,
             "type"
            ],
            "returnType": "String",
            "startOffset": 323410771
           },
           {
            "duration": 1271,
            "fieldName": "url",
            "parentType": "cnbcnewsstory",
            "path": [
             "assetList",
             "assets",
             2,
             "url"
            ],
            "returnType": "String",
            "startOffset": 323412317
           },
           {
            "duration": 3070,
            "fieldName": "native",
            "parentType": "cnbcnewsstory",
            "path": [
             "assetList",
             "assets",
             2,
             "native"
            ],
            "returnType": "Boolean",
            "startOffset": 323414709
           },
           {
            "duration": 568,
            "fieldName": "datePublished",
            "parentType": "cnbcnewsstory",
            "path": [
             "assetList",
             "assets",
             2,
             "datePublished"
            ],
            "returnType": "String",
            "startOffset": 323418997
           },
           {
            "duration": 536,
            "fieldName": "description",
            "parentType": "cnbcnewsstory",
            "path": [
             "assetList",
             "assets",
             2,
             "description"
            ],
            "returnType": "String",
            "startOffset": 323420566
           },
           {
            "duration": 1737,
            "fieldName": "title",
            "parentType": "cnbcnewsstory",
            "path": [
             "assetList",
             "assets",
             2,
             "title"
            ],
            "returnType": "String",
            "startOffset": 323422145
           },
           {
            "duration": 493,
            "fieldName": "headline",
            "parentType": "cnbcnewsstory",
            "path": [
             "assetList",
             "assets",
             2,
             "headline"
            ],
            "returnType": "String",
            "startOffset": 323424684
           },
           {
            "duration": 1504,
            "fieldName": "premium",
            "parentType": "cnbcnewsstory",
            "path": [
             "assetList",
             "assets",
             2,
             "premium"
            ],
            "returnType": "Boolean",
            "startOffset": 323425952
           },
           {
            "duration": 634,
            "fieldName": "creatorOverwrite",
            "parentType": "cnbcnewsstory",
            "path": [
             "assetList",
             "assets",
             2,
             "creatorOverwrite"
            ],
            "returnType": "String",
            "startOffset": 323428117
           },
           {
            "duration": 566,
            "fieldName": "coverageEndDate",
            "parentType": "cnbcnewsstory",
            "path": [
             "assetList",
             "assets",
             2,
             "coverageEndDate"
            ],
            "returnType": "String",
            "startOffset": 323429559
           },
           {
            "duration": 2531,
            "fieldName": "contentClassification",
            "parentType": "cnbcnewsstory",
            "path": [
             "assetList",
             "assets",
             2,
             "contentClassification"
            ],
            "returnType": "[String]",
            "startOffset": 323431214
           },
           {
            "duration": 613,
            "fieldName": "headline",
            "parentType": "cnbcnewsstory",
            "path": [
             "assetList",
             "assets",
             2,
             "linkHeadline"
            ],
            "returnType": "String",
            "startOffset": 323436205
           },
           {
            "duration": 2484,
            "fieldName": "author",
            "parentType": "cnbcnewsstory",
            "path": [
             "assetList",
             "assets",
             2,
             "author"
            ],
            "returnType": "[creator]",
            "startOffset": 323437644
           },
           {
            "duration": 662,
            "fieldName": "id",
            "parentType": "creator",
            "path": [
             "assetList",
             "assets",
             2,
             "author",
             0,
             "id"
            ],
            "returnType": "Int",
            "startOffset": 323443313
           },
           {
            "duration": 565,
            "fieldName": "name",
            "parentType": "creator",
            "path": [
             "assetList",
             "assets",
             2,
             "author",
             0,
             "name"
            ],
            "returnType": "String",
            "startOffset": 323445210
           },
           {
            "duration": 977,
            "fieldName": "url",
            "parentType": "creator",
            "path": [
             "assetList",
             "assets",
             2,
             "author",
             0,
             "url"
            ],
            "returnType": "String",
            "startOffset": 323446601
           },
           {
            "duration": 11760789,
            "fieldName": "section",
            "parentType": "cnbcnewsstory",
            "path": [
             "assetList",
             "assets",
             2,
             "section"
            ],
            "returnType": "franchise",
            "startOffset": 323449965
           },
           {
            "duration": 162492,
            "fieldName": "dateLastPublishedSixHr",
            "parentType": "cnbcnewsstory",
            "path": [
             "assetList",
             "assets",
             2,
             "dateLastPublishedSixHr"
            ],
            "returnType": "String",
            "startOffset": 323466398
           },
           {
            "duration": 47577,
            "fieldName": "dateLastPublishedFormattedWithoutTime",
            "parentType": "cnbcnewsstory",
            "path": [
             "assetList",
             "assets",
             2,
             "dateLastPublishedFormattedWithoutTime"
            ],
            "returnType": "String",
            "startOffset": 323630978
           },
           {
            "duration": 1890,
            "fieldName": "promoImage",
            "parentType": "cnbcnewsstory",
            "path": [
             "assetList",
             "assets",
             2,
             "promoImage"
            ],
            "returnType": "infographic",
            "startOffset": 323680436
           },
           {
            "duration": 16053,
            "fieldName": "id",
            "parentType": "infographic",
            "path": [
             "assetList",
             "assets",
             2,
             "promoImage",
             "id"
            ],
            "returnType": "Int",
            "startOffset": 323685688
           },
           {
            "duration": 1820,
            "fieldName": "url",
            "parentType": "infographic",
            "path": [
             "assetList",
             "assets",
             2,
             "promoImage",
             "url"
            ],
            "returnType": "String",
            "startOffset": 323703508
           },
           {
            "duration": 11515961,
            "fieldName": "sourceOrganization",
            "parentType": "cnbcnewsstory",
            "path": [
             "assetList",
             "assets",
             2,
             "sourceOrganization"
            ],
            "returnType": "[source]",
            "startOffset": 323707979
           },
           {
            "duration": 1071,
            "fieldName": "id",
            "parentType": "cnbcnewsstory",
            "path": [
             "assetList",
             "assets",
             3,
             "id"
            ],
            "returnType": "Int",
            "startOffset": 323805718
           },
           {
            "duration": 1233,
            "fieldName": "brand",
            "parentType": "cnbcnewsstory",
            "path": [
             "assetList",
             "assets",
             3,
             "brand"
            ],
            "returnType": "String",
            "startOffset": 323807838
           },
           {
            "duration": 586,
            "fieldName": "type",
            "parentType": "cnbcnewsstory",
            "path": [
             "assetList",
             "assets",
             3,
             "type"
            ],
            "returnType": "String",
            "startOffset": 323810243
           },
           {
            "duration": 1134,
            "fieldName": "url",
            "parentType": "cnbcnewsstory",
            "path": [
             "assetList",
             "assets",
             3,
             "url"
            ],
            "returnType": "String",
            "startOffset": 323811539
           },
           {
            "duration": 1222,
            "fieldName": "native",
            "parentType": "cnbcnewsstory",
            "path": [
             "assetList",
             "assets",
             3,
             "native"
            ],
            "returnType": "Boolean",
            "startOffset": 323813968
           },
           {
            "duration": 542,
            "fieldName": "datePublished",
            "parentType": "cnbcnewsstory",
            "path": [
             "assetList",
             "assets",
             3,
             "datePublished"
            ],
            "returnType": "String",
            "startOffset": 323816122
           },
           {
            "duration": 560,
            "fieldName": "description",
            "parentType": "cnbcnewsstory",
            "path": [
             "assetList",
             "assets",
             3,
             "description"
            ],
            "returnType": "String",
            "startOffset": 323817696
           },
           {
            "duration": 805,
            "fieldName": "title",
            "parentType": "cnbcnewsstory",
            "path": [
             "assetList",
             "assets",
             3,
             "title"
            ],
            "returnType": "String",
            "startOffset": 323818929
           },
           {
            "duration": 577,
            "fieldName": "headline",
            "parentType": "cnbcnewsstory",
            "path": [
             "assetList",
             "assets",
             3,
             "headline"
            ],
            "returnType": "String",
            "startOffset": 323820453
           },
           {
            "duration": 1215,
            "fieldName": "premium",
            "parentType": "cnbcnewsstory",
            "path": [
             "assetList",
             "assets",
             3,
             "premium"
            ],
            "returnType": "Boolean",
            "startOffset": 323821766
           },
           {
            "duration": 637,
            "fieldName": "creatorOverwrite",
            "parentType": "cnbcnewsstory",
            "path": [
             "assetList",
             "assets",
             3,
             "creatorOverwrite"
            ],
            "returnType": "String",
            "startOffset": 323823656
           },
           {
            "duration": 664,
            "fieldName": "coverageEndDate",
            "parentType": "cnbcnewsstory",
            "path": [
             "assetList",
             "assets",
             3,
             "coverageEndDate"
            ],
            "returnType": "String",
            "startOffset": 323825226
           },
           {
            "duration": 2300,
            "fieldName": "contentClassification",
            "parentType": "cnbcnewsstory",
            "path": [
             "assetList",
             "assets",
             3,
             "contentClassification"
            ],
            "returnType": "[String]",
            "startOffset": 323826838
           },
           {
            "duration": 496,
            "fieldName": "headline",
            "parentType": "cnbcnewsstory",
            "path": [
             "assetList",
             "assets",
             3,
             "linkHeadline"
            ],
            "returnType": "String",
            "startOffset": 323831136
           },
           {
            "duration": 2133,
            "fieldName": "author",
            "parentType": "cnbcnewsstory",
            "path": [
             "assetList",
             "assets",
             3,
             "author"
            ],
            "returnType": "[creator]",
            "startOffset": 323832473
           },
           {
            "duration": 980,
            "fieldName": "id",
            "parentType": "creator",
            "path": [
             "assetList",
             "assets",
             3,
             "author",
             0,
             "id"
            ],
            "returnType": "Int",
            "startOffset": 323837646
           },
           {
            "duration": 510,
            "fieldName": "name",
            "parentType": "creator",
            "path": [
             "assetList",
             "assets",
             3,
             "author",
             0,
             "name"
            ],
            "returnType": "String",
            "startOffset": 323839728
           },
           {
            "duration": 975,
            "fieldName": "url",
            "parentType": "creator",
            "path": [
             "assetList",
             "assets",
             3,
             "author",
             0,
             "url"
            ],
            "returnType": "String",
            "startOffset": 323841122
           },
           {
            "duration": 11408121,
            "fieldName": "section",
            "parentType": "cnbcnewsstory",
            "path": [
             "assetList",
             "assets",
             3,
             "section"
            ],
            "returnType": "franchise",
            "startOffset": 323844326
           },
           {
            "duration": 162084,
            "fieldName": "dateLastPublishedSixHr",
            "parentType": "cnbcnewsstory",
            "path": [
             "assetList",
             "assets",
             3,
             "dateLastPublishedSixHr"
            ],
            "returnType": "String",
            "startOffset": 323859358
           },
           {
            "duration": 46939,
            "fieldName": "dateLastPublishedFormattedWithoutTime",
            "parentType": "cnbcnewsstory",
            "path": [
             "assetList",
             "assets",
             3,
             "dateLastPublishedFormattedWithoutTime"
            ],
            "returnType": "String",
            "startOffset": 324023686
           },
           {
            "duration": 3257,
            "fieldName": "promoImage",
            "parentType": "cnbcnewsstory",
            "path": [
             "assetList",
             "assets",
             3,
             "promoImage"
            ],
            "returnType": "infographic",
            "startOffset": 324072440
           },
           {
            "duration": 891,
            "fieldName": "id",
            "parentType": "infographic",
            "path": [
             "assetList",
             "assets",
             3,
             "promoImage",
             "id"
            ],
            "returnType": "Int",
            "startOffset": 324079372
           },
           {
            "duration": 1477,
            "fieldName": "url",
            "parentType": "infographic",
            "path": [
             "assetList",
             "assets",
             3,
             "promoImage",
             "url"
            ],
            "returnType": "String",
            "startOffset": 324081701
           },
           {
            "duration": 11179919,
            "fieldName": "sourceOrganization",
            "parentType": "cnbcnewsstory",
            "path": [
             "assetList",
             "assets",
             3,
             "sourceOrganization"
            ],
            "returnType": "[source]",
            "startOffset": 324085889
           },
           {
            "duration": 1070,
            "fieldName": "id",
            "parentType": "cnbcnewsstory",
            "path": [
             "assetList",
             "assets",
             4,
             "id"
            ],
            "returnType": "Int",
            "startOffset": 324178762
           },
           {
            "duration": 1149,
            "fieldName": "brand",
            "parentType": "cnbcnewsstory",
            "path": [
             "assetList",
             "assets",
             4,
             "brand"
            ],
            "returnType": "String",
            "startOffset": 324181025
           },
           {
            "duration": 693,
            "fieldName": "type",
            "parentType": "cnbcnewsstory",
            "path": [
             "assetList",
             "assets",
             4,
             "type"
            ],
            "returnType": "String",
            "startOffset": 324183046
           },
           {
            "duration": 1082,
            "fieldName": "url",
            "parentType": "cnbcnewsstory",
            "path": [
             "assetList",
             "assets",
             4,
             "url"
            ],
            "returnType": "String",
            "startOffset": 324184475
           },
           {
            "duration": 1240,
            "fieldName": "native",
            "parentType": "cnbcnewsstory",
            "path": [
             "assetList",
             "assets",
             4,
             "native"
            ],
            "returnType": "Boolean",
            "startOffset": 324186763
           },
           {
            "duration": 505,
            "fieldName": "datePublished",
            "parentType": "cnbcnewsstory",
            "path": [
             "assetList",
             "assets",
             4,
             "datePublished"
            ],
            "returnType": "String",
            "startOffset": 324188952
           },
           {
            "duration": 501,
            "fieldName": "description",
            "parentType": "cnbcnewsstory",
            "path": [
             "assetList",
             "assets",
             4,
             "description"
            ],
            "returnType": "String",
            "startOffset": 324190634
           },
           {
            "duration": 801,
            "fieldName": "title",
            "parentType": "cnbcnewsstory",
            "path": [
             "assetList",
             "assets",
             4,
             "title"
            ],
            "returnType": "String",
            "startOffset": 324191821
           },
           {
            "duration": 470,
            "fieldName": "headline",
            "parentType": "cnbcnewsstory",
            "path": [
             "assetList",
             "assets",
             4,
             "headline"
            ],
            "returnType": "String",
            "startOffset": 324193500
           },
           {
            "duration": 1090,
            "fieldName": "premium",
            "parentType": "cnbcnewsstory",
            "path": [
             "assetList",
             "assets",
             4,
             "premium"
            ],
            "returnType": "Boolean",
            "startOffset": 324194659
           },
           {
            "duration": 569,
            "fieldName": "creatorOverwrite",
            "parentType": "cnbcnewsstory",
            "path": [
             "assetList",
             "assets",
             4,
             "creatorOverwrite"
            ],
            "returnType": "String",
            "startOffset": 324196433
           },
           {
            "duration": 576,
            "fieldName": "coverageEndDate",
            "parentType": "cnbcnewsstory",
            "path": [
             "assetList",
             "assets",
             4,
             "coverageEndDate"
            ],
            "returnType": "String",
            "startOffset": 324197813
           },
           {
            "duration": 2186,
            "fieldName": "contentClassification",
            "parentType": "cnbcnewsstory",
            "path": [
             "assetList",
             "assets",
             4,
             "contentClassification"
            ],
            "returnType": "[String]",
            "startOffset": 324199378
           },
           {
            "duration": 509,
            "fieldName": "headline",
            "parentType": "cnbcnewsstory",
            "path": [
             "assetList",
             "assets",
             4,
             "linkHeadline"
            ],
            "returnType": "String",
            "startOffset": 324203401
           },
           {
            "duration": 1799,
            "fieldName": "author",
            "parentType": "cnbcnewsstory",
            "path": [
             "assetList",
             "assets",
             4,
             "author"
            ],
            "returnType": "[creator]",
            "startOffset": 324204689
           },
           {
            "duration": 856,
            "fieldName": "id",
            "parentType": "creator",
            "path": [
             "assetList",
             "assets",
             4,
             "author",
             0,
             "id"
            ],
            "returnType": "Int",
            "startOffset": 324209362
           },
           {
            "duration": 546,
            "fieldName": "name",
            "parentType": "creator",
            "path": [
             "assetList",
             "assets",
             4,
             "author",
             0,
             "name"
            ],
            "returnType": "String",
            "startOffset": 324211182
           },
           {
            "duration": 1038,
            "fieldName": "url",
            "parentType": "creator",
            "path": [
             "assetList",
             "assets",
             4,
             "author",
             0,
             "url"
            ],
            "returnType": "String",
            "startOffset": 324212564
           },
           {
            "duration": 11078080,
            "fieldName": "section",
            "parentType": "cnbcnewsstory",
            "path": [
             "assetList",
             "assets",
             4,
             "section"
            ],
            "returnType": "franchise",
            "startOffset": 324215756
           },
           {
            "duration": 251952,
            "fieldName": "dateLastPublishedSixHr",
            "parentType": "cnbcnewsstory",
            "path": [
             "assetList",
             "assets",
             4,
             "dateLastPublishedSixHr"
            ],
            "returnType": "String",
            "startOffset": 324230349
           },
           {
            "duration": 76718,
            "fieldName": "dateLastPublishedFormattedWithoutTime",
            "parentType": "cnbcnewsstory",
            "path": [
             "assetList",
             "assets",
             4,
             "dateLastPublishedFormattedWithoutTime"
            ],
            "returnType": "String",
            "startOffset": 324485593
           },
           {
            "duration": 2408,
            "fieldName": "promoImage",
            "parentType": "cnbcnewsstory",
            "path": [
             "assetList",
             "assets",
             4,
             "promoImage"
            ],
            "returnType": "infographic",
            "startOffset": 324564771
           },
           {
            "duration": 854,
            "fieldName": "id",
            "parentType": "infographic",
            "path": [
             "assetList",
             "assets",
             4,
             "promoImage",
             "id"
            ],
            "returnType": "Int",
            "startOffset": 324571412
           },
           {
            "duration": 1836,
            "fieldName": "url",
            "parentType": "infographic",
            "path": [
             "assetList",
             "assets",
             4,
             "promoImage",
             "url"
            ],
            "returnType": "String",
            "startOffset": 324574019
           },
           {
            "duration": 10728937,
            "fieldName": "sourceOrganization",
            "parentType": "cnbcnewsstory",
            "path": [
             "assetList",
             "assets",
             4,
             "sourceOrganization"
            ],
            "returnType": "[source]",
            "startOffset": 324578689
           },
           {
            "duration": 963,
            "fieldName": "id",
            "parentType": "cnbcnewsstory",
            "path": [
             "assetList",
             "assets",
             5,
             "id"
            ],
            "returnType": "Int",
            "startOffset": 324677104
           },
           {
            "duration": 1255,
            "fieldName": "brand",
            "parentType": "cnbcnewsstory",
            "path": [
             "assetList",
             "assets",
             5,
             "brand"
            ],
            "returnType": "String",
            "startOffset": 324679261
           },
           {
            "duration": 660,
            "fieldName": "type",
            "parentType": "cnbcnewsstory",
            "path": [
             "assetList",
             "assets",
             5,
             "type"
            ],
            "returnType": "String",
            "startOffset": 324681593
           },
           {
            "duration": 1136,
            "fieldName": "url",
            "parentType": "cnbcnewsstory",
            "path": [
             "assetList",
             "assets",
             5,
             "url"
            ],
            "returnType": "String",
            "startOffset": 324682964
           },
           {
            "duration": 12638,
            "fieldName": "native",
            "parentType": "cnbcnewsstory",
            "path": [
             "assetList",
             "assets",
             5,
             "native"
            ],
            "returnType": "Boolean",
            "startOffset": 324685208
           },
           {
            "duration": 993,
            "fieldName": "datePublished",
            "parentType": "cnbcnewsstory",
            "path": [
             "assetList",
             "assets",
             5,
             "datePublished"
            ],
            "returnType": "String",
            "startOffset": 324699113
           },
           {
            "duration": 498,
            "fieldName": "description",
            "parentType": "cnbcnewsstory",
            "path": [
             "assetList",
             "assets",
             5,
             "description"
            ],
            "returnType": "String",
            "startOffset": 324701102
           },
           {
            "duration": 909,
            "fieldName": "title",
            "parentType": "cnbcnewsstory",
            "path": [
             "assetList",
             "assets",
             5,
             "title"
            ],
            "returnType": "String",
            "startOffset": 324702471
           },
           {
            "duration": 447,
            "fieldName": "headline",
            "parentType": "cnbcnewsstory",
            "path": [
             "assetList",
             "assets",
             5,
             "headline"
            ],
            "returnType": "String",
            "startOffset": 324704121
           },
           {
            "duration": 1256,
            "fieldName": "premium",
            "parentType": "cnbcnewsstory",
            "path": [
             "assetList",
             "assets",
             5,
             "premium"
            ],
            "returnType": "Boolean",
            "startOffset": 324705293
           },
           {
            "duration": 547,
            "fieldName": "creatorOverwrite",
            "parentType": "cnbcnewsstory",
            "path": [
             "assetList",
             "assets",
             5,
             "creatorOverwrite"
            ],
            "returnType": "String",
            "startOffset": 324707264
           },
           {
            "duration": 552,
            "fieldName": "coverageEndDate",
            "parentType": "cnbcnewsstory",
            "path": [
             "assetList",
             "assets",
             5,
             "coverageEndDate"
            ],
            "returnType": "String",
            "startOffset": 324708634
           },
           {
            "duration": 2463,
            "fieldName": "contentClassification",
            "parentType": "cnbcnewsstory",
            "path": [
             "assetList",
             "assets",
             5,
             "contentClassification"
            ],
            "returnType": "[String]",
            "startOffset": 324710610
           },
           {
            "duration": 1383,
            "fieldName": "headline",
            "parentType": "cnbcnewsstory",
            "path": [
             "assetList",
             "assets",
             5,
             "linkHeadline"
            ],
            "returnType": "String",
            "startOffset": 324714965
           },
           {
            "duration": 2201,
            "fieldName": "author",
            "parentType": "cnbcnewsstory",
            "path": [
             "assetList",
             "assets",
             5,
             "author"
            ],
            "returnType": "[creator]",
            "startOffset": 324717249
           },
           {
            "duration": 798,
            "fieldName": "id",
            "parentType": "creator",
            "path": [
             "assetList",
             "assets",
             5,
             "author",
             0,
             "id"
            ],
            "returnType": "Int",
            "startOffset": 324722657
           },
           {
            "duration": 640,
            "fieldName": "name",
            "parentType": "creator",
            "path": [
             "assetList",
             "assets",
             5,
             "author",
             0,
             "name"
            ],
            "returnType": "String",
            "startOffset": 324724623
           },
           {
            "duration": 898,
            "fieldName": "url",
            "parentType": "creator",
            "path": [
             "assetList",
             "assets",
             5,
             "author",
             0,
             "url"
            ],
            "returnType": "String",
            "startOffset": 324726121
           },
           {
            "duration": 10606175,
            "fieldName": "section",
            "parentType": "cnbcnewsstory",
            "path": [
             "assetList",
             "assets",
             5,
             "section"
            ],
            "returnType": "franchise",
            "startOffset": 324729453
           },
           {
            "duration": 169771,
            "fieldName": "dateLastPublishedSixHr",
            "parentType": "cnbcnewsstory",
            "path": [
             "assetList",
             "assets",
             5,
             "dateLastPublishedSixHr"
            ],
            "returnType": "String",
            "startOffset": 324746354
           },
           {
            "duration": 47594,
            "fieldName": "dateLastPublishedFormattedWithoutTime",
            "parentType": "cnbcnewsstory",
            "path": [
             "assetList",
             "assets",
             5,
             "dateLastPublishedFormattedWithoutTime"
            ],
            "returnType": "String",
            "startOffset": 324918237
           },
           {
            "duration": 1848,
            "fieldName": "promoImage",
            "parentType": "cnbcnewsstory",
            "path": [
             "assetList",
             "assets",
             5,
             "promoImage"
            ],
            "returnType": "infographic",
            "startOffset": 324967570
           },
           {
            "duration": 1015,
            "fieldName": "id",
            "parentType": "infographic",
            "path": [
             "assetList",
             "assets",
             5,
             "promoImage",
             "id"
            ],
            "returnType": "Int",
            "startOffset": 324972870
           },
           {
            "duration": 1474,
            "fieldName": "url",
            "parentType": "infographic",
            "path": [
             "assetList",
             "assets",
             5,
             "promoImage",
             "url"
            ],
            "returnType": "String",
            "startOffset": 324975328
           },
           {
            "duration": 10369419,
            "fieldName": "sourceOrganization",
            "parentType": "cnbcnewsstory",
            "path": [
             "assetList",
             "assets",
             5,
             "sourceOrganization"
            ],
            "returnType": "[source]",
            "startOffset": 324979471
           },
           {
            "duration": 930,
            "fieldName": "id",
            "parentType": "cnbcnewsstory",
            "path": [
             "assetList",
             "assets",
             6,
             "id"
            ],
            "returnType": "Int",
            "startOffset": 325072933
           },
           {
            "duration": 1230,
            "fieldName": "brand",
            "parentType": "cnbcnewsstory",
            "path": [
             "assetList",
             "assets",
             6,
             "brand"
            ],
            "returnType": "String",
            "startOffset": 325075239
           },
           {
            "duration": 660,
            "fieldName": "type",
            "parentType": "cnbcnewsstory",
            "path": [
             "assetList",
             "assets",
             6,
             "type"
            ],
            "returnType": "String",
            "startOffset": 325077326
           },
           {
            "duration": 1068,
            "fieldName": "url",
            "parentType": "cnbcnewsstory",
            "path": [
             "assetList",
             "assets",
             6,
             "url"
            ],
            "returnType": "String",
            "startOffset": 325078869
           },
           {
            "duration": 1417,
            "fieldName": "native",
            "parentType": "cnbcnewsstory",
            "path": [
             "assetList",
             "assets",
             6,
             "native"
            ],
            "returnType": "Boolean",
            "startOffset": 325080992
           },
           {
            "duration": 789,
            "fieldName": "datePublished",
            "parentType": "cnbcnewsstory",
            "path": [
             "assetList",
             "assets",
             6,
             "datePublished"
            ],
            "returnType": "String",
            "startOffset": 325083480
           },
           {
            "duration": 520,
            "fieldName": "description",
            "parentType": "cnbcnewsstory",
            "path": [
             "assetList",
             "assets",
             6,
             "description"
            ],
            "returnType": "String",
            "startOffset": 325085227
           },
           {
            "duration": 909,
            "fieldName": "title",
            "parentType": "cnbcnewsstory",
            "path": [
             "assetList",
             "assets",
             6,
             "title"
            ],
            "returnType": "String",
            "startOffset": 325086524
           },
           {
            "duration": 478,
            "fieldName": "headline",
            "parentType": "cnbcnewsstory",
            "path": [
             "assetList",
             "assets",
             6,
             "headline"
            ],
            "returnType": "String",
            "startOffset": 325088155
           },
           {
            "duration": 1035,
            "fieldName": "premium",
            "parentType": "cnbcnewsstory",
            "path": [
             "assetList",
             "assets",
             6,
             "premium"
            ],
            "returnType": "Boolean",
            "startOffset": 325089321
           },
           {
            "duration": 564,
            "fieldName": "creatorOverwrite",
            "parentType": "cnbcnewsstory",
            "path": [
             "assetList",
             "assets",
             6,
             "creatorOverwrite"
            ],
            "returnType": "String",
            "startOffset": 325091113
           },
           {
            "duration": 553,
            "fieldName": "coverageEndDate",
            "parentType": "cnbcnewsstory",
            "path": [
             "assetList",
             "assets",
             6,
             "coverageEndDate"
            ],
            "returnType": "String",
            "startOffset": 325092453
           },
           {
            "duration": 2252,
            "fieldName": "contentClassification",
            "parentType": "cnbcnewsstory",
            "path": [
             "assetList",
             "assets",
             6,
             "contentClassification"
            ],
            "returnType": "[String]",
            "startOffset": 325094121
           },
           {
            "duration": 572,
            "fieldName": "headline",
            "parentType": "cnbcnewsstory",
            "path": [
             "assetList",
             "assets",
             6,
             "linkHeadline"
            ],
            "returnType": "String",
            "startOffset": 325098279
           },
           {
            "duration": 1690,
            "fieldName": "author",
            "parentType": "cnbcnewsstory",
            "path": [
             "assetList",
             "assets",
             6,
             "author"
            ],
            "returnType": "[creator]",
            "startOffset": 325099877
           },
           {
            "duration": 703,
            "fieldName": "id",
            "parentType": "creator",
            "path": [
             "assetList",
             "assets",
             6,
             "author",
             0,
             "id"
            ],
            "returnType": "Int",
            "startOffset": 325104495
           },
           {
            "duration": 924,
            "fieldName": "name",
            "parentType": "creator",
            "path": [
             "assetList",
             "assets",
             6,
             "author",
             0,
             "name"
            ],
            "returnType": "String",
            "startOffset": 325106147
           },
           {
            "duration": 892,
            "fieldName": "url",
            "parentType": "creator",
            "path": [
             "assetList",
             "assets",
             6,
             "author",
             0,
             "url"
            ],
            "returnType": "String",
            "startOffset": 325107901
           },
           {
            "duration": 10265357,
            "fieldName": "section",
            "parentType": "cnbcnewsstory",
            "path": [
             "assetList",
             "assets",
             6,
             "section"
            ],
            "returnType": "franchise",
            "startOffset": 325111027
           },
           {
            "duration": 167116,
            "fieldName": "dateLastPublishedSixHr",
            "parentType": "cnbcnewsstory",
            "path": [
             "assetList",
             "assets",
             6,
             "dateLastPublishedSixHr"
            ],
            "returnType": "String",
            "startOffset": 325125269
           },
           {
            "duration": 47055,
            "fieldName": "dateLastPublishedFormattedWithoutTime",
            "parentType": "cnbcnewsstory",
            "path": [
             "assetList",
             "assets",
             6,
             "dateLastPublishedFormattedWithoutTime"
            ],
            "returnType": "String",
            "startOffset": 325294777
           },
           {
            "duration": 2015,
            "fieldName": "promoImage",
            "parentType": "cnbcnewsstory",
            "path": [
             "assetList",
             "assets",
             6,
             "promoImage"
            ],
            "returnType": "infographic",
            "startOffset": 325343600
           },
           {
            "duration": 737,
            "fieldName": "id",
            "parentType": "infographic",
            "path": [
             "assetList",
             "assets",
             6,
             "promoImage",
             "id"
            ],
            "returnType": "Int",
            "startOffset": 325349509
           },
           {
            "duration": 1320,
            "fieldName": "url",
            "parentType": "infographic",
            "path": [
             "assetList",
             "assets",
             6,
             "promoImage",
             "url"
            ],
            "returnType": "String",
            "startOffset": 325351563
           },
           {
            "duration": 10033615,
            "fieldName": "sourceOrganization",
            "parentType": "cnbcnewsstory",
            "path": [
             "assetList",
             "assets",
             6,
             "sourceOrganization"
            ],
            "returnType": "[source]",
            "startOffset": 325355628
           },
           {
            "duration": 884,
            "fieldName": "id",
            "parentType": "cnbcnewsstory",
            "path": [
             "assetList",
             "assets",
             7,
             "id"
            ],
            "returnType": "Int",
            "startOffset": 325447645
           },
           {
            "duration": 1268,
            "fieldName": "brand",
            "parentType": "cnbcnewsstory",
            "path": [
             "assetList",
             "assets",
             7,
             "brand"
            ],
            "returnType": "String",
            "startOffset": 325449665
           },
           {
            "duration": 697,
            "fieldName": "type",
            "parentType": "cnbcnewsstory",
            "path": [
             "assetList",
             "assets",
             7,
             "type"
            ],
            "returnType": "String",
            "startOffset": 325451813
           },
           {
            "duration": 1154,
            "fieldName": "url",
            "parentType": "cnbcnewsstory",
            "path": [
             "assetList",
             "assets",
             7,
             "url"
            ],
            "returnType": "String",
            "startOffset": 325453389
           },
           {
            "duration": 1529,
            "fieldName": "native",
            "parentType": "cnbcnewsstory",
            "path": [
             "assetList",
             "assets",
             7,
             "native"
            ],
            "returnType": "Boolean",
            "startOffset": 325455606
           },
           {
            "duration": 849,
            "fieldName": "datePublished",
            "parentType": "cnbcnewsstory",
            "path": [
             "assetList",
             "assets",
             7,
             "datePublished"
            ],
            "returnType": "String",
            "startOffset": 325458104
           },
           {
            "duration": 497,
            "fieldName": "description",
            "parentType": "cnbcnewsstory",
            "path": [
             "assetList",
             "assets",
             7,
             "description"
            ],
            "returnType": "String",
            "startOffset": 325459860
           },
           {
            "duration": 894,
            "fieldName": "title",
            "parentType": "cnbcnewsstory",
            "path": [
             "assetList",
             "assets",
             7,
             "title"
            ],
            "returnType": "String",
            "startOffset": 325461012
           },
           {
            "duration": 436,
            "fieldName": "headline",
            "parentType": "cnbcnewsstory",
            "path": [
             "assetList",
             "assets",
             7,
             "headline"
            ],
            "returnType": "String",
            "startOffset": 325462655
           },
           {
            "duration": 999,
            "fieldName": "premium",
            "parentType": "cnbcnewsstory",
            "path": [
             "assetList",
             "assets",
             7,
             "premium"
            ],
            "returnType": "Boolean",
            "startOffset": 325463830
           },
           {
            "duration": 529,
            "fieldName": "creatorOverwrite",
            "parentType": "cnbcnewsstory",
            "path": [
             "assetList",
             "assets",
             7,
             "creatorOverwrite"
            ],
            "returnType": "String",
            "startOffset": 325465773
           },
           {
            "duration": 741,
            "fieldName": "coverageEndDate",
            "parentType": "cnbcnewsstory",
            "path": [
             "assetList",
             "assets",
             7,
             "coverageEndDate"
            ],
            "returnType": "String",
            "startOffset": 325467094
           },
           {
            "duration": 2289,
            "fieldName": "contentClassification",
            "parentType": "cnbcnewsstory",
            "path": [
             "assetList",
             "assets",
             7,
             "contentClassification"
            ],
            "returnType": "[String]",
            "startOffset": 325469062
           },
           {
            "duration": 512,
            "fieldName": "headline",
            "parentType": "cnbcnewsstory",
            "path": [
             "assetList",
             "assets",
             7,
             "linkHeadline"
            ],
            "returnType": "String",
            "startOffset": 325473109
           },
           {
            "duration": 2026,
            "fieldName": "author",
            "parentType": "cnbcnewsstory",
            "path": [
             "assetList",
             "assets",
             7,
             "author"
            ],
            "returnType": "[creator]",
            "startOffset": 325474534
           },
           {
            "duration": 1096,
            "fieldName": "id",
            "parentType": "creator",
            "path": [
             "assetList",
             "assets",
             7,
             "author",
             0,
             "id"
            ],
            "returnType": "Int",
            "startOffset": 325479542
           },
           {
            "duration": 578,
            "fieldName": "name",
            "parentType": "creator",
            "path": [
             "assetList",
             "assets",
             7,
             "author",
             0,
             "name"
            ],
            "returnType": "String",
            "startOffset": 325481619
           },
           {
            "duration": 886,
            "fieldName": "url",
            "parentType": "creator",
            "path": [
             "assetList",
             "assets",
             7,
             "author",
             0,
             "url"
            ],
            "returnType": "String",
            "startOffset": 325483164
           },
           {
            "duration": 9931169,
            "fieldName": "section",
            "parentType": "cnbcnewsstory",
            "path": [
             "assetList",
             "assets",
             7,
             "section"
            ],
            "returnType": "franchise",
            "startOffset": 325486192
           },
           {
            "duration": 153853,
            "fieldName": "dateLastPublishedSixHr",
            "parentType": "cnbcnewsstory",
            "path": [
             "assetList",
             "assets",
             7,
             "dateLastPublishedSixHr"
            ],
            "returnType": "String",
            "startOffset": 325501887
           },
           {
            "duration": 66545,
            "fieldName": "dateLastPublishedFormattedWithoutTime",
            "parentType": "cnbcnewsstory",
            "path": [
             "assetList",
             "assets",
             7,
             "dateLastPublishedFormattedWithoutTime"
            ],
            "returnType": "String",
            "startOffset": 325657748
           },
           {
            "duration": 5693,
            "fieldName": "promoImage",
            "parentType": "cnbcnewsstory",
            "path": [
             "assetList",
             "assets",
             7,
             "promoImage"
            ],
            "returnType": "infographic",
            "startOffset": 325726606
           },
           {
            "duration": 1080,
            "fieldName": "id",
            "parentType": "infographic",
            "path": [
             "assetList",
             "assets",
             7,
             "promoImage",
             "id"
            ],
            "returnType": "Int",
            "startOffset": 325735866
           },
           {
            "duration": 1505,
            "fieldName": "url",
            "parentType": "infographic",
            "path": [
             "assetList",
             "assets",
             7,
             "promoImage",
             "url"
            ],
            "returnType": "String",
            "startOffset": 325738879
           },
           {
            "duration": 9688353,
            "fieldName": "sourceOrganization",
            "parentType": "cnbcnewsstory",
            "path": [
             "assetList",
             "assets",
             7,
             "sourceOrganization"
            ],
            "returnType": "[source]",
            "startOffset": 325742886
           },
           {
            "duration": 1513,
            "fieldName": "id",
            "parentType": "cnbcnewsstory",
            "path": [
             "assetList",
             "assets",
             8,
             "id"
            ],
            "returnType": "Int",
            "startOffset": 325912864
           },
           {
            "duration": 1422,
            "fieldName": "brand",
            "parentType": "cnbcnewsstory",
            "path": [
             "assetList",
             "assets",
             8,
             "brand"
            ],
            "returnType": "String",
            "startOffset": 325915711
           },
           {
            "duration": 761,
            "fieldName": "type",
            "parentType": "cnbcnewsstory",
            "path": [
             "assetList",
             "assets",
             8,
             "type"
            ],
            "returnType": "String",
            "startOffset": 325918164
           },
           {
            "duration": 1251,
            "fieldName": "url",
            "parentType": "cnbcnewsstory",
            "path": [
             "assetList",
             "assets",
             8,
             "url"
            ],
            "returnType": "String",
            "startOffset": 325919579
           },
           {
            "duration": 1533,
            "fieldName": "native",
            "parentType": "cnbcnewsstory",
            "path": [
             "assetList",
             "assets",
             8,
             "native"
            ],
            "returnType": "Boolean",
            "startOffset": 325921946
           },
           {
            "duration": 715,
            "fieldName": "datePublished",
            "parentType": "cnbcnewsstory",
            "path": [
             "assetList",
             "assets",
             8,
             "datePublished"
            ],
            "returnType": "String",
            "startOffset": 325924551
           },
           {
            "duration": 946,
            "fieldName": "description",
            "parentType": "cnbcnewsstory",
            "path": [
             "assetList",
             "assets",
             8,
             "description"
            ],
            "returnType": "String",
            "startOffset": 325926493
           },
           {
            "duration": 810,
            "fieldName": "title",
            "parentType": "cnbcnewsstory",
            "path": [
             "assetList",
             "assets",
             8,
             "title"
            ],
            "returnType": "String",
            "startOffset": 325928129
           },
           {
            "duration": 488,
            "fieldName": "headline",
            "parentType": "cnbcnewsstory",
            "path": [
             "assetList",
             "assets",
             8,
             "headline"
            ],
            "returnType": "String",
            "startOffset": 325929683
           },
           {
            "duration": 1081,
            "fieldName": "premium",
            "parentType": "cnbcnewsstory",
            "path": [
             "assetList",
             "assets",
             8,
             "premium"
            ],
            "returnType": "Boolean",
            "startOffset": 325930911
           },
           {
            "duration": 556,
            "fieldName": "creatorOverwrite",
            "parentType": "cnbcnewsstory",
            "path": [
             "assetList",
             "assets",
             8,
             "creatorOverwrite"
            ],
            "returnType": "String",
            "startOffset": 325932717
           },
           {
            "duration": 585,
            "fieldName": "coverageEndDate",
            "parentType": "cnbcnewsstory",
            "path": [
             "assetList",
             "assets",
             8,
             "coverageEndDate"
            ],
            "returnType": "String",
            "startOffset": 325934335
           },
           {
            "duration": 2387,
            "fieldName": "contentClassification",
            "parentType": "cnbcnewsstory",
            "path": [
             "assetList",
             "assets",
             8,
             "contentClassification"
            ],
            "returnType": "[String]",
            "startOffset": 325935876
           },
           {
            "duration": 548,
            "fieldName": "headline",
            "parentType": "cnbcnewsstory",
            "path": [
             "assetList",
             "assets",
             8,
             "linkHeadline"
            ],
            "returnType": "String",
            "startOffset": 325940398
           },
           {
            "duration": 2021,
            "fieldName": "author",
            "parentType": "cnbcnewsstory",
            "path": [
             "assetList",
             "assets",
             8,
             "author"
            ],
            "returnType": "[creator]",
            "startOffset": 325941815
           },
           {
            "duration": 624,
            "fieldName": "id",
            "parentType": "creator",
            "path": [
             "assetList",
             "assets",
             8,
             "author",
             0,
             "id"
            ],
            "returnType": "Int",
            "startOffset": 325946890
           },
           {
            "duration": 562,
            "fieldName": "name",
            "parentType": "creator",
            "path": [
             "assetList",
             "assets",
             8,
             "author",
             0,
             "name"
            ],
            "returnType": "String",
            "startOffset": 325948745
           },
           {
            "duration": 1560,
            "fieldName": "url",
            "parentType": "creator",
            "path": [
             "assetList",
             "assets",
             8,
             "author",
             0,
             "url"
            ],
            "returnType": "String",
            "startOffset": 325950168
           },
           {
            "duration": 9505067,
            "fieldName": "section",
            "parentType": "cnbcnewsstory",
            "path": [
             "assetList",
             "assets",
             8,
             "section"
            ],
            "returnType": "franchise",
            "startOffset": 325954216
           },
           {
            "duration": 211305,
            "fieldName": "dateLastPublishedSixHr",
            "parentType": "cnbcnewsstory",
            "path": [
             "assetList",
             "assets",
             8,
             "dateLastPublishedSixHr"
            ],
            "returnType": "String",
            "startOffset": 325972495
           },
           {
            "duration": 49687,
            "fieldName": "dateLastPublishedFormattedWithoutTime",
            "parentType": "cnbcnewsstory",
            "path": [
             "assetList",
             "assets",
             8,
             "dateLastPublishedFormattedWithoutTime"
            ],
            "returnType": "String",
            "startOffset": 326186931
           },
           {
            "duration": 1986,
            "fieldName": "promoImage",
            "parentType": "cnbcnewsstory",
            "path": [
             "assetList",
             "assets",
             8,
             "promoImage"
            ],
            "returnType": "infographic",
            "startOffset": 326238826
           },
           {
            "duration": 979,
            "fieldName": "id",
            "parentType": "infographic",
            "path": [
             "assetList",
             "assets",
             8,
             "promoImage",
             "id"
            ],
            "returnType": "Int",
            "startOffset": 326245024
           },
           {
            "duration": 1741,
            "fieldName": "url",
            "parentType": "infographic",
            "path": [
             "assetList",
             "assets",
             8,
             "promoImage",
             "url"
            ],
            "returnType": "String",
            "startOffset": 326247687
           },
           {
            "duration": 9220424,
            "fieldName": "sourceOrganization",
            "parentType": "cnbcnewsstory",
            "path": [
             "assetList",
             "assets",
             8,
             "sourceOrganization"
            ],
            "returnType": "[source]",
            "startOffset": 326252316
           },
           {
            "duration": 963,
            "fieldName": "id",
            "parentType": "cnbcnewsstory",
            "path": [
             "assetList",
             "assets",
             9,
             "id"
            ],
            "returnType": "Int",
            "startOffset": 326351312
           },
           {
            "duration": 1198,
            "fieldName": "brand",
            "parentType": "cnbcnewsstory",
            "path": [
             "assetList",
             "assets",
             9,
             "brand"
            ],
            "returnType": "String",
            "startOffset": 326353355
           },
           {
            "duration": 662,
            "fieldName": "type",
            "parentType": "cnbcnewsstory",
            "path": [
             "assetList",
             "assets",
             9,
             "type"
            ],
            "returnType": "String",
            "startOffset": 326355405
           },
           {
            "duration": 1053,
            "fieldName": "url",
            "parentType": "cnbcnewsstory",
            "path": [
             "assetList",
             "assets",
             9,
             "url"
            ],
            "returnType": "String",
            "startOffset": 326357065
           },
           {
            "duration": 1330,
            "fieldName": "native",
            "parentType": "cnbcnewsstory",
            "path": [
             "assetList",
             "assets",
             9,
             "native"
            ],
            "returnType": "Boolean",
            "startOffset": 326359145
           },
           {
            "duration": 630,
            "fieldName": "datePublished",
            "parentType": "cnbcnewsstory",
            "path": [
             "assetList",
             "assets",
             9,
             "datePublished"
            ],
            "returnType": "String",
            "startOffset": 326361642
           },
           {
            "duration": 529,
            "fieldName": "description",
            "parentType": "cnbcnewsstory",
            "path": [
             "assetList",
             "assets",
             9,
             "description"
            ],
            "returnType": "String",
            "startOffset": 326363289
           },
           {
            "duration": 810,
            "fieldName": "title",
            "parentType": "cnbcnewsstory",
            "path": [
             "assetList",
             "assets",
             9,
             "title"
            ],
            "returnType": "String",
            "startOffset": 326364636
           },
           {
            "duration": 477,
            "fieldName": "headline",
            "parentType": "cnbcnewsstory",
            "path": [
             "assetList",
             "assets",
             9,
             "headline"
            ],
            "returnType": "String",
            "startOffset": 326366183
           },
           {
            "duration": 1163,
            "fieldName": "premium",
            "parentType": "cnbcnewsstory",
            "path": [
             "assetList",
             "assets",
             9,
             "premium"
            ],
            "returnType": "Boolean",
            "startOffset": 326367326
           },
           {
            "duration": 558,
            "fieldName": "creatorOverwrite",
            "parentType": "cnbcnewsstory",
            "path": [
             "assetList",
             "assets",
             9,
             "creatorOverwrite"
            ],
            "returnType": "String",
            "startOffset": 326369287
           },
           {
            "duration": 627,
            "fieldName": "coverageEndDate",
            "parentType": "cnbcnewsstory",
            "path": [
             "assetList",
             "assets",
             9,
             "coverageEndDate"
            ],
            "returnType": "String",
            "startOffset": 326370642
           },
           {
            "duration": 2223,
            "fieldName": "contentClassification",
            "parentType": "cnbcnewsstory",
            "path": [
             "assetList",
             "assets",
             9,
             "contentClassification"
            ],
            "returnType": "[String]",
            "startOffset": 326372399
           },
           {
            "duration": 566,
            "fieldName": "headline",
            "parentType": "cnbcnewsstory",
            "path": [
             "assetList",
             "assets",
             9,
             "linkHeadline"
            ],
            "returnType": "String",
            "startOffset": 326376315
           },
           {
            "duration": 1825,
            "fieldName": "author",
            "parentType": "cnbcnewsstory",
            "path": [
             "assetList",
             "assets",
             9,
             "author"
            ],
            "returnType": "[creator]",
            "startOffset": 326377947
           },
           {
            "duration": 664,
            "fieldName": "id",
            "parentType": "creator",
            "path": [
             "assetList",
             "assets",
             9,
             "author",
             0,
             "id"
            ],
            "returnType": "Int",
            "startOffset": 326382898
           },
           {
            "duration": 861,
            "fieldName": "name",
            "parentType": "creator",
            "path": [
             "assetList",
             "assets",
             9,
             "author",
             0,
             "name"
            ],
            "returnType": "String",
            "startOffset": 326384655
           },
           {
            "duration": 1007,
            "fieldName": "url",
            "parentType": "creator",
            "path": [
             "assetList",
             "assets",
             9,
             "author",
             0,
             "url"
            ],
            "returnType": "String",
            "startOffset": 326386715
           },
           {
            "duration": 9110716,
            "fieldName": "section",
            "parentType": "cnbcnewsstory",
            "path": [
             "assetList",
             "assets",
             9,
             "section"
            ],
            "returnType": "franchise",
            "startOffset": 326390005
           },
           {
            "duration": 153121,
            "fieldName": "dateLastPublishedSixHr",
            "parentType": "cnbcnewsstory",
            "path": [
             "assetList",
             "assets",
             9,
             "dateLastPublishedSixHr"
            ],
            "returnType": "String",
            "startOffset": 326405241
           },
           {
            "duration": 44976,
            "fieldName": "dateLastPublishedFormattedWithoutTime",
            "parentType": "cnbcnewsstory",
            "path": [
             "assetList",
             "assets",
             9,
             "dateLastPublishedFormattedWithoutTime"
            ],
            "returnType": "String",
            "startOffset": 326560372
           },
           {
            "duration": 1725,
            "fieldName": "promoImage",
            "parentType": "cnbcnewsstory",
            "path": [
             "assetList",
             "assets",
             9,
             "promoImage"
            ],
            "returnType": "infographic",
            "startOffset": 326607148
           },
           {
            "duration": 877,
            "fieldName": "id",
            "parentType": "infographic",
            "path": [
             "assetList",
             "assets",
             9,
             "promoImage",
             "id"
            ],
            "returnType": "Int",
            "startOffset": 326612214
           },
           {
            "duration": 1345,
            "fieldName": "url",
            "parentType": "infographic",
            "path": [
             "assetList",
             "assets",
             9,
             "promoImage",
             "url"
            ],
            "returnType": "String",
            "startOffset": 326614407
           },
           {
            "duration": 8895898,
            "fieldName": "sourceOrganization",
            "parentType": "cnbcnewsstory",
            "path": [
             "assetList",
             "assets",
             9,
             "sourceOrganization"
            ],
            "returnType": "[source]",
            "startOffset": 326618012
           },
           {
            "duration": 1271,
            "fieldName": "id",
            "parentType": "cnbcnewsstory",
            "path": [
             "assetList",
             "assets",
             10,
             "id"
            ],
            "returnType": "Int",
            "startOffset": 326724837
           },
           {
            "duration": 1318,
            "fieldName": "brand",
            "parentType": "cnbcnewsstory",
            "path": [
             "assetList",
             "assets",
             10,
             "brand"
            ],
            "returnType": "String",
            "startOffset": 326727298
           },
           {
            "duration": 722,
            "fieldName": "type",
            "parentType": "cnbcnewsstory",
            "path": [
             "assetList",
             "assets",
             10,
             "type"
            ],
            "returnType": "String",
            "startOffset": 326729494
           },
           {
            "duration": 1178,
            "fieldName": "url",
            "parentType": "cnbcnewsstory",
            "path": [
             "assetList",
             "assets",
             10,
             "url"
            ],
            "returnType": "String",
            "startOffset": 326731022
           },
           {
            "duration": 1244,
            "fieldName": "native",
            "parentType": "cnbcnewsstory",
            "path": [
             "assetList",
             "assets",
             10,
             "native"
            ],
            "returnType": "Boolean",
            "startOffset": 326733229
           },
           {
            "duration": 554,
            "fieldName": "datePublished",
            "parentType": "cnbcnewsstory",
            "path": [
             "assetList",
             "assets",
             10,
             "datePublished"
            ],
            "returnType": "String",
            "startOffset": 326735578
           },
           {
            "duration": 564,
            "fieldName": "description",
            "parentType": "cnbcnewsstory",
            "path": [
             "assetList",
             "assets",
             10,
             "description"
            ],
            "returnType": "String",
            "startOffset": 326737105
           },
           {
            "duration": 861,
            "fieldName": "title",
            "parentType": "cnbcnewsstory",
            "path": [
             "assetList",
             "assets",
             10,
             "title"
            ],
            "returnType": "String",
            "startOffset": 326738491
           },
           {
            "duration": 454,
            "fieldName": "headline",
            "parentType": "cnbcnewsstory",
            "path": [
             "assetList",
             "assets",
             10,
             "headline"
            ],
            "returnType": "String",
            "startOffset": 326740064
           },
           {
            "duration": 1157,
            "fieldName": "premium",
            "parentType": "cnbcnewsstory",
            "path": [
             "assetList",
             "assets",
             10,
             "premium"
            ],
            "returnType": "Boolean",
            "startOffset": 326741238
           },
           {
            "duration": 554,
            "fieldName": "creatorOverwrite",
            "parentType": "cnbcnewsstory",
            "path": [
             "assetList",
             "assets",
             10,
             "creatorOverwrite"
            ],
            "returnType": "String",
            "startOffset": 326743138
           },
           {
            "duration": 529,
            "fieldName": "coverageEndDate",
            "parentType": "cnbcnewsstory",
            "path": [
             "assetList",
             "assets",
             10,
             "coverageEndDate"
            ],
            "returnType": "String",
            "startOffset": 326744446
           },
           {
            "duration": 2174,
            "fieldName": "contentClassification",
            "parentType": "cnbcnewsstory",
            "path": [
             "assetList",
             "assets",
             10,
             "contentClassification"
            ],
            "returnType": "[String]",
            "startOffset": 326746225
           },
           {
            "duration": 671,
            "fieldName": "headline",
            "parentType": "cnbcnewsstory",
            "path": [
             "assetList",
             "assets",
             10,
             "linkHeadline"
            ],
            "returnType": "String",
            "startOffset": 326750008
           },
           {
            "duration": 1815,
            "fieldName": "author",
            "parentType": "cnbcnewsstory",
            "path": [
             "assetList",
             "assets",
             10,
             "author"
            ],
            "returnType": "[creator]",
            "startOffset": 326751543
           },
           {
            "duration": 694,
            "fieldName": "id",
            "parentType": "creator",
            "path": [
             "assetList",
             "assets",
             10,
             "author",
             0,
             "id"
            ],
            "returnType": "Int",
            "startOffset": 326756300
           },
           {
            "duration": 650,
            "fieldName": "name",
            "parentType": "creator",
            "path": [
             "assetList",
             "assets",
             10,
             "author",
             0,
             "name"
            ],
            "returnType": "String",
            "startOffset": 326758079
           },
           {
            "duration": 1028,
            "fieldName": "url",
            "parentType": "creator",
            "path": [
             "assetList",
             "assets",
             10,
             "author",
             0,
             "url"
            ],
            "returnType": "String",
            "startOffset": 326759638
           },
           {
            "duration": 8778339,
            "fieldName": "section",
            "parentType": "cnbcnewsstory",
            "path": [
             "assetList",
             "assets",
             10,
             "section"
            ],
            "returnType": "franchise",
            "startOffset": 326762958
           },
           {
            "duration": 163131,
            "fieldName": "dateLastPublishedSixHr",
            "parentType": "cnbcnewsstory",
            "path": [
             "assetList",
             "assets",
             10,
             "dateLastPublishedSixHr"
            ],
            "returnType": "String",
            "startOffset": 326778665
           },
           {
            "duration": 45508,
            "fieldName": "dateLastPublishedFormattedWithoutTime",
            "parentType": "cnbcnewsstory",
            "path": [
             "assetList",
             "assets",
             10,
             "dateLastPublishedFormattedWithoutTime"
            ],
            "returnType": "String",
            "startOffset": 326943990
           },
           {
            "duration": 1690,
            "fieldName": "promoImage",
            "parentType": "cnbcnewsstory",
            "path": [
             "assetList",
             "assets",
             10,
             "promoImage"
            ],
            "returnType": "infographic",
            "startOffset": 326991297
           },
           {
            "duration": 939,
            "fieldName": "id",
            "parentType": "infographic",
            "path": [
             "assetList",
             "assets",
             10,
             "promoImage",
             "id"
            ],
            "returnType": "Int",
            "startOffset": 326996495
           },
           {
            "duration": 1211,
            "fieldName": "url",
            "parentType": "infographic",
            "path": [
             "assetList",
             "assets",
             10,
             "promoImage",
             "url"
            ],
            "returnType": "String",
            "startOffset": 326999074
           },
           {
            "duration": 8552484,
            "fieldName": "sourceOrganization",
            "parentType": "cnbcnewsstory",
            "path": [
             "assetList",
             "assets",
             10,
             "sourceOrganization"
            ],
            "returnType": "[source]",
            "startOffset": 327002569
           },
           {
            "duration": 878,
            "fieldName": "id",
            "parentType": "cnbcnewsstory",
            "path": [
             "assetList",
             "assets",
             11,
             "id"
            ],
            "returnType": "Int",
            "startOffset": 327098335
           },
           {
            "duration": 1243,
            "fieldName": "brand",
            "parentType": "cnbcnewsstory",
            "path": [
             "assetList",
             "assets",
             11,
             "brand"
            ],
            "returnType": "String",
            "startOffset": 327100474
           },
           {
            "duration": 675,
            "fieldName": "type",
            "parentType": "cnbcnewsstory",
            "path": [
             "assetList",
             "assets",
             11,
             "type"
            ],
            "returnType": "String",
            "startOffset": 327102542
           },
           {
            "duration": 1121,
            "fieldName": "url",
            "parentType": "cnbcnewsstory",
            "path": [
             "assetList",
             "assets",
             11,
             "url"
            ],
            "returnType": "String",
            "startOffset": 327104058
           },
           {
            "duration": 1220,
            "fieldName": "native",
            "parentType": "cnbcnewsstory",
            "path": [
             "assetList",
             "assets",
             11,
             "native"
            ],
            "returnType": "Boolean",
            "startOffset": 327106185
           },
           {
            "duration": 633,
            "fieldName": "datePublished",
            "parentType": "cnbcnewsstory",
            "path": [
             "assetList",
             "assets",
             11,
             "datePublished"
            ],
            "returnType": "String",
            "startOffset": 327108411
           },
           {
            "duration": 558,
            "fieldName": "description",
            "parentType": "cnbcnewsstory",
            "path": [
             "assetList",
             "assets",
             11,
             "description"
            ],
            "returnType": "String",
            "startOffset": 327109968
           },
           {
            "duration": 936,
            "fieldName": "title",
            "parentType": "cnbcnewsstory",
            "path": [
             "assetList",
             "assets",
             11,
             "title"
            ],
            "returnType": "String",
            "startOffset": 327111472
           },
           {
            "duration": 448,
            "fieldName": "headline",
            "parentType": "cnbcnewsstory",
            "path": [
             "assetList",
             "assets",
             11,
             "headline"
            ],
            "returnType": "String",
            "startOffset": 327113128
           },
           {
            "duration": 1057,
            "fieldName": "premium",
            "parentType": "cnbcnewsstory",
            "path": [
             "assetList",
             "assets",
             11,
             "premium"
            ],
            "returnType": "Boolean",
            "startOffset": 327114258
           },
           {
            "duration": 547,
            "fieldName": "creatorOverwrite",
            "parentType": "cnbcnewsstory",
            "path": [
             "assetList",
             "assets",
             11,
             "creatorOverwrite"
            ],
            "returnType": "String",
            "startOffset": 327116162
           },
           {
            "duration": 632,
            "fieldName": "coverageEndDate",
            "parentType": "cnbcnewsstory",
            "path": [
             "assetList",
             "assets",
             11,
             "coverageEndDate"
            ],
            "returnType": "String",
            "startOffset": 327117450
           },
           {
            "duration": 2150,
            "fieldName": "contentClassification",
            "parentType": "cnbcnewsstory",
            "path": [
             "assetList",
             "assets",
             11,
             "contentClassification"
            ],
            "returnType": "[String]",
            "startOffset": 327119238
           },
           {
            "duration": 558,
            "fieldName": "headline",
            "parentType": "cnbcnewsstory",
            "path": [
             "assetList",
             "assets",
             11,
             "linkHeadline"
            ],
            "returnType": "String",
            "startOffset": 327122996
           },
           {
            "duration": 1920,
            "fieldName": "author",
            "parentType": "cnbcnewsstory",
            "path": [
             "assetList",
             "assets",
             11,
             "author"
            ],
            "returnType": "[creator]",
            "startOffset": 327124415
           },
           {
            "duration": 675,
            "fieldName": "id",
            "parentType": "creator",
            "path": [
             "assetList",
             "assets",
             11,
             "author",
             0,
             "id"
            ],
            "returnType": "Int",
            "startOffset": 327129257
           },
           {
            "duration": 507,
            "fieldName": "name",
            "parentType": "creator",
            "path": [
             "assetList",
             "assets",
             11,
             "author",
             0,
             "name"
            ],
            "returnType": "String",
            "startOffset": 327130912
           },
           {
            "duration": 907,
            "fieldName": "url",
            "parentType": "creator",
            "path": [
             "assetList",
             "assets",
             11,
             "author",
             0,
             "url"
            ],
            "returnType": "String",
            "startOffset": 327132257
           },
           {
            "duration": 8447951,
            "fieldName": "section",
            "parentType": "cnbcnewsstory",
            "path": [
             "assetList",
             "assets",
             11,
             "section"
            ],
            "returnType": "franchise",
            "startOffset": 327135223
           },
           {
            "duration": 150532,
            "fieldName": "dateLastPublishedSixHr",
            "parentType": "cnbcnewsstory",
            "path": [
             "assetList",
             "assets",
             11,
             "dateLastPublishedSixHr"
            ],
            "returnType": "String",
            "startOffset": 327149992
           },
           {
            "duration": 44456,
            "fieldName": "dateLastPublishedFormattedWithoutTime",
            "parentType": "cnbcnewsstory",
            "path": [
             "assetList",
             "assets",
             11,
             "dateLastPublishedFormattedWithoutTime"
            ],
            "returnType": "String",
            "startOffset": 327302549
           },
           {
            "duration": 1845,
            "fieldName": "promoImage",
            "parentType": "cnbcnewsstory",
            "path": [
             "assetList",
             "assets",
             11,
             "promoImage"
            ],
            "returnType": "infographic",
            "startOffset": 327348769
           },
           {
            "duration": 1130,
            "fieldName": "id",
            "parentType": "infographic",
            "path": [
             "assetList",
             "assets",
             11,
             "promoImage",
             "id"
            ],
            "returnType": "Int",
            "startOffset": 327354130
           },
           {
            "duration": 2008,
            "fieldName": "url",
            "parentType": "infographic",
            "path": [
             "assetList",
             "assets",
             11,
             "promoImage",
             "url"
            ],
            "returnType": "String",
            "startOffset": 327382177
           },
           {
            "duration": 8198394,
            "fieldName": "sourceOrganization",
            "parentType": "cnbcnewsstory",
            "path": [
             "assetList",
             "assets",
             11,
             "sourceOrganization"
            ],
            "returnType": "[source]",
            "startOffset": 327400488
           },
           {
            "duration": 1608,
            "fieldName": "id",
            "parentType": "cnbcnewsstory",
            "path": [
             "assetList",
             "assets",
             12,
             "id"
            ],
            "returnType": "Int",
            "startOffset": 327607392
           },
           {
            "duration": 1330,
            "fieldName": "brand",
            "parentType": "cnbcnewsstory",
            "path": [
             "assetList",
             "assets",
             12,
             "brand"
            ],
            "returnType": "String",
            "startOffset": 327610583
           },
           {
            "duration": 803,
            "fieldName": "type",
            "parentType": "cnbcnewsstory",
            "path": [
             "assetList",
             "assets",
             12,
             "type"
            ],
            "returnType": "String",
            "startOffset": 327612970
           },
           {
            "duration": 1510,
            "fieldName": "url",
            "parentType": "cnbcnewsstory",
            "path": [
             "assetList",
             "assets",
             12,
             "url"
            ],
            "returnType": "String",
            "startOffset": 327614780
           },
           {
            "duration": 1318,
            "fieldName": "native",
            "parentType": "cnbcnewsstory",
            "path": [
             "assetList",
             "assets",
             12,
             "native"
            ],
            "returnType": "Boolean",
            "startOffset": 327617320
           },
           {
            "duration": 679,
            "fieldName": "datePublished",
            "parentType": "cnbcnewsstory",
            "path": [
             "assetList",
             "assets",
             12,
             "datePublished"
            ],
            "returnType": "String",
            "startOffset": 327619672
           },
           {
            "duration": 538,
            "fieldName": "description",
            "parentType": "cnbcnewsstory",
            "path": [
             "assetList",
             "assets",
             12,
             "description"
            ],
            "returnType": "String",
            "startOffset": 327621344
           },
           {
            "duration": 838,
            "fieldName": "title",
            "parentType": "cnbcnewsstory",
            "path": [
             "assetList",
             "assets",
             12,
             "title"
            ],
            "returnType": "String",
            "startOffset": 327622594
           },
           {
            "duration": 447,
            "fieldName": "headline",
            "parentType": "cnbcnewsstory",
            "path": [
             "assetList",
             "assets",
             12,
             "headline"
            ],
            "returnType": "String",
            "startOffset": 327624203
           },
           {
            "duration": 1124,
            "fieldName": "premium",
            "parentType": "cnbcnewsstory",
            "path": [
             "assetList",
             "assets",
             12,
             "premium"
            ],
            "returnType": "Boolean",
            "startOffset": 327625336
           },
           {
            "duration": 537,
            "fieldName": "creatorOverwrite",
            "parentType": "cnbcnewsstory",
            "path": [
             "assetList",
             "assets",
             12,
             "creatorOverwrite"
            ],
            "returnType": "String",
            "startOffset": 327627253
           },
           {
            "duration": 570,
            "fieldName": "coverageEndDate",
            "parentType": "cnbcnewsstory",
            "path": [
             "assetList",
             "assets",
             12,
             "coverageEndDate"
            ],
            "returnType": "String",
            "startOffset": 327628553
           },
           {
            "duration": 2698,
            "fieldName": "contentClassification",
            "parentType": "cnbcnewsstory",
            "path": [
             "assetList",
             "assets",
             12,
             "contentClassification"
            ],
            "returnType": "[String]",
            "startOffset": 327630288
           },
           {
            "duration": 593,
            "fieldName": "headline",
            "parentType": "cnbcnewsstory",
            "path": [
             "assetList",
             "assets",
             12,
             "linkHeadline"
            ],
            "returnType": "String",
            "startOffset": 327634790
           },
           {
            "duration": 2069,
            "fieldName": "author",
            "parentType": "cnbcnewsstory",
            "path": [
             "assetList",
             "assets",
             12,
             "author"
            ],
            "returnType": "[creator]",
            "startOffset": 327636601
           },
           {
            "duration": 742,
            "fieldName": "id",
            "parentType": "creator",
            "path": [
             "assetList",
             "assets",
             12,
             "author",
             0,
             "id"
            ],
            "returnType": "Int",
            "startOffset": 327641868
           },
           {
            "duration": 475,
            "fieldName": "name",
            "parentType": "creator",
            "path": [
             "assetList",
             "assets",
             12,
             "author",
             0,
             "name"
            ],
            "returnType": "String",
            "startOffset": 327643731
           },
           {
            "duration": 921,
            "fieldName": "url",
            "parentType": "creator",
            "path": [
             "assetList",
             "assets",
             12,
             "author",
             0,
             "url"
            ],
            "returnType": "String",
            "startOffset": 327645889
           },
           {
            "duration": 7977103,
            "fieldName": "section",
            "parentType": "cnbcnewsstory",
            "path": [
             "assetList",
             "assets",
             12,
             "section"
            ],
            "returnType": "franchise",
            "startOffset": 327649206
           },
           {
            "duration": 184525,
            "fieldName": "dateLastPublishedSixHr",
            "parentType": "cnbcnewsstory",
            "path": [
             "assetList",
             "assets",
             12,
             "dateLastPublishedSixHr"
            ],
            "returnType": "String",
            "startOffset": 327666124
           },
           {
            "duration": 47454,
            "fieldName": "dateLastPublishedFormattedWithoutTime",
            "parentType": "cnbcnewsstory",
            "path": [
             "assetList",
             "assets",
             12,
             "dateLastPublishedFormattedWithoutTime"
            ],
            "returnType": "String",
            "startOffset": 327853508
           },
           {
            "duration": 2513,
            "fieldName": "promoImage",
            "parentType": "cnbcnewsstory",
            "path": [
             "assetList",
             "assets",
             12,
             "promoImage"
            ],
            "returnType": "infographic",
            "startOffset": 327902768
           },
           {
            "duration": 1025,
            "fieldName": "id",
            "parentType": "infographic",
            "path": [
             "assetList",
             "assets",
             12,
             "promoImage",
             "id"
            ],
            "returnType": "Int",
            "startOffset": 327908952
           },
           {
            "duration": 1533,
            "fieldName": "url",
            "parentType": "infographic",
            "path": [
             "assetList",
             "assets",
             12,
             "promoImage",
             "url"
            ],
            "returnType": "String",
            "startOffset": 327911435
           },
           {
            "duration": 7723543,
            "fieldName": "sourceOrganization",
            "parentType": "cnbcnewsstory",
            "path": [
             "assetList",
             "assets",
             12,
             "sourceOrganization"
            ],
            "returnType": "[source]",
            "startOffset": 327915529
           },
           {
            "duration": 880,
            "fieldName": "id",
            "parentType": "cnbcnewsstory",
            "path": [
             "assetList",
             "assets",
             13,
             "id"
            ],
            "returnType": "Int",
            "startOffset": 328011316
           },
           {
            "duration": 1202,
            "fieldName": "brand",
            "parentType": "cnbcnewsstory",
            "path": [
             "assetList",
             "assets",
             13,
             "brand"
            ],
            "returnType": "String",
            "startOffset": 328013333
           },
           {
            "duration": 617,
            "fieldName": "type",
            "parentType": "cnbcnewsstory",
            "path": [
             "assetList",
             "assets",
             13,
             "type"
            ],
            "returnType": "String",
            "startOffset": 328015357
           },
           {
            "duration": 1208,
            "fieldName": "url",
            "parentType": "cnbcnewsstory",
            "path": [
             "assetList",
             "assets",
             13,
             "url"
            ],
            "returnType": "String",
            "startOffset": 328016935
           },
           {
            "duration": 1297,
            "fieldName": "native",
            "parentType": "cnbcnewsstory",
            "path": [
             "assetList",
             "assets",
             13,
             "native"
            ],
            "returnType": "Boolean",
            "startOffset": 328019184
           },
           {
            "duration": 663,
            "fieldName": "datePublished",
            "parentType": "cnbcnewsstory",
            "path": [
             "assetList",
             "assets",
             13,
             "datePublished"
            ],
            "returnType": "String",
            "startOffset": 328021402
           },
           {
            "duration": 509,
            "fieldName": "description",
            "parentType": "cnbcnewsstory",
            "path": [
             "assetList",
             "assets",
             13,
             "description"
            ],
            "returnType": "String",
            "startOffset": 328023016
           },
           {
            "duration": 863,
            "fieldName": "title",
            "parentType": "cnbcnewsstory",
            "path": [
             "assetList",
             "assets",
             13,
             "title"
            ],
            "returnType": "String",
            "startOffset": 328024209
           },
           {
            "duration": 441,
            "fieldName": "headline",
            "parentType": "cnbcnewsstory",
            "path": [
             "assetList",
             "assets",
             13,
             "headline"
            ],
            "returnType": "String",
            "startOffset": 328025809
           },
           {
            "duration": 1169,
            "fieldName": "premium",
            "parentType": "cnbcnewsstory",
            "path": [
             "assetList",
             "assets",
             13,
             "premium"
            ],
            "returnType": "Boolean",
            "startOffset": 328026949
           },
           {
            "duration": 531,
            "fieldName": "creatorOverwrite",
            "parentType": "cnbcnewsstory",
            "path": [
             "assetList",
             "assets",
             13,
             "creatorOverwrite"
            ],
            "returnType": "String",
            "startOffset": 328028882
           },
           {
            "duration": 564,
            "fieldName": "coverageEndDate",
            "parentType": "cnbcnewsstory",
            "path": [
             "assetList",
             "assets",
             13,
             "coverageEndDate"
            ],
            "returnType": "String",
            "startOffset": 328030197
           },
           {
            "duration": 2435,
            "fieldName": "contentClassification",
            "parentType": "cnbcnewsstory",
            "path": [
             "assetList",
             "assets",
             13,
             "contentClassification"
            ],
            "returnType": "[String]",
            "startOffset": 328031847
           },
           {
            "duration": 569,
            "fieldName": "headline",
            "parentType": "cnbcnewsstory",
            "path": [
             "assetList",
             "assets",
             13,
             "linkHeadline"
            ],
            "returnType": "String",
            "startOffset": 328036180
           },
           {
            "duration": 1865,
            "fieldName": "author",
            "parentType": "cnbcnewsstory",
            "path": [
             "assetList",
             "assets",
             13,
             "author"
            ],
            "returnType": "[creator]",
            "startOffset": 328037726
           },
           {
            "duration": 771,
            "fieldName": "id",
            "parentType": "creator",
            "path": [
             "assetList",
             "assets",
             13,
             "author",
             0,
             "id"
            ],
            "returnType": "Int",
            "startOffset": 328042905
           },
           {
            "duration": 535,
            "fieldName": "name",
            "parentType": "creator",
            "path": [
             "assetList",
             "assets",
             13,
             "author",
             0,
             "name"
            ],
            "returnType": "String",
            "startOffset": 328044692
           },
           {
            "duration": 849,
            "fieldName": "url",
            "parentType": "creator",
            "path": [
             "assetList",
             "assets",
             13,
             "author",
             0,
             "url"
            ],
            "returnType": "String",
            "startOffset": 328046161
           },
           {
            "duration": 7618449,
            "fieldName": "section",
            "parentType": "cnbcnewsstory",
            "path": [
             "assetList",
             "assets",
             13,
             "section"
            ],
            "returnType": "franchise",
            "startOffset": 328049257
           },
           {
            "duration": 150867,
            "fieldName": "dateLastPublishedSixHr",
            "parentType": "cnbcnewsstory",
            "path": [
             "assetList",
             "assets",
             13,
             "dateLastPublishedSixHr"
            ],
            "returnType": "String",
            "startOffset": 328063974
           },
           {
            "duration": 44363,
            "fieldName": "dateLastPublishedFormattedWithoutTime",
            "parentType": "cnbcnewsstory",
            "path": [
             "assetList",
             "assets",
             13,
             "dateLastPublishedFormattedWithoutTime"
            ],
            "returnType": "String",
            "startOffset": 328216798
           },
           {
            "duration": 2000,
            "fieldName": "promoImage",
            "parentType": "cnbcnewsstory",
            "path": [
             "assetList",
             "assets",
             13,
             "promoImage"
            ],
            "returnType": "infographic",
            "startOffset": 328262948
           },
           {
            "duration": 930,
            "fieldName": "id",
            "parentType": "infographic",
            "path": [
             "assetList",
             "assets",
             13,
             "promoImage",
             "id"
            ],
            "returnType": "Int",
            "startOffset": 328268312
           },
           {
            "duration": 2243,
            "fieldName": "url",
            "parentType": "infographic",
            "path": [
             "assetList",
             "assets",
             13,
             "promoImage",
             "url"
            ],
            "returnType": "String",
            "startOffset": 328270588
           },
           {
            "duration": 7405503,
            "fieldName": "sourceOrganization",
            "parentType": "cnbcnewsstory",
            "path": [
             "assetList",
             "assets",
             13,
             "sourceOrganization"
            ],
            "returnType": "[source]",
            "startOffset": 328275370
           },
           {
            "duration": 1003,
            "fieldName": "id",
            "parentType": "live_story",
            "path": [
             "assetList",
             "assets",
             14,
             "id"
            ],
            "returnType": "Int",
            "startOffset": 328371058
           },
           {
            "duration": 1260,
            "fieldName": "brand",
            "parentType": "live_story",
            "path": [
             "assetList",
             "assets",
             14,
             "brand"
            ],
            "returnType": "String",
            "startOffset": 328374178
           },
           {
            "duration": 686,
            "fieldName": "type",
            "parentType": "live_story",
            "path": [
             "assetList",
             "assets",
             14,
             "type"
            ],
            "returnType": "String",
            "startOffset": 328376873
           },
           {
            "duration": 1308,
            "fieldName": "url",
            "parentType": "live_story",
            "path": [
             "assetList",
             "assets",
             14,
             "url"
            ],
            "returnType": "String",
            "startOffset": 328378825
           },
           {
            "duration": 1203,
            "fieldName": "native",
            "parentType": "live_story",
            "path": [
             "assetList",
             "assets",
             14,
             "native"
            ],
            "returnType": "Boolean",
            "startOffset": 328381622
           },
           {
            "duration": 671,
            "fieldName": "datePublished",
            "parentType": "live_story",
            "path": [
             "assetList",
             "assets",
             14,
             "datePublished"
            ],
            "returnType": "String",
            "startOffset": 328383977
           },
           {
            "duration": 725,
            "fieldName": "description",
            "parentType": "live_story",
            "path": [
             "assetList",
             "assets",
             14,
             "description"
            ],
            "returnType": "String",
            "startOffset": 328386079
           },
           {
            "duration": 913,
            "fieldName": "title",
            "parentType": "live_story",
            "path": [
             "assetList",
             "assets",
             14,
             "title"
            ],
            "returnType": "String",
            "startOffset": 328387976
           },
           {
            "duration": 553,
            "fieldName": "headline",
            "parentType": "live_story",
            "path": [
             "assetList",
             "assets",
             14,
             "headline"
            ],
            "returnType": "String",
            "startOffset": 328390348
           },
           {
            "duration": 1260,
            "fieldName": "premium",
            "parentType": "live_story",
            "path": [
             "assetList",
             "assets",
             14,
             "premium"
            ],
            "returnType": "Boolean",
            "startOffset": 328392209
           },
           {
            "duration": 606,
            "fieldName": "creatorOverwrite",
            "parentType": "live_story",
            "path": [
             "assetList",
             "assets",
             14,
             "creatorOverwrite"
            ],
            "returnType": "String",
            "startOffset": 328394414
           },
           {
            "duration": 573,
            "fieldName": "coverageEndDate",
            "parentType": "live_story",
            "path": [
             "assetList",
             "assets",
             14,
             "coverageEndDate"
            ],
            "returnType": "String",
            "startOffset": 328396270
           },
           {
            "duration": 2187,
            "fieldName": "contentClassification",
            "parentType": "live_story",
            "path": [
             "assetList",
             "assets",
             14,
             "contentClassification"
            ],
            "returnType": "[String]",
            "startOffset": 328398125
           },
           {
            "duration": 591,
            "fieldName": "headline",
            "parentType": "live_story",
            "path": [
             "assetList",
             "assets",
             14,
             "linkHeadline"
            ],
            "returnType": "String",
            "startOffset": 328402057
           },
           {
            "duration": 2140,
            "fieldName": "author",
            "parentType": "live_story",
            "path": [
             "assetList",
             "assets",
             14,
             "author"
            ],
            "returnType": "[creator]",
            "startOffset": 328403842
           },
           {
            "duration": 627,
            "fieldName": "id",
            "parentType": "creator",
            "path": [
             "assetList",
             "assets",
             14,
             "author",
             0,
             "id"
            ],
            "returnType": "Int",
            "startOffset": 328409007
           },
           {
            "duration": 635,
            "fieldName": "name",
            "parentType": "creator",
            "path": [
             "assetList",
             "assets",
             14,
             "author",
             0,
             "name"
            ],
            "returnType": "String",
            "startOffset": 328410565
           },
           {
            "duration": 945,
            "fieldName": "url",
            "parentType": "creator",
            "path": [
             "assetList",
             "assets",
             14,
             "author",
             0,
             "url"
            ],
            "returnType": "String",
            "startOffset": 328412074
           },
           {
            "duration": 7308254,
            "fieldName": "section",
            "parentType": "live_story",
            "path": [
             "assetList",
             "assets",
             14,
             "section"
            ],
            "returnType": "franchise",
            "startOffset": 328415770
           },
           {
            "duration": 154658,
            "fieldName": "dateLastPublishedSixHr",
            "parentType": "live_story",
            "path": [
             "assetList",
             "assets",
             14,
             "dateLastPublishedSixHr"
            ],
            "returnType": "String",
            "startOffset": 328440598
           },
           {
            "duration": 46465,
            "fieldName": "dateLastPublishedFormattedWithoutTime",
            "parentType": "live_story",
            "path": [
             "assetList",
             "assets",
             14,
             "dateLastPublishedFormattedWithoutTime"
            ],
            "returnType": "String",
            "startOffset": 328597792
           },
           {
            "duration": 2145,
            "fieldName": "promoImage",
            "parentType": "live_story",
            "path": [
             "assetList",
             "assets",
             14,
             "promoImage"
            ],
            "returnType": "infographic",
            "startOffset": 328646175
           },
           {
            "duration": 822,
            "fieldName": "id",
            "parentType": "infographic",
            "path": [
             "assetList",
             "assets",
             14,
             "promoImage",
             "id"
            ],
            "returnType": "Int",
            "startOffset": 328651977
           },
           {
            "duration": 1327,
            "fieldName": "url",
            "parentType": "infographic",
            "path": [
             "assetList",
             "assets",
             14,
             "promoImage",
             "url"
            ],
            "returnType": "String",
            "startOffset": 328654119
           },
           {
            "duration": 7079279,
            "fieldName": "sourceOrganization",
            "parentType": "live_story",
            "path": [
             "assetList",
             "assets",
             14,
             "sourceOrganization"
            ],
            "returnType": "[source]",
            "startOffset": 328658494
           },
           {
            "duration": 1352,
            "fieldName": "id",
            "parentType": "cnbcnewsstory",
            "path": [
             "assetList",
             "assets",
             15,
             "id"
            ],
            "returnType": "Int",
            "startOffset": 328777139
           },
           {
            "duration": 1566,
            "fieldName": "brand",
            "parentType": "cnbcnewsstory",
            "path": [
             "assetList",
             "assets",
             15,
             "brand"
            ],
            "returnType": "String",
            "startOffset": 328780207
           },
           {
            "duration": 710,
            "fieldName": "type",
            "parentType": "cnbcnewsstory",
            "path": [
             "assetList",
             "assets",
             15,
             "type"
            ],
            "returnType": "String",
            "startOffset": 328782851
           },
           {
            "duration": 1336,
            "fieldName": "url",
            "parentType": "cnbcnewsstory",
            "path": [
             "assetList",
             "assets",
             15,
             "url"
            ],
            "returnType": "String",
            "startOffset": 328784559
           },
           {
            "duration": 1118,
            "fieldName": "native",
            "parentType": "cnbcnewsstory",
            "path": [
             "assetList",
             "assets",
             15,
             "native"
            ],
            "returnType": "Boolean",
            "startOffset": 328787017
           },
           {
            "duration": 720,
            "fieldName": "datePublished",
            "parentType": "cnbcnewsstory",
            "path": [
             "assetList",
             "assets",
             15,
             "datePublished"
            ],
            "returnType": "String",
            "startOffset": 328789151
           },
           {
            "duration": 507,
            "fieldName": "description",
            "parentType": "cnbcnewsstory",
            "path": [
             "assetList",
             "assets",
             15,
             "description"
            ],
            "returnType": "String",
            "startOffset": 328790844
           },
           {
            "duration": 830,
            "fieldName": "title",
            "parentType": "cnbcnewsstory",
            "path": [
             "assetList",
             "assets",
             15,
             "title"
            ],
            "returnType": "String",
            "startOffset": 328792115
           },
           {
            "duration": 473,
            "fieldName": "headline",
            "parentType": "cnbcnewsstory",
            "path": [
             "assetList",
             "assets",
             15,
             "headline"
            ],
            "returnType": "String",
            "startOffset": 328793718
           },
           {
            "duration": 1048,
            "fieldName": "premium",
            "parentType": "cnbcnewsstory",
            "path": [
             "assetList",
             "assets",
             15,
             "premium"
            ],
            "returnType": "Boolean",
            "startOffset": 328794883
           },
           {
            "duration": 521,
            "fieldName": "creatorOverwrite",
            "parentType": "cnbcnewsstory",
            "path": [
             "assetList",
             "assets",
             15,
             "creatorOverwrite"
            ],
            "returnType": "String",
            "startOffset": 328796701
           },
           {
            "duration": 552,
            "fieldName": "coverageEndDate",
            "parentType": "cnbcnewsstory",
            "path": [
             "assetList",
             "assets",
             15,
             "coverageEndDate"
            ],
            "returnType": "String",
            "startOffset": 328798007
           },
           {
            "duration": 2349,
            "fieldName": "contentClassification",
            "parentType": "cnbcnewsstory",
            "path": [
             "assetList",
             "assets",
             15,
             "contentClassification"
            ],
            "returnType": "[String]",
            "startOffset": 328799774
           },
           {
            "duration": 947,
            "fieldName": "headline",
            "parentType": "cnbcnewsstory",
            "path": [
             "assetList",
             "assets",
             15,
             "linkHeadline"
            ],
            "returnType": "String",
            "startOffset": 328803965
           },
           {
            "duration": 3261,
            "fieldName": "author",
            "parentType": "cnbcnewsstory",
            "path": [
             "assetList",
             "assets",
             15,
             "author"
            ],
            "returnType": "[creator]",
            "startOffset": 328806133
           },
           {
            "duration": 565,
            "fieldName": "id",
            "parentType": "creator",
            "path": [
             "assetList",
             "assets",
             15,
             "author",
             0,
             "id"
            ],
            "returnType": "Int",
            "startOffset": 328812934
           },
           {
            "duration": 651,
            "fieldName": "name",
            "parentType": "creator",
            "path": [
             "assetList",
             "assets",
             15,
             "author",
             0,
             "name"
            ],
            "returnType": "String",
            "startOffset": 328814579
           },
           {
            "duration": 2209,
            "fieldName": "url",
            "parentType": "creator",
            "path": [
             "assetList",
             "assets",
             15,
             "author",
             0,
             "url"
            ],
            "returnType": "String",
            "startOffset": 328816052
           },
           {
            "duration": 6945221,
            "fieldName": "section",
            "parentType": "cnbcnewsstory",
            "path": [
             "assetList",
             "assets",
             15,
             "section"
            ],
            "returnType": "franchise",
            "startOffset": 328820505
           },
           {
            "duration": 240284,
            "fieldName": "dateLastPublishedSixHr",
            "parentType": "cnbcnewsstory",
            "path": [
             "assetList",
             "assets",
             15,
             "dateLastPublishedSixHr"
            ],
            "returnType": "String",
            "startOffset": 328881436
           },
           {
            "duration": 51177,
            "fieldName": "dateLastPublishedFormattedWithoutTime",
            "parentType": "cnbcnewsstory",
            "path": [
             "assetList",
             "assets",
             15,
             "dateLastPublishedFormattedWithoutTime"
            ],
            "returnType": "String",
            "startOffset": 329125006
           },
           {
            "duration": 12766,
            "fieldName": "promoImage",
            "parentType": "cnbcnewsstory",
            "path": [
             "assetList",
             "assets",
             15,
             "promoImage"
            ],
            "returnType": "infographic",
            "startOffset": 329178144
           },
           {
            "duration": 1120,
            "fieldName": "id",
            "parentType": "infographic",
            "path": [
             "assetList",
             "assets",
             15,
             "promoImage",
             "id"
            ],
            "returnType": "Int",
            "startOffset": 329195251
           },
           {
            "duration": 3021,
            "fieldName": "url",
            "parentType": "infographic",
            "path": [
             "assetList",
             "assets",
             15,
             "promoImage",
             "url"
            ],
            "returnType": "String",
            "startOffset": 329197944
           },
           {
            "duration": 6575647,
            "fieldName": "sourceOrganization",
            "parentType": "cnbcnewsstory",
            "path": [
             "assetList",
             "assets",
             15,
             "sourceOrganization"
            ],
            "returnType": "[source]",
            "startOffset": 329203737
           },
           {
            "duration": 1063,
            "fieldName": "id",
            "parentType": "cnbcnewsstory",
            "path": [
             "assetList",
             "assets",
             16,
             "id"
            ],
            "returnType": "Int",
            "startOffset": 329317912
           },
           {
            "duration": 1540,
            "fieldName": "brand",
            "parentType": "cnbcnewsstory",
            "path": [
             "assetList",
             "assets",
             16,
             "brand"
            ],
            "returnType": "String",
            "startOffset": 329320357
           },
           {
            "duration": 721,
            "fieldName": "type",
            "parentType": "cnbcnewsstory",
            "path": [
             "assetList",
             "assets",
             16,
             "type"
            ],
            "returnType": "String",
            "startOffset": 329322808
           },
           {
            "duration": 1602,
            "fieldName": "url",
            "parentType": "cnbcnewsstory",
            "path": [
             "assetList",
             "assets",
             16,
             "url"
            ],
            "returnType": "String",
            "startOffset": 329324255
           },
           {
            "duration": 1256,
            "fieldName": "native",
            "parentType": "cnbcnewsstory",
            "path": [
             "assetList",
             "assets",
             16,
             "native"
            ],
            "returnType": "Boolean",
            "startOffset": 329326932
           },
           {
            "duration": 549,
            "fieldName": "datePublished",
            "parentType": "cnbcnewsstory",
            "path": [
             "assetList",
             "assets",
             16,
             "datePublished"
            ],
            "returnType": "String",
            "startOffset": 329329258
           },
           {
            "duration": 502,
            "fieldName": "description",
            "parentType": "cnbcnewsstory",
            "path": [
             "assetList",
             "assets",
             16,
             "description"
            ],
            "returnType": "String",
            "startOffset": 329330905
           },
           {
            "duration": 1029,
            "fieldName": "title",
            "parentType": "cnbcnewsstory",
            "path": [
             "assetList",
             "assets",
             16,
             "title"
            ],
            "returnType": "String",
            "startOffset": 329332132
           },
           {
            "duration": 451,
            "fieldName": "headline",
            "parentType": "cnbcnewsstory",
            "path": [
             "assetList",
             "assets",
             16,
             "headline"
            ],
            "returnType": "String",
            "startOffset": 329333994
           },
           {
            "duration": 1088,
            "fieldName": "premium",
            "parentType": "cnbcnewsstory",
            "path": [
             "assetList",
             "assets",
             16,
             "premium"
            ],
            "returnType": "Boolean",
            "startOffset": 329335215
           },
           {
            "duration": 571,
            "fieldName": "creatorOverwrite",
            "parentType": "cnbcnewsstory",
            "path": [
             "assetList",
             "assets",
             16,
             "creatorOverwrite"
            ],
            "returnType": "String",
            "startOffset": 329337188
           },
           {
            "duration": 652,
            "fieldName": "coverageEndDate",
            "parentType": "cnbcnewsstory",
            "path": [
             "assetList",
             "assets",
             16,
             "coverageEndDate"
            ],
            "returnType": "String",
            "startOffset": 329338561
           },
           {
            "duration": 2520,
            "fieldName": "contentClassification",
            "parentType": "cnbcnewsstory",
            "path": [
             "assetList",
             "assets",
             16,
             "contentClassification"
            ],
            "returnType": "[String]",
            "startOffset": 329340461
           },
           {
            "duration": 568,
            "fieldName": "headline",
            "parentType": "cnbcnewsstory",
            "path": [
             "assetList",
             "assets",
             16,
             "linkHeadline"
            ],
            "returnType": "String",
            "startOffset": 329344725
           },
           {
            "duration": 1904,
            "fieldName": "author",
            "parentType": "cnbcnewsstory",
            "path": [
             "assetList",
             "assets",
             16,
             "author"
            ],
            "returnType": "[creator]",
            "startOffset": 329346274
           },
           {
            "duration": 572,
            "fieldName": "id",
            "parentType": "creator",
            "path": [
             "assetList",
             "assets",
             16,
             "author",
             0,
             "id"
            ],
            "returnType": "Int",
            "startOffset": 329351221
           },
           {
            "duration": 516,
            "fieldName": "name",
            "parentType": "creator",
            "path": [
             "assetList",
             "assets",
             16,
             "author",
             0,
             "name"
            ],
            "returnType": "String",
            "startOffset": 329353575
           },
           {
            "duration": 968,
            "fieldName": "url",
            "parentType": "creator",
            "path": [
             "assetList",
             "assets",
             16,
             "author",
             0,
             "url"
            ],
            "returnType": "String",
            "startOffset": 329355092
           },
           {
            "duration": 6449948,
            "fieldName": "section",
            "parentType": "cnbcnewsstory",
            "path": [
             "assetList",
             "assets",
             16,
             "section"
            ],
            "returnType": "franchise",
            "startOffset": 329358248
           },
           {
            "duration": 151457,
            "fieldName": "dateLastPublishedSixHr",
            "parentType": "cnbcnewsstory",
            "path": [
             "assetList",
             "assets",
             16,
             "dateLastPublishedSixHr"
            ],
            "returnType": "String",
            "startOffset": 329374325
           },
           {
            "duration": 45157,
            "fieldName": "dateLastPublishedFormattedWithoutTime",
            "parentType": "cnbcnewsstory",
            "path": [
             "assetList",
             "assets",
             16,
             "dateLastPublishedFormattedWithoutTime"
            ],
            "returnType": "String",
            "startOffset": 329527874
           },
           {
            "duration": 2033,
            "fieldName": "promoImage",
            "parentType": "cnbcnewsstory",
            "path": [
             "assetList",
             "assets",
             16,
             "promoImage"
            ],
            "returnType": "infographic",
            "startOffset": 329574744
           },
           {
            "duration": 682,
            "fieldName": "id",
            "parentType": "infographic",
            "path": [
             "assetList",
             "assets",
             16,
             "promoImage",
             "id"
            ],
            "returnType": "Int",
            "startOffset": 329579872
           },
           {
            "duration": 1438,
            "fieldName": "url",
            "parentType": "infographic",
            "path": [
             "assetList",
             "assets",
             16,
             "promoImage",
             "url"
            ],
            "returnType": "String",
            "startOffset": 329582272
           },
           {
            "duration": 6235958,
            "fieldName": "sourceOrganization",
            "parentType": "cnbcnewsstory",
            "path": [
             "assetList",
             "assets",
             16,
             "sourceOrganization"
            ],
            "returnType": "[source]",
            "startOffset": 329586172
           },
           {
            "duration": 875,
            "fieldName": "id",
            "parentType": "cnbcnewsstory",
            "path": [
             "assetList",
             "assets",
             17,
             "id"
            ],
            "returnType": "Int",
            "startOffset": 329681545
           },
           {
            "duration": 1184,
            "fieldName": "brand",
            "parentType": "cnbcnewsstory",
            "path": [
             "assetList",
             "assets",
             17,
             "brand"
            ],
            "returnType": "String",
            "startOffset": 329683477
           },
           {
            "duration": 14340,
            "fieldName": "type",
            "parentType": "cnbcnewsstory",
            "path": [
             "assetList",
             "assets",
             17,
             "type"
            ],
            "returnType": "String",
            "startOffset": 329685633
           },
           {
            "duration": 1169,
            "fieldName": "url",
            "parentType": "cnbcnewsstory",
            "path": [
             "assetList",
             "assets",
             17,
             "url"
            ],
            "returnType": "String",
            "startOffset": 329700766
           },
           {
            "duration": 1325,
            "fieldName": "native",
            "parentType": "cnbcnewsstory",
            "path": [
             "assetList",
             "assets",
             17,
             "native"
            ],
            "returnType": "Boolean",
            "startOffset": 329703190
           },
           {
            "duration": 536,
            "fieldName": "datePublished",
            "parentType": "cnbcnewsstory",
            "path": [
             "assetList",
             "assets",
             17,
             "datePublished"
            ],
            "returnType": "String",
            "startOffset": 329705521
           },
           {
            "duration": 477,
            "fieldName": "description",
            "parentType": "cnbcnewsstory",
            "path": [
             "assetList",
             "assets",
             17,
             "description"
            ],
            "returnType": "String",
            "startOffset": 329707203
           },
           {
            "duration": 799,
            "fieldName": "title",
            "parentType": "cnbcnewsstory",
            "path": [
             "assetList",
             "assets",
             17,
             "title"
            ],
            "returnType": "String",
            "startOffset": 329708345
           },
           {
            "duration": 530,
            "fieldName": "headline",
            "parentType": "cnbcnewsstory",
            "path": [
             "assetList",
             "assets",
             17,
             "headline"
            ],
            "returnType": "String",
            "startOffset": 329709870
           },
           {
            "duration": 1010,
            "fieldName": "premium",
            "parentType": "cnbcnewsstory",
            "path": [
             "assetList",
             "assets",
             17,
             "premium"
            ],
            "returnType": "Boolean",
            "startOffset": 329711131
           },
           {
            "duration": 548,
            "fieldName": "creatorOverwrite",
            "parentType": "cnbcnewsstory",
            "path": [
             "assetList",
             "assets",
             17,
             "creatorOverwrite"
            ],
            "returnType": "String",
            "startOffset": 329712837
           },
           {
            "duration": 538,
            "fieldName": "coverageEndDate",
            "parentType": "cnbcnewsstory",
            "path": [
             "assetList",
             "assets",
             17,
             "coverageEndDate"
            ],
            "returnType": "String",
            "startOffset": 329714275
           },
           {
            "duration": 2426,
            "fieldName": "contentClassification",
            "parentType": "cnbcnewsstory",
            "path": [
             "assetList",
             "assets",
             17,
             "contentClassification"
            ],
            "returnType": "[String]",
            "startOffset": 329715713
           },
           {
            "duration": 474,
            "fieldName": "headline",
            "parentType": "cnbcnewsstory",
            "path": [
             "assetList",
             "assets",
             17,
             "linkHeadline"
            ],
            "returnType": "String",
            "startOffset": 329720095
           },
           {
            "duration": 1922,
            "fieldName": "author",
            "parentType": "cnbcnewsstory",
            "path": [
             "assetList",
             "assets",
             17,
             "author"
            ],
            "returnType": "[creator]",
            "startOffset": 329721408
           },
           {
            "duration": 765,
            "fieldName": "id",
            "parentType": "creator",
            "path": [
             "assetList",
             "assets",
             17,
             "author",
             0,
             "id"
            ],
            "returnType": "Int",
            "startOffset": 329726673
           },
           {
            "duration": 533,
            "fieldName": "name",
            "parentType": "creator",
            "path": [
             "assetList",
             "assets",
             17,
             "author",
             0,
             "name"
            ],
            "returnType": "String",
            "startOffset": 329728546
           },
           {
            "duration": 836,
            "fieldName": "url",
            "parentType": "creator",
            "path": [
             "assetList",
             "assets",
             17,
             "author",
             0,
             "url"
            ],
            "returnType": "String",
            "startOffset": 329729918
           },
           {
            "duration": 6117999,
            "fieldName": "section",
            "parentType": "cnbcnewsstory",
            "path": [
             "assetList",
             "assets",
             17,
             "section"
            ],
            "returnType": "franchise",
            "startOffset": 329733206
           },
           {
            "duration": 159072,
            "fieldName": "dateLastPublishedSixHr",
            "parentType": "cnbcnewsstory",
            "path": [
             "assetList",
             "assets",
             17,
             "dateLastPublishedSixHr"
            ],
            "returnType": "String",
            "startOffset": 329749831
           },
           {
            "duration": 45050,
            "fieldName": "dateLastPublishedFormattedWithoutTime",
            "parentType": "cnbcnewsstory",
            "path": [
             "assetList",
             "assets",
             17,
             "dateLastPublishedFormattedWithoutTime"
            ],
            "returnType": "String",
            "startOffset": 329911084
           },
           {
            "duration": 1761,
            "fieldName": "promoImage",
            "parentType": "cnbcnewsstory",
            "path": [
             "assetList",
             "assets",
             17,
             "promoImage"
            ],
            "returnType": "infographic",
            "startOffset": 329957853
           },
           {
            "duration": 822,
            "fieldName": "id",
            "parentType": "infographic",
            "path": [
             "assetList",
             "assets",
             17,
             "promoImage",
             "id"
            ],
            "returnType": "Int",
            "startOffset": 329962864
           },
           {
            "duration": 1375,
            "fieldName": "url",
            "parentType": "infographic",
            "path": [
             "assetList",
             "assets",
             17,
             "promoImage",
             "url"
            ],
            "returnType": "String",
            "startOffset": 329965173
           },
           {
            "duration": 5895681,
            "fieldName": "sourceOrganization",
            "parentType": "cnbcnewsstory",
            "path": [
             "assetList",
             "assets",
             17,
             "sourceOrganization"
            ],
            "returnType": "[source]",
            "startOffset": 329968948
           },
           {
            "duration": 821,
            "fieldName": "id",
            "parentType": "cnbcnewsstory",
            "path": [
             "assetList",
             "assets",
             18,
             "id"
            ],
            "returnType": "Int",
            "startOffset": 330063921
           },
           {
            "duration": 1166,
            "fieldName": "brand",
            "parentType": "cnbcnewsstory",
            "path": [
             "assetList",
             "assets",
             18,
             "brand"
            ],
            "returnType": "String",
            "startOffset": 330065892
           },
           {
            "duration": 693,
            "fieldName": "type",
            "parentType": "cnbcnewsstory",
            "path": [
             "assetList",
             "assets",
             18,
             "type"
            ],
            "returnType": "String",
            "startOffset": 330067945
           },
           {
            "duration": 1011,
            "fieldName": "url",
            "parentType": "cnbcnewsstory",
            "path": [
             "assetList",
             "assets",
             18,
             "url"
            ],
            "returnType": "String",
            "startOffset": 330069315
           },
           {
            "duration": 1223,
            "fieldName": "native",
            "parentType": "cnbcnewsstory",
            "path": [
             "assetList",
             "assets",
             18,
             "native"
            ],
            "returnType": "Boolean",
            "startOffset": 330071520
           },
           {
            "duration": 503,
            "fieldName": "datePublished",
            "parentType": "cnbcnewsstory",
            "path": [
             "assetList",
             "assets",
             18,
             "datePublished"
            ],
            "returnType": "String",
            "startOffset": 330073690
           },
           {
            "duration": 565,
            "fieldName": "description",
            "parentType": "cnbcnewsstory",
            "path": [
             "assetList",
             "assets",
             18,
             "description"
            ],
            "returnType": "String",
            "startOffset": 330075245
           },
           {
            "duration": 831,
            "fieldName": "title",
            "parentType": "cnbcnewsstory",
            "path": [
             "assetList",
             "assets",
             18,
             "title"
            ],
            "returnType": "String",
            "startOffset": 330076506
           },
           {
            "duration": 548,
            "fieldName": "headline",
            "parentType": "cnbcnewsstory",
            "path": [
             "assetList",
             "assets",
             18,
             "headline"
            ],
            "returnType": "String",
            "startOffset": 330078138
           },
           {
            "duration": 1006,
            "fieldName": "premium",
            "parentType": "cnbcnewsstory",
            "path": [
             "assetList",
             "assets",
             18,
             "premium"
            ],
            "returnType": "Boolean",
            "startOffset": 330079382
           },
           {
            "duration": 525,
            "fieldName": "creatorOverwrite",
            "parentType": "cnbcnewsstory",
            "path": [
             "assetList",
             "assets",
             18,
             "creatorOverwrite"
            ],
            "returnType": "String",
            "startOffset": 330081134
           },
           {
            "duration": 571,
            "fieldName": "coverageEndDate",
            "parentType": "cnbcnewsstory",
            "path": [
             "assetList",
             "assets",
             18,
             "coverageEndDate"
            ],
            "returnType": "String",
            "startOffset": 330082508
           },
           {
            "duration": 2303,
            "fieldName": "contentClassification",
            "parentType": "cnbcnewsstory",
            "path": [
             "assetList",
             "assets",
             18,
             "contentClassification"
            ],
            "returnType": "[String]",
            "startOffset": 330084061
           },
           {
            "duration": 517,
            "fieldName": "headline",
            "parentType": "cnbcnewsstory",
            "path": [
             "assetList",
             "assets",
             18,
             "linkHeadline"
            ],
            "returnType": "String",
            "startOffset": 330088161
           },
           {
            "duration": 1663,
            "fieldName": "author",
            "parentType": "cnbcnewsstory",
            "path": [
             "assetList",
             "assets",
             18,
             "author"
            ],
            "returnType": "[creator]",
            "startOffset": 330089462
           },
           {
            "duration": 707,
            "fieldName": "id",
            "parentType": "creator",
            "path": [
             "assetList",
             "assets",
             18,
             "author",
             0,
             "id"
            ],
            "returnType": "Int",
            "startOffset": 330093865
           },
           {
            "duration": 522,
            "fieldName": "name",
            "parentType": "creator",
            "path": [
             "assetList",
             "assets",
             18,
             "author",
             0,
             "name"
            ],
            "returnType": "String",
            "startOffset": 330095564
           },
           {
            "duration": 877,
            "fieldName": "url",
            "parentType": "creator",
            "path": [
             "assetList",
             "assets",
             18,
             "author",
             0,
             "url"
            ],
            "returnType": "String",
            "startOffset": 330096945
           },
           {
            "duration": 5791854,
            "fieldName": "section",
            "parentType": "cnbcnewsstory",
            "path": [
             "assetList",
             "assets",
             18,
             "section"
            ],
            "returnType": "franchise",
            "startOffset": 330100427
           },
           {
            "duration": 152356,
            "fieldName": "dateLastPublishedSixHr",
            "parentType": "cnbcnewsstory",
            "path": [
             "assetList",
             "assets",
             18,
             "dateLastPublishedSixHr"
            ],
            "returnType": "String",
            "startOffset": 330115844
           },
           {
            "duration": 84312,
            "fieldName": "dateLastPublishedFormattedWithoutTime",
            "parentType": "cnbcnewsstory",
            "path": [
             "assetList",
             "assets",
             18,
             "dateLastPublishedFormattedWithoutTime"
            ],
            "returnType": "String",
            "startOffset": 330270237
           },
           {
            "duration": 2174,
            "fieldName": "promoImage",
            "parentType": "cnbcnewsstory",
            "path": [
             "assetList",
             "assets",
             18,
             "promoImage"
            ],
            "returnType": "infographic",
            "startOffset": 330357126
           },
           {
            "duration": 1006,
            "fieldName": "id",
            "parentType": "infographic",
            "path": [
             "assetList",
             "assets",
             18,
             "promoImage",
             "id"
            ],
            "returnType": "Int",
            "startOffset": 330363391
           },
           {
            "duration": 1570,
            "fieldName": "url",
            "parentType": "infographic",
            "path": [
             "assetList",
             "assets",
             18,
             "promoImage",
             "url"
            ],
            "returnType": "String",
            "startOffset": 330366035
           },
           {
            "duration": 5535624,
            "fieldName": "sourceOrganization",
            "parentType": "cnbcnewsstory",
            "path": [
             "assetList",
             "assets",
             18,
             "sourceOrganization"
            ],
            "returnType": "[source]",
            "startOffset": 330370185
           },
           {
            "duration": 1379,
            "fieldName": "id",
            "parentType": "cnbcnewsstory",
            "path": [
             "assetList",
             "assets",
             19,
             "id"
            ],
            "returnType": "Int",
            "startOffset": 330627365
           },
           {
            "duration": 1770,
            "fieldName": "brand",
            "parentType": "cnbcnewsstory",
            "path": [
             "assetList",
             "assets",
             19,
             "brand"
            ],
            "returnType": "String",
            "startOffset": 330630203
           },
           {
            "duration": 723,
            "fieldName": "type",
            "parentType": "cnbcnewsstory",
            "path": [
             "assetList",
             "assets",
             19,
             "type"
            ],
            "returnType": "String",
            "startOffset": 330633113
           },
           {
            "duration": 1488,
            "fieldName": "url",
            "parentType": "cnbcnewsstory",
            "path": [
             "assetList",
             "assets",
             19,
             "url"
            ],
            "returnType": "String",
            "startOffset": 330634557
           },
           {
            "duration": 1473,
            "fieldName": "native",
            "parentType": "cnbcnewsstory",
            "path": [
             "assetList",
             "assets",
             19,
             "native"
            ],
            "returnType": "Boolean",
            "startOffset": 330637206
           },
           {
            "duration": 547,
            "fieldName": "datePublished",
            "parentType": "cnbcnewsstory",
            "path": [
             "assetList",
             "assets",
             19,
             "datePublished"
            ],
            "returnType": "String",
            "startOffset": 330639797
           },
           {
            "duration": 569,
            "fieldName": "description",
            "parentType": "cnbcnewsstory",
            "path": [
             "assetList",
             "assets",
             19,
             "description"
            ],
            "returnType": "String",
            "startOffset": 330641400
           },
           {
            "duration": 841,
            "fieldName": "title",
            "parentType": "cnbcnewsstory",
            "path": [
             "assetList",
             "assets",
             19,
             "title"
            ],
            "returnType": "String",
            "startOffset": 330642666
           },
           {
            "duration": 521,
            "fieldName": "headline",
            "parentType": "cnbcnewsstory",
            "path": [
             "assetList",
             "assets",
             19,
             "headline"
            ],
            "returnType": "String",
            "startOffset": 330644223
           },
           {
            "duration": 1117,
            "fieldName": "premium",
            "parentType": "cnbcnewsstory",
            "path": [
             "assetList",
             "assets",
             19,
             "premium"
            ],
            "returnType": "Boolean",
            "startOffset": 330645466
           },
           {
            "duration": 533,
            "fieldName": "creatorOverwrite",
            "parentType": "cnbcnewsstory",
            "path": [
             "assetList",
             "assets",
             19,
             "creatorOverwrite"
            ],
            "returnType": "String",
            "startOffset": 330647237
           },
           {
            "duration": 571,
            "fieldName": "coverageEndDate",
            "parentType": "cnbcnewsstory",
            "path": [
             "assetList",
             "assets",
             19,
             "coverageEndDate"
            ],
            "returnType": "String",
            "startOffset": 330648633
           },
           {
            "duration": 2482,
            "fieldName": "contentClassification",
            "parentType": "cnbcnewsstory",
            "path": [
             "assetList",
             "assets",
             19,
             "contentClassification"
            ],
            "returnType": "[String]",
            "startOffset": 330650106
           },
           {
            "duration": 567,
            "fieldName": "headline",
            "parentType": "cnbcnewsstory",
            "path": [
             "assetList",
             "assets",
             19,
             "linkHeadline"
            ],
            "returnType": "String",
            "startOffset": 330654580
           },
           {
            "duration": 2134,
            "fieldName": "author",
            "parentType": "cnbcnewsstory",
            "path": [
             "assetList",
             "assets",
             19,
             "author"
            ],
            "returnType": "[creator]",
            "startOffset": 330656070
           },
           {
            "duration": 809,
            "fieldName": "id",
            "parentType": "creator",
            "path": [
             "assetList",
             "assets",
             19,
             "author",
             0,
             "id"
            ],
            "returnType": "Int",
            "startOffset": 330661584
           },
           {
            "duration": 567,
            "fieldName": "name",
            "parentType": "creator",
            "path": [
             "assetList",
             "assets",
             19,
             "author",
             0,
             "name"
            ],
            "returnType": "String",
            "startOffset": 330663481
           },
           {
            "duration": 810,
            "fieldName": "url",
            "parentType": "creator",
            "path": [
             "assetList",
             "assets",
             19,
             "author",
             0,
             "url"
            ],
            "returnType": "String",
            "startOffset": 330664907
           },
           {
            "duration": 5265805,
            "fieldName": "section",
            "parentType": "cnbcnewsstory",
            "path": [
             "assetList",
             "assets",
             19,
             "section"
            ],
            "returnType": "franchise",
            "startOffset": 330668107
           },
           {
            "duration": 185652,
            "fieldName": "dateLastPublishedSixHr",
            "parentType": "cnbcnewsstory",
            "path": [
             "assetList",
             "assets",
             19,
             "dateLastPublishedSixHr"
            ],
            "returnType": "String",
            "startOffset": 330685177
           },
           {
            "duration": 47429,
            "fieldName": "dateLastPublishedFormattedWithoutTime",
            "parentType": "cnbcnewsstory",
            "path": [
             "assetList",
             "assets",
             19,
             "dateLastPublishedFormattedWithoutTime"
            ],
            "returnType": "String",
            "startOffset": 330873227
           },
           {
            "duration": 2199,
            "fieldName": "promoImage",
            "parentType": "cnbcnewsstory",
            "path": [
             "assetList",
             "assets",
             19,
             "promoImage"
            ],
            "returnType": "infographic",
            "startOffset": 330922324
           },
           {
            "duration": 776,
            "fieldName": "id",
            "parentType": "infographic",
            "path": [
             "assetList",
             "assets",
             19,
             "promoImage",
             "id"
            ],
            "returnType": "Int",
            "startOffset": 330928144
           },
           {
            "duration": 1536,
            "fieldName": "url",
            "parentType": "infographic",
            "path": [
             "assetList",
             "assets",
             19,
             "promoImage",
             "url"
            ],
            "returnType": "String",
            "startOffset": 330930476
           },
           {
            "duration": 5011708,
            "fieldName": "sourceOrganization",
            "parentType": "cnbcnewsstory",
            "path": [
             "assetList",
             "assets",
             19,
             "sourceOrganization"
            ],
            "returnType": "[source]",
            "startOffset": 330934549
           },
           {
            "duration": 1052,
            "fieldName": "id",
            "parentType": "cnbcnewsstory",
            "path": [
             "assetList",
             "assets",
             20,
             "id"
            ],
            "returnType": "Int",
            "startOffset": 331028545
           },
           {
            "duration": 1284,
            "fieldName": "brand",
            "parentType": "cnbcnewsstory",
            "path": [
             "assetList",
             "assets",
             20,
             "brand"
            ],
            "returnType": "String",
            "startOffset": 331030830
           },
           {
            "duration": 720,
            "fieldName": "type",
            "parentType": "cnbcnewsstory",
            "path": [
             "assetList",
             "assets",
             20,
             "type"
            ],
            "returnType": "String",
            "startOffset": 331033262
           },
           {
            "duration": 1040,
            "fieldName": "url",
            "parentType": "cnbcnewsstory",
            "path": [
             "assetList",
             "assets",
             20,
             "url"
            ],
            "returnType": "String",
            "startOffset": 331034698
           },
           {
            "duration": 1204,
            "fieldName": "native",
            "parentType": "cnbcnewsstory",
            "path": [
             "assetList",
             "assets",
             20,
             "native"
            ],
            "returnType": "Boolean",
            "startOffset": 331036900
           },
           {
            "duration": 568,
            "fieldName": "datePublished",
            "parentType": "cnbcnewsstory",
            "path": [
             "assetList",
             "assets",
             20,
             "datePublished"
            ],
            "returnType": "String",
            "startOffset": 331039016
           },
           {
            "duration": 540,
            "fieldName": "description",
            "parentType": "cnbcnewsstory",
            "path": [
             "assetList",
             "assets",
             20,
             "description"
            ],
            "returnType": "String",
            "startOffset": 331040627
           },
           {
            "duration": 943,
            "fieldName": "title",
            "parentType": "cnbcnewsstory",
            "path": [
             "assetList",
             "assets",
             20,
             "title"
            ],
            "returnType": "String",
            "startOffset": 331041862
           },
           {
            "duration": 611,
            "fieldName": "headline",
            "parentType": "cnbcnewsstory",
            "path": [
             "assetList",
             "assets",
             20,
             "headline"
            ],
            "returnType": "String",
            "startOffset": 331043538
           },
           {
            "duration": 1088,
            "fieldName": "premium",
            "parentType": "cnbcnewsstory",
            "path": [
             "assetList",
             "assets",
             20,
             "premium"
            ],
            "returnType": "Boolean",
            "startOffset": 331044898
           },
           {
            "duration": 569,
            "fieldName": "creatorOverwrite",
            "parentType": "cnbcnewsstory",
            "path": [
             "assetList",
             "assets",
             20,
             "creatorOverwrite"
            ],
            "returnType": "String",
            "startOffset": 331046697
           },
           {
            "duration": 613,
            "fieldName": "coverageEndDate",
            "parentType": "cnbcnewsstory",
            "path": [
             "assetList",
             "assets",
             20,
             "coverageEndDate"
            ],
            "returnType": "String",
            "startOffset": 331048133
           },
           {
            "duration": 2333,
            "fieldName": "contentClassification",
            "parentType": "cnbcnewsstory",
            "path": [
             "assetList",
             "assets",
             20,
             "contentClassification"
            ],
            "returnType": "[String]",
            "startOffset": 331049705
           },
           {
            "duration": 446,
            "fieldName": "headline",
            "parentType": "cnbcnewsstory",
            "path": [
             "assetList",
             "assets",
             20,
             "linkHeadline"
            ],
            "returnType": "String",
            "startOffset": 331053883
           },
           {
            "duration": 1887,
            "fieldName": "author",
            "parentType": "cnbcnewsstory",
            "path": [
             "assetList",
             "assets",
             20,
             "author"
            ],
            "returnType": "[creator]",
            "startOffset": 331055143
           },
           {
            "duration": 789,
            "fieldName": "id",
            "parentType": "creator",
            "path": [
             "assetList",
             "assets",
             20,
             "author",
             0,
             "id"
            ],
            "returnType": "Int",
            "startOffset": 331059788
           },
           {
            "duration": 655,
            "fieldName": "name",
            "parentType": "creator",
            "path": [
             "assetList",
             "assets",
             20,
             "author",
             0,
             "name"
            ],
            "returnType": "String",
            "startOffset": 331061646
           },
           {
            "duration": 850,
            "fieldName": "url",
            "parentType": "creator",
            "path": [
             "assetList",
             "assets",
             20,
             "author",
             0,
             "url"
            ],
            "returnType": "String",
            "startOffset": 331063160
           },
           {
            "duration": 4908319,
            "fieldName": "section",
            "parentType": "cnbcnewsstory",
            "path": [
             "assetList",
             "assets",
             20,
             "section"
            ],
            "returnType": "franchise",
            "startOffset": 331066347
           },
           {
            "duration": 151804,
            "fieldName": "dateLastPublishedSixHr",
            "parentType": "cnbcnewsstory",
            "path": [
             "assetList",
             "assets",
             20,
             "dateLastPublishedSixHr"
            ],
            "returnType": "String",
            "startOffset": 331080838
           },
           {
            "duration": 43969,
            "fieldName": "dateLastPublishedFormattedWithoutTime",
            "parentType": "cnbcnewsstory",
            "path": [
             "assetList",
             "assets",
             20,
             "dateLastPublishedFormattedWithoutTime"
            ],
            "returnType": "String",
            "startOffset": 331234736
           },
           {
            "duration": 1848,
            "fieldName": "promoImage",
            "parentType": "cnbcnewsstory",
            "path": [
             "assetList",
             "assets",
             20,
             "promoImage"
            ],
            "returnType": "infographic",
            "startOffset": 331280299
           },
           {
            "duration": 773,
            "fieldName": "id",
            "parentType": "infographic",
            "path": [
             "assetList",
             "assets",
             20,
             "promoImage",
             "id"
            ],
            "returnType": "Int",
            "startOffset": 331285569
           },
           {
            "duration": 1472,
            "fieldName": "url",
            "parentType": "infographic",
            "path": [
             "assetList",
             "assets",
             20,
             "promoImage",
             "url"
            ],
            "returnType": "String",
            "startOffset": 331287831
           },
           {
            "duration": 4695689,
            "fieldName": "sourceOrganization",
            "parentType": "cnbcnewsstory",
            "path": [
             "assetList",
             "assets",
             20,
             "sourceOrganization"
            ],
            "returnType": "[source]",
            "startOffset": 331291639
           },
           {
            "duration": 853,
            "fieldName": "id",
            "parentType": "cnbcnewsstory",
            "path": [
             "assetList",
             "assets",
             21,
             "id"
            ],
            "returnType": "Int",
            "startOffset": 331385134
           },
           {
            "duration": 1241,
            "fieldName": "brand",
            "parentType": "cnbcnewsstory",
            "path": [
             "assetList",
             "assets",
             21,
             "brand"
            ],
            "returnType": "String",
            "startOffset": 331387070
           },
           {
            "duration": 707,
            "fieldName": "type",
            "parentType": "cnbcnewsstory",
            "path": [
             "assetList",
             "assets",
             21,
             "type"
            ],
            "returnType": "String",
            "startOffset": 331389257
           },
           {
            "duration": 900,
            "fieldName": "url",
            "parentType": "cnbcnewsstory",
            "path": [
             "assetList",
             "assets",
             21,
             "url"
            ],
            "returnType": "String",
            "startOffset": 331390657
           },
           {
            "duration": 1088,
            "fieldName": "native",
            "parentType": "cnbcnewsstory",
            "path": [
             "assetList",
             "assets",
             21,
             "native"
            ],
            "returnType": "Boolean",
            "startOffset": 331392713
           },
           {
            "duration": 558,
            "fieldName": "datePublished",
            "parentType": "cnbcnewsstory",
            "path": [
             "assetList",
             "assets",
             21,
             "datePublished"
            ],
            "returnType": "String",
            "startOffset": 331394744
           },
           {
            "duration": 552,
            "fieldName": "description",
            "parentType": "cnbcnewsstory",
            "path": [
             "assetList",
             "assets",
             21,
             "description"
            ],
            "returnType": "String",
            "startOffset": 331396282
           },
           {
            "duration": 831,
            "fieldName": "title",
            "parentType": "cnbcnewsstory",
            "path": [
             "assetList",
             "assets",
             21,
             "title"
            ],
            "returnType": "String",
            "startOffset": 331397494
           },
           {
            "duration": 557,
            "fieldName": "headline",
            "parentType": "cnbcnewsstory",
            "path": [
             "assetList",
             "assets",
             21,
             "headline"
            ],
            "returnType": "String",
            "startOffset": 331398994
           },
           {
            "duration": 921,
            "fieldName": "premium",
            "parentType": "cnbcnewsstory",
            "path": [
             "assetList",
             "assets",
             21,
             "premium"
            ],
            "returnType": "Boolean",
            "startOffset": 331400406
           },
           {
            "duration": 554,
            "fieldName": "creatorOverwrite",
            "parentType": "cnbcnewsstory",
            "path": [
             "assetList",
             "assets",
             21,
             "creatorOverwrite"
            ],
            "returnType": "String",
            "startOffset": 331402014
           },
           {
            "duration": 609,
            "fieldName": "coverageEndDate",
            "parentType": "cnbcnewsstory",
            "path": [
             "assetList",
             "assets",
             21,
             "coverageEndDate"
            ],
            "returnType": "String",
            "startOffset": 331403508
           },
           {
            "duration": 2182,
            "fieldName": "contentClassification",
            "parentType": "cnbcnewsstory",
            "path": [
             "assetList",
             "assets",
             21,
             "contentClassification"
            ],
            "returnType": "[String]",
            "startOffset": 331405040
           },
           {
            "duration": 578,
            "fieldName": "headline",
            "parentType": "cnbcnewsstory",
            "path": [
             "assetList",
             "assets",
             21,
             "linkHeadline"
            ],
            "returnType": "String",
            "startOffset": 331409164
           },
           {
            "duration": 1912,
            "fieldName": "author",
            "parentType": "cnbcnewsstory",
            "path": [
             "assetList",
             "assets",
             21,
             "author"
            ],
            "returnType": "[creator]",
            "startOffset": 331410474
           },
           {
            "duration": 586,
            "fieldName": "id",
            "parentType": "creator",
            "path": [
             "assetList",
             "assets",
             21,
             "author",
             0,
             "id"
            ],
            "returnType": "Int",
            "startOffset": 331415191
           },
           {
            "duration": 569,
            "fieldName": "name",
            "parentType": "creator",
            "path": [
             "assetList",
             "assets",
             21,
             "author",
             0,
             "name"
            ],
            "returnType": "String",
            "startOffset": 331416813
           },
           {
            "duration": 775,
            "fieldName": "url",
            "parentType": "creator",
            "path": [
             "assetList",
             "assets",
             21,
             "author",
             0,
             "url"
            ],
            "returnType": "String",
            "startOffset": 331418217
           },
           {
            "duration": 4593954,
            "fieldName": "section",
            "parentType": "cnbcnewsstory",
            "path": [
             "assetList",
             "assets",
             21,
             "section"
            ],
            "returnType": "franchise",
            "startOffset": 331421271
           },
           {
            "duration": 155838,
            "fieldName": "dateLastPublishedSixHr",
            "parentType": "cnbcnewsstory",
            "path": [
             "assetList",
             "assets",
             21,
             "dateLastPublishedSixHr"
            ],
            "returnType": "String",
            "startOffset": 331435798
           },
           {
            "duration": 45471,
            "fieldName": "dateLastPublishedFormattedWithoutTime",
            "parentType": "cnbcnewsstory",
            "path": [
             "assetList",
             "assets",
             21,
             "dateLastPublishedFormattedWithoutTime"
            ],
            "returnType": "String",
            "startOffset": 331593829
           },
           {
            "duration": 2061,
            "fieldName": "promoImage",
            "parentType": "cnbcnewsstory",
            "path": [
             "assetList",
             "assets",
             21,
             "promoImage"
            ],
            "returnType": "infographic",
            "startOffset": 331641111
           },
           {
            "duration": 958,
            "fieldName": "id",
            "parentType": "infographic",
            "path": [
             "assetList",
             "assets",
             21,
             "promoImage",
             "id"
            ],
            "returnType": "Int",
            "startOffset": 331646397
           },
           {
            "duration": 3145,
            "fieldName": "url",
            "parentType": "infographic",
            "path": [
             "assetList",
             "assets",
             21,
             "promoImage",
             "url"
            ],
            "returnType": "String",
            "startOffset": 331648671
           },
           {
            "duration": 4374181,
            "fieldName": "sourceOrganization",
            "parentType": "cnbcnewsstory",
            "path": [
             "assetList",
             "assets",
             21,
             "sourceOrganization"
            ],
            "returnType": "[source]",
            "startOffset": 331654342
           },
           {
            "duration": 1163,
            "fieldName": "id",
            "parentType": "cnbcnewsstory",
            "path": [
             "assetList",
             "assets",
             22,
             "id"
            ],
            "returnType": "Int",
            "startOffset": 331768159
           },
           {
            "duration": 1229,
            "fieldName": "brand",
            "parentType": "cnbcnewsstory",
            "path": [
             "assetList",
             "assets",
             22,
             "brand"
            ],
            "returnType": "String",
            "startOffset": 331770531
           },
           {
            "duration": 693,
            "fieldName": "type",
            "parentType": "cnbcnewsstory",
            "path": [
             "assetList",
             "assets",
             22,
             "type"
            ],
            "returnType": "String",
            "startOffset": 331772643
           },
           {
            "duration": 1180,
            "fieldName": "url",
            "parentType": "cnbcnewsstory",
            "path": [
             "assetList",
             "assets",
             22,
             "url"
            ],
            "returnType": "String",
            "startOffset": 331774123
           },
           {
            "duration": 1163,
            "fieldName": "native",
            "parentType": "cnbcnewsstory",
            "path": [
             "assetList",
             "assets",
             22,
             "native"
            ],
            "returnType": "Boolean",
            "startOffset": 331776257
           },
           {
            "duration": 627,
            "fieldName": "datePublished",
            "parentType": "cnbcnewsstory",
            "path": [
             "assetList",
             "assets",
             22,
             "datePublished"
            ],
            "returnType": "String",
            "startOffset": 331778563
           },
           {
            "duration": 516,
            "fieldName": "description",
            "parentType": "cnbcnewsstory",
            "path": [
             "assetList",
             "assets",
             22,
             "description"
            ],
            "returnType": "String",
            "startOffset": 331780163
           },
           {
            "duration": 844,
            "fieldName": "title",
            "parentType": "cnbcnewsstory",
            "path": [
             "assetList",
             "assets",
             22,
             "title"
            ],
            "returnType": "String",
            "startOffset": 331781484
           },
           {
            "duration": 452,
            "fieldName": "headline",
            "parentType": "cnbcnewsstory",
            "path": [
             "assetList",
             "assets",
             22,
             "headline"
            ],
            "returnType": "String",
            "startOffset": 331783067
           },
           {
            "duration": 1576,
            "fieldName": "premium",
            "parentType": "cnbcnewsstory",
            "path": [
             "assetList",
             "assets",
             22,
             "premium"
            ],
            "returnType": "Boolean",
            "startOffset": 331784231
           },
           {
            "duration": 554,
            "fieldName": "creatorOverwrite",
            "parentType": "cnbcnewsstory",
            "path": [
             "assetList",
             "assets",
             22,
             "creatorOverwrite"
            ],
            "returnType": "String",
            "startOffset": 331786523
           },
           {
            "duration": 609,
            "fieldName": "coverageEndDate",
            "parentType": "cnbcnewsstory",
            "path": [
             "assetList",
             "assets",
             22,
             "coverageEndDate"
            ],
            "returnType": "String",
            "startOffset": 331787847
           },
           {
            "duration": 2376,
            "fieldName": "contentClassification",
            "parentType": "cnbcnewsstory",
            "path": [
             "assetList",
             "assets",
             22,
             "contentClassification"
            ],
            "returnType": "[String]",
            "startOffset": 331789662
           },
           {
            "duration": 544,
            "fieldName": "headline",
            "parentType": "cnbcnewsstory",
            "path": [
             "assetList",
             "assets",
             22,
             "linkHeadline"
            ],
            "returnType": "String",
            "startOffset": 331793839
           },
           {
            "duration": 1841,
            "fieldName": "author",
            "parentType": "cnbcnewsstory",
            "path": [
             "assetList",
             "assets",
             22,
             "author"
            ],
            "returnType": "[creator]",
            "startOffset": 331795173
           },
           {
            "duration": 797,
            "fieldName": "id",
            "parentType": "creator",
            "path": [
             "assetList",
             "assets",
             22,
             "author",
             0,
             "id"
            ],
            "returnType": "Int",
            "startOffset": 331800043
           },
           {
            "duration": 549,
            "fieldName": "name",
            "parentType": "creator",
            "path": [
             "assetList",
             "assets",
             22,
             "author",
             0,
             "name"
            ],
            "returnType": "String",
            "startOffset": 331801883
           },
           {
            "duration": 869,
            "fieldName": "url",
            "parentType": "creator",
            "path": [
             "assetList",
             "assets",
             22,
             "author",
             0,
             "url"
            ],
            "returnType": "String",
            "startOffset": 331803278
           },
           {
            "duration": 4252754,
            "fieldName": "section",
            "parentType": "cnbcnewsstory",
            "path": [
             "assetList",
             "assets",
             22,
             "section"
            ],
            "returnType": "franchise",
            "startOffset": 331806421
           },
           {
            "duration": 219086,
            "fieldName": "dateLastPublishedSixHr",
            "parentType": "cnbcnewsstory",
            "path": [
             "assetList",
             "assets",
             22,
             "dateLastPublishedSixHr"
            ],
            "returnType": "String",
            "startOffset": 331822048
           },
           {
            "duration": 114711,
            "fieldName": "dateLastPublishedFormattedWithoutTime",
            "parentType": "cnbcnewsstory",
            "path": [
             "assetList",
             "assets",
             22,
             "dateLastPublishedFormattedWithoutTime"
            ],
            "returnType": "String",
            "startOffset": 332045969
           },
           {
            "duration": 2574,
            "fieldName": "promoImage",
            "parentType": "cnbcnewsstory",
            "path": [
             "assetList",
             "assets",
             22,
             "promoImage"
            ],
            "returnType": "infographic",
            "startOffset": 332162865
           },
           {
            "duration": 1119,
            "fieldName": "id",
            "parentType": "infographic",
            "path": [
             "assetList",
             "assets",
             22,
             "promoImage",
             "id"
            ],
            "returnType": "Int",
            "startOffset": 332169671
           },
           {
            "duration": 1762,
            "fieldName": "url",
            "parentType": "infographic",
            "path": [
             "assetList",
             "assets",
             22,
             "promoImage",
             "url"
            ],
            "returnType": "String",
            "startOffset": 332172468
           },
           {
            "duration": 3896216,
            "fieldName": "sourceOrganization",
            "parentType": "cnbcnewsstory",
            "path": [
             "assetList",
             "assets",
             22,
             "sourceOrganization"
            ],
            "returnType": "[source]",
            "startOffset": 332176863
           },
           {
            "duration": 847,
            "fieldName": "id",
            "parentType": "cnbcnewsstory",
            "path": [
             "assetList",
             "assets",
             23,
             "id"
            ],
            "returnType": "Int",
            "startOffset": 332279005
           },
           {
            "duration": 1204,
            "fieldName": "brand",
            "parentType": "cnbcnewsstory",
            "path": [
             "assetList",
             "assets",
             23,
             "brand"
            ],
            "returnType": "String",
            "startOffset": 332281061
           },
           {
            "duration": 835,
            "fieldName": "type",
            "parentType": "cnbcnewsstory",
            "path": [
             "assetList",
             "assets",
             23,
             "type"
            ],
            "returnType": "String",
            "startOffset": 332283154
           },
           {
            "duration": 1248,
            "fieldName": "url",
            "parentType": "cnbcnewsstory",
            "path": [
             "assetList",
             "assets",
             23,
             "url"
            ],
            "returnType": "String",
            "startOffset": 332284849
           },
           {
            "duration": 1211,
            "fieldName": "native",
            "parentType": "cnbcnewsstory",
            "path": [
             "assetList",
             "assets",
             23,
             "native"
            ],
            "returnType": "Boolean",
            "startOffset": 332287053
           },
           {
            "duration": 651,
            "fieldName": "datePublished",
            "parentType": "cnbcnewsstory",
            "path": [
             "assetList",
             "assets",
             23,
             "datePublished"
            ],
            "returnType": "String",
            "startOffset": 332289380
           },
           {
            "duration": 477,
            "fieldName": "description",
            "parentType": "cnbcnewsstory",
            "path": [
             "assetList",
             "assets",
             23,
             "description"
            ],
            "returnType": "String",
            "startOffset": 332290989
           },
           {
            "duration": 1131,
            "fieldName": "title",
            "parentType": "cnbcnewsstory",
            "path": [
             "assetList",
             "assets",
             23,
             "title"
            ],
            "returnType": "String",
            "startOffset": 332292317
           },
           {
            "duration": 445,
            "fieldName": "headline",
            "parentType": "cnbcnewsstory",
            "path": [
             "assetList",
             "assets",
             23,
             "headline"
            ],
            "returnType": "String",
            "startOffset": 332294197
           },
           {
            "duration": 1157,
            "fieldName": "premium",
            "parentType": "cnbcnewsstory",
            "path": [
             "assetList",
             "assets",
             23,
             "premium"
            ],
            "returnType": "Boolean",
            "startOffset": 332295326
           },
           {
            "duration": 569,
            "fieldName": "creatorOverwrite",
            "parentType": "cnbcnewsstory",
            "path": [
             "assetList",
             "assets",
             23,
             "creatorOverwrite"
            ],
            "returnType": "String",
            "startOffset": 332297281
           },
           {
            "duration": 600,
            "fieldName": "coverageEndDate",
            "parentType": "cnbcnewsstory",
            "path": [
             "assetList",
             "assets",
             23,
             "coverageEndDate"
            ],
            "returnType": "String",
            "startOffset": 332298669
           },
           {
            "duration": 2348,
            "fieldName": "contentClassification",
            "parentType": "cnbcnewsstory",
            "path": [
             "assetList",
             "assets",
             23,
             "contentClassification"
            ],
            "returnType": "[String]",
            "startOffset": 332300454
           },
           {
            "duration": 582,
            "fieldName": "headline",
            "parentType": "cnbcnewsstory",
            "path": [
             "assetList",
             "assets",
             23,
             "linkHeadline"
            ],
            "returnType": "String",
            "startOffset": 332304569
           },
           {
            "duration": 2211,
            "fieldName": "author",
            "parentType": "cnbcnewsstory",
            "path": [
             "assetList",
             "assets",
             23,
             "author"
            ],
            "returnType": "[creator]",
            "startOffset": 332306004
           },
           {
            "duration": 632,
            "fieldName": "id",
            "parentType": "creator",
            "path": [
             "assetList",
             "assets",
             23,
             "author",
             0,
             "id"
            ],
            "returnType": "Int",
            "startOffset": 332311218
           },
           {
            "duration": 543,
            "fieldName": "name",
            "parentType": "creator",
            "path": [
             "assetList",
             "assets",
             23,
             "author",
             0,
             "name"
            ],
            "returnType": "String",
            "startOffset": 332312866
           },
           {
            "duration": 1094,
            "fieldName": "url",
            "parentType": "creator",
            "path": [
             "assetList",
             "assets",
             23,
             "author",
             0,
             "url"
            ],
            "returnType": "String",
            "startOffset": 332314286
           },
           {
            "duration": 3782251,
            "fieldName": "section",
            "parentType": "cnbcnewsstory",
            "path": [
             "assetList",
             "assets",
             23,
             "section"
            ],
            "returnType": "franchise",
            "startOffset": 332317647
           },
           {
            "duration": 163469,
            "fieldName": "dateLastPublishedSixHr",
            "parentType": "cnbcnewsstory",
            "path": [
             "assetList",
             "assets",
             23,
             "dateLastPublishedSixHr"
            ],
            "returnType": "String",
            "startOffset": 332332694
           },
           {
            "duration": 46159,
            "fieldName": "dateLastPublishedFormattedWithoutTime",
            "parentType": "cnbcnewsstory",
            "path": [
             "assetList",
             "assets",
             23,
             "dateLastPublishedFormattedWithoutTime"
            ],
            "returnType": "String",
            "startOffset": 332498250
           },
           {
            "duration": 2082,
            "fieldName": "promoImage",
            "parentType": "cnbcnewsstory",
            "path": [
             "assetList",
             "assets",
             23,
             "promoImage"
            ],
            "returnType": "infographic",
            "startOffset": 332546056
           },
           {
            "duration": 857,
            "fieldName": "id",
            "parentType": "infographic",
            "path": [
             "assetList",
             "assets",
             23,
             "promoImage",
             "id"
            ],
            "returnType": "Int",
            "startOffset": 332551711
           },
           {
            "duration": 1360,
            "fieldName": "url",
            "parentType": "infographic",
            "path": [
             "assetList",
             "assets",
             23,
             "promoImage",
             "url"
            ],
            "returnType": "String",
            "startOffset": 332553911
           },
           {
            "duration": 3555854,
            "fieldName": "sourceOrganization",
            "parentType": "cnbcnewsstory",
            "path": [
             "assetList",
             "assets",
             23,
             "sourceOrganization"
            ],
            "returnType": "[source]",
            "startOffset": 332557628
           },
           {
            "duration": 1262,
            "fieldName": "id",
            "parentType": "cnbcnewsstory",
            "path": [
             "assetList",
             "assets",
             24,
             "id"
            ],
            "returnType": "Int",
            "startOffset": 332716705
           },
           {
            "duration": 1403,
            "fieldName": "brand",
            "parentType": "cnbcnewsstory",
            "path": [
             "assetList",
             "assets",
             24,
             "brand"
            ],
            "returnType": "String",
            "startOffset": 332719226
           },
           {
            "duration": 779,
            "fieldName": "type",
            "parentType": "cnbcnewsstory",
            "path": [
             "assetList",
             "assets",
             24,
             "type"
            ],
            "returnType": "String",
            "startOffset": 332721518
           },
           {
            "duration": 1325,
            "fieldName": "url",
            "parentType": "cnbcnewsstory",
            "path": [
             "assetList",
             "assets",
             24,
             "url"
            ],
            "returnType": "String",
            "startOffset": 332723706
           },
           {
            "duration": 1190,
            "fieldName": "native",
            "parentType": "cnbcnewsstory",
            "path": [
             "assetList",
             "assets",
             24,
             "native"
            ],
            "returnType": "Boolean",
            "startOffset": 332726203
           },
           {
            "duration": 532,
            "fieldName": "datePublished",
            "parentType": "cnbcnewsstory",
            "path": [
             "assetList",
             "assets",
             24,
             "datePublished"
            ],
            "returnType": "String",
            "startOffset": 332728507
           },
           {
            "duration": 523,
            "fieldName": "description",
            "parentType": "cnbcnewsstory",
            "path": [
             "assetList",
             "assets",
             24,
             "description"
            ],
            "returnType": "String",
            "startOffset": 332730015
           },
           {
            "duration": 934,
            "fieldName": "title",
            "parentType": "cnbcnewsstory",
            "path": [
             "assetList",
             "assets",
             24,
             "title"
            ],
            "returnType": "String",
            "startOffset": 332731349
           },
           {
            "duration": 467,
            "fieldName": "headline",
            "parentType": "cnbcnewsstory",
            "path": [
             "assetList",
             "assets",
             24,
             "headline"
            ],
            "returnType": "String",
            "startOffset": 332733049
           },
           {
            "duration": 1322,
            "fieldName": "premium",
            "parentType": "cnbcnewsstory",
            "path": [
             "assetList",
             "assets",
             24,
             "premium"
            ],
            "returnType": "Boolean",
            "startOffset": 332734211
           },
           {
            "duration": 564,
            "fieldName": "creatorOverwrite",
            "parentType": "cnbcnewsstory",
            "path": [
             "assetList",
             "assets",
             24,
             "creatorOverwrite"
            ],
            "returnType": "String",
            "startOffset": 332736305
           },
           {
            "duration": 535,
            "fieldName": "coverageEndDate",
            "parentType": "cnbcnewsstory",
            "path": [
             "assetList",
             "assets",
             24,
             "coverageEndDate"
            ],
            "returnType": "String",
            "startOffset": 332737661
           },
           {
            "duration": 2578,
            "fieldName": "contentClassification",
            "parentType": "cnbcnewsstory",
            "path": [
             "assetList",
             "assets",
             24,
             "contentClassification"
            ],
            "returnType": "[String]",
            "startOffset": 332739385
           },
           {
            "duration": 582,
            "fieldName": "headline",
            "parentType": "cnbcnewsstory",
            "path": [
             "assetList",
             "assets",
             24,
             "linkHeadline"
            ],
            "returnType": "String",
            "startOffset": 332743774
           },
           {
            "duration": 2069,
            "fieldName": "author",
            "parentType": "cnbcnewsstory",
            "path": [
             "assetList",
             "assets",
             24,
             "author"
            ],
            "returnType": "[creator]",
            "startOffset": 332745182
           },
           {
            "duration": 738,
            "fieldName": "id",
            "parentType": "creator",
            "path": [
             "assetList",
             "assets",
             24,
             "author",
             0,
             "id"
            ],
            "returnType": "Int",
            "startOffset": 332750403
           },
           {
            "duration": 619,
            "fieldName": "name",
            "parentType": "creator",
            "path": [
             "assetList",
             "assets",
             24,
             "author",
             0,
             "name"
            ],
            "returnType": "String",
            "startOffset": 332752220
           },
           {
            "duration": 914,
            "fieldName": "url",
            "parentType": "creator",
            "path": [
             "assetList",
             "assets",
             24,
             "author",
             0,
             "url"
            ],
            "returnType": "String",
            "startOffset": 332753738
           },
           {
            "duration": 3383303,
            "fieldName": "section",
            "parentType": "cnbcnewsstory",
            "path": [
             "assetList",
             "assets",
             24,
             "section"
            ],
            "returnType": "franchise",
            "startOffset": 332757152
           },
           {
            "duration": 165984,
            "fieldName": "dateLastPublishedSixHr",
            "parentType": "cnbcnewsstory",
            "path": [
             "assetList",
             "assets",
             24,
             "dateLastPublishedSixHr"
            ],
            "returnType": "String",
            "startOffset": 332774315
           },
           {
            "duration": 45221,
            "fieldName": "dateLastPublishedFormattedWithoutTime",
            "parentType": "cnbcnewsstory",
            "path": [
             "assetList",
             "assets",
             24,
             "dateLastPublishedFormattedWithoutTime"
            ],
            "returnType": "String",
            "startOffset": 332942273
           },
           {
            "duration": 1991,
            "fieldName": "promoImage",
            "parentType": "cnbcnewsstory",
            "path": [
             "assetList",
             "assets",
             24,
             "promoImage"
            ],
            "returnType": "infographic",
            "startOffset": 332989131
           },
           {
            "duration": 705,
            "fieldName": "id",
            "parentType": "infographic",
            "path": [
             "assetList",
             "assets",
             24,
             "promoImage",
             "id"
            ],
            "returnType": "Int",
            "startOffset": 332994618
           },
           {
            "duration": 1382,
            "fieldName": "url",
            "parentType": "infographic",
            "path": [
             "assetList",
             "assets",
             24,
             "promoImage",
             "url"
            ],
            "returnType": "String",
            "startOffset": 332996550
           },
           {
            "duration": 3152907,
            "fieldName": "sourceOrganization",
            "parentType": "cnbcnewsstory",
            "path": [
             "assetList",
             "assets",
             24,
             "sourceOrganization"
            ],
            "returnType": "[source]",
            "startOffset": 333000189
           },
           {
            "duration": 777,
            "fieldName": "id",
            "parentType": "cnbcnewsstory",
            "path": [
             "assetList",
             "assets",
             25,
             "id"
            ],
            "returnType": "Int",
            "startOffset": 333090525
           },
           {
            "duration": 1129,
            "fieldName": "brand",
            "parentType": "cnbcnewsstory",
            "path": [
             "assetList",
             "assets",
             25,
             "brand"
            ],
            "returnType": "String",
            "startOffset": 333092410
           },
           {
            "duration": 608,
            "fieldName": "type",
            "parentType": "cnbcnewsstory",
            "path": [
             "assetList",
             "assets",
             25,
             "type"
            ],
            "returnType": "String",
            "startOffset": 333094379
           },
           {
            "duration": 1027,
            "fieldName": "url",
            "parentType": "cnbcnewsstory",
            "path": [
             "assetList",
             "assets",
             25,
             "url"
            ],
            "returnType": "String",
            "startOffset": 333095819
           },
           {
            "duration": 1236,
            "fieldName": "native",
            "parentType": "cnbcnewsstory",
            "path": [
             "assetList",
             "assets",
             25,
             "native"
            ],
            "returnType": "Boolean",
            "startOffset": 333097893
           },
           {
            "duration": 614,
            "fieldName": "datePublished",
            "parentType": "cnbcnewsstory",
            "path": [
             "assetList",
             "assets",
             25,
             "datePublished"
            ],
            "returnType": "String",
            "startOffset": 333100109
           },
           {
            "duration": 525,
            "fieldName": "description",
            "parentType": "cnbcnewsstory",
            "path": [
             "assetList",
             "assets",
             25,
             "description"
            ],
            "returnType": "String",
            "startOffset": 333101586
           },
           {
            "duration": 1197,
            "fieldName": "title",
            "parentType": "cnbcnewsstory",
            "path": [
             "assetList",
             "assets",
             25,
             "title"
            ],
            "returnType": "String",
            "startOffset": 333103117
           },
           {
            "duration": 445,
            "fieldName": "headline",
            "parentType": "cnbcnewsstory",
            "path": [
             "assetList",
             "assets",
             25,
             "headline"
            ],
            "returnType": "String",
            "startOffset": 333105006
           },
           {
            "duration": 970,
            "fieldName": "premium",
            "parentType": "cnbcnewsstory",
            "path": [
             "assetList",
             "assets",
             25,
             "premium"
            ],
            "returnType": "Boolean",
            "startOffset": 333106099
           },
           {
            "duration": 532,
            "fieldName": "creatorOverwrite",
            "parentType": "cnbcnewsstory",
            "path": [
             "assetList",
             "assets",
             25,
             "creatorOverwrite"
            ],
            "returnType": "String",
            "startOffset": 333107911
           },
           {
            "duration": 576,
            "fieldName": "coverageEndDate",
            "parentType": "cnbcnewsstory",
            "path": [
             "assetList",
             "assets",
             25,
             "coverageEndDate"
            ],
            "returnType": "String",
            "startOffset": 333109192
           },
           {
            "duration": 2220,
            "fieldName": "contentClassification",
            "parentType": "cnbcnewsstory",
            "path": [
             "assetList",
             "assets",
             25,
             "contentClassification"
            ],
            "returnType": "[String]",
            "startOffset": 333111012
           },
           {
            "duration": 522,
            "fieldName": "headline",
            "parentType": "cnbcnewsstory",
            "path": [
             "assetList",
             "assets",
             25,
             "linkHeadline"
            ],
            "returnType": "String",
            "startOffset": 333114869
           },
           {
            "duration": 2133,
            "fieldName": "author",
            "parentType": "cnbcnewsstory",
            "path": [
             "assetList",
             "assets",
             25,
             "author"
            ],
            "returnType": "[creator]",
            "startOffset": 333116446
           },
           {
            "duration": 738,
            "fieldName": "id",
            "parentType": "creator",
            "path": [
             "assetList",
             "assets",
             25,
             "author",
             0,
             "id"
            ],
            "returnType": "Int",
            "startOffset": 333121828
           },
           {
            "duration": 521,
            "fieldName": "name",
            "parentType": "creator",
            "path": [
             "assetList",
             "assets",
             25,
             "author",
             0,
             "name"
            ],
            "returnType": "String",
            "startOffset": 333123542
           },
           {
            "duration": 934,
            "fieldName": "url",
            "parentType": "creator",
            "path": [
             "assetList",
             "assets",
             25,
             "author",
             0,
             "url"
            ],
            "returnType": "String",
            "startOffset": 333124958
           },
           {
            "duration": 3051795,
            "fieldName": "section",
            "parentType": "cnbcnewsstory",
            "path": [
             "assetList",
             "assets",
             25,
             "section"
            ],
            "returnType": "franchise",
            "startOffset": 333127940
           },
           {
            "duration": 163912,
            "fieldName": "dateLastPublishedSixHr",
            "parentType": "cnbcnewsstory",
            "path": [
             "assetList",
             "assets",
             25,
             "dateLastPublishedSixHr"
            ],
            "returnType": "String",
            "startOffset": 333142516
           },
           {
            "duration": 46057,
            "fieldName": "dateLastPublishedFormattedWithoutTime",
            "parentType": "cnbcnewsstory",
            "path": [
             "assetList",
             "assets",
             25,
             "dateLastPublishedFormattedWithoutTime"
            ],
            "returnType": "String",
            "startOffset": 333308959
           },
           {
            "duration": 4149,
            "fieldName": "promoImage",
            "parentType": "cnbcnewsstory",
            "path": [
             "assetList",
             "assets",
             25,
             "promoImage"
            ],
            "returnType": "infographic",
            "startOffset": 333356810
           },
           {
            "duration": 895,
            "fieldName": "id",
            "parentType": "infographic",
            "path": [
             "assetList",
             "assets",
             25,
             "promoImage",
             "id"
            ],
            "returnType": "Int",
            "startOffset": 333364671
           },
           {
            "duration": 3150,
            "fieldName": "url",
            "parentType": "infographic",
            "path": [
             "assetList",
             "assets",
             25,
             "promoImage",
             "url"
            ],
            "returnType": "String",
            "startOffset": 333366868
           },
           {
            "duration": 2820055,
            "fieldName": "sourceOrganization",
            "parentType": "cnbcnewsstory",
            "path": [
             "assetList",
             "assets",
             25,
             "sourceOrganization"
            ],
            "returnType": "[source]",
            "startOffset": 333372740
           },
           {
            "duration": 1371,
            "fieldName": "id",
            "parentType": "cnbcnewsstory",
            "path": [
             "assetList",
             "assets",
             26,
             "id"
            ],
            "returnType": "Int",
            "startOffset": 333512496
           },
           {
            "duration": 1560,
            "fieldName": "brand",
            "parentType": "cnbcnewsstory",
            "path": [
             "assetList",
             "assets",
             26,
             "brand"
            ],
            "returnType": "String",
            "startOffset": 333515390
           },
           {
            "duration": 732,
            "fieldName": "type",
            "parentType": "cnbcnewsstory",
            "path": [
             "assetList",
             "assets",
             26,
             "type"
            ],
            "returnType": "String",
            "startOffset": 333517899
           },
           {
            "duration": 1922,
            "fieldName": "url",
            "parentType": "cnbcnewsstory",
            "path": [
             "assetList",
             "assets",
             26,
             "url"
            ],
            "returnType": "String",
            "startOffset": 333532460
           },
           {
            "duration": 2436,
            "fieldName": "native",
            "parentType": "cnbcnewsstory",
            "path": [
             "assetList",
             "assets",
             26,
             "native"
            ],
            "returnType": "Boolean",
            "startOffset": 333536450
           },
           {
            "duration": 1300,
            "fieldName": "datePublished",
            "parentType": "cnbcnewsstory",
            "path": [
             "assetList",
             "assets",
             26,
             "datePublished"
            ],
            "returnType": "String",
            "startOffset": 333540430
           },
           {
            "duration": 580,
            "fieldName": "description",
            "parentType": "cnbcnewsstory",
            "path": [
             "assetList",
             "assets",
             26,
             "description"
            ],
            "returnType": "String",
            "startOffset": 333543177
           },
           {
            "duration": 985,
            "fieldName": "title",
            "parentType": "cnbcnewsstory",
            "path": [
             "assetList",
             "assets",
             26,
             "title"
            ],
            "returnType": "String",
            "startOffset": 333544477
           },
           {
            "duration": 475,
            "fieldName": "headline",
            "parentType": "cnbcnewsstory",
            "path": [
             "assetList",
             "assets",
             26,
             "headline"
            ],
            "returnType": "String",
            "startOffset": 333546286
           },
           {
            "duration": 15591,
            "fieldName": "premium",
            "parentType": "cnbcnewsstory",
            "path": [
             "assetList",
             "assets",
             26,
             "premium"
            ],
            "returnType": "Boolean",
            "startOffset": 333547549
           },
           {
            "duration": 603,
            "fieldName": "creatorOverwrite",
            "parentType": "cnbcnewsstory",
            "path": [
             "assetList",
             "assets",
             26,
             "creatorOverwrite"
            ],
            "returnType": "String",
            "startOffset": 333564160
           },
           {
            "duration": 606,
            "fieldName": "coverageEndDate",
            "parentType": "cnbcnewsstory",
            "path": [
             "assetList",
             "assets",
             26,
             "coverageEndDate"
            ],
            "returnType": "String",
            "startOffset": 333565551
           },
           {
            "duration": 4029,
            "fieldName": "contentClassification",
            "parentType": "cnbcnewsstory",
            "path": [
             "assetList",
             "assets",
             26,
             "contentClassification"
            ],
            "returnType": "[String]",
            "startOffset": 333567489
           },
           {
            "duration": 1008,
            "fieldName": "headline",
            "parentType": "cnbcnewsstory",
            "path": [
             "assetList",
             "assets",
             26,
             "linkHeadline"
            ],
            "returnType": "String",
            "startOffset": 333574057
           },
           {
            "duration": 2373,
            "fieldName": "author",
            "parentType": "cnbcnewsstory",
            "path": [
             "assetList",
             "assets",
             26,
             "author"
            ],
            "returnType": "[creator]",
            "startOffset": 333576073
           },
           {
            "duration": 693,
            "fieldName": "id",
            "parentType": "creator",
            "path": [
             "assetList",
             "assets",
             26,
             "author",
             0,
             "id"
            ],
            "returnType": "Int",
            "startOffset": 333582204
           },
           {
            "duration": 468,
            "fieldName": "name",
            "parentType": "creator",
            "path": [
             "assetList",
             "assets",
             26,
             "author",
             0,
             "name"
            ],
            "returnType": "String",
            "startOffset": 333584176
           },
           {
            "duration": 1061,
            "fieldName": "url",
            "parentType": "creator",
            "path": [
             "assetList",
             "assets",
             26,
             "author",
             0,
             "url"
            ],
            "returnType": "String",
            "startOffset": 333585683
           },
           {
            "duration": 2630343,
            "fieldName": "section",
            "parentType": "cnbcnewsstory",
            "path": [
             "assetList",
             "assets",
             26,
             "section"
            ],
            "returnType": "franchise",
            "startOffset": 333589153
           },
           {
            "duration": 190600,
            "fieldName": "dateLastPublishedSixHr",
            "parentType": "cnbcnewsstory",
            "path": [
             "assetList",
             "assets",
             26,
             "dateLastPublishedSixHr"
            ],
            "returnType": "String",
            "startOffset": 333618861
           },
           {
            "duration": 48117,
            "fieldName": "dateLastPublishedFormattedWithoutTime",
            "parentType": "cnbcnewsstory",
            "path": [
             "assetList",
             "assets",
             26,
             "dateLastPublishedFormattedWithoutTime"
            ],
            "returnType": "String",
            "startOffset": 333812245
           },
           {
            "duration": 2019,
            "fieldName": "promoImage",
            "parentType": "cnbcnewsstory",
            "path": [
             "assetList",
             "assets",
             26,
             "promoImage"
            ],
            "returnType": "infographic",
            "startOffset": 333862355
           },
           {
            "duration": 768,
            "fieldName": "id",
            "parentType": "infographic",
            "path": [
             "assetList",
             "assets",
             26,
             "promoImage",
             "id"
            ],
            "returnType": "Int",
            "startOffset": 333868224
           },
           {
            "duration": 1546,
            "fieldName": "url",
            "parentType": "infographic",
            "path": [
             "assetList",
             "assets",
             26,
             "promoImage",
             "url"
            ],
            "returnType": "String",
            "startOffset": 333870499
           },
           {
            "duration": 2357787,
            "fieldName": "sourceOrganization",
            "parentType": "cnbcnewsstory",
            "path": [
             "assetList",
             "assets",
             26,
             "sourceOrganization"
            ],
            "returnType": "[source]",
            "startOffset": 333874840
           },
           {
            "duration": 908,
            "fieldName": "id",
            "parentType": "cnbcnewsstory",
            "path": [
             "assetList",
             "assets",
             27,
             "id"
            ],
            "returnType": "Int",
            "startOffset": 333970926
           },
           {
            "duration": 1150,
            "fieldName": "brand",
            "parentType": "cnbcnewsstory",
            "path": [
             "assetList",
             "assets",
             27,
             "brand"
            ],
            "returnType": "String",
            "startOffset": 333973210
           },
           {
            "duration": 619,
            "fieldName": "type",
            "parentType": "cnbcnewsstory",
            "path": [
             "assetList",
             "assets",
             27,
             "type"
            ],
            "returnType": "String",
            "startOffset": 333975167
           },
           {
            "duration": 1267,
            "fieldName": "url",
            "parentType": "cnbcnewsstory",
            "path": [
             "assetList",
             "assets",
             27,
             "url"
            ],
            "returnType": "String",
            "startOffset": 333976974
           },
           {
            "duration": 1364,
            "fieldName": "native",
            "parentType": "cnbcnewsstory",
            "path": [
             "assetList",
             "assets",
             27,
             "native"
            ],
            "returnType": "Boolean",
            "startOffset": 333979346
           },
           {
            "duration": 938,
            "fieldName": "datePublished",
            "parentType": "cnbcnewsstory",
            "path": [
             "assetList",
             "assets",
             27,
             "datePublished"
            ],
            "returnType": "String",
            "startOffset": 333981697
           },
           {
            "duration": 496,
            "fieldName": "description",
            "parentType": "cnbcnewsstory",
            "path": [
             "assetList",
             "assets",
             27,
             "description"
            ],
            "returnType": "String",
            "startOffset": 333983614
           },
           {
            "duration": 928,
            "fieldName": "title",
            "parentType": "cnbcnewsstory",
            "path": [
             "assetList",
             "assets",
             27,
             "title"
            ],
            "returnType": "String",
            "startOffset": 333984818
           },
           {
            "duration": 474,
            "fieldName": "headline",
            "parentType": "cnbcnewsstory",
            "path": [
             "assetList",
             "assets",
             27,
             "headline"
            ],
            "returnType": "String",
            "startOffset": 333986509
           },
           {
            "duration": 977,
            "fieldName": "premium",
            "parentType": "cnbcnewsstory",
            "path": [
             "assetList",
             "assets",
             27,
             "premium"
            ],
            "returnType": "Boolean",
            "startOffset": 333987695
           },
           {
            "duration": 613,
            "fieldName": "creatorOverwrite",
            "parentType": "cnbcnewsstory",
            "path": [
             "assetList",
             "assets",
             27,
             "creatorOverwrite"
            ],
            "returnType": "String",
            "startOffset": 333989846
           },
           {
            "duration": 546,
            "fieldName": "coverageEndDate",
            "parentType": "cnbcnewsstory",
            "path": [
             "assetList",
             "assets",
             27,
             "coverageEndDate"
            ],
            "returnType": "String",
            "startOffset": 333991262
           },
           {
            "duration": 2353,
            "fieldName": "contentClassification",
            "parentType": "cnbcnewsstory",
            "path": [
             "assetList",
             "assets",
             27,
             "contentClassification"
            ],
            "returnType": "[String]",
            "startOffset": 333992997
           },
           {
            "duration": 703,
            "fieldName": "headline",
            "parentType": "cnbcnewsstory",
            "path": [
             "assetList",
             "assets",
             27,
             "linkHeadline"
            ],
            "returnType": "String",
            "startOffset": 333997083
           },
           {
            "duration": 2034,
            "fieldName": "author",
            "parentType": "cnbcnewsstory",
            "path": [
             "assetList",
             "assets",
             27,
             "author"
            ],
            "returnType": "[creator]",
            "startOffset": 333998982
           },
           {
            "duration": 743,
            "fieldName": "id",
            "parentType": "creator",
            "path": [
             "assetList",
             "assets",
             27,
             "author",
             0,
             "id"
            ],
            "returnType": "Int",
            "startOffset": 334004059
           },
           {
            "duration": 487,
            "fieldName": "name",
            "parentType": "creator",
            "path": [
             "assetList",
             "assets",
             27,
             "author",
             0,
             "name"
            ],
            "returnType": "String",
            "startOffset": 334005803
           },
           {
            "duration": 1042,
            "fieldName": "url",
            "parentType": "creator",
            "path": [
             "assetList",
             "assets",
             27,
             "author",
             0,
             "url"
            ],
            "returnType": "String",
            "startOffset": 334007449
           },
           {
            "duration": 2249759,
            "fieldName": "section",
            "parentType": "cnbcnewsstory",
            "path": [
             "assetList",
             "assets",
             27,
             "section"
            ],
            "returnType": "franchise",
            "startOffset": 334010647
           },
           {
            "duration": 153066,
            "fieldName": "dateLastPublishedSixHr",
            "parentType": "cnbcnewsstory",
            "path": [
             "assetList",
             "assets",
             27,
             "dateLastPublishedSixHr"
            ],
            "returnType": "String",
            "startOffset": 334025119
           },
           {
            "duration": 45036,
            "fieldName": "dateLastPublishedFormattedWithoutTime",
            "parentType": "cnbcnewsstory",
            "path": [
             "assetList",
             "assets",
             27,
             "dateLastPublishedFormattedWithoutTime"
            ],
            "returnType": "String",
            "startOffset": 334180244
           },
           {
            "duration": 1885,
            "fieldName": "promoImage",
            "parentType": "cnbcnewsstory",
            "path": [
             "assetList",
             "assets",
             27,
             "promoImage"
            ],
            "returnType": "infographic",
            "startOffset": 334226889
           },
           {
            "duration": 886,
            "fieldName": "id",
            "parentType": "infographic",
            "path": [
             "assetList",
             "assets",
             27,
             "promoImage",
             "id"
            ],
            "returnType": "Int",
            "startOffset": 334232221
           },
           {
            "duration": 1368,
            "fieldName": "url",
            "parentType": "infographic",
            "path": [
             "assetList",
             "assets",
             27,
             "promoImage",
             "url"
            ],
            "returnType": "String",
            "startOffset": 334234586
           },
           {
            "duration": 2034120,
            "fieldName": "sourceOrganization",
            "parentType": "cnbcnewsstory",
            "path": [
             "assetList",
             "assets",
             27,
             "sourceOrganization"
            ],
            "returnType": "[source]",
            "startOffset": 334238285
           },
           {
            "duration": 863,
            "fieldName": "id",
            "parentType": "cnbcnewsstory",
            "path": [
             "assetList",
             "assets",
             28,
             "id"
            ],
            "returnType": "Int",
            "startOffset": 334330859
           },
           {
            "duration": 1236,
            "fieldName": "brand",
            "parentType": "cnbcnewsstory",
            "path": [
             "assetList",
             "assets",
             28,
             "brand"
            ],
            "returnType": "String",
            "startOffset": 334332902
           },
           {
            "duration": 648,
            "fieldName": "type",
            "parentType": "cnbcnewsstory",
            "path": [
             "assetList",
             "assets",
             28,
             "type"
            ],
            "returnType": "String",
            "startOffset": 334335023
           },
           {
            "duration": 1201,
            "fieldName": "url",
            "parentType": "cnbcnewsstory",
            "path": [
             "assetList",
             "assets",
             28,
             "url"
            ],
            "returnType": "String",
            "startOffset": 334336486
           },
           {
            "duration": 1140,
            "fieldName": "native",
            "parentType": "cnbcnewsstory",
            "path": [
             "assetList",
             "assets",
             28,
             "native"
            ],
            "returnType": "Boolean",
            "startOffset": 334338770
           },
           {
            "duration": 835,
            "fieldName": "datePublished",
            "parentType": "cnbcnewsstory",
            "path": [
             "assetList",
             "assets",
             28,
             "datePublished"
            ],
            "returnType": "String",
            "startOffset": 334340807
           },
           {
            "duration": 516,
            "fieldName": "description",
            "parentType": "cnbcnewsstory",
            "path": [
             "assetList",
             "assets",
             28,
             "description"
            ],
            "returnType": "String",
            "startOffset": 334342828
           },
           {
            "duration": 832,
            "fieldName": "title",
            "parentType": "cnbcnewsstory",
            "path": [
             "assetList",
             "assets",
             28,
             "title"
            ],
            "returnType": "String",
            "startOffset": 334344010
           },
           {
            "duration": 479,
            "fieldName": "headline",
            "parentType": "cnbcnewsstory",
            "path": [
             "assetList",
             "assets",
             28,
             "headline"
            ],
            "returnType": "String",
            "startOffset": 334345893
           },
           {
            "duration": 888,
            "fieldName": "premium",
            "parentType": "cnbcnewsstory",
            "path": [
             "assetList",
             "assets",
             28,
             "premium"
            ],
            "returnType": "Boolean",
            "startOffset": 334347061
           },
           {
            "duration": 625,
            "fieldName": "creatorOverwrite",
            "parentType": "cnbcnewsstory",
            "path": [
             "assetList",
             "assets",
             28,
             "creatorOverwrite"
            ],
            "returnType": "String",
            "startOffset": 334348820
           },
           {
            "duration": 627,
            "fieldName": "coverageEndDate",
            "parentType": "cnbcnewsstory",
            "path": [
             "assetList",
             "assets",
             28,
             "coverageEndDate"
            ],
            "returnType": "String",
            "startOffset": 334350196
           },
           {
            "duration": 2147,
            "fieldName": "contentClassification",
            "parentType": "cnbcnewsstory",
            "path": [
             "assetList",
             "assets",
             28,
             "contentClassification"
            ],
            "returnType": "[String]",
            "startOffset": 334352043
           },
           {
            "duration": 432,
            "fieldName": "headline",
            "parentType": "cnbcnewsstory",
            "path": [
             "assetList",
             "assets",
             28,
             "linkHeadline"
            ],
            "returnType": "String",
            "startOffset": 334355807
           },
           {
            "duration": 1734,
            "fieldName": "author",
            "parentType": "cnbcnewsstory",
            "path": [
             "assetList",
             "assets",
             28,
             "author"
            ],
            "returnType": "[creator]",
            "startOffset": 334357186
           },
           {
            "duration": 657,
            "fieldName": "id",
            "parentType": "creator",
            "path": [
             "assetList",
             "assets",
             28,
             "author",
             0,
             "id"
            ],
            "returnType": "Int",
            "startOffset": 334361693
           },
           {
            "duration": 544,
            "fieldName": "name",
            "parentType": "creator",
            "path": [
             "assetList",
             "assets",
             28,
             "author",
             0,
             "name"
            ],
            "returnType": "String",
            "startOffset": 334363266
           },
           {
            "duration": 839,
            "fieldName": "url",
            "parentType": "creator",
            "path": [
             "assetList",
             "assets",
             28,
             "author",
             0,
             "url"
            ],
            "returnType": "String",
            "startOffset": 334364714
           },
           {
            "duration": 1931694,
            "fieldName": "section",
            "parentType": "cnbcnewsstory",
            "path": [
             "assetList",
             "assets",
             28,
             "section"
            ],
            "returnType": "franchise",
            "startOffset": 334367594
           },
           {
            "duration": 149861,
            "fieldName": "dateLastPublishedSixHr",
            "parentType": "cnbcnewsstory",
            "path": [
             "assetList",
             "assets",
             28,
             "dateLastPublishedSixHr"
            ],
            "returnType": "String",
            "startOffset": 334381999
           },
           {
            "duration": 44802,
            "fieldName": "dateLastPublishedFormattedWithoutTime",
            "parentType": "cnbcnewsstory",
            "path": [
             "assetList",
             "assets",
             28,
             "dateLastPublishedFormattedWithoutTime"
            ],
            "returnType": "String",
            "startOffset": 334533823
           },
           {
            "duration": 1650,
            "fieldName": "promoImage",
            "parentType": "cnbcnewsstory",
            "path": [
             "assetList",
             "assets",
             28,
             "promoImage"
            ],
            "returnType": "infographic",
            "startOffset": 334580242
           },
           {
            "duration": 884,
            "fieldName": "id",
            "parentType": "infographic",
            "path": [
             "assetList",
             "assets",
             28,
             "promoImage",
             "id"
            ],
            "returnType": "Int",
            "startOffset": 334585281
           },
           {
            "duration": 1278,
            "fieldName": "url",
            "parentType": "infographic",
            "path": [
             "assetList",
             "assets",
             28,
             "promoImage",
             "url"
            ],
            "returnType": "String",
            "startOffset": 334587593
           },
           {
            "duration": 1721531,
            "fieldName": "sourceOrganization",
            "parentType": "cnbcnewsstory",
            "path": [
             "assetList",
             "assets",
             28,
             "sourceOrganization"
            ],
            "returnType": "[source]",
            "startOffset": 334591302
           },
           {
            "duration": 798,
            "fieldName": "id",
            "parentType": "cnbcnewsstory",
            "path": [
             "assetList",
             "assets",
             29,
             "id"
            ],
            "returnType": "Int",
            "startOffset": 334682680
           },
           {
            "duration": 15254,
            "fieldName": "brand",
            "parentType": "cnbcnewsstory",
            "path": [
             "assetList",
             "assets",
             29,
             "brand"
            ],
            "returnType": "String",
            "startOffset": 334684798
           },
           {
            "duration": 836,
            "fieldName": "type",
            "parentType": "cnbcnewsstory",
            "path": [
             "assetList",
             "assets",
             29,
             "type"
            ],
            "returnType": "String",
            "startOffset": 334701116
           },
           {
            "duration": 1326,
            "fieldName": "url",
            "parentType": "cnbcnewsstory",
            "path": [
             "assetList",
             "assets",
             29,
             "url"
            ],
            "returnType": "String",
            "startOffset": 334702807
           },
           {
            "duration": 1082,
            "fieldName": "native",
            "parentType": "cnbcnewsstory",
            "path": [
             "assetList",
             "assets",
             29,
             "native"
            ],
            "returnType": "Boolean",
            "startOffset": 334705189
           },
           {
            "duration": 645,
            "fieldName": "datePublished",
            "parentType": "cnbcnewsstory",
            "path": [
             "assetList",
             "assets",
             29,
             "datePublished"
            ],
            "returnType": "String",
            "startOffset": 334707260
           },
           {
            "duration": 483,
            "fieldName": "description",
            "parentType": "cnbcnewsstory",
            "path": [
             "assetList",
             "assets",
             29,
             "description"
            ],
            "returnType": "String",
            "startOffset": 334709227
           },
           {
            "duration": 922,
            "fieldName": "title",
            "parentType": "cnbcnewsstory",
            "path": [
             "assetList",
             "assets",
             29,
             "title"
            ],
            "returnType": "String",
            "startOffset": 334710381
           },
           {
            "duration": 437,
            "fieldName": "headline",
            "parentType": "cnbcnewsstory",
            "path": [
             "assetList",
             "assets",
             29,
             "headline"
            ],
            "returnType": "String",
            "startOffset": 334712049
           },
           {
            "duration": 999,
            "fieldName": "premium",
            "parentType": "cnbcnewsstory",
            "path": [
             "assetList",
             "assets",
             29,
             "premium"
            ],
            "returnType": "Boolean",
            "startOffset": 334713170
           },
           {
            "duration": 538,
            "fieldName": "creatorOverwrite",
            "parentType": "cnbcnewsstory",
            "path": [
             "assetList",
             "assets",
             29,
             "creatorOverwrite"
            ],
            "returnType": "String",
            "startOffset": 334714994
           },
           {
            "duration": 620,
            "fieldName": "coverageEndDate",
            "parentType": "cnbcnewsstory",
            "path": [
             "assetList",
             "assets",
             29,
             "coverageEndDate"
            ],
            "returnType": "String",
            "startOffset": 334716306
           },
           {
            "duration": 2363,
            "fieldName": "contentClassification",
            "parentType": "cnbcnewsstory",
            "path": [
             "assetList",
             "assets",
             29,
             "contentClassification"
            ],
            "returnType": "[String]",
            "startOffset": 334718061
           },
           {
            "duration": 594,
            "fieldName": "headline",
            "parentType": "cnbcnewsstory",
            "path": [
             "assetList",
             "assets",
             29,
             "linkHeadline"
            ],
            "returnType": "String",
            "startOffset": 334725331
           },
           {
            "duration": 1897,
            "fieldName": "author",
            "parentType": "cnbcnewsstory",
            "path": [
             "assetList",
             "assets",
             29,
             "author"
            ],
            "returnType": "[creator]",
            "startOffset": 334727030
           },
           {
            "duration": 654,
            "fieldName": "id",
            "parentType": "creator",
            "path": [
             "assetList",
             "assets",
             29,
             "author",
             0,
             "id"
            ],
            "returnType": "Int",
            "startOffset": 334731872
           },
           {
            "duration": 502,
            "fieldName": "name",
            "parentType": "creator",
            "path": [
             "assetList",
             "assets",
             29,
             "author",
             0,
             "name"
            ],
            "returnType": "String",
            "startOffset": 334733616
           },
           {
            "duration": 838,
            "fieldName": "url",
            "parentType": "creator",
            "path": [
             "assetList",
             "assets",
             29,
             "author",
             0,
             "url"
            ],
            "returnType": "String",
            "startOffset": 334735015
           },
           {
            "duration": 1601369,
            "fieldName": "section",
            "parentType": "cnbcnewsstory",
            "path": [
             "assetList",
             "assets",
             29,
             "section"
            ],
            "returnType": "franchise",
            "startOffset": 334738097
           },
           {
            "duration": 157463,
            "fieldName": "dateLastPublishedSixHr",
            "parentType": "cnbcnewsstory",
            "path": [
             "assetList",
             "assets",
             29,
             "dateLastPublishedSixHr"
            ],
            "returnType": "String",
            "startOffset": 334754042
           },
           {
            "duration": 44287,
            "fieldName": "dateLastPublishedFormattedWithoutTime",
            "parentType": "cnbcnewsstory",
            "path": [
             "assetList",
             "assets",
             29,
             "dateLastPublishedFormattedWithoutTime"
            ],
            "returnType": "String",
            "startOffset": 334913567
           },
           {
            "duration": 1892,
            "fieldName": "promoImage",
            "parentType": "cnbcnewsstory",
            "path": [
             "assetList",
             "assets",
             29,
             "promoImage"
            ],
            "returnType": "infographic",
            "startOffset": 334960265
           },
           {
            "duration": 752,
            "fieldName": "id",
            "parentType": "infographic",
            "path": [
             "assetList",
             "assets",
             29,
             "promoImage",
             "id"
            ],
            "returnType": "Int",
            "startOffset": 334965538
           },
           {
            "duration": 1328,
            "fieldName": "url",
            "parentType": "infographic",
            "path": [
             "assetList",
             "assets",
             29,
             "promoImage",
             "url"
            ],
            "returnType": "String",
            "startOffset": 334967697
           },
           {
            "duration": 1380018,
            "fieldName": "sourceOrganization",
            "parentType": "cnbcnewsstory",
            "path": [
             "assetList",
             "assets",
             29,
             "sourceOrganization"
            ],
            "returnType": "[source]",
            "startOffset": 334971501
           },
           {
            "duration": 1830,
            "fieldName": "eyebrow",
            "parentType": "franchise",
            "path": [
             "assetList",
             "assets",
             0,
             "section",
             "eyebrow"
            ],
            "returnType": "String",
            "startOffset": 335118834
           },
           {
            "duration": 793,
            "fieldName": "type",
            "parentType": "franchise",
            "path": [
             "assetList",
             "assets",
             0,
             "section",
             "type"
            ],
            "returnType": "String",
            "startOffset": 335122163
           },
           {
            "duration": 1476,
            "fieldName": "url",
            "parentType": "franchise",
            "path": [
             "assetList",
             "assets",
             0,
             "section",
             "url"
            ],
            "returnType": "String",
            "startOffset": 335124450
           },
           {
            "duration": 552,
            "fieldName": "subType",
            "parentType": "franchise",
            "path": [
             "assetList",
             "assets",
             0,
             "section",
             "subType"
            ],
            "returnType": "String",
            "startOffset": 335127210
           },
           {
            "duration": 511,
            "fieldName": "sectionLabel",
            "parentType": "franchise",
            "path": [
             "assetList",
             "assets",
             0,
             "section",
             "sectionLabel"
            ],
            "returnType": "String",
            "startOffset": 335129129
           },
           {
            "duration": 694,
            "fieldName": "id",
            "parentType": "source",
            "path": [
             "assetList",
             "assets",
             0,
             "sourceOrganization",
             0,
             "id"
            ],
            "returnType": "Int",
            "startOffset": 335142242
           },
           {
            "duration": 1140,
            "fieldName": "name",
            "parentType": "source",
            "path": [
             "assetList",
             "assets",
             0,
             "sourceOrganization",
             0,
             "name"
            ],
            "returnType": "String",
            "startOffset": 335144524
           },
           {
            "duration": 660,
            "fieldName": "url",
            "parentType": "source",
            "path": [
             "assetList",
             "assets",
             0,
             "sourceOrganization",
             0,
             "url"
            ],
            "returnType": "String",
            "startOffset": 335146940
           },
           {
            "duration": 683,
            "fieldName": "eyebrow",
            "parentType": "franchise",
            "path": [
             "assetList",
             "assets",
             1,
             "section",
             "eyebrow"
            ],
            "returnType": "String",
            "startOffset": 335173234
           },
           {
            "duration": 555,
            "fieldName": "type",
            "parentType": "franchise",
            "path": [
             "assetList",
             "assets",
             1,
             "section",
             "type"
            ],
            "returnType": "String",
            "startOffset": 335175012
           },
           {
            "duration": 760,
            "fieldName": "url",
            "parentType": "franchise",
            "path": [
             "assetList",
             "assets",
             1,
             "section",
             "url"
            ],
            "returnType": "String",
            "startOffset": 335176308
           },
           {
            "duration": 458,
            "fieldName": "subType",
            "parentType": "franchise",
            "path": [
             "assetList",
             "assets",
             1,
             "section",
             "subType"
            ],
            "returnType": "String",
            "startOffset": 335178176
           },
           {
            "duration": 447,
            "fieldName": "sectionLabel",
            "parentType": "franchise",
            "path": [
             "assetList",
             "assets",
             1,
             "section",
             "sectionLabel"
            ],
            "returnType": "String",
            "startOffset": 335179456
           },
           {
            "duration": 534,
            "fieldName": "id",
            "parentType": "source",
            "path": [
             "assetList",
             "assets",
             1,
             "sourceOrganization",
             0,
             "id"
            ],
            "returnType": "Int",
            "startOffset": 335187075
           },
           {
            "duration": 546,
            "fieldName": "name",
            "parentType": "source",
            "path": [
             "assetList",
             "assets",
             1,
             "sourceOrganization",
             0,
             "name"
            ],
            "returnType": "String",
            "startOffset": 335188405
           },
           {
            "duration": 598,
            "fieldName": "url",
            "parentType": "source",
            "path": [
             "assetList",
             "assets",
             1,
             "sourceOrganization",
             0,
             "url"
            ],
            "returnType": "String",
            "startOffset": 335189752
           },
           {
            "duration": 687,
            "fieldName": "eyebrow",
            "parentType": "franchise",
            "path": [
             "assetList",
             "assets",
             2,
             "section",
             "eyebrow"
            ],
            "returnType": "String",
            "startOffset": 335214638
           },
           {
            "duration": 560,
            "fieldName": "type",
            "parentType": "franchise",
            "path": [
             "assetList",
             "assets",
             2,
             "section",
             "type"
            ],
            "returnType": "String",
            "startOffset": 335216118
           },
           {
            "duration": 835,
            "fieldName": "url",
            "parentType": "franchise",
            "path": [
             "assetList",
             "assets",
             2,
             "section",
             "url"
            ],
            "returnType": "String",
            "startOffset": 335217357
           },
           {
            "duration": 488,
            "fieldName": "subType",
            "parentType": "franchise",
            "path": [
             "assetList",
             "assets",
             2,
             "section",
             "subType"
            ],
            "returnType": "String",
            "startOffset": 335218963
           },
           {
            "duration": 448,
            "fieldName": "sectionLabel",
            "parentType": "franchise",
            "path": [
             "assetList",
             "assets",
             2,
             "section",
             "sectionLabel"
            ],
            "returnType": "String",
            "startOffset": 335220236
           },
           {
            "duration": 575,
            "fieldName": "id",
            "parentType": "source",
            "path": [
             "assetList",
             "assets",
             2,
             "sourceOrganization",
             0,
             "id"
            ],
            "returnType": "Int",
            "startOffset": 335227637
           },
           {
            "duration": 467,
            "fieldName": "name",
            "parentType": "source",
            "path": [
             "assetList",
             "assets",
             2,
             "sourceOrganization",
             0,
             "name"
            ],
            "returnType": "String",
            "startOffset": 335228935
           },
           {
            "duration": 741,
            "fieldName": "url",
            "parentType": "source",
            "path": [
             "assetList",
             "assets",
             2,
             "sourceOrganization",
             0,
             "url"
            ],
            "returnType": "String",
            "startOffset": 335230058
           },
           {
            "duration": 699,
            "fieldName": "eyebrow",
            "parentType": "franchise",
            "path": [
             "assetList",
             "assets",
             3,
             "section",
             "eyebrow"
            ],
            "returnType": "String",
            "startOffset": 335256478
           },
           {
            "duration": 599,
            "fieldName": "type",
            "parentType": "franchise",
            "path": [
             "assetList",
             "assets",
             3,
             "section",
             "type"
            ],
            "returnType": "String",
            "startOffset": 335257969
           },
           {
            "duration": 787,
            "fieldName": "url",
            "parentType": "franchise",
            "path": [
             "assetList",
             "assets",
             3,
             "section",
             "url"
            ],
            "returnType": "String",
            "startOffset": 335259166
           },
           {
            "duration": 632,
            "fieldName": "subType",
            "parentType": "franchise",
            "path": [
             "assetList",
             "assets",
             3,
             "section",
             "subType"
            ],
            "returnType": "String",
            "startOffset": 335260642
           },
           {
            "duration": 474,
            "fieldName": "sectionLabel",
            "parentType": "franchise",
            "path": [
             "assetList",
             "assets",
             3,
             "section",
             "sectionLabel"
            ],
            "returnType": "String",
            "startOffset": 335262068
           },
           {
            "duration": 631,
            "fieldName": "id",
            "parentType": "source",
            "path": [
             "assetList",
             "assets",
             3,
             "sourceOrganization",
             0,
             "id"
            ],
            "returnType": "Int",
            "startOffset": 335269444
           },
           {
            "duration": 466,
            "fieldName": "name",
            "parentType": "source",
            "path": [
             "assetList",
             "assets",
             3,
             "sourceOrganization",
             0,
             "name"
            ],
            "returnType": "String",
            "startOffset": 335270826
           },
           {
            "duration": 542,
            "fieldName": "url",
            "parentType": "source",
            "path": [
             "assetList",
             "assets",
             3,
             "sourceOrganization",
             0,
             "url"
            ],
            "returnType": "String",
            "startOffset": 335271939
           },
           {
            "duration": 662,
            "fieldName": "eyebrow",
            "parentType": "franchise",
            "path": [
             "assetList",
             "assets",
             4,
             "section",
             "eyebrow"
            ],
            "returnType": "String",
            "startOffset": 335298178
           },
           {
            "duration": 869,
            "fieldName": "type",
            "parentType": "franchise",
            "path": [
             "assetList",
             "assets",
             4,
             "section",
             "type"
            ],
            "returnType": "String",
            "startOffset": 335299492
           },
           {
            "duration": 768,
            "fieldName": "url",
            "parentType": "franchise",
            "path": [
             "assetList",
             "assets",
             4,
             "section",
             "url"
            ],
            "returnType": "String",
            "startOffset": 335301050
           },
           {
            "duration": 483,
            "fieldName": "subType",
            "parentType": "franchise",
            "path": [
             "assetList",
             "assets",
             4,
             "section",
             "subType"
            ],
            "returnType": "String",
            "startOffset": 335302495
           },
           {
            "duration": 448,
            "fieldName": "sectionLabel",
            "parentType": "franchise",
            "path": [
             "assetList",
             "assets",
             4,
             "section",
             "sectionLabel"
            ],
            "returnType": "String",
            "startOffset": 335303922
           },
           {
            "duration": 563,
            "fieldName": "id",
            "parentType": "source",
            "path": [
             "assetList",
             "assets",
             4,
             "sourceOrganization",
             0,
             "id"
            ],
            "returnType": "Int",
            "startOffset": 335310975
           },
           {
            "duration": 471,
            "fieldName": "name",
            "parentType": "source",
            "path": [
             "assetList",
             "assets",
             4,
             "sourceOrganization",
             0,
             "name"
            ],
            "returnType": "String",
            "startOffset": 335312389
           },
           {
            "duration": 533,
            "fieldName": "url",
            "parentType": "source",
            "path": [
             "assetList",
             "assets",
             4,
             "sourceOrganization",
             0,
             "url"
            ],
            "returnType": "String",
            "startOffset": 335313535
           },
           {
            "duration": 624,
            "fieldName": "eyebrow",
            "parentType": "franchise",
            "path": [
             "assetList",
             "assets",
             5,
             "section",
             "eyebrow"
            ],
            "returnType": "String",
            "startOffset": 335339580
           },
           {
            "duration": 537,
            "fieldName": "type",
            "parentType": "franchise",
            "path": [
             "assetList",
             "assets",
             5,
             "section",
             "type"
            ],
            "returnType": "String",
            "startOffset": 335340862
           },
           {
            "duration": 919,
            "fieldName": "url",
            "parentType": "franchise",
            "path": [
             "assetList",
             "assets",
             5,
             "section",
             "url"
            ],
            "returnType": "String",
            "startOffset": 335342087
           },
           {
            "duration": 520,
            "fieldName": "subType",
            "parentType": "franchise",
            "path": [
             "assetList",
             "assets",
             5,
             "section",
             "subType"
            ],
            "returnType": "String",
            "startOffset": 335343672
           },
           {
            "duration": 451,
            "fieldName": "sectionLabel",
            "parentType": "franchise",
            "path": [
             "assetList",
             "assets",
             5,
             "section",
             "sectionLabel"
            ],
            "returnType": "String",
            "startOffset": 335345135
           },
           {
            "duration": 568,
            "fieldName": "id",
            "parentType": "source",
            "path": [
             "assetList",
             "assets",
             5,
             "sourceOrganization",
             0,
             "id"
            ],
            "returnType": "Int",
            "startOffset": 335353158
           },
           {
            "duration": 469,
            "fieldName": "name",
            "parentType": "source",
            "path": [
             "assetList",
             "assets",
             5,
             "sourceOrganization",
             0,
             "name"
            ],
            "returnType": "String",
            "startOffset": 335354574
           },
           {
            "duration": 524,
            "fieldName": "url",
            "parentType": "source",
            "path": [
             "assetList",
             "assets",
             5,
             "sourceOrganization",
             0,
             "url"
            ],
            "returnType": "String",
            "startOffset": 335355683
           },
           {
            "duration": 621,
            "fieldName": "eyebrow",
            "parentType": "franchise",
            "path": [
             "assetList",
             "assets",
             6,
             "section",
             "eyebrow"
            ],
            "returnType": "String",
            "startOffset": 335380379
           },
           {
            "duration": 521,
            "fieldName": "type",
            "parentType": "franchise",
            "path": [
             "assetList",
             "assets",
             6,
             "section",
             "type"
            ],
            "returnType": "String",
            "startOffset": 335381651
           },
           {
            "duration": 729,
            "fieldName": "url",
            "parentType": "franchise",
            "path": [
             "assetList",
             "assets",
             6,
             "section",
             "url"
            ],
            "returnType": "String",
            "startOffset": 335382907
           },
           {
            "duration": 465,
            "fieldName": "subType",
            "parentType": "franchise",
            "path": [
             "assetList",
             "assets",
             6,
             "section",
             "subType"
            ],
            "returnType": "String",
            "startOffset": 335384321
           },
           {
            "duration": 447,
            "fieldName": "sectionLabel",
            "parentType": "franchise",
            "path": [
             "assetList",
             "assets",
             6,
             "section",
             "sectionLabel"
            ],
            "returnType": "String",
            "startOffset": 335385726
           },
           {
            "duration": 558,
            "fieldName": "id",
            "parentType": "source",
            "path": [
             "assetList",
             "assets",
             6,
             "sourceOrganization",
             0,
             "id"
            ],
            "returnType": "Int",
            "startOffset": 335392676
           },
           {
            "duration": 576,
            "fieldName": "name",
            "parentType": "source",
            "path": [
             "assetList",
             "assets",
             6,
             "sourceOrganization",
             0,
             "name"
            ],
            "returnType": "String",
            "startOffset": 335394071
           },
           {
            "duration": 464,
            "fieldName": "url",
            "parentType": "source",
            "path": [
             "assetList",
             "assets",
             6,
             "sourceOrganization",
             0,
             "url"
            ],
            "returnType": "String",
            "startOffset": 335395663
           },
           {
            "duration": 616,
            "fieldName": "eyebrow",
            "parentType": "franchise",
            "path": [
             "assetList",
             "assets",
             7,
             "section",
             "eyebrow"
            ],
            "returnType": "String",
            "startOffset": 335421433
           },
           {
            "duration": 609,
            "fieldName": "type",
            "parentType": "franchise",
            "path": [
             "assetList",
             "assets",
             7,
             "section",
             "type"
            ],
            "returnType": "String",
            "startOffset": 335422701
           },
           {
            "duration": 873,
            "fieldName": "url",
            "parentType": "franchise",
            "path": [
             "assetList",
             "assets",
             7,
             "section",
             "url"
            ],
            "returnType": "String",
            "startOffset": 335424011
           },
           {
            "duration": 470,
            "fieldName": "subType",
            "parentType": "franchise",
            "path": [
             "assetList",
             "assets",
             7,
             "section",
             "subType"
            ],
            "returnType": "String",
            "startOffset": 335425613
           },
           {
            "duration": 931,
            "fieldName": "sectionLabel",
            "parentType": "franchise",
            "path": [
             "assetList",
             "assets",
             7,
             "section",
             "sectionLabel"
            ],
            "returnType": "String",
            "startOffset": 335426878
           },
           {
            "duration": 557,
            "fieldName": "id",
            "parentType": "source",
            "path": [
             "assetList",
             "assets",
             7,
             "sourceOrganization",
             0,
             "id"
            ],
            "returnType": "Int",
            "startOffset": 335434832
           },
           {
            "duration": 776,
            "fieldName": "name",
            "parentType": "source",
            "path": [
             "assetList",
             "assets",
             7,
             "sourceOrganization",
             0,
             "name"
            ],
            "returnType": "String",
            "startOffset": 335436107
           },
           {
            "duration": 528,
            "fieldName": "url",
            "parentType": "source",
            "path": [
             "assetList",
             "assets",
             7,
             "sourceOrganization",
             0,
             "url"
            ],
            "returnType": "String",
            "startOffset": 335437580
           },
           {
            "duration": 788,
            "fieldName": "eyebrow",
            "parentType": "franchise",
            "path": [
             "assetList",
             "assets",
             8,
             "section",
             "eyebrow"
            ],
            "returnType": "String",
            "startOffset": 335463303
           },
           {
            "duration": 476,
            "fieldName": "type",
            "parentType": "franchise",
            "path": [
             "assetList",
             "assets",
             8,
             "section",
             "type"
            ],
            "returnType": "String",
            "startOffset": 335464743
           },
           {
            "duration": 984,
            "fieldName": "url",
            "parentType": "franchise",
            "path": [
             "assetList",
             "assets",
             8,
             "section",
             "url"
            ],
            "returnType": "String",
            "startOffset": 335465823
           },
           {
            "duration": 491,
            "fieldName": "subType",
            "parentType": "franchise",
            "path": [
             "assetList",
             "assets",
             8,
             "section",
             "subType"
            ],
            "returnType": "String",
            "startOffset": 335467517
           },
           {
            "duration": 487,
            "fieldName": "sectionLabel",
            "parentType": "franchise",
            "path": [
             "assetList",
             "assets",
             8,
             "section",
             "sectionLabel"
            ],
            "returnType": "String",
            "startOffset": 335468790
           },
           {
            "duration": 595,
            "fieldName": "id",
            "parentType": "source",
            "path": [
             "assetList",
             "assets",
             8,
             "sourceOrganization",
             0,
             "id"
            ],
            "returnType": "Int",
            "startOffset": 335476098
           },
           {
            "duration": 461,
            "fieldName": "name",
            "parentType": "source",
            "path": [
             "assetList",
             "assets",
             8,
             "sourceOrganization",
             0,
             "name"
            ],
            "returnType": "String",
            "startOffset": 335477422
           },
           {
            "duration": 535,
            "fieldName": "url",
            "parentType": "source",
            "path": [
             "assetList",
             "assets",
             8,
             "sourceOrganization",
             0,
             "url"
            ],
            "returnType": "String",
            "startOffset": 335478621
           },
           {
            "duration": 749,
            "fieldName": "eyebrow",
            "parentType": "franchise",
            "path": [
             "assetList",
             "assets",
             9,
             "section",
             "eyebrow"
            ],
            "returnType": "String",
            "startOffset": 335504341
           },
           {
            "duration": 457,
            "fieldName": "type",
            "parentType": "franchise",
            "path": [
             "assetList",
             "assets",
             9,
             "section",
             "type"
            ],
            "returnType": "String",
            "startOffset": 335505777
           },
           {
            "duration": 834,
            "fieldName": "url",
            "parentType": "franchise",
            "path": [
             "assetList",
             "assets",
             9,
             "section",
             "url"
            ],
            "returnType": "String",
            "startOffset": 335506871
           },
           {
            "duration": 474,
            "fieldName": "subType",
            "parentType": "franchise",
            "path": [
             "assetList",
             "assets",
             9,
             "section",
             "subType"
            ],
            "returnType": "String",
            "startOffset": 335508485
           },
           {
            "duration": 438,
            "fieldName": "sectionLabel",
            "parentType": "franchise",
            "path": [
             "assetList",
             "assets",
             9,
             "section",
             "sectionLabel"
            ],
            "returnType": "String",
            "startOffset": 335509760
           },
           {
            "duration": 557,
            "fieldName": "id",
            "parentType": "source",
            "path": [
             "assetList",
             "assets",
             9,
             "sourceOrganization",
             0,
             "id"
            ],
            "returnType": "Int",
            "startOffset": 335517377
           },
           {
            "duration": 466,
            "fieldName": "name",
            "parentType": "source",
            "path": [
             "assetList",
             "assets",
             9,
             "sourceOrganization",
             0,
             "name"
            ],
            "returnType": "String",
            "startOffset": 335518677
           },
           {
            "duration": 501,
            "fieldName": "url",
            "parentType": "source",
            "path": [
             "assetList",
             "assets",
             9,
             "sourceOrganization",
             0,
             "url"
            ],
            "returnType": "String",
            "startOffset": 335519895
           },
           {
            "duration": 881,
            "fieldName": "eyebrow",
            "parentType": "franchise",
            "path": [
             "assetList",
             "assets",
             10,
             "section",
             "eyebrow"
            ],
            "returnType": "String",
            "startOffset": 335545051
           },
           {
            "duration": 511,
            "fieldName": "type",
            "parentType": "franchise",
            "path": [
             "assetList",
             "assets",
             10,
             "section",
             "type"
            ],
            "returnType": "String",
            "startOffset": 335546670
           },
           {
            "duration": 857,
            "fieldName": "url",
            "parentType": "franchise",
            "path": [
             "assetList",
             "assets",
             10,
             "section",
             "url"
            ],
            "returnType": "String",
            "startOffset": 335547794
           },
           {
            "duration": 491,
            "fieldName": "subType",
            "parentType": "franchise",
            "path": [
             "assetList",
             "assets",
             10,
             "section",
             "subType"
            ],
            "returnType": "String",
            "startOffset": 335549817
           },
           {
            "duration": 443,
            "fieldName": "sectionLabel",
            "parentType": "franchise",
            "path": [
             "assetList",
             "assets",
             10,
             "section",
             "sectionLabel"
            ],
            "returnType": "String",
            "startOffset": 335551084
           },
           {
            "duration": 569,
            "fieldName": "id",
            "parentType": "source",
            "path": [
             "assetList",
             "assets",
             10,
             "sourceOrganization",
             0,
             "id"
            ],
            "returnType": "Int",
            "startOffset": 335558842
           },
           {
            "duration": 467,
            "fieldName": "name",
            "parentType": "source",
            "path": [
             "assetList",
             "assets",
             10,
             "sourceOrganization",
             0,
             "name"
            ],
            "returnType": "String",
            "startOffset": 335560133
           },
           {
            "duration": 717,
            "fieldName": "url",
            "parentType": "source",
            "path": [
             "assetList",
             "assets",
             10,
             "sourceOrganization",
             0,
             "url"
            ],
            "returnType": "String",
            "startOffset": 335561274
           },
           {
            "duration": 2136,
            "fieldName": "eyebrow",
            "parentType": "franchise",
            "path": [
             "assetList",
             "assets",
             11,
             "section",
             "eyebrow"
            ],
            "returnType": "String",
            "startOffset": 335587417
           },
           {
            "duration": 559,
            "fieldName": "type",
            "parentType": "franchise",
            "path": [
             "assetList",
             "assets",
             11,
             "section",
             "type"
            ],
            "returnType": "String",
            "startOffset": 335590396
           },
           {
            "duration": 883,
            "fieldName": "url",
            "parentType": "franchise",
            "path": [
             "assetList",
             "assets",
             11,
             "section",
             "url"
            ],
            "returnType": "String",
            "startOffset": 335592061
           },
           {
            "duration": 467,
            "fieldName": "subType",
            "parentType": "franchise",
            "path": [
             "assetList",
             "assets",
             11,
             "section",
             "subType"
            ],
            "returnType": "String",
            "startOffset": 335593603
           },
           {
            "duration": 539,
            "fieldName": "sectionLabel",
            "parentType": "franchise",
            "path": [
             "assetList",
             "assets",
             11,
             "section",
             "sectionLabel"
            ],
            "returnType": "String",
            "startOffset": 335594909
           },
           {
            "duration": 552,
            "fieldName": "id",
            "parentType": "source",
            "path": [
             "assetList",
             "assets",
             11,
             "sourceOrganization",
             0,
             "id"
            ],
            "returnType": "Int",
            "startOffset": 335602242
           },
           {
            "duration": 585,
            "fieldName": "name",
            "parentType": "source",
            "path": [
             "assetList",
             "assets",
             11,
             "sourceOrganization",
             0,
             "name"
            ],
            "returnType": "String",
            "startOffset": 335603537
           },
           {
            "duration": 532,
            "fieldName": "url",
            "parentType": "source",
            "path": [
             "assetList",
             "assets",
             11,
             "sourceOrganization",
             0,
             "url"
            ],
            "returnType": "String",
            "startOffset": 335604802
           },
           {
            "duration": 667,
            "fieldName": "eyebrow",
            "parentType": "franchise",
            "path": [
             "assetList",
             "assets",
             12,
             "section",
             "eyebrow"
            ],
            "returnType": "String",
            "startOffset": 335630102
           },
           {
            "duration": 444,
            "fieldName": "type",
            "parentType": "franchise",
            "path": [
             "assetList",
             "assets",
             12,
             "section",
             "type"
            ],
            "returnType": "String",
            "startOffset": 335631430
           },
           {
            "duration": 889,
            "fieldName": "url",
            "parentType": "franchise",
            "path": [
             "assetList",
             "assets",
             12,
             "section",
             "url"
            ],
            "returnType": "String",
            "startOffset": 335632486
           },
           {
            "duration": 534,
            "fieldName": "subType",
            "parentType": "franchise",
            "path": [
             "assetList",
             "assets",
             12,
             "section",
             "subType"
            ],
            "returnType": "String",
            "startOffset": 335634069
           },
           {
            "duration": 484,
            "fieldName": "sectionLabel",
            "parentType": "franchise",
            "path": [
             "assetList",
             "assets",
             12,
             "section",
             "sectionLabel"
            ],
            "returnType": "String",
            "startOffset": 335635370
           },
           {
            "duration": 561,
            "fieldName": "id",
            "parentType": "source",
            "path": [
             "assetList",
             "assets",
             12,
             "sourceOrganization",
             0,
             "id"
            ],
            "returnType": "Int",
            "startOffset": 335642354
           },
           {
            "duration": 460,
            "fieldName": "name",
            "parentType": "source",
            "path": [
             "assetList",
             "assets",
             12,
             "sourceOrganization",
             0,
             "name"
            ],
            "returnType": "String",
            "startOffset": 335643634
           },
           {
            "duration": 570,
            "fieldName": "url",
            "parentType": "source",
            "path": [
             "assetList",
             "assets",
             12,
             "sourceOrganization",
             0,
             "url"
            ],
            "returnType": "String",
            "startOffset": 335644849
           },
           {
            "duration": 686,
            "fieldName": "eyebrow",
            "parentType": "franchise",
            "path": [
             "assetList",
             "assets",
             13,
             "section",
             "eyebrow"
            ],
            "returnType": "String",
            "startOffset": 335671782
           },
           {
            "duration": 532,
            "fieldName": "type",
            "parentType": "franchise",
            "path": [
             "assetList",
             "assets",
             13,
             "section",
             "type"
            ],
            "returnType": "String",
            "startOffset": 335673160
           },
           {
            "duration": 719,
            "fieldName": "url",
            "parentType": "franchise",
            "path": [
             "assetList",
             "assets",
             13,
             "section",
             "url"
            ],
            "returnType": "String",
            "startOffset": 335674298
           },
           {
            "duration": 477,
            "fieldName": "subType",
            "parentType": "franchise",
            "path": [
             "assetList",
             "assets",
             13,
             "section",
             "subType"
            ],
            "returnType": "String",
            "startOffset": 335675878
           },
           {
            "duration": 445,
            "fieldName": "sectionLabel",
            "parentType": "franchise",
            "path": [
             "assetList",
             "assets",
             13,
             "section",
             "sectionLabel"
            ],
            "returnType": "String",
            "startOffset": 335677129
           },
           {
            "duration": 554,
            "fieldName": "id",
            "parentType": "source",
            "path": [
             "assetList",
             "assets",
             13,
             "sourceOrganization",
             0,
             "id"
            ],
            "returnType": "Int",
            "startOffset": 335684226
           },
           {
            "duration": 14797,
            "fieldName": "name",
            "parentType": "source",
            "path": [
             "assetList",
             "assets",
             13,
             "sourceOrganization",
             0,
             "name"
            ],
            "returnType": "String",
            "startOffset": 335685506
           },
           {
            "duration": 576,
            "fieldName": "url",
            "parentType": "source",
            "path": [
             "assetList",
             "assets",
             13,
             "sourceOrganization",
             0,
             "url"
            ],
            "returnType": "String",
            "startOffset": 335701129
           },
           {
            "duration": 626,
            "fieldName": "eyebrow",
            "parentType": "franchise",
            "path": [
             "assetList",
             "assets",
             14,
             "section",
             "eyebrow"
            ],
            "returnType": "String",
            "startOffset": 335727910
           },
           {
            "duration": 477,
            "fieldName": "type",
            "parentType": "franchise",
            "path": [
             "assetList",
             "assets",
             14,
             "section",
             "type"
            ],
            "returnType": "String",
            "startOffset": 335729316
           },
           {
            "duration": 804,
            "fieldName": "url",
            "parentType": "franchise",
            "path": [
             "assetList",
             "assets",
             14,
             "section",
             "url"
            ],
            "returnType": "String",
            "startOffset": 335730440
           },
           {
            "duration": 492,
            "fieldName": "subType",
            "parentType": "franchise",
            "path": [
             "assetList",
             "assets",
             14,
             "section",
             "subType"
            ],
            "returnType": "String",
            "startOffset": 335732081
           },
           {
            "duration": 450,
            "fieldName": "sectionLabel",
            "parentType": "franchise",
            "path": [
             "assetList",
             "assets",
             14,
             "section",
             "sectionLabel"
            ],
            "returnType": "String",
            "startOffset": 335733340
           },
           {
            "duration": 610,
            "fieldName": "id",
            "parentType": "source",
            "path": [
             "assetList",
             "assets",
             14,
             "sourceOrganization",
             0,
             "id"
            ],
            "returnType": "Int",
            "startOffset": 335741241
           },
           {
            "duration": 478,
            "fieldName": "name",
            "parentType": "source",
            "path": [
             "assetList",
             "assets",
             14,
             "sourceOrganization",
             0,
             "name"
            ],
            "returnType": "String",
            "startOffset": 335742590
           },
           {
            "duration": 581,
            "fieldName": "url",
            "parentType": "source",
            "path": [
             "assetList",
             "assets",
             14,
             "sourceOrganization",
             0,
             "url"
            ],
            "returnType": "String",
            "startOffset": 335743716
           },
           {
            "duration": 634,
            "fieldName": "eyebrow",
            "parentType": "franchise",
            "path": [
             "assetList",
             "assets",
             15,
             "section",
             "eyebrow"
            ],
            "returnType": "String",
            "startOffset": 335769636
           },
           {
            "duration": 478,
            "fieldName": "type",
            "parentType": "franchise",
            "path": [
             "assetList",
             "assets",
             15,
             "section",
             "type"
            ],
            "returnType": "String",
            "startOffset": 335771122
           },
           {
            "duration": 752,
            "fieldName": "url",
            "parentType": "franchise",
            "path": [
             "assetList",
             "assets",
             15,
             "section",
             "url"
            ],
            "returnType": "String",
            "startOffset": 335772202
           },
           {
            "duration": 573,
            "fieldName": "subType",
            "parentType": "franchise",
            "path": [
             "assetList",
             "assets",
             15,
             "section",
             "subType"
            ],
            "returnType": "String",
            "startOffset": 335773633
           },
           {
            "duration": 434,
            "fieldName": "sectionLabel",
            "parentType": "franchise",
            "path": [
             "assetList",
             "assets",
             15,
             "section",
             "sectionLabel"
            ],
            "returnType": "String",
            "startOffset": 335775012
           },
           {
            "duration": 681,
            "fieldName": "id",
            "parentType": "source",
            "path": [
             "assetList",
             "assets",
             15,
             "sourceOrganization",
             0,
             "id"
            ],
            "returnType": "Int",
            "startOffset": 335782929
           },
           {
            "duration": 470,
            "fieldName": "name",
            "parentType": "source",
            "path": [
             "assetList",
             "assets",
             15,
             "sourceOrganization",
             0,
             "name"
            ],
            "returnType": "String",
            "startOffset": 335784380
           },
           {
            "duration": 473,
            "fieldName": "url",
            "parentType": "source",
            "path": [
             "assetList",
             "assets",
             15,
             "sourceOrganization",
             0,
             "url"
            ],
            "returnType": "String",
            "startOffset": 335785511
           },
           {
            "duration": 641,
            "fieldName": "eyebrow",
            "parentType": "franchise",
            "path": [
             "assetList",
             "assets",
             16,
             "section",
             "eyebrow"
            ],
            "returnType": "String",
            "startOffset": 335812799
           },
           {
            "duration": 561,
            "fieldName": "type",
            "parentType": "franchise",
            "path": [
             "assetList",
             "assets",
             16,
             "section",
             "type"
            ],
            "returnType": "String",
            "startOffset": 335814211
           },
           {
            "duration": 840,
            "fieldName": "url",
            "parentType": "franchise",
            "path": [
             "assetList",
             "assets",
             16,
             "section",
             "url"
            ],
            "returnType": "String",
            "startOffset": 335815430
           },
           {
            "duration": 569,
            "fieldName": "subType",
            "parentType": "franchise",
            "path": [
             "assetList",
             "assets",
             16,
             "section",
             "subType"
            ],
            "returnType": "String",
            "startOffset": 335816924
           },
           {
            "duration": 441,
            "fieldName": "sectionLabel",
            "parentType": "franchise",
            "path": [
             "assetList",
             "assets",
             16,
             "section",
             "sectionLabel"
            ],
            "returnType": "String",
            "startOffset": 335818284
           },
           {
            "duration": 622,
            "fieldName": "id",
            "parentType": "source",
            "path": [
             "assetList",
             "assets",
             16,
             "sourceOrganization",
             0,
             "id"
            ],
            "returnType": "Int",
            "startOffset": 335825776
           },
           {
            "duration": 483,
            "fieldName": "name",
            "parentType": "source",
            "path": [
             "assetList",
             "assets",
             16,
             "sourceOrganization",
             0,
             "name"
            ],
            "returnType": "String",
            "startOffset": 335827173
           },
           {
            "duration": 501,
            "fieldName": "url",
            "parentType": "source",
            "path": [
             "assetList",
             "assets",
             16,
             "sourceOrganization",
             0,
             "url"
            ],
            "returnType": "String",
            "startOffset": 335828309
           },
           {
            "duration": 631,
            "fieldName": "eyebrow",
            "parentType": "franchise",
            "path": [
             "assetList",
             "assets",
             17,
             "section",
             "eyebrow"
            ],
            "returnType": "String",
            "startOffset": 335855389
           },
           {
            "duration": 604,
            "fieldName": "type",
            "parentType": "franchise",
            "path": [
             "assetList",
             "assets",
             17,
             "section",
             "type"
            ],
            "returnType": "String",
            "startOffset": 335856686
           },
           {
            "duration": 881,
            "fieldName": "url",
            "parentType": "franchise",
            "path": [
             "assetList",
             "assets",
             17,
             "section",
             "url"
            ],
            "returnType": "String",
            "startOffset": 335858016
           },
           {
            "duration": 472,
            "fieldName": "subType",
            "parentType": "franchise",
            "path": [
             "assetList",
             "assets",
             17,
             "section",
             "subType"
            ],
            "returnType": "String",
            "startOffset": 335859549
           },
           {
            "duration": 433,
            "fieldName": "sectionLabel",
            "parentType": "franchise",
            "path": [
             "assetList",
             "assets",
             17,
             "section",
             "sectionLabel"
            ],
            "returnType": "String",
            "startOffset": 335860935
           },
           {
            "duration": 548,
            "fieldName": "id",
            "parentType": "source",
            "path": [
             "assetList",
             "assets",
             17,
             "sourceOrganization",
             0,
             "id"
            ],
            "returnType": "Int",
            "startOffset": 335868049
           },
           {
            "duration": 466,
            "fieldName": "name",
            "parentType": "source",
            "path": [
             "assetList",
             "assets",
             17,
             "sourceOrganization",
             0,
             "name"
            ],
            "returnType": "String",
            "startOffset": 335869431
           },
           {
            "duration": 475,
            "fieldName": "url",
            "parentType": "source",
            "path": [
             "assetList",
             "assets",
             17,
             "sourceOrganization",
             0,
             "url"
            ],
            "returnType": "String",
            "startOffset": 335870535
           },
           {
            "duration": 657,
            "fieldName": "eyebrow",
            "parentType": "franchise",
            "path": [
             "assetList",
             "assets",
             18,
             "section",
             "eyebrow"
            ],
            "returnType": "String",
            "startOffset": 335896822
           },
           {
            "duration": 462,
            "fieldName": "type",
            "parentType": "franchise",
            "path": [
             "assetList",
             "assets",
             18,
             "section",
             "type"
            ],
            "returnType": "String",
            "startOffset": 335898127
           },
           {
            "duration": 729,
            "fieldName": "url",
            "parentType": "franchise",
            "path": [
             "assetList",
             "assets",
             18,
             "section",
             "url"
            ],
            "returnType": "String",
            "startOffset": 335899309
           },
           {
            "duration": 472,
            "fieldName": "subType",
            "parentType": "franchise",
            "path": [
             "assetList",
             "assets",
             18,
             "section",
             "subType"
            ],
            "returnType": "String",
            "startOffset": 335900693
           },
           {
            "duration": 442,
            "fieldName": "sectionLabel",
            "parentType": "franchise",
            "path": [
             "assetList",
             "assets",
             18,
             "section",
             "sectionLabel"
            ],
            "returnType": "String",
            "startOffset": 335902115
           },
           {
            "duration": 546,
            "fieldName": "id",
            "parentType": "source",
            "path": [
             "assetList",
             "assets",
             18,
             "sourceOrganization",
             0,
             "id"
            ],
            "returnType": "Int",
            "startOffset": 335909401
           },
           {
            "duration": 547,
            "fieldName": "name",
            "parentType": "source",
            "path": [
             "assetList",
             "assets",
             18,
             "sourceOrganization",
             0,
             "name"
            ],
            "returnType": "String",
            "startOffset": 335910814
           },
           {
            "duration": 522,
            "fieldName": "url",
            "parentType": "source",
            "path": [
             "assetList",
             "assets",
             18,
             "sourceOrganization",
             0,
             "url"
            ],
            "returnType": "String",
            "startOffset": 335912017
           },
           {
            "duration": 616,
            "fieldName": "eyebrow",
            "parentType": "franchise",
            "path": [
             "assetList",
             "assets",
             19,
             "section",
             "eyebrow"
            ],
            "returnType": "String",
            "startOffset": 335937641
           },
           {
            "duration": 450,
            "fieldName": "type",
            "parentType": "franchise",
            "path": [
             "assetList",
             "assets",
             19,
             "section",
             "type"
            ],
            "returnType": "String",
            "startOffset": 335938908
           },
           {
            "duration": 754,
            "fieldName": "url",
            "parentType": "franchise",
            "path": [
             "assetList",
             "assets",
             19,
             "section",
             "url"
            ],
            "returnType": "String",
            "startOffset": 335939963
           },
           {
            "duration": 475,
            "fieldName": "subType",
            "parentType": "franchise",
            "path": [
             "assetList",
             "assets",
             19,
             "section",
             "subType"
            ],
            "returnType": "String",
            "startOffset": 335941389
           },
           {
            "duration": 443,
            "fieldName": "sectionLabel",
            "parentType": "franchise",
            "path": [
             "assetList",
             "assets",
             19,
             "section",
             "sectionLabel"
            ],
            "returnType": "String",
            "startOffset": 335942642
           },
           {
            "duration": 531,
            "fieldName": "id",
            "parentType": "source",
            "path": [
             "assetList",
             "assets",
             19,
             "sourceOrganization",
             0,
             "id"
            ],
            "returnType": "Int",
            "startOffset": 335949866
           },
           {
            "duration": 663,
            "fieldName": "name",
            "parentType": "source",
            "path": [
             "assetList",
             "assets",
             19,
             "sourceOrganization",
             0,
             "name"
            ],
            "returnType": "String",
            "startOffset": 335951134
           },
           {
            "duration": 473,
            "fieldName": "url",
            "parentType": "source",
            "path": [
             "assetList",
             "assets",
             19,
             "sourceOrganization",
             0,
             "url"
            ],
            "returnType": "String",
            "startOffset": 335952544
           },
           {
            "duration": 726,
            "fieldName": "eyebrow",
            "parentType": "franchise",
            "path": [
             "assetList",
             "assets",
             20,
             "section",
             "eyebrow"
            ],
            "returnType": "String",
            "startOffset": 335978269
           },
           {
            "duration": 508,
            "fieldName": "type",
            "parentType": "franchise",
            "path": [
             "assetList",
             "assets",
             20,
             "section",
             "type"
            ],
            "returnType": "String",
            "startOffset": 335979663
           },
           {
            "duration": 862,
            "fieldName": "url",
            "parentType": "franchise",
            "path": [
             "assetList",
             "assets",
             20,
             "section",
             "url"
            ],
            "returnType": "String",
            "startOffset": 335980764
           },
           {
            "duration": 487,
            "fieldName": "subType",
            "parentType": "franchise",
            "path": [
             "assetList",
             "assets",
             20,
             "section",
             "subType"
            ],
            "returnType": "String",
            "startOffset": 335982320
           },
           {
            "duration": 553,
            "fieldName": "sectionLabel",
            "parentType": "franchise",
            "path": [
             "assetList",
             "assets",
             20,
             "section",
             "sectionLabel"
            ],
            "returnType": "String",
            "startOffset": 335983582
           },
           {
            "duration": 543,
            "fieldName": "id",
            "parentType": "source",
            "path": [
             "assetList",
             "assets",
             20,
             "sourceOrganization",
             0,
             "id"
            ],
            "returnType": "Int",
            "startOffset": 335991118
           },
           {
            "duration": 466,
            "fieldName": "name",
            "parentType": "source",
            "path": [
             "assetList",
             "assets",
             20,
             "sourceOrganization",
             0,
             "name"
            ],
            "returnType": "String",
            "startOffset": 335992376
           },
           {
            "duration": 574,
            "fieldName": "url",
            "parentType": "source",
            "path": [
             "assetList",
             "assets",
             20,
             "sourceOrganization",
             0,
             "url"
            ],
            "returnType": "String",
            "startOffset": 335993592
           },
           {
            "duration": 735,
            "fieldName": "eyebrow",
            "parentType": "franchise",
            "path": [
             "assetList",
             "assets",
             21,
             "section",
             "eyebrow"
            ],
            "returnType": "String",
            "startOffset": 336019302
           },
           {
            "duration": 512,
            "fieldName": "type",
            "parentType": "franchise",
            "path": [
             "assetList",
             "assets",
             21,
             "section",
             "type"
            ],
            "returnType": "String",
            "startOffset": 336020706
           },
           {
            "duration": 938,
            "fieldName": "url",
            "parentType": "franchise",
            "path": [
             "assetList",
             "assets",
             21,
             "section",
             "url"
            ],
            "returnType": "String",
            "startOffset": 336021837
           },
           {
            "duration": 474,
            "fieldName": "subType",
            "parentType": "franchise",
            "path": [
             "assetList",
             "assets",
             21,
             "section",
             "subType"
            ],
            "returnType": "String",
            "startOffset": 336023505
           },
           {
            "duration": 450,
            "fieldName": "sectionLabel",
            "parentType": "franchise",
            "path": [
             "assetList",
             "assets",
             21,
             "section",
             "sectionLabel"
            ],
            "returnType": "String",
            "startOffset": 336024766
           },
           {
            "duration": 673,
            "fieldName": "id",
            "parentType": "source",
            "path": [
             "assetList",
             "assets",
             21,
             "sourceOrganization",
             0,
             "id"
            ],
            "returnType": "Int",
            "startOffset": 336033826
           },
           {
            "duration": 1588,
            "fieldName": "name",
            "parentType": "source",
            "path": [
             "assetList",
             "assets",
             21,
             "sourceOrganization",
             0,
             "name"
            ],
            "returnType": "String",
            "startOffset": 336035286
           },
           {
            "duration": 480,
            "fieldName": "url",
            "parentType": "source",
            "path": [
             "assetList",
             "assets",
             21,
             "sourceOrganization",
             0,
             "url"
            ],
            "returnType": "String",
            "startOffset": 336037717
           },
           {
            "duration": 616,
            "fieldName": "eyebrow",
            "parentType": "franchise",
            "path": [
             "assetList",
             "assets",
             22,
             "section",
             "eyebrow"
            ],
            "returnType": "String",
            "startOffset": 336063053
           },
           {
            "duration": 517,
            "fieldName": "type",
            "parentType": "franchise",
            "path": [
             "assetList",
             "assets",
             22,
             "section",
             "type"
            ],
            "returnType": "String",
            "startOffset": 336064415
           },
           {
            "duration": 1032,
            "fieldName": "url",
            "parentType": "franchise",
            "path": [
             "assetList",
             "assets",
             22,
             "section",
             "url"
            ],
            "returnType": "String",
            "startOffset": 336065532
           },
           {
            "duration": 476,
            "fieldName": "subType",
            "parentType": "franchise",
            "path": [
             "assetList",
             "assets",
             22,
             "section",
             "subType"
            ],
            "returnType": "String",
            "startOffset": 336067371
           },
           {
            "duration": 445,
            "fieldName": "sectionLabel",
            "parentType": "franchise",
            "path": [
             "assetList",
             "assets",
             22,
             "section",
             "sectionLabel"
            ],
            "returnType": "String",
            "startOffset": 336068645
           },
           {
            "duration": 657,
            "fieldName": "id",
            "parentType": "source",
            "path": [
             "assetList",
             "assets",
             22,
             "sourceOrganization",
             0,
             "id"
            ],
            "returnType": "Int",
            "startOffset": 336076205
           },
           {
            "duration": 459,
            "fieldName": "name",
            "parentType": "source",
            "path": [
             "assetList",
             "assets",
             22,
             "sourceOrganization",
             0,
             "name"
            ],
            "returnType": "String",
            "startOffset": 336077589
           },
           {
            "duration": 707,
            "fieldName": "url",
            "parentType": "source",
            "path": [
             "assetList",
             "assets",
             22,
             "sourceOrganization",
             0,
             "url"
            ],
            "returnType": "String",
            "startOffset": 336078695
           },
           {
            "duration": 632,
            "fieldName": "eyebrow",
            "parentType": "franchise",
            "path": [
             "assetList",
             "assets",
             23,
             "section",
             "eyebrow"
            ],
            "returnType": "String",
            "startOffset": 336103744
           },
           {
            "duration": 560,
            "fieldName": "type",
            "parentType": "franchise",
            "path": [
             "assetList",
             "assets",
             23,
             "section",
             "type"
            ],
            "returnType": "String",
            "startOffset": 336105157
           },
           {
            "duration": 733,
            "fieldName": "url",
            "parentType": "franchise",
            "path": [
             "assetList",
             "assets",
             23,
             "section",
             "url"
            ],
            "returnType": "String",
            "startOffset": 336106376
           },
           {
            "duration": 656,
            "fieldName": "subType",
            "parentType": "franchise",
            "path": [
             "assetList",
             "assets",
             23,
             "section",
             "subType"
            ],
            "returnType": "String",
            "startOffset": 336107773
           },
           {
            "duration": 451,
            "fieldName": "sectionLabel",
            "parentType": "franchise",
            "path": [
             "assetList",
             "assets",
             23,
             "section",
             "sectionLabel"
            ],
            "returnType": "String",
            "startOffset": 336109221
           },
           {
            "duration": 708,
            "fieldName": "id",
            "parentType": "source",
            "path": [
             "assetList",
             "assets",
             23,
             "sourceOrganization",
             0,
             "id"
            ],
            "returnType": "Int",
            "startOffset": 336116632
           },
           {
            "duration": 549,
            "fieldName": "name",
            "parentType": "source",
            "path": [
             "assetList",
             "assets",
             23,
             "sourceOrganization",
             0,
             "name"
            ],
            "returnType": "String",
            "startOffset": 336118071
           },
           {
            "duration": 541,
            "fieldName": "url",
            "parentType": "source",
            "path": [
             "assetList",
             "assets",
             23,
             "sourceOrganization",
             0,
             "url"
            ],
            "returnType": "String",
            "startOffset": 336119274
           },
           {
            "duration": 613,
            "fieldName": "eyebrow",
            "parentType": "franchise",
            "path": [
             "assetList",
             "assets",
             24,
             "section",
             "eyebrow"
            ],
            "returnType": "String",
            "startOffset": 336144023
           },
           {
            "duration": 475,
            "fieldName": "type",
            "parentType": "franchise",
            "path": [
             "assetList",
             "assets",
             24,
             "section",
             "type"
            ],
            "returnType": "String",
            "startOffset": 336145445
           },
           {
            "duration": 724,
            "fieldName": "url",
            "parentType": "franchise",
            "path": [
             "assetList",
             "assets",
             24,
             "section",
             "url"
            ],
            "returnType": "String",
            "startOffset": 336146524
           },
           {
            "duration": 471,
            "fieldName": "subType",
            "parentType": "franchise",
            "path": [
             "assetList",
             "assets",
             24,
             "section",
             "subType"
            ],
            "returnType": "String",
            "startOffset": 336147890
           },
           {
            "duration": 448,
            "fieldName": "sectionLabel",
            "parentType": "franchise",
            "path": [
             "assetList",
             "assets",
             24,
             "section",
             "sectionLabel"
            ],
            "returnType": "String",
            "startOffset": 336149162
           },
           {
            "duration": 560,
            "fieldName": "id",
            "parentType": "source",
            "path": [
             "assetList",
             "assets",
             24,
             "sourceOrganization",
             0,
             "id"
            ],
            "returnType": "Int",
            "startOffset": 336156283
           },
           {
            "duration": 461,
            "fieldName": "name",
            "parentType": "source",
            "path": [
             "assetList",
             "assets",
             24,
             "sourceOrganization",
             0,
             "name"
            ],
            "returnType": "String",
            "startOffset": 336157773
           },
           {
            "duration": 462,
            "fieldName": "url",
            "parentType": "source",
            "path": [
             "assetList",
             "assets",
             24,
             "sourceOrganization",
             0,
             "url"
            ],
            "returnType": "String",
            "startOffset": 336158900
           },
           {
            "duration": 703,
            "fieldName": "eyebrow",
            "parentType": "franchise",
            "path": [
             "assetList",
             "assets",
             25,
             "section",
             "eyebrow"
            ],
            "returnType": "String",
            "startOffset": 336183299
           },
           {
            "duration": 503,
            "fieldName": "type",
            "parentType": "franchise",
            "path": [
             "assetList",
             "assets",
             25,
             "section",
             "type"
            ],
            "returnType": "String",
            "startOffset": 336184660
           },
           {
            "duration": 923,
            "fieldName": "url",
            "parentType": "franchise",
            "path": [
             "assetList",
             "assets",
             25,
             "section",
             "url"
            ],
            "returnType": "String",
            "startOffset": 336185946
           },
           {
            "duration": 479,
            "fieldName": "subType",
            "parentType": "franchise",
            "path": [
             "assetList",
             "assets",
             25,
             "section",
             "subType"
            ],
            "returnType": "String",
            "startOffset": 336187569
           },
           {
            "duration": 449,
            "fieldName": "sectionLabel",
            "parentType": "franchise",
            "path": [
             "assetList",
             "assets",
             25,
             "section",
             "sectionLabel"
            ],
            "returnType": "String",
            "startOffset": 336189280
           },
           {
            "duration": 532,
            "fieldName": "id",
            "parentType": "source",
            "path": [
             "assetList",
             "assets",
             25,
             "sourceOrganization",
             0,
             "id"
            ],
            "returnType": "Int",
            "startOffset": 336196068
           },
           {
            "duration": 467,
            "fieldName": "name",
            "parentType": "source",
            "path": [
             "assetList",
             "assets",
             25,
             "sourceOrganization",
             0,
             "name"
            ],
            "returnType": "String",
            "startOffset": 336197530
           },
           {
            "duration": 489,
            "fieldName": "url",
            "parentType": "source",
            "path": [
             "assetList",
             "assets",
             25,
             "sourceOrganization",
             0,
             "url"
            ],
            "returnType": "String",
            "startOffset": 336198664
           },
           {
            "duration": 625,
            "fieldName": "eyebrow",
            "parentType": "franchise",
            "path": [
             "assetList",
             "assets",
             26,
             "section",
             "eyebrow"
            ],
            "returnType": "String",
            "startOffset": 336223581
           },
           {
            "duration": 458,
            "fieldName": "type",
            "parentType": "franchise",
            "path": [
             "assetList",
             "assets",
             26,
             "section",
             "type"
            ],
            "returnType": "String",
            "startOffset": 336224862
           },
           {
            "duration": 698,
            "fieldName": "url",
            "parentType": "franchise",
            "path": [
             "assetList",
             "assets",
             26,
             "section",
             "url"
            ],
            "returnType": "String",
            "startOffset": 336226136
           },
           {
            "duration": 468,
            "fieldName": "subType",
            "parentType": "franchise",
            "path": [
             "assetList",
             "assets",
             26,
             "section",
             "subType"
            ],
            "returnType": "String",
            "startOffset": 336227506
           },
           {
            "duration": 478,
            "fieldName": "sectionLabel",
            "parentType": "franchise",
            "path": [
             "assetList",
             "assets",
             26,
             "section",
             "sectionLabel"
            ],
            "returnType": "String",
            "startOffset": 336228901
           },
           {
            "duration": 551,
            "fieldName": "id",
            "parentType": "source",
            "path": [
             "assetList",
             "assets",
             26,
             "sourceOrganization",
             0,
             "id"
            ],
            "returnType": "Int",
            "startOffset": 336235850
           },
           {
            "duration": 1063,
            "fieldName": "name",
            "parentType": "source",
            "path": [
             "assetList",
             "assets",
             26,
             "sourceOrganization",
             0,
             "name"
            ],
            "returnType": "String",
            "startOffset": 336237111
           },
           {
            "duration": 470,
            "fieldName": "url",
            "parentType": "source",
            "path": [
             "assetList",
             "assets",
             26,
             "sourceOrganization",
             0,
             "url"
            ],
            "returnType": "String",
            "startOffset": 336238854
           },
           {
            "duration": 677,
            "fieldName": "eyebrow",
            "parentType": "franchise",
            "path": [
             "assetList",
             "assets",
             27,
             "section",
             "eyebrow"
            ],
            "returnType": "String",
            "startOffset": 336263845
           },
           {
            "duration": 442,
            "fieldName": "type",
            "parentType": "franchise",
            "path": [
             "assetList",
             "assets",
             27,
             "section",
             "type"
            ],
            "returnType": "String",
            "startOffset": 336265178
           },
           {
            "duration": 745,
            "fieldName": "url",
            "parentType": "franchise",
            "path": [
             "assetList",
             "assets",
             27,
             "section",
             "url"
            ],
            "returnType": "String",
            "startOffset": 336266319
           },
           {
            "duration": 469,
            "fieldName": "subType",
            "parentType": "franchise",
            "path": [
             "assetList",
             "assets",
             27,
             "section",
             "subType"
            ],
            "returnType": "String",
            "startOffset": 336267738
           },
           {
            "duration": 451,
            "fieldName": "sectionLabel",
            "parentType": "franchise",
            "path": [
             "assetList",
             "assets",
             27,
             "section",
             "sectionLabel"
            ],
            "returnType": "String",
            "startOffset": 336269016
           },
           {
            "duration": 590,
            "fieldName": "id",
            "parentType": "source",
            "path": [
             "assetList",
             "assets",
             27,
             "sourceOrganization",
             0,
             "id"
            ],
            "returnType": "Int",
            "startOffset": 336275935
           },
           {
            "duration": 556,
            "fieldName": "name",
            "parentType": "source",
            "path": [
             "assetList",
             "assets",
             27,
             "sourceOrganization",
             0,
             "name"
            ],
            "returnType": "String",
            "startOffset": 336277254
           },
           {
            "duration": 544,
            "fieldName": "url",
            "parentType": "source",
            "path": [
             "assetList",
             "assets",
             27,
             "sourceOrganization",
             0,
             "url"
            ],
            "returnType": "String",
            "startOffset": 336278508
           },
           {
            "duration": 654,
            "fieldName": "eyebrow",
            "parentType": "franchise",
            "path": [
             "assetList",
             "assets",
             28,
             "section",
             "eyebrow"
            ],
            "returnType": "String",
            "startOffset": 336303540
           },
           {
            "duration": 514,
            "fieldName": "type",
            "parentType": "franchise",
            "path": [
             "assetList",
             "assets",
             28,
             "section",
             "type"
            ],
            "returnType": "String",
            "startOffset": 336304856
           },
           {
            "duration": 862,
            "fieldName": "url",
            "parentType": "franchise",
            "path": [
             "assetList",
             "assets",
             28,
             "section",
             "url"
            ],
            "returnType": "String",
            "startOffset": 336305994
           },
           {
            "duration": 537,
            "fieldName": "subType",
            "parentType": "franchise",
            "path": [
             "assetList",
             "assets",
             28,
             "section",
             "subType"
            ],
            "returnType": "String",
            "startOffset": 336307578
           },
           {
            "duration": 737,
            "fieldName": "sectionLabel",
            "parentType": "franchise",
            "path": [
             "assetList",
             "assets",
             28,
             "section",
             "sectionLabel"
            ],
            "returnType": "String",
            "startOffset": 336308889
           },
           {
            "duration": 569,
            "fieldName": "id",
            "parentType": "source",
            "path": [
             "assetList",
             "assets",
             28,
             "sourceOrganization",
             0,
             "id"
            ],
            "returnType": "Int",
            "startOffset": 336316618
           },
           {
            "duration": 538,
            "fieldName": "name",
            "parentType": "source",
            "path": [
             "assetList",
             "assets",
             28,
             "sourceOrganization",
             0,
             "name"
            ],
            "returnType": "String",
            "startOffset": 336317912
           },
           {
            "duration": 478,
            "fieldName": "url",
            "parentType": "source",
            "path": [
             "assetList",
             "assets",
             28,
             "sourceOrganization",
             0,
             "url"
            ],
            "returnType": "String",
            "startOffset": 336319234
           },
           {
            "duration": 706,
            "fieldName": "eyebrow",
            "parentType": "franchise",
            "path": [
             "assetList",
             "assets",
             29,
             "section",
             "eyebrow"
            ],
            "returnType": "String",
            "startOffset": 336342896
           },
           {
            "duration": 454,
            "fieldName": "type",
            "parentType": "franchise",
            "path": [
             "assetList",
             "assets",
             29,
             "section",
             "type"
            ],
            "returnType": "String",
            "startOffset": 336344261
           },
           {
            "duration": 728,
            "fieldName": "url",
            "parentType": "franchise",
            "path": [
             "assetList",
             "assets",
             29,
             "section",
             "url"
            ],
            "returnType": "String",
            "startOffset": 336345323
           },
           {
            "duration": 534,
            "fieldName": "subType",
            "parentType": "franchise",
            "path": [
             "assetList",
             "assets",
             29,
             "section",
             "subType"
            ],
            "returnType": "String",
            "startOffset": 336346801
           },
           {
            "duration": 508,
            "fieldName": "sectionLabel",
            "parentType": "franchise",
            "path": [
             "assetList",
             "assets",
             29,
             "section",
             "sectionLabel"
            ],
            "returnType": "String",
            "startOffset": 336348115
           },
           {
            "duration": 562,
            "fieldName": "id",
            "parentType": "source",
            "path": [
             "assetList",
             "assets",
             29,
             "sourceOrganization",
             0,
             "id"
            ],
            "returnType": "Int",
            "startOffset": 336354837
           },
           {
            "duration": 533,
            "fieldName": "name",
            "parentType": "source",
            "path": [
             "assetList",
             "assets",
             29,
             "sourceOrganization",
             0,
             "name"
            ],
            "returnType": "String",
            "startOffset": 336356126
           },
           {
            "duration": 470,
            "fieldName": "url",
            "parentType": "source",
            "path": [
             "assetList",
             "assets",
             29,
             "sourceOrganization",
             0,
             "url"
            ],
            "returnType": "String",
            "startOffset": 336357472
           }
          ]
         },
         "startTime": "2022-05-08T09:24:35.076Z",
         "version": 1
        }
       }
      },
      "text/plain": [
       "<IPython.core.display.JSON object>"
      ]
     },
     "execution_count": 17,
     "metadata": {
      "application/json": {
       "expanded": false,
       "root": "root"
      }
     },
     "output_type": "execute_result"
    }
   ],
   "source": [
    "JSON(res.json())"
   ]
  },
  {
   "cell_type": "code",
   "execution_count": 45,
   "id": "2561dae3",
   "metadata": {},
   "outputs": [
    {
     "name": "stdout",
     "output_type": "stream",
     "text": [
      "Category /pre-markets/\n",
      "17689937\n",
      "0\n",
      "12\n",
      "Category /us-markets/\n",
      "100003242\n",
      "0\n",
      "30\n",
      "60\n",
      "90\n",
      "120\n",
      "150\n",
      "180\n",
      "210\n",
      "Category /markets-europe/\n",
      "10000528\n",
      "0\n",
      "30\n",
      "60\n",
      "90\n",
      "120\n",
      "150\n",
      "180\n",
      "210\n",
      "Category /china-markets/\n",
      "105200300\n",
      "0\n",
      "30\n",
      "60\n",
      "90\n",
      "120\n",
      "key not found\n"
     ]
    },
    {
     "data": {
      "application/json": {
       "errors": [
        {
         "message": "PersistedQueryNotFound"
        }
       ]
      },
      "text/plain": [
       "<IPython.core.display.JSON object>"
      ]
     },
     "metadata": {
      "application/json": {
       "expanded": false,
       "root": "root"
      }
     },
     "output_type": "display_data"
    },
    {
     "name": "stdout",
     "output_type": "stream",
     "text": [
      "120\n",
      "key not found\n"
     ]
    },
    {
     "data": {
      "application/json": {
       "errors": [
        {
         "message": "PersistedQueryNotFound"
        }
       ]
      },
      "text/plain": [
       "<IPython.core.display.JSON object>"
      ]
     },
     "metadata": {
      "application/json": {
       "expanded": false,
       "root": "root"
      }
     },
     "output_type": "display_data"
    },
    {
     "name": "stdout",
     "output_type": "stream",
     "text": [
      "Category /markets-asia-pacific/\n",
      "10000527\n",
      "0\n",
      "key not found\n"
     ]
    },
    {
     "data": {
      "application/json": {
       "errors": [
        {
         "message": "PersistedQueryNotFound"
        }
       ]
      },
      "text/plain": [
       "<IPython.core.display.JSON object>"
      ]
     },
     "metadata": {
      "application/json": {
       "expanded": false,
       "root": "root"
      }
     },
     "output_type": "display_data"
    },
    {
     "name": "stdout",
     "output_type": "stream",
     "text": [
      "0\n",
      "key not found\n"
     ]
    },
    {
     "data": {
      "application/json": {
       "errors": [
        {
         "message": "PersistedQueryNotFound"
        }
       ]
      },
      "text/plain": [
       "<IPython.core.display.JSON object>"
      ]
     },
     "metadata": {
      "application/json": {
       "expanded": false,
       "root": "root"
      }
     },
     "output_type": "display_data"
    },
    {
     "name": "stdout",
     "output_type": "stream",
     "text": [
      "Category /world-markets/\n",
      "100003241\n",
      "0\n",
      "key not found\n"
     ]
    },
    {
     "data": {
      "application/json": {
       "errors": [
        {
         "message": "PersistedQueryNotFound"
        }
       ]
      },
      "text/plain": [
       "<IPython.core.display.JSON object>"
      ]
     },
     "metadata": {
      "application/json": {
       "expanded": false,
       "root": "root"
      }
     },
     "output_type": "display_data"
    },
    {
     "name": "stdout",
     "output_type": "stream",
     "text": [
      "0\n",
      "key not found\n"
     ]
    },
    {
     "data": {
      "application/json": {
       "errors": [
        {
         "message": "PersistedQueryNotFound"
        }
       ]
      },
      "text/plain": [
       "<IPython.core.display.JSON object>"
      ]
     },
     "metadata": {
      "application/json": {
       "expanded": false,
       "root": "root"
      }
     },
     "output_type": "display_data"
    },
    {
     "name": "stdout",
     "output_type": "stream",
     "text": [
      "Category /currencies/\n",
      "15839178\n",
      "0\n",
      "key not found\n"
     ]
    },
    {
     "data": {
      "application/json": {
       "errors": [
        {
         "message": "PersistedQueryNotFound"
        }
       ]
      },
      "text/plain": [
       "<IPython.core.display.JSON object>"
      ]
     },
     "metadata": {
      "application/json": {
       "expanded": false,
       "root": "root"
      }
     },
     "output_type": "display_data"
    },
    {
     "name": "stdout",
     "output_type": "stream",
     "text": [
      "0\n",
      "key not found\n"
     ]
    },
    {
     "data": {
      "application/json": {
       "errors": [
        {
         "message": "PersistedQueryNotFound"
        }
       ]
      },
      "text/plain": [
       "<IPython.core.display.JSON object>"
      ]
     },
     "metadata": {
      "application/json": {
       "expanded": false,
       "root": "root"
      }
     },
     "output_type": "display_data"
    },
    {
     "name": "stdout",
     "output_type": "stream",
     "text": [
      "Category /cryptocurrency/\n",
      "104924378\n",
      "0\n",
      "key not found\n"
     ]
    },
    {
     "data": {
      "application/json": {
       "errors": [
        {
         "message": "PersistedQueryNotFound"
        }
       ]
      },
      "text/plain": [
       "<IPython.core.display.JSON object>"
      ]
     },
     "metadata": {
      "application/json": {
       "expanded": false,
       "root": "root"
      }
     },
     "output_type": "display_data"
    },
    {
     "name": "stdout",
     "output_type": "stream",
     "text": [
      "0\n",
      "key not found\n"
     ]
    },
    {
     "data": {
      "application/json": {
       "errors": [
        {
         "message": "PersistedQueryNotFound"
        }
       ]
      },
      "text/plain": [
       "<IPython.core.display.JSON object>"
      ]
     },
     "metadata": {
      "application/json": {
       "expanded": false,
       "root": "root"
      }
     },
     "output_type": "display_data"
    },
    {
     "name": "stdout",
     "output_type": "stream",
     "text": [
      "Category /futures-and-commodities/\n",
      "15839171\n",
      "0\n",
      "key not found\n"
     ]
    },
    {
     "data": {
      "application/json": {
       "errors": [
        {
         "message": "PersistedQueryNotFound"
        }
       ]
      },
      "text/plain": [
       "<IPython.core.display.JSON object>"
      ]
     },
     "metadata": {
      "application/json": {
       "expanded": false,
       "root": "root"
      }
     },
     "output_type": "display_data"
    },
    {
     "name": "stdout",
     "output_type": "stream",
     "text": [
      "0\n",
      "key not found\n"
     ]
    },
    {
     "data": {
      "application/json": {
       "errors": [
        {
         "message": "PersistedQueryNotFound"
        }
       ]
      },
      "text/plain": [
       "<IPython.core.display.JSON object>"
      ]
     },
     "metadata": {
      "application/json": {
       "expanded": false,
       "root": "root"
      }
     },
     "output_type": "display_data"
    },
    {
     "name": "stdout",
     "output_type": "stream",
     "text": [
      "Category /bonds/\n",
      "15839203\n",
      "0\n",
      "key not found\n"
     ]
    },
    {
     "data": {
      "application/json": {
       "errors": [
        {
         "message": "PersistedQueryNotFound"
        }
       ]
      },
      "text/plain": [
       "<IPython.core.display.JSON object>"
      ]
     },
     "metadata": {
      "application/json": {
       "expanded": false,
       "root": "root"
      }
     },
     "output_type": "display_data"
    },
    {
     "name": "stdout",
     "output_type": "stream",
     "text": [
      "0\n",
      "key not found\n"
     ]
    },
    {
     "data": {
      "application/json": {
       "errors": [
        {
         "message": "PersistedQueryNotFound"
        }
       ]
      },
      "text/plain": [
       "<IPython.core.display.JSON object>"
      ]
     },
     "metadata": {
      "application/json": {
       "expanded": false,
       "root": "root"
      }
     },
     "output_type": "display_data"
    },
    {
     "name": "stdout",
     "output_type": "stream",
     "text": [
      "Category /funds-and-etfs/\n",
      "10000946\n",
      "0\n",
      "30\n",
      "60\n",
      "90\n",
      "120\n",
      "150\n",
      "180\n",
      "200\n",
      "Category /economy/\n",
      "20910258\n",
      "0\n",
      "30\n",
      "60\n",
      "90\n",
      "120\n",
      "150\n",
      "180\n",
      "200\n",
      "Category /finance/\n",
      "10000664\n",
      "0\n",
      "30\n",
      "60\n",
      "90\n",
      "120\n",
      "150\n",
      "180\n",
      "200\n",
      "Category /health-and-science/\n",
      "10000108\n",
      "0\n",
      "30\n",
      "60\n",
      "90\n",
      "120\n",
      "150\n",
      "180\n",
      "200\n",
      "Category /media/\n",
      "10000110\n",
      "0\n",
      "30\n",
      "60\n",
      "90\n",
      "120\n",
      "150\n",
      "171\n",
      "Category /real-estate/\n",
      "10000115\n",
      "0\n",
      "30\n",
      "60\n",
      "90\n",
      "120\n",
      "150\n",
      "180\n",
      "200\n",
      "Category /energy/\n",
      "19836768\n",
      "0\n",
      "30\n",
      "60\n",
      "90\n",
      "120\n",
      "150\n",
      "180\n",
      "200\n",
      "Category /climate/\n",
      "106915556\n",
      "0\n",
      "30\n",
      "60\n",
      "90\n",
      "120\n",
      "150\n",
      "180\n",
      "200\n",
      "Category /transportation/\n",
      "10000142\n",
      "0\n",
      "30\n",
      "60\n",
      "90\n",
      "120\n",
      "150\n",
      "180\n",
      "200\n",
      "Category /industrials/\n",
      "10000098\n",
      "0\n",
      "30\n",
      "60\n",
      "90\n",
      "120\n",
      "150\n",
      "180\n",
      "200\n",
      "Category /retail/\n",
      "10000116\n",
      "0\n",
      "30\n",
      "60\n",
      "90\n",
      "120\n",
      "150\n",
      "180\n",
      "200\n",
      "Category /wealth/\n",
      "10001054\n",
      "0\n",
      "30\n",
      "60\n",
      "90\n",
      "120\n",
      "150\n",
      "180\n",
      "200\n",
      "Category /life/\n",
      "10001150\n",
      "0\n",
      "30\n",
      "60\n",
      "90\n",
      "120\n",
      "150\n",
      "180\n",
      "200\n",
      "key not found\n"
     ]
    },
    {
     "data": {
      "application/json": {
       "errors": [
        {
         "message": "PersistedQueryNotFound"
        }
       ]
      },
      "text/plain": [
       "<IPython.core.display.JSON object>"
      ]
     },
     "metadata": {
      "application/json": {
       "expanded": false,
       "root": "root"
      }
     },
     "output_type": "display_data"
    },
    {
     "name": "stdout",
     "output_type": "stream",
     "text": [
      "200\n",
      "key not found\n"
     ]
    },
    {
     "data": {
      "application/json": {
       "errors": [
        {
         "message": "PersistedQueryNotFound"
        }
       ]
      },
      "text/plain": [
       "<IPython.core.display.JSON object>"
      ]
     },
     "metadata": {
      "application/json": {
       "expanded": false,
       "root": "root"
      }
     },
     "output_type": "display_data"
    },
    {
     "name": "stdout",
     "output_type": "stream",
     "text": [
      "Category /small-business/\n",
      "44877279\n",
      "0\n",
      "key not found\n"
     ]
    },
    {
     "data": {
      "application/json": {
       "errors": [
        {
         "message": "PersistedQueryNotFound"
        }
       ]
      },
      "text/plain": [
       "<IPython.core.display.JSON object>"
      ]
     },
     "metadata": {
      "application/json": {
       "expanded": false,
       "root": "root"
      }
     },
     "output_type": "display_data"
    },
    {
     "name": "stdout",
     "output_type": "stream",
     "text": [
      "0\n",
      "key not found\n"
     ]
    },
    {
     "data": {
      "application/json": {
       "errors": [
        {
         "message": "PersistedQueryNotFound"
        }
       ]
      },
      "text/plain": [
       "<IPython.core.display.JSON object>"
      ]
     },
     "metadata": {
      "application/json": {
       "expanded": false,
       "root": "root"
      }
     },
     "output_type": "display_data"
    },
    {
     "name": "stdout",
     "output_type": "stream",
     "text": [
      "Category /invest-in-you/\n",
      "105684944\n",
      "0\n",
      "key not found\n"
     ]
    },
    {
     "data": {
      "application/json": {
       "errors": [
        {
         "message": "PersistedQueryNotFound"
        }
       ]
      },
      "text/plain": [
       "<IPython.core.display.JSON object>"
      ]
     },
     "metadata": {
      "application/json": {
       "expanded": false,
       "root": "root"
      }
     },
     "output_type": "display_data"
    },
    {
     "name": "stdout",
     "output_type": "stream",
     "text": [
      "0\n",
      "key not found\n"
     ]
    },
    {
     "data": {
      "application/json": {
       "errors": [
        {
         "message": "PersistedQueryNotFound"
        }
       ]
      },
      "text/plain": [
       "<IPython.core.display.JSON object>"
      ]
     },
     "metadata": {
      "application/json": {
       "expanded": false,
       "root": "root"
      }
     },
     "output_type": "display_data"
    },
    {
     "name": "stdout",
     "output_type": "stream",
     "text": [
      "Category /personal-finance/\n",
      "21324812\n",
      "0\n",
      "key not found\n"
     ]
    },
    {
     "data": {
      "application/json": {
       "errors": [
        {
         "message": "PersistedQueryNotFound"
        }
       ]
      },
      "text/plain": [
       "<IPython.core.display.JSON object>"
      ]
     },
     "metadata": {
      "application/json": {
       "expanded": false,
       "root": "root"
      }
     },
     "output_type": "display_data"
    },
    {
     "name": "stdout",
     "output_type": "stream",
     "text": [
      "0\n",
      "key not found\n"
     ]
    },
    {
     "data": {
      "application/json": {
       "errors": [
        {
         "message": "PersistedQueryNotFound"
        }
       ]
      },
      "text/plain": [
       "<IPython.core.display.JSON object>"
      ]
     },
     "metadata": {
      "application/json": {
       "expanded": false,
       "root": "root"
      }
     },
     "output_type": "display_data"
    },
    {
     "name": "stdout",
     "output_type": "stream",
     "text": [
      "Category /fintech/\n",
      "104199263\n",
      "0\n",
      "key not found\n"
     ]
    },
    {
     "data": {
      "application/json": {
       "errors": [
        {
         "message": "PersistedQueryNotFound"
        }
       ]
      },
      "text/plain": [
       "<IPython.core.display.JSON object>"
      ]
     },
     "metadata": {
      "application/json": {
       "expanded": false,
       "root": "root"
      }
     },
     "output_type": "display_data"
    },
    {
     "name": "stdout",
     "output_type": "stream",
     "text": [
      "0\n",
      "key not found\n"
     ]
    },
    {
     "data": {
      "application/json": {
       "errors": [
        {
         "message": "PersistedQueryNotFound"
        }
       ]
      },
      "text/plain": [
       "<IPython.core.display.JSON object>"
      ]
     },
     "metadata": {
      "application/json": {
       "expanded": false,
       "root": "root"
      }
     },
     "output_type": "display_data"
    },
    {
     "name": "stdout",
     "output_type": "stream",
     "text": [
      "Category /financial-advisors/\n",
      "100646281\n",
      "0\n",
      "key not found\n"
     ]
    },
    {
     "data": {
      "application/json": {
       "errors": [
        {
         "message": "PersistedQueryNotFound"
        }
       ]
      },
      "text/plain": [
       "<IPython.core.display.JSON object>"
      ]
     },
     "metadata": {
      "application/json": {
       "expanded": false,
       "root": "root"
      }
     },
     "output_type": "display_data"
    },
    {
     "name": "stdout",
     "output_type": "stream",
     "text": [
      "0\n",
      "key not found\n"
     ]
    },
    {
     "data": {
      "application/json": {
       "errors": [
        {
         "message": "PersistedQueryNotFound"
        }
       ]
      },
      "text/plain": [
       "<IPython.core.display.JSON object>"
      ]
     },
     "metadata": {
      "application/json": {
       "expanded": false,
       "root": "root"
      }
     },
     "output_type": "display_data"
    },
    {
     "name": "stdout",
     "output_type": "stream",
     "text": [
      "Category /options-action/\n",
      "28282083\n",
      "0\n",
      "key not found\n"
     ]
    },
    {
     "data": {
      "application/json": {
       "errors": [
        {
         "message": "PersistedQueryNotFound"
        }
       ]
      },
      "text/plain": [
       "<IPython.core.display.JSON object>"
      ]
     },
     "metadata": {
      "application/json": {
       "expanded": false,
       "root": "root"
      }
     },
     "output_type": "display_data"
    },
    {
     "name": "stdout",
     "output_type": "stream",
     "text": [
      "0\n",
      "key not found\n"
     ]
    },
    {
     "data": {
      "application/json": {
       "errors": [
        {
         "message": "PersistedQueryNotFound"
        }
       ]
      },
      "text/plain": [
       "<IPython.core.display.JSON object>"
      ]
     },
     "metadata": {
      "application/json": {
       "expanded": false,
       "root": "root"
      }
     },
     "output_type": "display_data"
    },
    {
     "name": "stdout",
     "output_type": "stream",
     "text": [
      "Category /etf-street/\n",
      "104338521\n",
      "0\n",
      "key not found\n"
     ]
    },
    {
     "data": {
      "application/json": {
       "errors": [
        {
         "message": "PersistedQueryNotFound"
        }
       ]
      },
      "text/plain": [
       "<IPython.core.display.JSON object>"
      ]
     },
     "metadata": {
      "application/json": {
       "expanded": false,
       "root": "root"
      }
     },
     "output_type": "display_data"
    },
    {
     "name": "stdout",
     "output_type": "stream",
     "text": [
      "0\n",
      "key not found\n"
     ]
    },
    {
     "data": {
      "application/json": {
       "errors": [
        {
         "message": "PersistedQueryNotFound"
        }
       ]
      },
      "text/plain": [
       "<IPython.core.display.JSON object>"
      ]
     },
     "metadata": {
      "application/json": {
       "expanded": false,
       "root": "root"
      }
     },
     "output_type": "display_data"
    },
    {
     "name": "stdout",
     "output_type": "stream",
     "text": [
      "Category /earnings/\n",
      "15839135\n",
      "0\n",
      "key not found\n"
     ]
    },
    {
     "data": {
      "application/json": {
       "errors": [
        {
         "message": "PersistedQueryNotFound"
        }
       ]
      },
      "text/plain": [
       "<IPython.core.display.JSON object>"
      ]
     },
     "metadata": {
      "application/json": {
       "expanded": false,
       "root": "root"
      }
     },
     "output_type": "display_data"
    },
    {
     "name": "stdout",
     "output_type": "stream",
     "text": [
      "0\n",
      "key not found\n"
     ]
    },
    {
     "data": {
      "application/json": {
       "errors": [
        {
         "message": "PersistedQueryNotFound"
        }
       ]
      },
      "text/plain": [
       "<IPython.core.display.JSON object>"
      ]
     },
     "metadata": {
      "application/json": {
       "expanded": false,
       "root": "root"
      }
     },
     "output_type": "display_data"
    },
    {
     "name": "stdout",
     "output_type": "stream",
     "text": [
      "Category /trader-talk/\n",
      "20398120\n",
      "0\n",
      "key not found\n"
     ]
    },
    {
     "data": {
      "application/json": {
       "errors": [
        {
         "message": "PersistedQueryNotFound"
        }
       ]
      },
      "text/plain": [
       "<IPython.core.display.JSON object>"
      ]
     },
     "metadata": {
      "application/json": {
       "expanded": false,
       "root": "root"
      }
     },
     "output_type": "display_data"
    },
    {
     "name": "stdout",
     "output_type": "stream",
     "text": [
      "0\n",
      "key not found\n"
     ]
    },
    {
     "data": {
      "application/json": {
       "errors": [
        {
         "message": "PersistedQueryNotFound"
        }
       ]
      },
      "text/plain": [
       "<IPython.core.display.JSON object>"
      ]
     },
     "metadata": {
      "application/json": {
       "expanded": false,
       "root": "root"
      }
     },
     "output_type": "display_data"
    },
    {
     "name": "stdout",
     "output_type": "stream",
     "text": [
      "Category /cybersecurity/\n",
      "100807029\n",
      "0\n",
      "key not found\n"
     ]
    },
    {
     "data": {
      "application/json": {
       "errors": [
        {
         "message": "PersistedQueryNotFound"
        }
       ]
      },
      "text/plain": [
       "<IPython.core.display.JSON object>"
      ]
     },
     "metadata": {
      "application/json": {
       "expanded": false,
       "root": "root"
      }
     },
     "output_type": "display_data"
    },
    {
     "name": "stdout",
     "output_type": "stream",
     "text": [
      "0\n",
      "key not found\n"
     ]
    },
    {
     "data": {
      "application/json": {
       "errors": [
        {
         "message": "PersistedQueryNotFound"
        }
       ]
      },
      "text/plain": [
       "<IPython.core.display.JSON object>"
      ]
     },
     "metadata": {
      "application/json": {
       "expanded": false,
       "root": "root"
      }
     },
     "output_type": "display_data"
    },
    {
     "name": "stdout",
     "output_type": "stream",
     "text": [
      "Category /enterprise/\n",
      "101004656\n",
      "0\n",
      "key not found\n"
     ]
    },
    {
     "data": {
      "application/json": {
       "errors": [
        {
         "message": "PersistedQueryNotFound"
        }
       ]
      },
      "text/plain": [
       "<IPython.core.display.JSON object>"
      ]
     },
     "metadata": {
      "application/json": {
       "expanded": false,
       "root": "root"
      }
     },
     "output_type": "display_data"
    },
    {
     "name": "stdout",
     "output_type": "stream",
     "text": [
      "0\n",
      "key not found\n"
     ]
    },
    {
     "data": {
      "application/json": {
       "errors": [
        {
         "message": "PersistedQueryNotFound"
        }
       ]
      },
      "text/plain": [
       "<IPython.core.display.JSON object>"
      ]
     },
     "metadata": {
      "application/json": {
       "expanded": false,
       "root": "root"
      }
     },
     "output_type": "display_data"
    },
    {
     "name": "stdout",
     "output_type": "stream",
     "text": [
      "Category /internet/\n",
      "10000026\n",
      "0\n",
      "key not found\n"
     ]
    },
    {
     "data": {
      "application/json": {
       "errors": [
        {
         "message": "PersistedQueryNotFound"
        }
       ]
      },
      "text/plain": [
       "<IPython.core.display.JSON object>"
      ]
     },
     "metadata": {
      "application/json": {
       "expanded": false,
       "root": "root"
      }
     },
     "output_type": "display_data"
    },
    {
     "name": "stdout",
     "output_type": "stream",
     "text": [
      "0\n",
      "key not found\n"
     ]
    },
    {
     "data": {
      "application/json": {
       "errors": [
        {
         "message": "PersistedQueryNotFound"
        }
       ]
      },
      "text/plain": [
       "<IPython.core.display.JSON object>"
      ]
     },
     "metadata": {
      "application/json": {
       "expanded": false,
       "root": "root"
      }
     },
     "output_type": "display_data"
    },
    {
     "name": "stdout",
     "output_type": "stream",
     "text": [
      "Category /media/\n",
      "10000110\n",
      "0\n",
      "key not found\n"
     ]
    },
    {
     "data": {
      "application/json": {
       "errors": [
        {
         "message": "PersistedQueryNotFound"
        }
       ]
      },
      "text/plain": [
       "<IPython.core.display.JSON object>"
      ]
     },
     "metadata": {
      "application/json": {
       "expanded": false,
       "root": "root"
      }
     },
     "output_type": "display_data"
    },
    {
     "name": "stdout",
     "output_type": "stream",
     "text": [
      "0\n",
      "key not found\n"
     ]
    },
    {
     "data": {
      "application/json": {
       "errors": [
        {
         "message": "PersistedQueryNotFound"
        }
       ]
      },
      "text/plain": [
       "<IPython.core.display.JSON object>"
      ]
     },
     "metadata": {
      "application/json": {
       "expanded": false,
       "root": "root"
      }
     },
     "output_type": "display_data"
    },
    {
     "name": "stdout",
     "output_type": "stream",
     "text": [
      "Category /mobile/\n",
      "10000066\n",
      "0\n",
      "key not found\n"
     ]
    },
    {
     "data": {
      "application/json": {
       "errors": [
        {
         "message": "PersistedQueryNotFound"
        }
       ]
      },
      "text/plain": [
       "<IPython.core.display.JSON object>"
      ]
     },
     "metadata": {
      "application/json": {
       "expanded": false,
       "root": "root"
      }
     },
     "output_type": "display_data"
    },
    {
     "name": "stdout",
     "output_type": "stream",
     "text": [
      "0\n",
      "key not found\n"
     ]
    },
    {
     "data": {
      "application/json": {
       "errors": [
        {
         "message": "PersistedQueryNotFound"
        }
       ]
      },
      "text/plain": [
       "<IPython.core.display.JSON object>"
      ]
     },
     "metadata": {
      "application/json": {
       "expanded": false,
       "root": "root"
      }
     },
     "output_type": "display_data"
    },
    {
     "name": "stdout",
     "output_type": "stream",
     "text": [
      "Category /social-media/\n",
      "100397778\n",
      "0\n",
      "key not found\n"
     ]
    },
    {
     "data": {
      "application/json": {
       "errors": [
        {
         "message": "PersistedQueryNotFound"
        }
       ]
      },
      "text/plain": [
       "<IPython.core.display.JSON object>"
      ]
     },
     "metadata": {
      "application/json": {
       "expanded": false,
       "root": "root"
      }
     },
     "output_type": "display_data"
    },
    {
     "name": "stdout",
     "output_type": "stream",
     "text": [
      "0\n",
      "key not found\n"
     ]
    },
    {
     "data": {
      "application/json": {
       "errors": [
        {
         "message": "PersistedQueryNotFound"
        }
       ]
      },
      "text/plain": [
       "<IPython.core.display.JSON object>"
      ]
     },
     "metadata": {
      "application/json": {
       "expanded": false,
       "root": "root"
      }
     },
     "output_type": "display_data"
    },
    {
     "name": "stdout",
     "output_type": "stream",
     "text": [
      "Category /cnbc-disruptors/\n",
      "102602634\n",
      "0\n",
      "key not found\n"
     ]
    },
    {
     "data": {
      "application/json": {
       "errors": [
        {
         "message": "PersistedQueryNotFound"
        }
       ]
      },
      "text/plain": [
       "<IPython.core.display.JSON object>"
      ]
     },
     "metadata": {
      "application/json": {
       "expanded": false,
       "root": "root"
      }
     },
     "output_type": "display_data"
    },
    {
     "name": "stdout",
     "output_type": "stream",
     "text": [
      "0\n",
      "key not found\n"
     ]
    },
    {
     "data": {
      "application/json": {
       "errors": [
        {
         "message": "PersistedQueryNotFound"
        }
       ]
      },
      "text/plain": [
       "<IPython.core.display.JSON object>"
      ]
     },
     "metadata": {
      "application/json": {
       "expanded": false,
       "root": "root"
      }
     },
     "output_type": "display_data"
    },
    {
     "name": "stdout",
     "output_type": "stream",
     "text": [
      "Category /tech-guide/\n",
      "104368876\n",
      "0\n",
      "key not found\n"
     ]
    },
    {
     "data": {
      "application/json": {
       "errors": [
        {
         "message": "PersistedQueryNotFound"
        }
       ]
      },
      "text/plain": [
       "<IPython.core.display.JSON object>"
      ]
     },
     "metadata": {
      "application/json": {
       "expanded": false,
       "root": "root"
      }
     },
     "output_type": "display_data"
    },
    {
     "name": "stdout",
     "output_type": "stream",
     "text": [
      "0\n",
      "key not found\n"
     ]
    },
    {
     "data": {
      "application/json": {
       "errors": [
        {
         "message": "PersistedQueryNotFound"
        }
       ]
      },
      "text/plain": [
       "<IPython.core.display.JSON object>"
      ]
     },
     "metadata": {
      "application/json": {
       "expanded": false,
       "root": "root"
      }
     },
     "output_type": "display_data"
    },
    {
     "name": "stdout",
     "output_type": "stream",
     "text": [
      "Category /white-house/\n",
      "10001079\n",
      "0\n",
      "key not found\n"
     ]
    },
    {
     "data": {
      "application/json": {
       "errors": [
        {
         "message": "PersistedQueryNotFound"
        }
       ]
      },
      "text/plain": [
       "<IPython.core.display.JSON object>"
      ]
     },
     "metadata": {
      "application/json": {
       "expanded": false,
       "root": "root"
      }
     },
     "output_type": "display_data"
    },
    {
     "name": "stdout",
     "output_type": "stream",
     "text": [
      "0\n",
      "key not found\n"
     ]
    },
    {
     "data": {
      "application/json": {
       "errors": [
        {
         "message": "PersistedQueryNotFound"
        }
       ]
      },
      "text/plain": [
       "<IPython.core.display.JSON object>"
      ]
     },
     "metadata": {
      "application/json": {
       "expanded": false,
       "root": "root"
      }
     },
     "output_type": "display_data"
    },
    {
     "name": "stdout",
     "output_type": "stream",
     "text": [
      "Category /policy/\n",
      "105056552\n",
      "0\n",
      "key not found\n"
     ]
    },
    {
     "data": {
      "application/json": {
       "errors": [
        {
         "message": "PersistedQueryNotFound"
        }
       ]
      },
      "text/plain": [
       "<IPython.core.display.JSON object>"
      ]
     },
     "metadata": {
      "application/json": {
       "expanded": false,
       "root": "root"
      }
     },
     "output_type": "display_data"
    },
    {
     "name": "stdout",
     "output_type": "stream",
     "text": [
      "0\n",
      "key not found\n"
     ]
    },
    {
     "data": {
      "application/json": {
       "errors": [
        {
         "message": "PersistedQueryNotFound"
        }
       ]
      },
      "text/plain": [
       "<IPython.core.display.JSON object>"
      ]
     },
     "metadata": {
      "application/json": {
       "expanded": false,
       "root": "root"
      }
     },
     "output_type": "display_data"
    },
    {
     "name": "stdout",
     "output_type": "stream",
     "text": [
      "Category /defense/\n",
      "10001059\n",
      "0\n",
      "key not found\n"
     ]
    },
    {
     "data": {
      "application/json": {
       "errors": [
        {
         "message": "PersistedQueryNotFound"
        }
       ]
      },
      "text/plain": [
       "<IPython.core.display.JSON object>"
      ]
     },
     "metadata": {
      "application/json": {
       "expanded": false,
       "root": "root"
      }
     },
     "output_type": "display_data"
    },
    {
     "name": "stdout",
     "output_type": "stream",
     "text": [
      "0\n",
      "key not found\n"
     ]
    },
    {
     "data": {
      "application/json": {
       "errors": [
        {
         "message": "PersistedQueryNotFound"
        }
       ]
      },
      "text/plain": [
       "<IPython.core.display.JSON object>"
      ]
     },
     "metadata": {
      "application/json": {
       "expanded": false,
       "root": "root"
      }
     },
     "output_type": "display_data"
    },
    {
     "name": "stdout",
     "output_type": "stream",
     "text": [
      "Category /congress/\n",
      "10000887\n",
      "0\n",
      "key not found\n"
     ]
    },
    {
     "data": {
      "application/json": {
       "errors": [
        {
         "message": "PersistedQueryNotFound"
        }
       ]
      },
      "text/plain": [
       "<IPython.core.display.JSON object>"
      ]
     },
     "metadata": {
      "application/json": {
       "expanded": false,
       "root": "root"
      }
     },
     "output_type": "display_data"
    },
    {
     "name": "stdout",
     "output_type": "stream",
     "text": [
      "0\n",
      "key not found\n"
     ]
    },
    {
     "data": {
      "application/json": {
       "errors": [
        {
         "message": "PersistedQueryNotFound"
        }
       ]
      },
      "text/plain": [
       "<IPython.core.display.JSON object>"
      ]
     },
     "metadata": {
      "application/json": {
       "expanded": false,
       "root": "root"
      }
     },
     "output_type": "display_data"
    },
    {
     "name": "stdout",
     "output_type": "stream",
     "text": [
      "Category /equity-opportunity/\n",
      "106658224\n",
      "0\n",
      "key not found\n"
     ]
    },
    {
     "data": {
      "application/json": {
       "errors": [
        {
         "message": "PersistedQueryNotFound"
        }
       ]
      },
      "text/plain": [
       "<IPython.core.display.JSON object>"
      ]
     },
     "metadata": {
      "application/json": {
       "expanded": false,
       "root": "root"
      }
     },
     "output_type": "display_data"
    },
    {
     "name": "stdout",
     "output_type": "stream",
     "text": [
      "0\n",
      "key not found\n"
     ]
    },
    {
     "data": {
      "application/json": {
       "errors": [
        {
         "message": "PersistedQueryNotFound"
        }
       ]
      },
      "text/plain": [
       "<IPython.core.display.JSON object>"
      ]
     },
     "metadata": {
      "application/json": {
       "expanded": false,
       "root": "root"
      }
     },
     "output_type": "display_data"
    },
    {
     "name": "stdout",
     "output_type": "stream",
     "text": [
      "Category /europe-politics/\n",
      "105229267\n",
      "0\n",
      "key not found\n"
     ]
    },
    {
     "data": {
      "application/json": {
       "errors": [
        {
         "message": "PersistedQueryNotFound"
        }
       ]
      },
      "text/plain": [
       "<IPython.core.display.JSON object>"
      ]
     },
     "metadata": {
      "application/json": {
       "expanded": false,
       "root": "root"
      }
     },
     "output_type": "display_data"
    },
    {
     "name": "stdout",
     "output_type": "stream",
     "text": [
      "0\n",
      "key not found\n"
     ]
    },
    {
     "data": {
      "application/json": {
       "errors": [
        {
         "message": "PersistedQueryNotFound"
        }
       ]
      },
      "text/plain": [
       "<IPython.core.display.JSON object>"
      ]
     },
     "metadata": {
      "application/json": {
       "expanded": false,
       "root": "root"
      }
     },
     "output_type": "display_data"
    },
    {
     "name": "stdout",
     "output_type": "stream",
     "text": [
      "Category /china-politics/\n",
      "105229289\n",
      "0\n",
      "key not found\n"
     ]
    },
    {
     "data": {
      "application/json": {
       "errors": [
        {
         "message": "PersistedQueryNotFound"
        }
       ]
      },
      "text/plain": [
       "<IPython.core.display.JSON object>"
      ]
     },
     "metadata": {
      "application/json": {
       "expanded": false,
       "root": "root"
      }
     },
     "output_type": "display_data"
    },
    {
     "name": "stdout",
     "output_type": "stream",
     "text": [
      "0\n",
      "key not found\n"
     ]
    },
    {
     "data": {
      "application/json": {
       "errors": [
        {
         "message": "PersistedQueryNotFound"
        }
       ]
      },
      "text/plain": [
       "<IPython.core.display.JSON object>"
      ]
     },
     "metadata": {
      "application/json": {
       "expanded": false,
       "root": "root"
      }
     },
     "output_type": "display_data"
    },
    {
     "name": "stdout",
     "output_type": "stream",
     "text": [
      "Category /asia-politics/\n",
      "105229295\n",
      "0\n",
      "key not found\n"
     ]
    },
    {
     "data": {
      "application/json": {
       "errors": [
        {
         "message": "PersistedQueryNotFound"
        }
       ]
      },
      "text/plain": [
       "<IPython.core.display.JSON object>"
      ]
     },
     "metadata": {
      "application/json": {
       "expanded": false,
       "root": "root"
      }
     },
     "output_type": "display_data"
    },
    {
     "name": "stdout",
     "output_type": "stream",
     "text": [
      "0\n",
      "key not found\n"
     ]
    },
    {
     "data": {
      "application/json": {
       "errors": [
        {
         "message": "PersistedQueryNotFound"
        }
       ]
      },
      "text/plain": [
       "<IPython.core.display.JSON object>"
      ]
     },
     "metadata": {
      "application/json": {
       "expanded": false,
       "root": "root"
      }
     },
     "output_type": "display_data"
    },
    {
     "name": "stdout",
     "output_type": "stream",
     "text": [
      "Category /world-politics/\n",
      "105229305\n",
      "0\n",
      "key not found\n"
     ]
    },
    {
     "data": {
      "application/json": {
       "errors": [
        {
         "message": "PersistedQueryNotFound"
        }
       ]
      },
      "text/plain": [
       "<IPython.core.display.JSON object>"
      ]
     },
     "metadata": {
      "application/json": {
       "expanded": false,
       "root": "root"
      }
     },
     "output_type": "display_data"
    },
    {
     "name": "stdout",
     "output_type": "stream",
     "text": [
      "0\n",
      "key not found\n"
     ]
    },
    {
     "data": {
      "application/json": {
       "errors": [
        {
         "message": "PersistedQueryNotFound"
        }
       ]
      },
      "text/plain": [
       "<IPython.core.display.JSON object>"
      ]
     },
     "metadata": {
      "application/json": {
       "expanded": false,
       "root": "root"
      }
     },
     "output_type": "display_data"
    },
    {
     "name": "stdout",
     "output_type": "stream",
     "text": [
      "Category /live-audio/\n",
      "105574584\n",
      "0\n",
      "key not found\n"
     ]
    },
    {
     "data": {
      "application/json": {
       "errors": [
        {
         "message": "PersistedQueryNotFound"
        }
       ]
      },
      "text/plain": [
       "<IPython.core.display.JSON object>"
      ]
     },
     "metadata": {
      "application/json": {
       "expanded": false,
       "root": "root"
      }
     },
     "output_type": "display_data"
    },
    {
     "name": "stdout",
     "output_type": "stream",
     "text": [
      "0\n",
      "key not found\n"
     ]
    },
    {
     "data": {
      "application/json": {
       "errors": [
        {
         "message": "PersistedQueryNotFound"
        }
       ]
      },
      "text/plain": [
       "<IPython.core.display.JSON object>"
      ]
     },
     "metadata": {
      "application/json": {
       "expanded": false,
       "root": "root"
      }
     },
     "output_type": "display_data"
    },
    {
     "name": "stdout",
     "output_type": "stream",
     "text": [
      "Category /latest-video/\n",
      "100004038\n",
      "0\n",
      "key not found\n"
     ]
    },
    {
     "data": {
      "application/json": {
       "errors": [
        {
         "message": "PersistedQueryNotFound"
        }
       ]
      },
      "text/plain": [
       "<IPython.core.display.JSON object>"
      ]
     },
     "metadata": {
      "application/json": {
       "expanded": false,
       "root": "root"
      }
     },
     "output_type": "display_data"
    },
    {
     "name": "stdout",
     "output_type": "stream",
     "text": [
      "0\n",
      "key not found\n"
     ]
    },
    {
     "data": {
      "application/json": {
       "errors": [
        {
         "message": "PersistedQueryNotFound"
        }
       ]
      },
      "text/plain": [
       "<IPython.core.display.JSON object>"
      ]
     },
     "metadata": {
      "application/json": {
       "expanded": false,
       "root": "root"
      }
     },
     "output_type": "display_data"
    },
    {
     "name": "stdout",
     "output_type": "stream",
     "text": [
      "Category /top-video/\n",
      "15839263\n",
      "0\n",
      "key not found\n"
     ]
    },
    {
     "data": {
      "application/json": {
       "errors": [
        {
         "message": "PersistedQueryNotFound"
        }
       ]
      },
      "text/plain": [
       "<IPython.core.display.JSON object>"
      ]
     },
     "metadata": {
      "application/json": {
       "expanded": false,
       "root": "root"
      }
     },
     "output_type": "display_data"
    },
    {
     "name": "stdout",
     "output_type": "stream",
     "text": [
      "0\n",
      "key not found\n"
     ]
    },
    {
     "data": {
      "application/json": {
       "errors": [
        {
         "message": "PersistedQueryNotFound"
        }
       ]
      },
      "text/plain": [
       "<IPython.core.display.JSON object>"
      ]
     },
     "metadata": {
      "application/json": {
       "expanded": false,
       "root": "root"
      }
     },
     "output_type": "display_data"
    },
    {
     "name": "stdout",
     "output_type": "stream",
     "text": [
      "Category /video-ceo-interviews/\n",
      "100004032\n",
      "0\n",
      "key not found\n"
     ]
    },
    {
     "data": {
      "application/json": {
       "errors": [
        {
         "message": "PersistedQueryNotFound"
        }
       ]
      },
      "text/plain": [
       "<IPython.core.display.JSON object>"
      ]
     },
     "metadata": {
      "application/json": {
       "expanded": false,
       "root": "root"
      }
     },
     "output_type": "display_data"
    },
    {
     "name": "stdout",
     "output_type": "stream",
     "text": [
      "0\n",
      "key not found\n"
     ]
    },
    {
     "data": {
      "application/json": {
       "errors": [
        {
         "message": "PersistedQueryNotFound"
        }
       ]
      },
      "text/plain": [
       "<IPython.core.display.JSON object>"
      ]
     },
     "metadata": {
      "application/json": {
       "expanded": false,
       "root": "root"
      }
     },
     "output_type": "display_data"
    },
    {
     "name": "stdout",
     "output_type": "stream",
     "text": [
      "Category /europe-television/\n",
      "15838668\n",
      "0\n",
      "key not found\n"
     ]
    },
    {
     "data": {
      "application/json": {
       "errors": [
        {
         "message": "PersistedQueryNotFound"
        }
       ]
      },
      "text/plain": [
       "<IPython.core.display.JSON object>"
      ]
     },
     "metadata": {
      "application/json": {
       "expanded": false,
       "root": "root"
      }
     },
     "output_type": "display_data"
    },
    {
     "name": "stdout",
     "output_type": "stream",
     "text": [
      "0\n",
      "key not found\n"
     ]
    },
    {
     "data": {
      "application/json": {
       "errors": [
        {
         "message": "PersistedQueryNotFound"
        }
       ]
      },
      "text/plain": [
       "<IPython.core.display.JSON object>"
      ]
     },
     "metadata": {
      "application/json": {
       "expanded": false,
       "root": "root"
      }
     },
     "output_type": "display_data"
    },
    {
     "name": "stdout",
     "output_type": "stream",
     "text": [
      "Category /asia-business-day/\n",
      "15838789\n",
      "0\n",
      "key not found\n"
     ]
    },
    {
     "data": {
      "application/json": {
       "errors": [
        {
         "message": "PersistedQueryNotFound"
        }
       ]
      },
      "text/plain": [
       "<IPython.core.display.JSON object>"
      ]
     },
     "metadata": {
      "application/json": {
       "expanded": false,
       "root": "root"
      }
     },
     "output_type": "display_data"
    },
    {
     "name": "stdout",
     "output_type": "stream",
     "text": [
      "0\n",
      "key not found\n"
     ]
    },
    {
     "data": {
      "application/json": {
       "errors": [
        {
         "message": "PersistedQueryNotFound"
        }
       ]
      },
      "text/plain": [
       "<IPython.core.display.JSON object>"
      ]
     },
     "metadata": {
      "application/json": {
       "expanded": false,
       "root": "root"
      }
     },
     "output_type": "display_data"
    },
    {
     "name": "stdout",
     "output_type": "stream",
     "text": [
      "Category /podcast/\n",
      "105025127\n",
      "0\n",
      "key not found\n"
     ]
    },
    {
     "data": {
      "application/json": {
       "errors": [
        {
         "message": "PersistedQueryNotFound"
        }
       ]
      },
      "text/plain": [
       "<IPython.core.display.JSON object>"
      ]
     },
     "metadata": {
      "application/json": {
       "expanded": false,
       "root": "root"
      }
     },
     "output_type": "display_data"
    },
    {
     "name": "stdout",
     "output_type": "stream",
     "text": [
      "0\n",
      "key not found\n"
     ]
    },
    {
     "data": {
      "application/json": {
       "errors": [
        {
         "message": "PersistedQueryNotFound"
        }
       ]
      },
      "text/plain": [
       "<IPython.core.display.JSON object>"
      ]
     },
     "metadata": {
      "application/json": {
       "expanded": false,
       "root": "root"
      }
     },
     "output_type": "display_data"
    },
    {
     "name": "stdout",
     "output_type": "stream",
     "text": [
      "Category /digital-original/\n",
      "104266428\n",
      "0\n",
      "key not found\n"
     ]
    },
    {
     "data": {
      "application/json": {
       "errors": [
        {
         "message": "PersistedQueryNotFound"
        }
       ]
      },
      "text/plain": [
       "<IPython.core.display.JSON object>"
      ]
     },
     "metadata": {
      "application/json": {
       "expanded": false,
       "root": "root"
      }
     },
     "output_type": "display_data"
    },
    {
     "name": "stdout",
     "output_type": "stream",
     "text": [
      "0\n",
      "key not found\n"
     ]
    },
    {
     "data": {
      "application/json": {
       "errors": [
        {
         "message": "PersistedQueryNotFound"
        }
       ]
      },
      "text/plain": [
       "<IPython.core.display.JSON object>"
      ]
     },
     "metadata": {
      "application/json": {
       "expanded": false,
       "root": "root"
      }
     },
     "output_type": "display_data"
    },
    {
     "name": "stdout",
     "output_type": "stream",
     "text": [
      "Category /investingclub/newsletter/\n",
      "106972187\n",
      "0\n",
      "key not found\n"
     ]
    },
    {
     "data": {
      "application/json": {
       "errors": [
        {
         "message": "PersistedQueryNotFound"
        }
       ]
      },
      "text/plain": [
       "<IPython.core.display.JSON object>"
      ]
     },
     "metadata": {
      "application/json": {
       "expanded": false,
       "root": "root"
      }
     },
     "output_type": "display_data"
    },
    {
     "name": "stdout",
     "output_type": "stream",
     "text": [
      "0\n",
      "key not found\n"
     ]
    },
    {
     "data": {
      "application/json": {
       "errors": [
        {
         "message": "PersistedQueryNotFound"
        }
       ]
      },
      "text/plain": [
       "<IPython.core.display.JSON object>"
      ]
     },
     "metadata": {
      "application/json": {
       "expanded": false,
       "root": "root"
      }
     },
     "output_type": "display_data"
    },
    {
     "name": "stdout",
     "output_type": "stream",
     "text": [
      "Category /investingclub/morning-meeting/\n",
      "107004558\n",
      "0\n",
      "key not found\n"
     ]
    },
    {
     "data": {
      "application/json": {
       "errors": [
        {
         "message": "PersistedQueryNotFound"
        }
       ]
      },
      "text/plain": [
       "<IPython.core.display.JSON object>"
      ]
     },
     "metadata": {
      "application/json": {
       "expanded": false,
       "root": "root"
      }
     },
     "output_type": "display_data"
    },
    {
     "name": "stdout",
     "output_type": "stream",
     "text": [
      "0\n",
      "key not found\n"
     ]
    },
    {
     "data": {
      "application/json": {
       "errors": [
        {
         "message": "PersistedQueryNotFound"
        }
       ]
      },
      "text/plain": [
       "<IPython.core.display.JSON object>"
      ]
     },
     "metadata": {
      "application/json": {
       "expanded": false,
       "root": "root"
      }
     },
     "output_type": "display_data"
    },
    {
     "name": "stdout",
     "output_type": "stream",
     "text": [
      "Category /investingclub/cramer-trade-alert/\n",
      "106983828\n",
      "0\n",
      "key not found\n"
     ]
    },
    {
     "data": {
      "application/json": {
       "errors": [
        {
         "message": "PersistedQueryNotFound"
        }
       ]
      },
      "text/plain": [
       "<IPython.core.display.JSON object>"
      ]
     },
     "metadata": {
      "application/json": {
       "expanded": false,
       "root": "root"
      }
     },
     "output_type": "display_data"
    },
    {
     "name": "stdout",
     "output_type": "stream",
     "text": [
      "0\n",
      "key not found\n"
     ]
    },
    {
     "data": {
      "application/json": {
       "errors": [
        {
         "message": "PersistedQueryNotFound"
        }
       ]
      },
      "text/plain": [
       "<IPython.core.display.JSON object>"
      ]
     },
     "metadata": {
      "application/json": {
       "expanded": false,
       "root": "root"
      }
     },
     "output_type": "display_data"
    },
    {
     "name": "stdout",
     "output_type": "stream",
     "text": [
      "Category /investingclub/charitable-trust/\n",
      "107001319\n",
      "0\n",
      "key not found\n"
     ]
    },
    {
     "data": {
      "application/json": {
       "errors": [
        {
         "message": "PersistedQueryNotFound"
        }
       ]
      },
      "text/plain": [
       "<IPython.core.display.JSON object>"
      ]
     },
     "metadata": {
      "application/json": {
       "expanded": false,
       "root": "root"
      }
     },
     "output_type": "display_data"
    },
    {
     "name": "stdout",
     "output_type": "stream",
     "text": [
      "0\n",
      "key not found\n"
     ]
    },
    {
     "data": {
      "application/json": {
       "errors": [
        {
         "message": "PersistedQueryNotFound"
        }
       ]
      },
      "text/plain": [
       "<IPython.core.display.JSON object>"
      ]
     },
     "metadata": {
      "application/json": {
       "expanded": false,
       "root": "root"
      }
     },
     "output_type": "display_data"
    },
    {
     "name": "stdout",
     "output_type": "stream",
     "text": [
      "Category /pro/news/\n",
      "102138233\n",
      "0\n",
      "key not found\n"
     ]
    },
    {
     "data": {
      "application/json": {
       "errors": [
        {
         "message": "PersistedQueryNotFound"
        }
       ]
      },
      "text/plain": [
       "<IPython.core.display.JSON object>"
      ]
     },
     "metadata": {
      "application/json": {
       "expanded": false,
       "root": "root"
      }
     },
     "output_type": "display_data"
    },
    {
     "name": "stdout",
     "output_type": "stream",
     "text": [
      "0\n",
      "key not found\n"
     ]
    },
    {
     "data": {
      "application/json": {
       "errors": [
        {
         "message": "PersistedQueryNotFound"
        }
       ]
      },
      "text/plain": [
       "<IPython.core.display.JSON object>"
      ]
     },
     "metadata": {
      "application/json": {
       "expanded": false,
       "root": "root"
      }
     },
     "output_type": "display_data"
    },
    {
     "name": "stdout",
     "output_type": "stream",
     "text": [
      "Category /pro/\n",
      "103620081\n",
      "0\n",
      "key not found\n"
     ]
    },
    {
     "data": {
      "application/json": {
       "errors": [
        {
         "message": "PersistedQueryNotFound"
        }
       ]
      },
      "text/plain": [
       "<IPython.core.display.JSON object>"
      ]
     },
     "metadata": {
      "application/json": {
       "expanded": false,
       "root": "root"
      }
     },
     "output_type": "display_data"
    },
    {
     "name": "stdout",
     "output_type": "stream",
     "text": [
      "0\n",
      "key not found\n"
     ]
    },
    {
     "data": {
      "application/json": {
       "errors": [
        {
         "message": "PersistedQueryNotFound"
        }
       ]
      },
      "text/plain": [
       "<IPython.core.display.JSON object>"
      ]
     },
     "metadata": {
      "application/json": {
       "expanded": false,
       "root": "root"
      }
     },
     "output_type": "display_data"
    },
    {
     "name": "stdout",
     "output_type": "stream",
     "text": [
      "Category #\n",
      "100727362\n",
      "0\n",
      "key not found\n"
     ]
    },
    {
     "data": {
      "application/json": {
       "errors": [
        {
         "message": "PersistedQueryNotFound"
        }
       ]
      },
      "text/plain": [
       "<IPython.core.display.JSON object>"
      ]
     },
     "metadata": {
      "application/json": {
       "expanded": false,
       "root": "root"
      }
     },
     "output_type": "display_data"
    },
    {
     "name": "stdout",
     "output_type": "stream",
     "text": [
      "0\n",
      "key not found\n"
     ]
    },
    {
     "data": {
      "application/json": {
       "errors": [
        {
         "message": "PersistedQueryNotFound"
        }
       ]
      },
      "text/plain": [
       "<IPython.core.display.JSON object>"
      ]
     },
     "metadata": {
      "application/json": {
       "expanded": false,
       "root": "root"
      }
     },
     "output_type": "display_data"
    },
    {
     "name": "stdout",
     "output_type": "stream",
     "text": [
      "Category #\n",
      "100727362\n",
      "0\n",
      "key not found\n"
     ]
    },
    {
     "data": {
      "application/json": {
       "errors": [
        {
         "message": "PersistedQueryNotFound"
        }
       ]
      },
      "text/plain": [
       "<IPython.core.display.JSON object>"
      ]
     },
     "metadata": {
      "application/json": {
       "expanded": false,
       "root": "root"
      }
     },
     "output_type": "display_data"
    },
    {
     "name": "stdout",
     "output_type": "stream",
     "text": [
      "0\n",
      "key not found\n"
     ]
    },
    {
     "data": {
      "application/json": {
       "errors": [
        {
         "message": "PersistedQueryNotFound"
        }
       ]
      },
      "text/plain": [
       "<IPython.core.display.JSON object>"
      ]
     },
     "metadata": {
      "application/json": {
       "expanded": false,
       "root": "root"
      }
     },
     "output_type": "display_data"
    }
   ],
   "source": [
    "embedding = TransformerDocumentEmbeddings('bert-base-uncased')\n",
    "front_page = cnbc_front()\n",
    "front_soup = BS(front_page.text)\n",
    "sublinks = front_soup.find('div', {'class': 'nav-menu-navLinks'}).find_all('a', {'class':'nav-menu-subLink'})\n",
    "for a in sublinks:\n",
    "    if 'buffet' in a['href']:\n",
    "        continue\n",
    "    category_page = cnbc_sublink(a['href'])\n",
    "    print(\"Category\", a['href'])\n",
    "    if category_page.status_code != 200:\n",
    "        print(1, category_page)\n",
    "        continue\n",
    "    \n",
    "    \n",
    "    category_soup = BS(category_page.text)\n",
    "    content_id = category_soup.find('meta', {'property':\"pageNodeId\"})\n",
    "    if not content_id:\n",
    "        break\n",
    "    content_id = content_id['content']\n",
    "    print(content_id)\n",
    "    i = 0\n",
    "    retry = 0\n",
    "    while i < 1000 and retry < 2:\n",
    "        print(i)\n",
    "        res = cnbc(content_id, i, page_size=30)\n",
    "        if res.status_code != 200:\n",
    "            print(res)\n",
    "            break\n",
    "        articles_json = res.json()\n",
    "        try:\n",
    "            if 'assets' in articles_json['data']['assetList']:\n",
    "                articles = articles_json['data']['assetList']['assets']\n",
    "            else:\n",
    "                articles = []\n",
    "        except KeyError:\n",
    "            print('key not found')\n",
    "            display(JSON(articles_json))\n",
    "            retry += 1\n",
    "            continue\n",
    "                      \n",
    "        if len(articles) == 0:\n",
    "            break\n",
    "        with open(f\"/media/julian/data/data/news/cnbc_{make_string_pathsafe(a['href'])}_{i}_{i+len(articles)}.json\", 'w') as f:\n",
    "                json.dump(articles_json, f)\n",
    "        i += len(articles)\n",
    "        retry = 0\n",
    "        for ai, article in enumerate(articles):\n",
    "            if \"news\" in article['type']:\n",
    "                url = article['url']\n",
    "                if os.path.exists(f\"/media/julian/data/data/news/{article['datePublished']}_{make_string_pathsafe(article['title'])}.txt\"):\n",
    "                    continue\n",
    "                res = cnbc_article(url)\n",
    "                if res.status_code != 200:\n",
    "                    continue\n",
    "                soup = BS(res.text)\n",
    "                main_content = soup.find(id='MainContentContainer') #.get_text()\n",
    "                bad = main_content.find('div', {'class':'WatchLiveRightRail-inline WatchLiveRightRail-container'})\n",
    "                if bad:\n",
    "                    bad.decompose()\n",
    "                bad = main_content.find('div', {'class':'SidebarArticle-sidebar PageBuilder-sidebar'})\n",
    "                if bad:\n",
    "                    bad.decompose()\n",
    "                bad = main_content.find('div', {'class':'InlineVideo-videoEmbed'})\n",
    "                if bad:\n",
    "                    bad.decompose()\n",
    "                text = main_content.get_text(' ')\n",
    "                with open(f\"/media/julian/data/data/news/{article['datePublished']}_{make_string_pathsafe(article['title'])}.txt\", 'w') as f:\n",
    "                    f.write(text)"
   ]
  },
  {
   "cell_type": "code",
   "execution_count": null,
   "id": "68736aa5-377d-4282-ae2b-24c6663b7ff2",
   "metadata": {},
   "outputs": [],
   "source": [
    "import glob\n",
    "\n",
    "for file in glob.glob('/media/julian/data/data/news/*.txt'):\n",
    "    filename = os.path.splitext(file)[0]+'.pt'\n",
    "    if not os.path.exists(filename):\n",
    "        with open(file, 'r') as f:\n",
    "            text = f.readlines()\n",
    "            sentence = Sentence(text)\n",
    "            embedding.embed(sentence)\n",
    "            doc_emb = sentence.embedding\n",
    "            filename = os.path.splitext(f.name)[0]+'.pt'\n",
    "            torch.save(doc_emb, f\"/media/julian/data/data/news/{name}\")"
   ]
  },
  {
   "cell_type": "code",
   "execution_count": null,
   "id": "50eff88e-780b-483e-b98d-cebfe4a34e66",
   "metadata": {},
   "outputs": [
    {
     "data": {
      "text/plain": [
       "<Response [400]>"
      ]
     },
     "execution_count": 16,
     "metadata": {},
     "output_type": "execute_result"
    }
   ],
   "source": [
    "res = cnbc(15839171, 0, page_size=30)\n",
    "display(JSON(articles_json))"
   ]
  },
  {
   "cell_type": "code",
   "execution_count": null,
   "id": "054fe248",
   "metadata": {},
   "outputs": [
    {
     "data": {
      "text/plain": [
       "'<html><title>400 Bad Request.</title><body><h1>400 Bad Request.</h1><hr /><p>aiCache</p></body></html>'"
      ]
     },
     "execution_count": 17,
     "metadata": {},
     "output_type": "execute_result"
    }
   ],
   "source": []
  },
  {
   "cell_type": "code",
   "execution_count": 74,
   "id": "a59120d8-f3d7-4478-a643-bd5cc20e71c4",
   "metadata": {},
   "outputs": [
    {
     "name": "stdout",
     "output_type": "stream",
     "text": [
      "2022-05-08 12:34:54,898 loading file /home/julian/.flair/models/ner-english/4f4cdab26f24cb98b732b389e6cebc646c36f54cfd6e0b7d3b90b25656e4262f.8baa8ae8795f4df80b28e7f7b61d788ecbb057d1dc85aacb316f1bd02837a4a4\n",
      "2022-05-08 12:34:56,285 SequenceTagger predicts: Dictionary with 20 tags: <unk>, O, S-ORG, S-MISC, B-PER, E-PER, S-LOC, B-ORG, E-ORG, I-PER, S-PER, B-MISC, I-MISC, E-MISC, I-ORG, B-LOC, E-LOC, I-LOC, <START>, <STOP>\n"
     ]
    }
   ],
   "source": [
    "from flair.data import Sentence\n",
    "from flair.models import SequenceTagger\n",
    "\n",
    "# make a sentence\n",
    "sentence = Sentence(main_content.get_text())\n",
    "\n",
    "# load the NER tagger\n",
    "tagger = SequenceTagger.load('ner')\n",
    "\n",
    "# run NER over sentence\n",
    "tagger.predict(sentence)"
   ]
  },
  {
   "cell_type": "code",
   "execution_count": null,
   "id": "01d05b58-7101-4748-adf3-d6b10b7b38e8",
   "metadata": {},
   "outputs": [
    {
     "data": {
      "text/plain": [
       "Sentence: \"Federal ReservePowell says ' inflation is much too high ' and the Fed will take ' necessary steps' to addressPublished Mon , Mar 21 202212:30 PM EDTUpdated Mon , Mar 21 20225:27 PM EDTJeff Cox @ jeff.cox.7528 @ JeffCoxCNBCcomWATCH LIVEKey PointsFed Chairman Jerome Powell vowed tough action on inflation , which he said jeopardizes the recovery.Powell said the Fed will continue to hike rates until inflation comes under control , and could get even more aggressive than last week 's increase , which was the first in more than three years.He noted those rate rises could go from the traditional 25 basis point moves to more aggressive 50 basis point increases if necessary.Federal Reserve Board Chairman Jerome Powell testifies during a hearing before Senate Banking , Housing and Urban Affairs Committee on Capitol Hill November 30 , 2021 in Washington , DC.Alex Wong | Getty Images News | Getty ImagesFederal Reserve Chairman Jerome Powell on Monday vowed tough action on inflation , which he said jeopardizes an otherwise strong economic recovery. \" The labor market is very strong , and inflation is much too high ,\" the central bank leader said in prepared remarks for the National Association for Business Economics.The speech comes less than a week after the Fed raised interest rates for the first time in more than three years in an attempt to battle inflation that is running at its highest level in 40 years.Reiterating a position the Federal Open Market Committee made Wednesday in its post-meeting statement , Powell said interest rate hikes would continue until inflation is under control . He said the increases could be even higher if necessary than the quarter-percentage point move approved at the meeting. \" We will take the necessary steps to ensure a return to price stability ,\" he said . \" In particular , if we conclude that it is appropriate to move more aggressively by raising the federal funds rate by more than 25 basis points at a meeting or meetings , we will do so . And if we determine that we need to tighten beyond common measures of neutral and into a more restrictive stance , we will do that as well. \" A basis point is equal to 0.01 % . FOMC officials indicated that 25 basis point increases are likely at each of their remaining six meetings this year . However , markets are pricing in about a 50-50 chance the next hike , at the May meeting , could be 50 basis points.Stocks slipped to their lows of the session after Powell 's remarks while Treasury yields rose. ' Widely underestimated ' inflationThe sudden policy tightening comes with inflation as measured by the consumer price index running at 7.9 % on a 12-month basis . A gauge that the Fed prefers still has prices up 5.2 % , well above the central bank 's 2 % target.As he has before , Powell ascribed much of the pressures coming from Covid pandemic-specific factors , in particular escalated demand for goods over services that supply could not meet . He conceded that Fed officials and many economists \" widely underestimated \" how long those pressures would last.While those aggravating factors have persisted , the Fed and Congress provided more than $ 10 trillion in fiscal and monetary stimulus since the pandemic 's start . Powell said he continues to believe that inflation will drift back to the Fed 's target , but it 's time for the historically easy policies to end. \" It continues to seem likely that hoped-for supply-side healing will come over time as the world ultimately settles into some new normal , but the timing and scope of that relief are highly uncertain ,\" said Powell , whose official title now is chairman pro tempore as he awaits Senate confirmation for a second term . \" In the meantime , as we set policy , we will be looking to actual progress on these issues and not assuming significant near-term supply-side relief. \" Powell also addressed the Russian invasion of Ukraine , saying it is adding to supply chain and inflation pressures . Under normal circumstances , the Fed generally would look through those types of events and not alter policy . However , with the outcome unclear , he said policymakers have to be wary of the situation. \" In normal times , when employment and inflation are close to our objectives , monetary policy would look through a brief burst of inflation associated with commodity price shocks ,\" he said . \" However , the risk is rising that an extended period of high inflation could push longer-term expectations uncomfortably higher , which underscores the need for the Committee to move expeditiously as I have described. \" Powell had indicated last week that the FOMC also is prepared to begin running off some of the nearly $ 9 trillion in assets on its balance sheet . He noted the process could begin as soon as May , but no firm decision has been made.VIDEO1:0501:05Powell says there is an obvious need for the Fed to move expeditiouslyHalftime Report\" → [\"Federal ReservePowell\"/ORG, \"Fed\"/ORG, \"Jerome Powell\"/PER, \"Fed\"/ORG, \"Reserve Board\"/ORG, \"Jerome Powell\"/PER, \"Senate Banking , Housing and Urban Affairs Committee\"/ORG, \"Capitol Hill\"/LOC, \"Washington\"/LOC, \"DC.Alex Wong\"/PER, \"Getty Images News\"/ORG, \"Getty ImagesFederal Reserve\"/ORG, \"Jerome Powell\"/PER, \"National Association for Business Economics.The\"/ORG, \"Fed\"/ORG, \"Federal Open Market Committee\"/ORG, \"Powell\"/PER, \"FOMC\"/ORG, \"Powell\"/PER, \"Treasury\"/ORG, \"Fed\"/ORG, \"Powell\"/PER, \"Covid\"/MISC, \"Fed\"/ORG, \"Fed\"/ORG, \"Congress\"/ORG, \"Powell\"/PER, \"Fed\"/ORG, \"Powell\"/PER, \"Senate\"/ORG, \"Powell\"/PER, \"Russian\"/MISC, \"Ukraine\"/LOC, \"Fed\"/ORG, \"Committee\"/ORG, \"Powell\"/PER, \"FOMC\"/ORG, \"Fed\"/ORG]"
      ]
     },
     "execution_count": 70,
     "metadata": {},
     "output_type": "execute_result"
    }
   ],
   "source": [
    "sentence"
   ]
  },
  {
   "cell_type": "code",
   "execution_count": 71,
   "id": "232db517-6821-4bb2-9373-f2019aaf1b89",
   "metadata": {},
   "outputs": [
    {
     "data": {
      "application/vnd.jupyter.widget-view+json": {
       "model_id": "85e3a819fbb543f8a5da110c23d575b0",
       "version_major": 2,
       "version_minor": 0
      },
      "text/plain": [
       "Downloading:   0%|          | 0.00/249M [00:00<?, ?B/s]"
      ]
     },
     "metadata": {},
     "output_type": "display_data"
    },
    {
     "name": "stdout",
     "output_type": "stream",
     "text": [
      "2022-05-08 12:30:06,105 loading file /home/julian/.flair/models/pos-english/a9a73f6cd878edce8a0fa518db76f441f1cc49c2525b2b4557af278ec2f0659e.121306ea62993d04cd1978398b68396931a39eb47754c8a06a87f325ea70ac63\n",
      "2022-05-08 12:30:06,226 SequenceTagger predicts: Dictionary with 53 tags: <unk>, O, UH, ,, VBD, PRP, VB, PRP$, NN, RB, ., DT, JJ, VBP, VBG, IN, CD, NNS, NNP, WRB, VBZ, WDT, CC, TO, MD, VBN, WP, :, RP, EX, JJR, FW, XX, HYPH, POS, RBR, JJS, PDT, NNPS, RBS, AFX, WP$, -LRB-, -RRB-, ``, '', LS, $, SYM, ADD\n"
     ]
    }
   ],
   "source": [
    "# load the NER tagger\n",
    "tagger = SequenceTagger.load('pos')\n",
    "\n",
    "# run NER over sentence\n",
    "tagger.predict(sentence)"
   ]
  }
 ],
 "metadata": {
  "kernelspec": {
   "display_name": "Python 3 (ipykernel)",
   "language": "python",
   "name": "python3"
  },
  "language_info": {
   "codemirror_mode": {
    "name": "ipython",
    "version": 3
   },
   "file_extension": ".py",
   "mimetype": "text/x-python",
   "name": "python",
   "nbconvert_exporter": "python",
   "pygments_lexer": "ipython3",
   "version": "3.9.7"
  }
 },
 "nbformat": 4,
 "nbformat_minor": 5
}
